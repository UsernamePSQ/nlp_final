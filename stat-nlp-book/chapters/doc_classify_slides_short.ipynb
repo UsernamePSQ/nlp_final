{
 "cells": [
  {
   "cell_type": "code",
   "execution_count": 1,
   "metadata": {
    "slideshow": {
     "slide_type": "skip"
    }
   },
   "outputs": [],
   "source": [
    "%%capture\n",
    "%load_ext autoreload\n",
    "%autoreload 2\n",
    "%matplotlib inline\n",
    "# %cd .. \n",
    "import sys\n",
    "sys.path.append(\"..\")\n",
    "import statnlpbook.util as util\n",
    "import matplotlib\n",
    "matplotlib.rcParams['figure.figsize'] = (10.0, 5.0)\n",
    "import random \n",
    "from collections import defaultdict\n",
    "random.seed(2)"
   ]
  },
  {
   "cell_type": "markdown",
   "metadata": {
    "slideshow": {
     "slide_type": "skip"
    }
   },
   "source": [
    "<!---\n",
    "Latex Macros\n",
    "-->\n",
    "$$\n",
    "\\newcommand{\\Xs}{\\mathcal{X}}\n",
    "\\newcommand{\\Ys}{\\mathcal{Y}}\n",
    "\\newcommand{\\y}{\\mathbf{y}}\n",
    "\\newcommand{\\weights}{\\mathbf{w}}\n",
    "\\newcommand{\\balpha}{\\boldsymbol{\\alpha}}\n",
    "\\newcommand{\\bbeta}{\\boldsymbol{\\beta}}\n",
    "\\newcommand{\\aligns}{\\mathbf{a}}\n",
    "\\newcommand{\\align}{a}\n",
    "\\newcommand{\\source}{\\mathbf{s}}\n",
    "\\newcommand{\\target}{\\mathbf{t}}\n",
    "\\newcommand{\\ssource}{s}\n",
    "\\newcommand{\\starget}{t}\n",
    "\\newcommand{\\repr}{\\mathbf{f}}\n",
    "\\newcommand{\\repry}{\\mathbf{g}}\n",
    "\\newcommand{\\bar}{\\,|\\,}\n",
    "\\newcommand{\\x}{\\mathbf{x}}\n",
    "\\newcommand{\\prob}{p}\n",
    "\\newcommand{\\Pulp}{\\text{Pulp}}\n",
    "\\newcommand{\\Fiction}{\\text{Fiction}}\n",
    "\\newcommand{\\PulpFiction}{\\text{Pulp Fiction}}\n",
    "\\newcommand{\\pnb}{\\prob^{\\text{NB}}}\n",
    "\\newcommand{\\vocab}{V}\n",
    "\\newcommand{\\params}{\\boldsymbol{\\theta}}\n",
    "\\newcommand{\\param}{\\theta}\n",
    "\\DeclareMathOperator{\\perplexity}{PP}\n",
    "\\DeclareMathOperator{\\argmax}{argmax}\n",
    "\\DeclareMathOperator{\\argmin}{argmin}\n",
    "\\newcommand{\\train}{\\mathcal{D}}\n",
    "\\newcommand{\\counts}[2]{\\#_{#1}(#2) }\n",
    "\\newcommand{\\length}[1]{\\text{length}(#1) }\n",
    "\\newcommand{\\indi}{\\mathbb{I}}\n",
    "$$"
   ]
  },
  {
   "cell_type": "code",
   "execution_count": 21,
   "metadata": {
    "slideshow": {
     "slide_type": "skip"
    }
   },
   "outputs": [
    {
     "data": {
      "text/html": [
       "<style>\n",
       "td,th {\n",
       "    font-size: x-large;\n",
       "    text-align: left;\n",
       "}\n",
       "</style>"
      ],
      "text/plain": [
       "<IPython.core.display.HTML object>"
      ]
     },
     "metadata": {},
     "output_type": "display_data"
    }
   ],
   "source": [
    "%%HTML\n",
    "<style>\n",
    "td,th {\n",
    "    font-size: x-large;\n",
    "    text-align: left;\n",
    "}\n",
    "</style>"
   ]
  },
  {
   "cell_type": "markdown",
   "metadata": {
    "slideshow": {
     "slide_type": "slide"
    }
   },
   "source": [
    "# Text Classification "
   ]
  },
  {
   "cell_type": "markdown",
   "metadata": {
    "slideshow": {
     "slide_type": "fragment"
    }
   },
   "source": [
    "Automatically classify input text into a set of **atomic classes**"
   ]
  },
  {
   "cell_type": "markdown",
   "metadata": {
    "slideshow": {
     "slide_type": "subslide"
    }
   },
   "source": [
    "## Motivation\n",
    "* **Information retrieval**: classify documents into topics, such as \"sport\" or \"business\"\n",
    "* **Sentiment analysis**: classify tweets into being \"positive\" or \"negative\"  \n",
    "* **Spam filters**: distinguish between \"ham\" and \"spam\"\n",
    "\n",
    "<!-- TODO: Load Web Corpus, 4 Universities, something were Maxent works -->"
   ]
  },
  {
   "cell_type": "markdown",
   "metadata": {
    "slideshow": {
     "slide_type": "slide"
    }
   },
   "source": [
    "## Text Classification as Structured Prediction\n",
    "Simplest instance of [structured prediction](/template/statnlpbook/02_methods/00_structuredprediction) \n",
    "\n",
    "* Input space $\\Xs$ are sequences of words\n",
    "* output space $\\Ys$ is a set of labels\n",
    "    * Example for document classification: $\\Ys=\\{ \\text{sports},\\text{business}\\}$ \n",
    "    * Example for sentiment prediction: $\\Ys=\\{ \\text{positive},\\text{negative}, \\text{neutral}\\}$ \n",
    "* model $s_{\\params}(\\x,y)$ \n",
    "    * scores $y$ highly if it fits text $\\x$\n",
    "    "
   ]
  },
  {
   "cell_type": "markdown",
   "metadata": {
    "slideshow": {
     "slide_type": "slide"
    }
   },
   "source": [
    "## This Lecture\n",
    "\n",
    "* **Discriminative** model: *Logistic Regression*\n",
    "    * Learn how to *discriminate best output based on input*"
   ]
  },
  {
   "cell_type": "markdown",
   "metadata": {
    "slideshow": {
     "slide_type": "subslide"
    }
   },
   "source": [
    "## Sentiment Analysis as Text Classification\n",
    "Let us focus on a specific task: sentiment analysis\n",
    "\n",
    "* load data for this task from the [Movie Review dataset](https://www.cs.cornell.edu/people/pabo/movie-review-data/)"
   ]
  },
  {
   "cell_type": "code",
   "execution_count": 3,
   "metadata": {
    "slideshow": {
     "slide_type": "skip"
    }
   },
   "outputs": [],
   "source": [
    "from os import listdir\n",
    "from os.path import isfile, join\n",
    "def load_from_dir(directory,label):\n",
    "    \"\"\"\n",
    "    Load documents from a directory, and give them all the same label `label`.\n",
    "    Params:\n",
    "        directory: the directory to load the documents from.\n",
    "        label: the label to assign to each document.\n",
    "    Returns:\n",
    "        a list of (x,y) pairs where x is a tokenised document (list of words), and y is the label `label`.\n",
    "    \"\"\"\n",
    "    result = []\n",
    "    for file in listdir(directory):\n",
    "        with open(directory + file, 'r') as f:\n",
    "            text = f.read()\n",
    "            tokens = [t.strip() for t in text.split()]\n",
    "            result.append((tokens,label))\n",
    "    return result\n",
    " \n",
    "data_pos = load_from_dir('../data/rt-2k/txt_sentoken/pos/', 'pos') \n",
    "data_neg = load_from_dir('../data/rt-2k/txt_sentoken/neg/', 'neg')\n",
    "    \n",
    "data_all = data_pos + data_neg"
   ]
  },
  {
   "cell_type": "markdown",
   "metadata": {
    "slideshow": {
     "slide_type": "subslide"
    }
   },
   "source": [
    "Let us look at some example data ..."
   ]
  },
  {
   "cell_type": "code",
   "execution_count": 4,
   "metadata": {
    "slideshow": {
     "slide_type": "fragment"
    }
   },
   "outputs": [
    {
     "data": {
      "text/plain": [
       "'the thought-provoking question of tradition over morals is the subject directly at the core of \" leila , \" a powerfully articulated and subtle drama from famous iranian director dariush mehrjui , that is his first motion picture in a prosperous thirty-year career to gain u . s . distribution , thanks to first run features . although unfamiliar with mehrjui\\'s previous directing efforts , perhaps the reason for this is that , while the predicament at hand is no doubt exclusive to its own country , the heartbreaking and solely truthful emotions of the characters can easily be understood by all viewers . set in modern-day iran , \" leila \" begins on the birthday of the title character ( leila hatami ) , after a brief prologue in which we are shown the first encounter between leila and her future husband , reza ( ali mosaffa ) . as leila and reza set off to visit his parents , and then hers , where a birthday celebration has been planned , things seem rosy for the couple on the outside , but for leila , life isn\\'t quite as sweet . earlier , on that very same day'"
      ]
     },
     "execution_count": 4,
     "metadata": {},
     "output_type": "execute_result"
    }
   ],
   "source": [
    "\" \".join(data_pos[12][0][:200])"
   ]
  },
  {
   "cell_type": "markdown",
   "metadata": {
    "slideshow": {
     "slide_type": "subslide"
    }
   },
   "source": [
    "## Setup\n",
    "\n",
    "Divide dataset in **train**, **test** and **development** set"
   ]
  },
  {
   "cell_type": "code",
   "execution_count": 5,
   "metadata": {
    "slideshow": {
     "slide_type": "fragment"
    }
   },
   "outputs": [
    {
     "data": {
      "text/plain": [
       "815"
      ]
     },
     "execution_count": 5,
     "metadata": {},
     "output_type": "execute_result"
    }
   ],
   "source": [
    "random.seed(0)\n",
    "shuffled = list(data_all)\n",
    "random.shuffle(shuffled)\n",
    "train, dev, test = shuffled[:1600], shuffled[1600:1800], shuffled[1800:]\n",
    "len([(x,y) for (x,y) in train if y == 'pos']) # check balance "
   ]
  },
  {
   "cell_type": "markdown",
   "metadata": {
    "slideshow": {
     "slide_type": "slide"
    }
   },
   "source": [
    "## Discriminative Text Classification"
   ]
  },
  {
   "cell_type": "markdown",
   "metadata": {
    "slideshow": {
     "slide_type": "subslide"
    }
   },
   "source": [
    "How can we set probabilities algorithmically?"
   ]
  },
  {
   "cell_type": "markdown",
   "metadata": {
    "slideshow": {
     "slide_type": "fragment"
    }
   },
   "source": [
    "Frame task as an optimisation problem and \n",
    "\n",
    "maximise $\\prob(+ \\bar \\text{...Pulp Fiction...})$ directly"
   ]
  },
  {
   "cell_type": "markdown",
   "metadata": {
    "slideshow": {
     "slide_type": "subslide"
    }
   },
   "source": [
    "### Maximum Conditional Log-Likelihood\n",
    "\n",
    "Directly optimise the **conditional likelihood** of the correct labels\n",
    "\n",
    "$$\n",
    "\\mathit{CL}(\\params) = \\sum_{(\\x,y) \\in \\train} \\log(\\prob_\\params(y|\\x)) = \\sum_{(\\x,y) \\in \\train} \\log\\left(\\frac{\\prob_\\params(y,\\x)}{\\sum_y \\prob_\\params(y,\\x)}\\right)\n",
    "$$"
   ]
  },
  {
   "cell_type": "markdown",
   "metadata": {
    "slideshow": {
     "slide_type": "subslide"
    }
   },
   "source": [
    "### Feature Function\n",
    "\n",
    "For log-linear models we need **feature functions** $f_i(\\x)$ mapping input to a real value, e.g.\n",
    "\n",
    "$$\n",
    "f_{\\text{Pulp}}(\\x) = \\counts{\\x}{\\text{Pulp}}\n",
    "$$\n",
    "i.e., the number of times *Pulp* appears in the input $\\x$.  "
   ]
  },
  {
   "cell_type": "code",
   "execution_count": 6,
   "metadata": {
    "slideshow": {
     "slide_type": "skip"
    }
   },
   "outputs": [],
   "source": [
    "p,f = \"Pulp\", \"Fiction\"\n",
    "data = [((p,f),True),((p,f),True),((p,f),True), ((f,),False), ((f,),False),((p,f),False)]\n",
    "from math import log, exp\n",
    "\n",
    "def cl(data, w_p_true, w_f_true, w_true, l=0.0):\n",
    "    loss = 0.0\n",
    "    for x,y in data:\n",
    "        count_p = len([w for w in x if w==p])\n",
    "        count_f = len([w for w in x if w==f])\n",
    "        score_true = w_true + count_p * w_p_true + count_f * w_f_true\n",
    "        log_z = log(exp(score_true) + exp(0))\n",
    "#         print(count_p)\n",
    "#         print(count_f)\n",
    "#         print(log_z)\n",
    "        if y:\n",
    "            loss += score_true - log_z\n",
    "        else:\n",
    "            loss += 0 - log_z\n",
    "    return loss - l * (w_p_true * w_p_true + w_f_true * w_f_true + w_true * w_true)\n",
    "\n",
    "def jl(data, w_p_true, w_f_true, w_true, w_p_false, w_f_false, w_false):\n",
    "    loss = 0.0\n",
    "    for x,y in data:\n",
    "        count_p = len([w for w in x if w==p])\n",
    "        count_f = len([w for w in x if w==f])\n",
    "        score_true = w_true + count_p * w_p_true + count_f * w_f_true\n",
    "        score_false = w_false + count_p * w_p_false + count_f * w_f_false\n",
    "        if y:\n",
    "            loss += score_true\n",
    "        else:\n",
    "            loss += score_false\n",
    "    return loss \n",
    "\n",
    "\n",
    "# cl(data,log(0.5),log(0.5),log(0.5))\n",
    "\n",
    "import matplotlib.pyplot as plt\n",
    "import mpld3\n",
    "import numpy as np\n",
    "\n",
    "# x = np.linspace(-10, 10, 100)\n",
    "# cl_loss = np.vectorize(lambda w: cl(data,w,log(0.5),log(0.5),1))"
   ]
  },
  {
   "cell_type": "markdown",
   "metadata": {
    "slideshow": {
     "slide_type": "slide"
    }
   },
   "source": [
    "## Optimising the Conditional Loglikelihood\n",
    "No closed form solution, use **iterative methods** such as \n",
    "\n",
    "* (Stochastic) Gradient Descent\n",
    "* L-BFGS (quasi-Newton)"
   ]
  },
  {
   "cell_type": "markdown",
   "metadata": {
    "slideshow": {
     "slide_type": "skip"
    }
   },
   "source": [
    "\"Easy\" because **concave** in weights $\\weights$"
   ]
  },
  {
   "cell_type": "code",
   "execution_count": 7,
   "metadata": {
    "scrolled": true,
    "slideshow": {
     "slide_type": "skip"
    }
   },
   "outputs": [
    {
     "data": {
      "text/plain": [
       "[<matplotlib.lines.Line2D at 0x7eff729ad358>]"
      ]
     },
     "execution_count": 7,
     "metadata": {},
     "output_type": "execute_result"
    },
    {
     "data": {
      "image/png": "[encoded data removed]",
      "text/plain": [
       "<matplotlib.figure.Figure at 0x7eff72a2c5f8>"
      ]
     },
     "metadata": {},
     "output_type": "display_data"
    }
   ],
   "source": [
    "x = np.linspace(-10, 10, 100)\n",
    "C = 1\n",
    "cl_loss = np.vectorize(lambda w: cl(data,w,log(0.5),log(0.5),1/C))\n",
    "plt.plot(x, cl_loss(x)) "
   ]
  },
  {
   "cell_type": "markdown",
   "metadata": {
    "slideshow": {
     "slide_type": "subslide"
    }
   },
   "source": [
    "### How to Find Optimum?\n",
    "\n",
    "In practice one of the following:\n",
    "* implement both optimisation and gradient calculation\n",
    "* use off-the-shelf gradient descent library, provide the gradients (Example: [factorie](http://factorie.cs.umass.edu/), [scipy](https://www.scipy.org/))\n",
    "* You have a back-propagation framework (such as Tensorflow) \n",
    "* You have a library (such as scikit-learn) for a specific model class \n",
    "\n",
    "Here: [scikit-learn](http://scikit-learn.org/)\n"
   ]
  },
  {
   "cell_type": "markdown",
   "metadata": {
    "slideshow": {
     "slide_type": "slide"
    }
   },
   "source": [
    "## Regularisation\n",
    "Estimating a log-linear models can lead to *overfitting*\n",
    "\n",
    "* For example, reviews of movies may often contain the **name** of the movie to reviewed.\n",
    "* False *killer feature*: only appears in one training instance \n",
    "* weight can be set in way that we get perfect accuracy on this instance "
   ]
  },
  {
   "cell_type": "markdown",
   "metadata": {
    "slideshow": {
     "slide_type": "subslide"
    }
   },
   "source": [
    "*regularise* the model by **penalising** large weights:\n",
    "\n",
    "* add a regularisation penalty to the training objective\n",
    "* For example,  $||\\weights||_2$ and $||\\weights||_1$, the L2 and L1 norm of the weight vector\n",
    "\n",
    "$$\n",
    "\\mathit{RCL}_C(\\weights) = \\sum_{(\\x,y) \\in \\train} \\log(\\prob_\\weights(y|\\x)) - \\frac{1}{C} ||\\weights||_2\n",
    "$$\n",
    "\n",
    "$C$ controls inverse strength of regularisation"
   ]
  },
  {
   "cell_type": "markdown",
   "metadata": {
    "slideshow": {
     "slide_type": "subslide"
    }
   },
   "source": [
    "Both L1 and L2 have their strength and weaknesses. \n",
    "* L1 regularisation can lead to sparse vectors with zero weights, and this can improve the memory footprint of your model. \n",
    "* L2 seems to often lead to [better results](http://www.csie.ntu.edu.tw/~cjlin/liblinear/FAQ.html#l1_regularized_classification). "
   ]
  },
  {
   "cell_type": "markdown",
   "metadata": {
    "slideshow": {
     "slide_type": "slide"
    }
   },
   "source": [
    "## Logistic Regression Toolkits\n",
    "A log-linear model trained by maximising the CL corresponds to training a **logistic regression** model"
   ]
  },
  {
   "cell_type": "markdown",
   "metadata": {
    "slideshow": {
     "slide_type": "fragment"
    }
   },
   "source": [
    "[logistic regression](http://scikit-learn.org/stable/modules/generated/sklearn.linear_model.LogisticRegression.html) implementation of [scikit-learn](http://scikit-learn.org/stable/index.html)"
   ]
  },
  {
   "cell_type": "markdown",
   "metadata": {
    "slideshow": {
     "slide_type": "subslide"
    }
   },
   "source": [
    "Convert $\\x \\in \\Xs$ to a (sparse) feature vector $\\mathbf{f}(\\x)$:"
   ]
  },
  {
   "cell_type": "code",
   "execution_count": 8,
   "metadata": {
    "slideshow": {
     "slide_type": "fragment"
    }
   },
   "outputs": [
    {
     "data": {
      "text/plain": [
       "defaultdict(float, {'fiction': 2.0, 'pulp': 1.0})"
      ]
     },
     "execution_count": 8,
     "metadata": {},
     "output_type": "execute_result"
    }
   ],
   "source": [
    "def feats(x):\n",
    "    result = defaultdict(float)\n",
    "    for w in x:\n",
    "        result[w] += 1.0\n",
    "    return result\n",
    "\n",
    "feats(['pulp','fiction','fiction'])"
   ]
  },
  {
   "cell_type": "markdown",
   "metadata": {
    "slideshow": {
     "slide_type": "subslide"
    }
   },
   "source": [
    "Apply to training and test instances:"
   ]
  },
  {
   "cell_type": "code",
   "execution_count": 9,
   "metadata": {
    "slideshow": {
     "slide_type": "fragment"
    }
   },
   "outputs": [
    {
     "data": {
      "text/plain": [
       "<200x45481 sparse matrix of type '<class 'numpy.float64'>'\n",
       "\twith 66475 stored elements in Compressed Sparse Row format>"
      ]
     },
     "execution_count": 9,
     "metadata": {},
     "output_type": "execute_result"
    }
   ],
   "source": [
    "from sklearn.feature_extraction import DictVectorizer\n",
    "vectorizer = DictVectorizer()\n",
    "\n",
    "train_X = vectorizer.fit_transform([feats(x) for x,_ in train])\n",
    "dev_X = vectorizer.transform([feats(x) for x,_ in dev])\n",
    "dev_X"
   ]
  },
  {
   "cell_type": "markdown",
   "metadata": {
    "slideshow": {
     "slide_type": "subslide"
    }
   },
   "source": [
    "scikit-learn prefers numbers as classes:\n",
    "\n",
    "* $\\text{positive}\\rightarrow 0$\n",
    "* $\\text{negative}\\rightarrow 1$"
   ]
  },
  {
   "cell_type": "code",
   "execution_count": 10,
   "metadata": {
    "slideshow": {
     "slide_type": "fragment"
    }
   },
   "outputs": [
    {
     "data": {
      "text/plain": [
       "array([1, 1, 0, 0, 0, 1, 0, 0, 1, 1])"
      ]
     },
     "execution_count": 10,
     "metadata": {},
     "output_type": "execute_result"
    }
   ],
   "source": [
    "from sklearn.preprocessing import LabelEncoder\n",
    "label_encoder = LabelEncoder()\n",
    "\n",
    "train_Y = label_encoder.fit_transform([y for _,y in train])\n",
    "dev_Y = label_encoder.transform([y for _,y in dev])\n",
    "\n",
    "dev_Y[:10] "
   ]
  },
  {
   "cell_type": "markdown",
   "metadata": {
    "slideshow": {
     "slide_type": "subslide"
    }
   },
   "source": [
    "Train the logistic regression with l1 regularisation $C=1000$"
   ]
  },
  {
   "cell_type": "code",
   "execution_count": 11,
   "metadata": {
    "slideshow": {
     "slide_type": "fragment"
    }
   },
   "outputs": [
    {
     "data": {
      "text/plain": [
       "LogisticRegression(C=1000, class_weight=None, dual=False, fit_intercept=True,\n",
       "          intercept_scaling=1, max_iter=100, multi_class='ovr', n_jobs=1,\n",
       "          penalty='l1', random_state=1, solver='liblinear', tol=0.0001,\n",
       "          verbose=0, warm_start=False)"
      ]
     },
     "execution_count": 11,
     "metadata": {},
     "output_type": "execute_result"
    }
   ],
   "source": [
    "from sklearn.linear_model import LogisticRegression\n",
    "import numpy as np\n",
    "\n",
    "lr = LogisticRegression(C=1000, penalty=\"l1\", random_state=1)\n",
    "lr.fit(train_X, train_Y)"
   ]
  },
  {
   "cell_type": "markdown",
   "metadata": {
    "slideshow": {
     "slide_type": "subslide"
    }
   },
   "source": [
    "Weights learned:\n",
    "* single weight vector $\\weights=\\weights_\\text{positive} - \\weights_\\text{negative}$"
   ]
  },
  {
   "cell_type": "code",
   "execution_count": 12,
   "metadata": {
    "slideshow": {
     "slide_type": "subslide"
    }
   },
   "outputs": [
    {
     "data": {
      "image/png": "[encoded data removed]",
      "text/plain": [
       "<matplotlib.figure.Figure at 0x7eff66dbb160>"
      ]
     },
     "metadata": {},
     "output_type": "display_data"
    }
   ],
   "source": [
    "weights = vectorizer.inverse_transform(lr.coef_)[0]\n",
    "sorted_weights = sorted(weights.items(), key=lambda t: t[1])\n",
    "util.plot_bar_graph([w for _,w in sorted_weights[:20]],\n",
    "                    [f for f,_ in sorted_weights[:20]],rotation=45)"
   ]
  },
  {
   "cell_type": "markdown",
   "metadata": {
    "slideshow": {
     "slide_type": "skip"
    }
   },
   "source": [
    "More obvious **discriminative** features for the negative class \n",
    "\n",
    "* Conditional log-likelihood down-weighs a feature $f_i$ for $y=-$ \n",
    "    * if $f_i$ is active in $\\x$\n",
    "    * but gold label is $y=+$\n",
    "\n"
   ]
  },
  {
   "cell_type": "markdown",
   "metadata": {
    "slideshow": {
     "slide_type": "subslide"
    }
   },
   "source": [
    "Positive weights? "
   ]
  },
  {
   "cell_type": "code",
   "execution_count": 13,
   "metadata": {
    "slideshow": {
     "slide_type": "fragment"
    }
   },
   "outputs": [
    {
     "data": {
      "image/png": "[encoded data removed]",
      "text/plain": [
       "<matplotlib.figure.Figure at 0x7eff66da5c88>"
      ]
     },
     "metadata": {},
     "output_type": "display_data"
    }
   ],
   "source": [
    "util.plot_bar_graph([w for _,w in sorted_weights[-20:]],\n",
    "                    [f for f,_ in sorted_weights[-20:]],rotation=45)"
   ]
  },
  {
   "cell_type": "markdown",
   "metadata": {
    "slideshow": {
     "slide_type": "slide"
    }
   },
   "source": [
    "## Evaluation\n",
    "\n",
    "How can we quantify how well our models do?"
   ]
  },
  {
   "cell_type": "markdown",
   "metadata": {
    "slideshow": {
     "slide_type": "fragment"
    }
   },
   "source": [
    "Use **accuracy**, the ratio of the \n",
    "\n",
    "* number of correct predictions and the \n",
    "* number of all predictions  \n",
    "\n",
    "$\\y^*$ is predicted sequence of labels, $\\y$ the true labels:"
   ]
  },
  {
   "cell_type": "markdown",
   "metadata": {
    "slideshow": {
     "slide_type": "fragment"
    }
   },
   "source": [
    "$$\n",
    "\\mathrm{Acc}(y_1,\\ldots,y_n, y^*_1,\\ldots,y^*_n) = \\frac{\\sum_i \\indi [ y_i = y^*_i]}{n}\n",
    "$$"
   ]
  },
  {
   "cell_type": "code",
   "execution_count": 14,
   "metadata": {
    "slideshow": {
     "slide_type": "skip"
    }
   },
   "outputs": [],
   "source": [
    "def accuracy(gold, guess):\n",
    "    correct = 0\n",
    "    for y_gold,y_guess in zip(gold,guess):\n",
    "        if y_guess == y_gold:\n",
    "            correct += 1\n",
    "    return correct / len(gold)\n",
    "\n",
    "train_Y_lex = [y for _,y in train]\n",
    "dev_Y_lex = [y for _,y in dev]"
   ]
  },
  {
   "cell_type": "code",
   "execution_count": 15,
   "metadata": {
    "slideshow": {
     "slide_type": "subslide"
    }
   },
   "outputs": [
    {
     "data": {
      "text/plain": [
       "0.785"
      ]
     },
     "execution_count": 15,
     "metadata": {},
     "output_type": "execute_result"
    }
   ],
   "source": [
    "lr = LogisticRegression(C=1000, penalty=\"l2\",random_state=1, tol=0.00001)\n",
    "lr.fit(train_X, train_Y)\n",
    "lr_guess = label_encoder.inverse_transform(lr.predict(dev_X))\n",
    "accuracy(dev_Y_lex, lr_guess)"
   ]
  },
  {
   "cell_type": "markdown",
   "metadata": {
    "slideshow": {
     "slide_type": "slide"
    }
   },
   "source": [
    "## More on Feature Functions\n",
    "\n",
    "Reminder: For log-linear models we need **feature functions** $f_i(\\x)$ mapping input to a real value, e.g.\n",
    "\n",
    "$$\n",
    "f_{\\text{Pulp}}(\\x) = \\counts{\\x}{\\text{Pulp}}\n",
    "$$\n",
    "i.e., the number of times *Pulp* appears in the input $\\x$.  "
   ]
  },
  {
   "cell_type": "markdown",
   "metadata": {
    "slideshow": {
     "slide_type": "fragment"
    }
   },
   "source": [
    "How to get a better feature function?"
   ]
  },
  {
   "cell_type": "markdown",
   "metadata": {
    "slideshow": {
     "slide_type": "subslide"
    }
   },
   "source": [
    "### Stop Words\n",
    "\n",
    "Non-content words"
   ]
  },
  {
   "cell_type": "code",
   "execution_count": 16,
   "metadata": {
    "slideshow": {
     "slide_type": "subslide"
    }
   },
   "outputs": [],
   "source": [
    "import string\n",
    "\n",
    "stop_words = set(['i', 'me', 'my', 'myself', 'we', 'our', 'ours', 'ourselves', 'you', 'your', 'yours',\n",
    "'yourself', 'yourselves', 'he', 'him', 'his', 'himself', 'she', 'her', 'hers',\n",
    "'herself', 'it', 'its', 'itself', 'they', 'them', 'their', 'theirs', 'themselves',\n",
    "'what', 'which', 'who', 'whom', 'this', 'that', 'these', 'those', 'am', 'is', 'are',\n",
    "'was', 'were', 'be', 'been', 'being', 'have', 'has', 'had', 'having', 'do', 'does',\n",
    "'did', 'doing', 'a', 'an', 'the', 'and', 'but', 'if', 'or', 'because', 'as', 'until',\n",
    "'while', 'of', 'at', 'by', 'for', 'with', 'about', 'against', 'between', 'into',\n",
    "'through', 'during', 'before', 'after', 'above', 'below', 'to', 'from', 'up', 'down',\n",
    "'in', 'out', 'on', 'off', 'over', 'under', 'again', 'further', 'then', 'once', 'here',\n",
    "'there', 'when', 'where', 'why', 'how', 'all', 'any', 'both', 'each', 'few', 'more',\n",
    "'most', 'other', 'some', 'such', 'no', 'nor', 'not', 'only', 'own', 'same', 'so',\n",
    "'than', 'too', 'very', 's', 't', 'can', 'will', 'just', 'don', 'should', 'now', '\\n', 'the'] + list(string.punctuation))"
   ]
  },
  {
   "cell_type": "markdown",
   "metadata": {
    "slideshow": {
     "slide_type": "subslide"
    }
   },
   "source": [
    "Shouldn't the model have ignored those since they don't discriminate between document classes? \n",
    "Let's see what weights our model learned for non-content words"
   ]
  },
  {
   "cell_type": "code",
   "execution_count": 17,
   "metadata": {
    "slideshow": {
     "slide_type": "fragment"
    }
   },
   "outputs": [
    {
     "data": {
      "image/png": "[encoded data removed]",
      "text/plain": [
       "<matplotlib.figure.Figure at 0x7eff66a152e8>"
      ]
     },
     "metadata": {},
     "output_type": "display_data"
    }
   ],
   "source": [
    "stopword_weights = [(w, weight) for w, weight in sorted_weights if w in stop_words]\n",
    "\n",
    "# Highest negative stopword weights\n",
    "util.plot_bar_graph([w for _,w in stopword_weights[:20]],\n",
    "                    [f for f,_ in stopword_weights[:20]],rotation=45)"
   ]
  },
  {
   "cell_type": "code",
   "execution_count": 18,
   "metadata": {
    "slideshow": {
     "slide_type": "subslide"
    }
   },
   "outputs": [
    {
     "data": {
      "image/png": "[encoded data removed]",
      "text/plain": [
       "<matplotlib.figure.Figure at 0x7eff66afbe80>"
      ]
     },
     "metadata": {},
     "output_type": "display_data"
    }
   ],
   "source": [
    "# Highest positive stopword weights\n",
    "util.plot_bar_graph([w for _,w in stopword_weights[-20:]],\n",
    "                    [f for f,_ in stopword_weights[-20:]],rotation=45)"
   ]
  },
  {
   "cell_type": "markdown",
   "metadata": {
    "slideshow": {
     "slide_type": "subslide"
    }
   },
   "source": [
    "Why does this happen?"
   ]
  },
  {
   "cell_type": "markdown",
   "metadata": {
    "slideshow": {
     "slide_type": "fragment"
    }
   },
   "source": [
    "Let's remove stopwords from the data and re-train our model"
   ]
  },
  {
   "cell_type": "code",
   "execution_count": 19,
   "metadata": {
    "slideshow": {
     "slide_type": "fragment"
    }
   },
   "outputs": [
    {
     "data": {
      "text/plain": [
       "<200x45329 sparse matrix of type '<class 'numpy.float64'>'\n",
       "\twith 52209 stored elements in Compressed Sparse Row format>"
      ]
     },
     "execution_count": 19,
     "metadata": {},
     "output_type": "execute_result"
    }
   ],
   "source": [
    "def filter_dataset(data):\n",
    "    \"\"\"\n",
    "    Removes stop words from a dataset of (x,y) pairs.\n",
    "    \"\"\"\n",
    "    return [([w for w in x if w not in stop_words],y) for x,y in data]\n",
    "\n",
    "train_filtered = filter_dataset(train)\n",
    "dev_filtered = filter_dataset(dev)\n",
    "test_filtered = filter_dataset(test)\n",
    "\n",
    "train_X_filtered = vectorizer.fit_transform([feats(x) for x,_ in train_filtered])\n",
    "dev_X_filtered = vectorizer.transform([feats(x) for x,_ in dev_filtered])\n",
    "dev_X_filtered"
   ]
  },
  {
   "cell_type": "code",
   "execution_count": 20,
   "metadata": {
    "slideshow": {
     "slide_type": "subslide"
    }
   },
   "outputs": [
    {
     "data": {
      "text/plain": [
       "0.805"
      ]
     },
     "execution_count": 20,
     "metadata": {},
     "output_type": "execute_result"
    }
   ],
   "source": [
    "lr = LogisticRegression(C=1000, penalty=\"l2\",random_state=1, tol=0.00001)\n",
    "lr.fit(train_X_filtered, train_Y)\n",
    "lr_guess = label_encoder.inverse_transform(lr.predict(dev_X_filtered))\n",
    "accuracy(dev_Y_lex, lr_guess)"
   ]
  },
  {
   "cell_type": "markdown",
   "metadata": {
    "slideshow": {
     "slide_type": "subslide"
    }
   },
   "source": [
    "## Bigram Representation\n",
    "\n",
    "Features don't have to correspond to single words\n",
    "$$\n",
    "f_{\\text{Pulp Fiction}}(\\x) = \\counts{\\x}{\\text{Pulp Fiction}}\n",
    "$$\n",
    "\n",
    "Use a **bag of bigrams**\n",
    "\n",
    "* Count bigrams (like Pulp Fiction) and not just single words"
   ]
  },
  {
   "cell_type": "markdown",
   "metadata": {
    "slideshow": {
     "slide_type": "fragment"
    }
   },
   "source": [
    "features don't even have to correspond to n-grams\n",
    "$$\n",
    "f_{\\text{RT}}(\\x) = \\text{Lowest rotten tomatoes score of all mentioned movies in }\\x\n",
    "$$"
   ]
  },
  {
   "cell_type": "markdown",
   "metadata": {
    "slideshow": {
     "slide_type": "slide"
    }
   },
   "source": [
    "## Summary\n",
    "\n",
    "* Text classification can be framed as **discriminative** learning problem\n",
    "    * Learn how to *discriminate best output based on input*\n",
    "    * Increase relative/conditional probability of classes\n",
    "* Ingredients\n",
    "    * Model (commonly used: logistic regression)\n",
    "    * Feature function\n",
    "    * Regularisation\n",
    "* Evaluation\n",
    "    * Quantitative evaluation: measure accuracy\n",
    "    * Qualitative evaluation: inspect feature weights"
   ]
  },
  {
   "cell_type": "markdown",
   "metadata": {
    "slideshow": {
     "slide_type": "subslide"
    }
   },
   "source": [
    "### Preview: Next Two Lectures\n",
    "\n",
    "* More on the feature function\n",
    "* *Learn* features as opposed to manually defining them (**representation learning**)\n",
    "    * Benefit: often better performance, less feature engineering\n",
    "    * Downside: black box models -- harder to inspect model and interpret feature weights\n",
    "    * De-facto approach to NLP currently\n",
    "    * Very popular active research topic -- basics here, more in Advanced Topics in NLP course"
   ]
  },
  {
   "cell_type": "markdown",
   "metadata": {
    "slideshow": {
     "slide_type": "subslide"
    }
   },
   "source": [
    "## Background Material\n",
    "* [Baselines and Bigrams: Simple, Good Sentiment and Topic Classification](https://www.aclweb.org/anthology/P12-2018), Sida Wang and Christopher D. Manning, ACL 2012 \n",
    "* [Thumbs up? Sentiment Classification using Machine Learning\n",
    "Techniques](http://www.cs.cornell.edu/home/llee/papers/sentiment.pdf), Bo Pang, Lillian Lee and Shivakumar Vaithyanathan, EMNLP 2002\n",
    "* Jurafsky & Martin, [Speech and Language Processing (Third Edition)](https://web.stanford.edu/~jurafsky/slp3/ed3book.pdf): Chapter 4, Naive Bayes and Sentiment Classification + Chapter 5, Logistic Regression"
   ]
  }
 ],
 "metadata": {
  "celltoolbar": "Slideshow",
  "kernelspec": {
   "display_name": "Python 3",
   "language": "python",
   "name": "python3"
  },
  "language_info": {
   "codemirror_mode": {
    "name": "ipython",
    "version": 3
   },
   "file_extension": ".py",
   "mimetype": "text/x-python",
   "name": "python",
   "nbconvert_exporter": "python",
   "pygments_lexer": "ipython3",
   "version": "3.6.2"
  }
 },
 "nbformat": 4,
 "nbformat_minor": 1
}
