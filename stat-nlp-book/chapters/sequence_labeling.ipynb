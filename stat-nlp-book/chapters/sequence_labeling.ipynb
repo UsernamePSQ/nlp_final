{
 "cells": [
  {
   "cell_type": "code",
   "execution_count": 2,
   "metadata": {},
   "outputs": [],
   "source": [
    "%%capture\n",
    "%load_ext autoreload\n",
    "%autoreload 2\n",
    "%matplotlib inline\n",
    "# %cd .. \n",
    "import sys\n",
    "sys.path.append(\"..\")\n",
    "import statnlpbook.util as util\n",
    "import statnlpbook.sequence as seq\n",
    "import matplotlib\n",
    "import warnings\n",
    "warnings.filterwarnings('ignore')\n",
    "matplotlib.rcParams['figure.figsize'] = (10.0, 6.0)"
   ]
  },
  {
   "cell_type": "markdown",
   "metadata": {},
   "source": [
    "<!---\n",
    "Latex Macros\n",
    "-->\n",
    "$$\n",
    "\\newcommand{\\Xs}{\\mathcal{X}}\n",
    "\\newcommand{\\Ys}{\\mathcal{Y}}\n",
    "\\newcommand{\\y}{\\mathbf{y}}\n",
    "\\newcommand{\\balpha}{\\boldsymbol{\\alpha}}\n",
    "\\newcommand{\\bbeta}{\\boldsymbol{\\beta}}\n",
    "\\newcommand{\\aligns}{\\mathbf{a}}\n",
    "\\newcommand{\\align}{a}\n",
    "\\newcommand{\\source}{\\mathbf{s}}\n",
    "\\newcommand{\\target}{\\mathbf{t}}\n",
    "\\newcommand{\\ssource}{s}\n",
    "\\newcommand{\\starget}{t}\n",
    "\\newcommand{\\repr}{\\mathbf{f}}\n",
    "\\newcommand{\\repry}{\\mathbf{g}}\n",
    "\\newcommand{\\x}{\\mathbf{x}}\n",
    "\\newcommand{\\prob}{p}\n",
    "\\newcommand{\\vocab}{V}\n",
    "\\newcommand{\\params}{\\boldsymbol{\\theta}}\n",
    "\\newcommand{\\param}{\\theta}\n",
    "\\DeclareMathOperator{\\perplexity}{PP}\n",
    "\\DeclareMathOperator{\\argmax}{argmax}\n",
    "\\DeclareMathOperator{\\argmin}{argmin}\n",
    "\\newcommand{\\train}{\\mathcal{D}}\n",
    "\\newcommand{\\counts}[2]{\\#_{#1}(#2) }\n",
    "\\newcommand{\\length}[1]{\\text{length}(#1) }\n",
    "\\newcommand{\\indi}{\\mathbb{I}}\n",
    "$$"
   ]
  },
  {
   "cell_type": "markdown",
   "metadata": {},
   "source": [
    "# Sequence Labelling \n",
    "\n",
    "Many real-world applications can be cast as *sequence labelling* problems that involve assigning labels to each element in a sequence. For example, in *Part-Of-Speech tagging* each token in a sentence as assigned a part-of-speech such as verb or determiner that indicates the syntactic type of the token. In *Named Entity Tagging* we assign each token with the type of entity the token refers to, such as \"Person\" or \"Organisation\", or \"None\" if the token does not refer to an entity.  \n",
    "\n",
    "## Sequence Labelling as Structured Prediction\n",
    "\n",
    "The problem of sequence labelling is an obvious (and somewhat canonical) instance of structured prediction. Here the input space \\\\(\\Xs\\\\) are sequences of words and the output space $\\Ys$ are sequences of output labels. Our goal is again to define a model a model \\\\(s_{\\params}(\\x,\\y)\\\\) that assigns high *scores* to the sequence of label \\\\(\\y=y_1 \\ldots y_n\\\\) that fits the input text \\\\(\\x=x_1 \\ldots x_n\\\\), and lower scores otherwise. The model will be parametrized by \\\\(\\params\\\\), and these parameters we will learn from some training set \\\\(\\train\\\\) of \\\\((\\x,\\y)\\\\) pairs. In contrast to the classification scenario the prediction problem $\\argmax_\\y s_{\\params}(\\x,\\y)$ is now non-trivial in general, as we have to search through an exponentional number of label sequences. In practice this issue is overcome by making assumptions about the factorization structure of $s_{\\params}(\\x,\\y)$ and/or search approximations that sacrifice the ability to find the true optimum of the search problem for more expressiveness. \n",
    "\n",
    "In this chapter we will restrict ourselves to scoring functions $s_{\\params}(\\x,\\y)$ of the form $\\prob_\\params(\\y|\\x)$ that model probability distributions over label sequences $\\y$ conditioned on input sequences $\\x$. This is the sequence equivalent to conditional models we discussed in the [text classification](doc_classify.ipynb) chapter. Other choices are possible but omitted here they are either very similar (structured SVMs, cite) or less effective in *supervised* sequence labelling (HMMs, cite).   \n"
   ]
  },
  {
   "cell_type": "markdown",
   "metadata": {},
   "source": [
    "## Part-of-Speech Tagging as Sequence Labelling\n",
    "Part-of-Speech (PoS) tagging is an important task within NLP. It is a standard pre-processing step in many tasks. For example, most dependency parsers assume as input PoS tagged sentences. Likewise, [Reverb](reverb), one of the most effective relation extraction methods, defines relations in terms of PoS sequences.\n",
    "\n",
    "Traditionally, and based on the existence of corresponding annotated training sets, PoS tagging has been applied to quite restricted domains such newswire or biomedical texts. Recently there has been increasing interest in NLP in general, and PoS tagging in particular, for social media data. He we will focus on PoS tagging for tweets and use the [Tweebank dataset](http://www.cs.cmu.edu/~ark/TweetNLP/#pos) and the [\"october 27\" splits](https://github.com/brendano/ark-tweet-nlp/tree/master/data/twpos-data-v0.3/oct27.splits).\n",
    "\n",
    "Let us load the data and look at an example tagged sentence."
   ]
  },
  {
   "cell_type": "code",
   "execution_count": 3,
   "metadata": {},
   "outputs": [
    {
     "data": {
      "text/plain": [
       "\"I/O predict/V I/O won't/V win/V a/D single/A game/N I/O bet/V on/P ./, Got/V Cliff/^ Lee/^ today/N ,/, so/P if/P he/O loses/V its/L on/P me/O RT/~ @e_one/@ :/~ Texas/^ (/, cont/~ )/, http://tl.gd/6meogh/U\""
      ]
     },
     "execution_count": 3,
     "metadata": {},
     "output_type": "execute_result"
    }
   ],
   "source": [
    "train = seq.load_tweebank(\"../data/oct27.splits/oct27.train\")\n",
    "dev = seq.load_tweebank(\"../data/oct27.splits/oct27.dev\")\n",
    "test = seq.load_tweebank(\"../data/oct27.splits/oct27.test\")\n",
    "\" \".join([w + \"/\" + t for w,t in zip(train[0][0],train[0][1])])"
   ]
  },
  {
   "cell_type": "markdown",
   "metadata": {},
   "source": [
    "We have printed the tokens of tweet paired with their PoS tag. The tags (such as \"O\", \"V\" and \"^\") are described in the [Tweebank annotation guideline](http://www.cs.cmu.edu/~ark/TweetNLP/annot_guidelines.pdf). For example, \"O\" denotes pronouns, \"V\" verbs and \"^\" proper nouns. "
   ]
  },
  {
   "cell_type": "code",
   "execution_count": 4,
   "metadata": {},
   "outputs": [],
   "source": [
    "# count tags here?`"
   ]
  },
  {
   "cell_type": "markdown",
   "metadata": {},
   "source": [
    "## Local Models / Classifiers\n",
    "We will tackle sequence labelling as a (discriminative) structured prediction problem. This means we will build a model $p_\\params(\\y|\\x)$ that computes the conditional probability of output label sequence $\\y$ given input sequence $\\x$. We will first consider the simplest type of model: a *fully factorised* or *local* model. In this model the probability of $\\x$ and $\\y$ is a product of *local* probabilities for the label $y_i$ of each token:\n",
    "\n",
    "$$\n",
    "p_\\params(\\y|\\x) = \\prod_{i=1}^n p_\\params(y_i|\\x,i)\n",
    "$$\n",
    "\n",
    "In this model all labels are independent of each other. This assumption has a crucial benefit: inference (and hence training) in this model is trivial. To find the most likely assignment of labels under this model you can find the most likely tag for each token independently. Notice that each local term conditions on the complete input $\\x$, not just on $x_i$. This is important, as the sentential context at position $i$ is often important to determine the tag at $i$.     \n",
    "\n",
    "It is common to indicate this independence structure in a factor graph, a graphical representation of the model. In this representation each variable of the model (our per-token tag labels and the input sequence $\\x$) is drawn using a circle, and *observed* variables are shaded. Each factor in the model (terms in the product) is drawn as a box that connects the variables that appear in the corresponding term. For example, the term $p_\\params(y_3|\\x,3)$ would connect the variables $y_3$ and $\\x$. "
   ]
  },
  {
   "cell_type": "code",
   "execution_count": 5,
   "metadata": {},
   "outputs": [
    {
     "data": {
      "image/svg+xml": [
       "<?xml version=\"1.0\" encoding=\"UTF-8\" standalone=\"no\"?>\n",
       "<!DOCTYPE svg PUBLIC \"-//W3C//DTD SVG 1.1//EN\"\n",
       " \"http://www.w3.org/Graphics/SVG/1.1/DTD/svg11.dtd\">\n",
       "<!-- Generated by graphviz version 2.38.0 (20140413.2041)\n",
       " -->\n",
       "<!-- Title: %3 Pages: 1 -->\n",
       "<svg width=\"655pt\" height=\"178pt\"\n",
       " viewBox=\"0.00 0.00 655.00 178.00\" xmlns=\"http://www.w3.org/2000/svg\" xmlns:xlink=\"http://www.w3.org/1999/xlink\">\n",
       "<g id=\"graph0\" class=\"graph\" transform=\"scale(1 1) rotate(0) translate(4 173.997)\">\n",
       "<title>%3</title>\n",
       "<polygon fill=\"white\" stroke=\"none\" points=\"-4,4 -4,-173.997 651,-173.997 651,4 -4,4\"/>\n",
       "<!-- x -->\n",
       "<g id=\"node1\" class=\"node\"><title>x</title>\n",
       "<ellipse fill=\"lightgrey\" stroke=\"black\" cx=\"323.5\" cy=\"-18\" rx=\"18\" ry=\"18\"/>\n",
       "<text text-anchor=\"middle\" x=\"323.5\" y=\"-14.3\" font-family=\"Times,serif\" font-size=\"14.00\">x</text>\n",
       "</g>\n",
       "<!-- p(y1 | x, 1) -->\n",
       "<g id=\"node2\" class=\"node\"><title>p(y1 | x, 1)</title>\n",
       "<polygon fill=\"black\" stroke=\"black\" points=\"77,-95 0,-95 0,-72 77,-72 77,-95\"/>\n",
       "<text text-anchor=\"middle\" x=\"38.5\" y=\"-79.8\" font-family=\"Times,serif\" font-size=\"14.00\" fill=\"white\">p(y1 | x, 1)</text>\n",
       "</g>\n",
       "<!-- p(y1 | x, 1)&#45;&#45;x -->\n",
       "<g id=\"edge2\" class=\"edge\"><title>p(y1 | x, 1)&#45;&#45;x</title>\n",
       "<path fill=\"none\" stroke=\"black\" d=\"M77.2282,-73.8458C80.0274,-73.2209 82.8071,-72.6006 85.5,-72 167.926,-53.6152 266.422,-31.6977 305.883,-22.9188\"/>\n",
       "</g>\n",
       "<!-- y1 -->\n",
       "<g id=\"node3\" class=\"node\"><title>y1</title>\n",
       "<ellipse fill=\"none\" stroke=\"black\" cx=\"38.5\" cy=\"-150.498\" rx=\"19.4965\" ry=\"19.4965\"/>\n",
       "<text text-anchor=\"middle\" x=\"38.5\" y=\"-146.798\" font-family=\"Times,serif\" font-size=\"14.00\">y1</text>\n",
       "</g>\n",
       "<!-- y1&#45;&#45;p(y1 | x, 1) -->\n",
       "<g id=\"edge1\" class=\"edge\"><title>y1&#45;&#45;p(y1 | x, 1)</title>\n",
       "<path fill=\"none\" stroke=\"black\" d=\"M38.5,-130.698C38.5,-119.15 38.5,-104.778 38.5,-95.1581\"/>\n",
       "</g>\n",
       "<!-- p(y2 | x, 2) -->\n",
       "<g id=\"node4\" class=\"node\"><title>p(y2 | x, 2)</title>\n",
       "<polygon fill=\"black\" stroke=\"black\" points=\"172,-95 95,-95 95,-72 172,-72 172,-95\"/>\n",
       "<text text-anchor=\"middle\" x=\"133.5\" y=\"-79.8\" font-family=\"Times,serif\" font-size=\"14.00\" fill=\"white\">p(y2 | x, 2)</text>\n",
       "</g>\n",
       "<!-- p(y2 | x, 2)&#45;&#45;x -->\n",
       "<g id=\"edge4\" class=\"edge\"><title>p(y2 | x, 2)&#45;&#45;x</title>\n",
       "<path fill=\"none\" stroke=\"black\" d=\"M165.302,-71.8715C205.868,-58.3139 274.571,-35.3525 306.388,-24.7191\"/>\n",
       "</g>\n",
       "<!-- y2 -->\n",
       "<g id=\"node5\" class=\"node\"><title>y2</title>\n",
       "<ellipse fill=\"none\" stroke=\"black\" cx=\"133.5\" cy=\"-150.498\" rx=\"19.4965\" ry=\"19.4965\"/>\n",
       "<text text-anchor=\"middle\" x=\"133.5\" y=\"-146.798\" font-family=\"Times,serif\" font-size=\"14.00\">y2</text>\n",
       "</g>\n",
       "<!-- y2&#45;&#45;p(y2 | x, 2) -->\n",
       "<g id=\"edge3\" class=\"edge\"><title>y2&#45;&#45;p(y2 | x, 2)</title>\n",
       "<path fill=\"none\" stroke=\"black\" d=\"M133.5,-130.698C133.5,-119.15 133.5,-104.778 133.5,-95.1581\"/>\n",
       "</g>\n",
       "<!-- p(y3 | x, 3) -->\n",
       "<g id=\"node6\" class=\"node\"><title>p(y3 | x, 3)</title>\n",
       "<polygon fill=\"black\" stroke=\"black\" points=\"267,-95 190,-95 190,-72 267,-72 267,-95\"/>\n",
       "<text text-anchor=\"middle\" x=\"228.5\" y=\"-79.8\" font-family=\"Times,serif\" font-size=\"14.00\" fill=\"white\">p(y3 | x, 3)</text>\n",
       "</g>\n",
       "<!-- p(y3 | x, 3)&#45;&#45;x -->\n",
       "<g id=\"edge6\" class=\"edge\"><title>p(y3 | x, 3)&#45;&#45;x</title>\n",
       "<path fill=\"none\" stroke=\"black\" d=\"M244.615,-71.7281C262.614,-59.6974 291.495,-40.393 308.868,-28.7805\"/>\n",
       "</g>\n",
       "<!-- y3 -->\n",
       "<g id=\"node7\" class=\"node\"><title>y3</title>\n",
       "<ellipse fill=\"none\" stroke=\"black\" cx=\"228.5\" cy=\"-150.498\" rx=\"19.4965\" ry=\"19.4965\"/>\n",
       "<text text-anchor=\"middle\" x=\"228.5\" y=\"-146.798\" font-family=\"Times,serif\" font-size=\"14.00\">y3</text>\n",
       "</g>\n",
       "<!-- y3&#45;&#45;p(y3 | x, 3) -->\n",
       "<g id=\"edge5\" class=\"edge\"><title>y3&#45;&#45;p(y3 | x, 3)</title>\n",
       "<path fill=\"none\" stroke=\"black\" d=\"M228.5,-130.698C228.5,-119.15 228.5,-104.778 228.5,-95.1581\"/>\n",
       "</g>\n",
       "<!-- p(y4 | x, 4) -->\n",
       "<g id=\"node8\" class=\"node\"><title>p(y4 | x, 4)</title>\n",
       "<polygon fill=\"black\" stroke=\"black\" points=\"362,-95 285,-95 285,-72 362,-72 362,-95\"/>\n",
       "<text text-anchor=\"middle\" x=\"323.5\" y=\"-79.8\" font-family=\"Times,serif\" font-size=\"14.00\" fill=\"white\">p(y4 | x, 4)</text>\n",
       "</g>\n",
       "<!-- p(y4 | x, 4)&#45;&#45;x -->\n",
       "<g id=\"edge8\" class=\"edge\"><title>p(y4 | x, 4)&#45;&#45;x</title>\n",
       "<path fill=\"none\" stroke=\"black\" d=\"M323.5,-71.7281C323.5,-61.962 323.5,-47.4028 323.5,-36.056\"/>\n",
       "</g>\n",
       "<!-- y4 -->\n",
       "<g id=\"node9\" class=\"node\"><title>y4</title>\n",
       "<ellipse fill=\"none\" stroke=\"black\" cx=\"323.5\" cy=\"-150.498\" rx=\"19.4965\" ry=\"19.4965\"/>\n",
       "<text text-anchor=\"middle\" x=\"323.5\" y=\"-146.798\" font-family=\"Times,serif\" font-size=\"14.00\">y4</text>\n",
       "</g>\n",
       "<!-- y4&#45;&#45;p(y4 | x, 4) -->\n",
       "<g id=\"edge7\" class=\"edge\"><title>y4&#45;&#45;p(y4 | x, 4)</title>\n",
       "<path fill=\"none\" stroke=\"black\" d=\"M323.5,-130.698C323.5,-119.15 323.5,-104.778 323.5,-95.1581\"/>\n",
       "</g>\n",
       "<!-- p(y5 | x, 5) -->\n",
       "<g id=\"node10\" class=\"node\"><title>p(y5 | x, 5)</title>\n",
       "<polygon fill=\"black\" stroke=\"black\" points=\"457,-95 380,-95 380,-72 457,-72 457,-95\"/>\n",
       "<text text-anchor=\"middle\" x=\"418.5\" y=\"-79.8\" font-family=\"Times,serif\" font-size=\"14.00\" fill=\"white\">p(y5 | x, 5)</text>\n",
       "</g>\n",
       "<!-- p(y5 | x, 5)&#45;&#45;x -->\n",
       "<g id=\"edge10\" class=\"edge\"><title>p(y5 | x, 5)&#45;&#45;x</title>\n",
       "<path fill=\"none\" stroke=\"black\" d=\"M402.385,-71.7281C384.386,-59.6974 355.505,-40.393 338.132,-28.7805\"/>\n",
       "</g>\n",
       "<!-- y5 -->\n",
       "<g id=\"node11\" class=\"node\"><title>y5</title>\n",
       "<ellipse fill=\"none\" stroke=\"black\" cx=\"418.5\" cy=\"-150.498\" rx=\"19.4965\" ry=\"19.4965\"/>\n",
       "<text text-anchor=\"middle\" x=\"418.5\" y=\"-146.798\" font-family=\"Times,serif\" font-size=\"14.00\">y5</text>\n",
       "</g>\n",
       "<!-- y5&#45;&#45;p(y5 | x, 5) -->\n",
       "<g id=\"edge9\" class=\"edge\"><title>y5&#45;&#45;p(y5 | x, 5)</title>\n",
       "<path fill=\"none\" stroke=\"black\" d=\"M418.5,-130.698C418.5,-119.15 418.5,-104.778 418.5,-95.1581\"/>\n",
       "</g>\n",
       "<!-- p(y6 | x, 6) -->\n",
       "<g id=\"node12\" class=\"node\"><title>p(y6 | x, 6)</title>\n",
       "<polygon fill=\"black\" stroke=\"black\" points=\"552,-95 475,-95 475,-72 552,-72 552,-95\"/>\n",
       "<text text-anchor=\"middle\" x=\"513.5\" y=\"-79.8\" font-family=\"Times,serif\" font-size=\"14.00\" fill=\"white\">p(y6 | x, 6)</text>\n",
       "</g>\n",
       "<!-- p(y6 | x, 6)&#45;&#45;x -->\n",
       "<g id=\"edge12\" class=\"edge\"><title>p(y6 | x, 6)&#45;&#45;x</title>\n",
       "<path fill=\"none\" stroke=\"black\" d=\"M481.698,-71.8715C441.132,-58.3139 372.429,-35.3525 340.612,-24.7191\"/>\n",
       "</g>\n",
       "<!-- y6 -->\n",
       "<g id=\"node13\" class=\"node\"><title>y6</title>\n",
       "<ellipse fill=\"none\" stroke=\"black\" cx=\"513.5\" cy=\"-150.498\" rx=\"19.4965\" ry=\"19.4965\"/>\n",
       "<text text-anchor=\"middle\" x=\"513.5\" y=\"-146.798\" font-family=\"Times,serif\" font-size=\"14.00\">y6</text>\n",
       "</g>\n",
       "<!-- y6&#45;&#45;p(y6 | x, 6) -->\n",
       "<g id=\"edge11\" class=\"edge\"><title>y6&#45;&#45;p(y6 | x, 6)</title>\n",
       "<path fill=\"none\" stroke=\"black\" d=\"M513.5,-130.698C513.5,-119.15 513.5,-104.778 513.5,-95.1581\"/>\n",
       "</g>\n",
       "<!-- p(y7 | x, 7) -->\n",
       "<g id=\"node14\" class=\"node\"><title>p(y7 | x, 7)</title>\n",
       "<polygon fill=\"black\" stroke=\"black\" points=\"647,-95 570,-95 570,-72 647,-72 647,-95\"/>\n",
       "<text text-anchor=\"middle\" x=\"608.5\" y=\"-79.8\" font-family=\"Times,serif\" font-size=\"14.00\" fill=\"white\">p(y7 | x, 7)</text>\n",
       "</g>\n",
       "<!-- p(y7 | x, 7)&#45;&#45;x -->\n",
       "<g id=\"edge14\" class=\"edge\"><title>p(y7 | x, 7)&#45;&#45;x</title>\n",
       "<path fill=\"none\" stroke=\"black\" d=\"M569.767,-73.87C507.062,-59.899 385.81,-32.883 340.837,-22.8629\"/>\n",
       "</g>\n",
       "<!-- y7 -->\n",
       "<g id=\"node15\" class=\"node\"><title>y7</title>\n",
       "<ellipse fill=\"none\" stroke=\"black\" cx=\"608.5\" cy=\"-150.498\" rx=\"19.4965\" ry=\"19.4965\"/>\n",
       "<text text-anchor=\"middle\" x=\"608.5\" y=\"-146.798\" font-family=\"Times,serif\" font-size=\"14.00\">y7</text>\n",
       "</g>\n",
       "<!-- y7&#45;&#45;p(y7 | x, 7) -->\n",
       "<g id=\"edge13\" class=\"edge\"><title>y7&#45;&#45;p(y7 | x, 7)</title>\n",
       "<path fill=\"none\" stroke=\"black\" d=\"M608.5,-130.698C608.5,-119.15 608.5,-104.778 608.5,-95.1581\"/>\n",
       "</g>\n",
       "</g>\n",
       "</svg>\n"
      ],
      "text/plain": [
       "<graphviz.dot.Graph at 0x7f27247c8438>"
      ]
     },
     "execution_count": 5,
     "metadata": {},
     "output_type": "execute_result"
    }
   ],
   "source": [
    "seq.draw_local_fg(7)"
   ]
  },
  {
   "cell_type": "markdown",
   "metadata": {},
   "source": [
    "The independence assumptions of this model allow us to think of it not as a single sequence model, but a sequence of classification models. We have a classifier $p_\\params(y|\\x,i)$ that predicts the best class/tag for a token based on its sentence $\\x$ and position $i$.\n",
    "\n",
    "$$\n",
    "  p_\\params(y|\\x,i) = \\frac{1}{Z_\\x} \\exp \\langle \\repr(\\x,i),\\params_y \\rangle\n",
    "$$\n",
    "\n",
    "Let us define a simple version of this model on the PoS tagging task defined above. Here we use a feature function (template) that has one active feature corresponding to the word $x_i$ observed at index $i$. "
   ]
  },
  {
   "cell_type": "code",
   "execution_count": 6,
   "metadata": {},
   "outputs": [],
   "source": [
    "def feat_1(x,i):\n",
    "    return {\n",
    "        'word':x[i]\n",
    "    }\n",
    "local_1 = seq.LocalSequenceLabeler(feat_1, train)"
   ]
  },
  {
   "cell_type": "markdown",
   "metadata": {},
   "source": [
    "Notice that in the above feature functions return a dictionary mapping a feature name (`word`) to a feature value (`x[i]`, the word at index `i`). This is not quite what we require `repr(\\x,i)` to be, namely a function from $\\x$ and $i$ to a real feature vector. However, internally this dictionary-based representation can be transformed into the desired form by defining a feature function template like so:\n",
    "\n",
    "$$\n",
    "f_{\\text{word},w}(\\x,i) = \\indi\\left[x_i = w\\right]\n",
    "$$\n",
    "\n",
    "This means that we have one feature function $f_{\\text{word},w}$ per word $w$. For example, the feature function $f_{\\text{word},\\text{\"the\"}}$ returns $1$ if $x_i = \\text{\"the\"}$ and $0$ otherwise.  \n",
    "\n",
    "We can assess the accuracy of this model on the development set."
   ]
  },
  {
   "cell_type": "code",
   "execution_count": 7,
   "metadata": {},
   "outputs": [
    {
     "data": {
      "text/plain": [
       "0.6392286958324694"
      ]
     },
     "execution_count": 7,
     "metadata": {},
     "output_type": "execute_result"
    }
   ],
   "source": [
    "seq.accuracy(dev, local_1.predict(dev))"
   ]
  },
  {
   "cell_type": "markdown",
   "metadata": {},
   "source": [
    "This is a good start, but a macro-level evaluation score does not really show us where the approach fails and can be improved. One alternative view on the system is a confusion matrix that shows, for each pair of labels $l_1$ and $l_2$, how often $l_1$ was classified as $l_2$.    "
   ]
  },
  {
   "cell_type": "code",
   "execution_count": 8,
   "metadata": {},
   "outputs": [
    {
     "data": {
      "image/png": "[encoded data removed]",
      "text/plain": [
       "<matplotlib.figure.Figure at 0x7f27247c8630>"
      ]
     },
     "metadata": {},
     "output_type": "display_data"
    }
   ],
   "source": [
    "seq.plot_confusion_matrix(dev, local_1.predict(dev))"
   ]
  },
  {
   "cell_type": "markdown",
   "metadata": {},
   "source": [
    "This matrix shows a couple of interesting properties of our current model. First, we notice a relatively strong diagonal. This corresponds to correctly predicted labels and is a good sign. We also notice the 'N' (common nouns) column that receives a lot of counts. This means that many words that aren't common nouns are labelled as common nouns. This may not be surprising, as the large frequency of common nouns in the data (observe the very dark 'N'-'N' dot) could have 'N' the default class, chosen whenever there is too much uncertainty. \n",
    "\n",
    "The matrix enables us to spot systematic problems that, if fixed, may lead to substantial improvements. One problem is the fact that '@' (used for tokens that address twitter user ids) is never labelled correctly (its diagonal entry is missing). Why could this be? To investigate this further it is useful to look at the learned weight vector for this class.  "
   ]
  },
  {
   "cell_type": "code",
   "execution_count": 9,
   "metadata": {
    "scrolled": true
   },
   "outputs": [
    {
     "data": {
      "image/png": "[encoded data removed]",
      "text/plain": [
       "<matplotlib.figure.Figure at 0x7f26f0d8cb70>"
      ]
     },
     "metadata": {},
     "output_type": "display_data"
    }
   ],
   "source": [
    "local_1.plot_lr_weights([\"@\"])"
   ]
  },
  {
   "cell_type": "markdown",
   "metadata": {},
   "source": [
    "We see features for specific users such as \"word=@justinbieber\" corresponding to the feature function $f_{\\text{word},\\text{\"@justinbieber\"}}$. This is all the model can do right now: remembering words from the training set. This works for \"@justinbieber\", but for less popular twitter accounts that are unlikely to appear in the training set this means we cannot correctly classify them at test time. In other words, the model does not generalise well.  \n",
    "\n",
    "In this particular case the problem can be easily solved. We notice that each of the \"@\" words starts (obviously) with a \"@\" symbol. If we turn this observation into a feature it should be simple to learn the class. We can do this by introducting a new feature `first_at` which returns `True` if $x_i \\text{ starts with @}$ and `False` otherwise. Internally this is again transformed into a proper real-valued feature template."
   ]
  },
  {
   "cell_type": "code",
   "execution_count": 10,
   "metadata": {},
   "outputs": [
    {
     "data": {
      "text/plain": [
       "0.6877462160481028"
      ]
     },
     "execution_count": 10,
     "metadata": {},
     "output_type": "execute_result"
    }
   ],
   "source": [
    "def feat_2(x,i):\n",
    "    return {\n",
    "        **feat_1(x,i),\n",
    "        'first_at':x[i][0:1] == '@'\n",
    "    }\n",
    "local_2 = seq.LocalSequenceLabeler(feat_2, train)\n",
    "seq.accuracy(dev, local_2.predict(dev))"
   ]
  },
  {
   "cell_type": "markdown",
   "metadata": {},
   "source": [
    "This looks much better. Of course this particular aspect of the problem is so deterministic that we could simply preprocess all words starting with @ and label them as '@' right away. But is important to know how easy such observations can be incorporated into the probabilistic model. \n",
    "\n",
    "To confirm that these results actually from improved '@' prediction, let us look at the confusion matrix again."
   ]
  },
  {
   "cell_type": "code",
   "execution_count": 11,
   "metadata": {},
   "outputs": [
    {
     "data": {
      "image/png": "[encoded data removed]",
      "text/plain": [
       "<matplotlib.figure.Figure at 0x7f26eec90860>"
      ]
     },
     "metadata": {},
     "output_type": "display_data"
    }
   ],
   "source": [
    "seq.plot_confusion_matrix(dev, local_2.predict(dev))"
   ]
  },
  {
   "cell_type": "markdown",
   "metadata": {},
   "source": [
    "Clearly, and unsurprisingly, we are now doing very well at predicting '@' labels. We can check that the model learned what we expected by also replotting its weight. (Exercise: figure out what happened to \"Deja_fckn_Vu\"). "
   ]
  },
  {
   "cell_type": "code",
   "execution_count": 12,
   "metadata": {},
   "outputs": [
    {
     "data": {
      "image/png": "[encoded data removed]",
      "text/plain": [
       "<matplotlib.figure.Figure at 0x7f26ee9a23c8>"
      ]
     },
     "metadata": {},
     "output_type": "display_data"
    }
   ],
   "source": [
    "local_2.plot_lr_weights(['@'])"
   ]
  },
  {
   "cell_type": "markdown",
   "metadata": {},
   "source": [
    "There are other rows in the confusion matrix with empty diagonal entries, suggesting problems. But another approach to improving the system is to look for errors with high frequency. On such error corresponds to the problem of distinguishing proper nouns (label '^') such as \"McDonals\" or \"smash burger\" from common nouns (label 'N') such as \"wife\" or \"rain\". \n",
    "\n",
    "To better understand this problem it is useful to look at some actual predictions of the model where this error occurs. In particular, if we show for each error both the context of this error (say, the surrounding words) as well as the used feature representation, we can both spot potential bugs and get inspiration for additional features. In fact, **this type of debugging and sanity checking should be performed for any model you ever train**. Even if (or maybe: in particular when) your model is doing well it is worth to perform this type of micro analysis to spot potential bugs that lead to worse performance, or bugs that effectively mean you are cheating (e.g. because you are using gold data at test time).     "
   ]
  },
  {
   "cell_type": "code",
   "execution_count": 13,
   "metadata": {},
   "outputs": [
    {
     "data": {
      "text/html": [
       "\n",
       "        <div id=\"6b339104-be92-11e7-9e05-0242ac110002\" class=\"carousel\" data-ride=\"carousel\" data-interval=\"false\">\n",
       "          <!-- Controls -->\n",
       "          <a href=\"#6b339104-be92-11e7-9e05-0242ac110002\" role=\"button2\" data-slide=\"prev\">Previous</a>\n",
       "          &nbsp\n",
       "          <a  href=\"#6b339104-be92-11e7-9e05-0242ac110002\" role=\"button2\" data-slide=\"next\">Next</a>\n",
       "          <div class=\"carousel-inner\" role=\"listbox\">\n",
       "          \n",
       "          </div>\n",
       "        </div>\n",
       "        "
      ],
      "text/plain": [
       "<statnlpbook.util.Carousel at 0x7f26ee94c400>"
      ]
     },
     "execution_count": 13,
     "metadata": {},
     "output_type": "execute_result"
    }
   ],
   "source": [
    "util.Carousel(local_2.errors(dev[:10], filter_guess=lambda y: y=='N',filter_gold=lambda y: y=='^'))"
   ]
  },
  {
   "cell_type": "markdown",
   "metadata": {},
   "source": [
    "By inspecting proper noun instances in this way we can notice that proper nouns tend to be capitalised. This suggests that the model could benefit from a feature representation that captures whether a word starts with a lower or upper case character. Indeed, adding such feature leads to better performance."
   ]
  },
  {
   "cell_type": "code",
   "execution_count": 14,
   "metadata": {},
   "outputs": [
    {
     "data": {
      "text/plain": [
       "0.7325316193240722"
      ]
     },
     "execution_count": 14,
     "metadata": {},
     "output_type": "execute_result"
    }
   ],
   "source": [
    "def feat_3(x,i):\n",
    "    return {\n",
    "        **feat_2(x,i),\n",
    "        'is_lower':x[i].islower()\n",
    "    }\n",
    "local_3 = seq.LocalSequenceLabeler(feat_3, train, C=10)\n",
    "seq.accuracy(dev, local_3.predict(dev))"
   ]
  },
  {
   "cell_type": "markdown",
   "metadata": {},
   "source": [
    "This improvement indeed comes from being able to identify proper nouns when they are capitalised. This can be observed when inspecting the corresponding errors: some of previous errors are now fixed, and the specific error count on the first 10 development instances has reduced from 7 to 3. "
   ]
  },
  {
   "cell_type": "code",
   "execution_count": 15,
   "metadata": {
    "scrolled": true
   },
   "outputs": [
    {
     "data": {
      "text/html": [
       "\n",
       "        <div id=\"6bc3b84c-be92-11e7-9e05-0242ac110002\" class=\"carousel\" data-ride=\"carousel\" data-interval=\"false\">\n",
       "          <!-- Controls -->\n",
       "          <a href=\"#6bc3b84c-be92-11e7-9e05-0242ac110002\" role=\"button2\" data-slide=\"prev\">Previous</a>\n",
       "          &nbsp\n",
       "          <a  href=\"#6bc3b84c-be92-11e7-9e05-0242ac110002\" role=\"button2\" data-slide=\"next\">Next</a>\n",
       "          <div class=\"carousel-inner\" role=\"listbox\">\n",
       "          <div class=\"item active\"><table style=\"\"><tr><td>players</td><td>and</td><td>his</td><td>wife</td><td>own</td><td><b>smash</b></td><td>burger</td></tr><tr><td>N</td><td>&</td><td>D</td><td>N</td><td>V</td><td><b>^</b></td><td>^</td></tr><tr><td>N</td><td>&</td><td>D</td><td>N</td><td>N</td><td><b>N</b></td><td>N</td></tr></table>\n",
       "        <table>\n",
       "          <tr><td>first_at</td><td>is_lower</td><td>word</td></tr>\n",
       "          <tr><td>False</td><td>True</td><td>smash</td></tr>\n",
       "          <tr><td>-5.56</td><td>-4.06</td><td>0.00</td></tr>\n",
       "          <tr><td>-6.67</td><td>-1.09</td><td>0.00</td></tr>\n",
       "        </table> 1 / 3</div>\n",
       "<div class=\"item\"><table style=\"\"><tr><td>and</td><td>his</td><td>wife</td><td>own</td><td>smash</td><td><b>burger</b></td></tr><tr><td>&</td><td>D</td><td>N</td><td>V</td><td>^</td><td><b>^</b></td></tr><tr><td>&</td><td>D</td><td>N</td><td>N</td><td>N</td><td><b>N</b></td></tr></table>\n",
       "        <table>\n",
       "          <tr><td>first_at</td><td>is_lower</td><td>word</td></tr>\n",
       "          <tr><td>False</td><td>True</td><td>burger</td></tr>\n",
       "          <tr><td>-5.56</td><td>-4.06</td><td>0.00</td></tr>\n",
       "          <tr><td>-6.67</td><td>-1.09</td><td>0.00</td></tr>\n",
       "        </table> 2 / 3</div>\n",
       "<div class=\"item\"><table style=\"\"><tr><td>me</td><td>for</td><td>blowing</td><td>up</td><td>your</td><td><b>youtube</b></td><td>comment</td><td>section</td><td>.</td></tr><tr><td>O</td><td>P</td><td>V</td><td>T</td><td>D</td><td><b>^</b></td><td>N</td><td>N</td><td>,</td></tr><tr><td>O</td><td>P</td><td>N</td><td>T</td><td>D</td><td><b>N</b></td><td>N</td><td>N</td><td>,</td></tr></table>\n",
       "        <table>\n",
       "          <tr><td>first_at</td><td>is_lower</td><td>word</td></tr>\n",
       "          <tr><td>False</td><td>True</td><td>youtube</td></tr>\n",
       "          <tr><td>-5.56</td><td>-4.06</td><td>0.00</td></tr>\n",
       "          <tr><td>-6.67</td><td>-1.09</td><td>0.00</td></tr>\n",
       "        </table> 3 / 3</div>\n",
       "          </div>\n",
       "        </div>\n",
       "        "
      ],
      "text/plain": [
       "<statnlpbook.util.Carousel at 0x7f26ee8f7c88>"
      ]
     },
     "execution_count": 15,
     "metadata": {},
     "output_type": "execute_result"
    }
   ],
   "source": [
    "util.Carousel(local_3.errors(dev[:10], filter_guess=lambda y: y=='N',filter_gold=lambda y: y=='^'))"
   ]
  },
  {
   "cell_type": "markdown",
   "metadata": {},
   "source": [
    "Let us look for further problems we could fix with more features, and consider the confusion matrix of the current model."
   ]
  },
  {
   "cell_type": "code",
   "execution_count": 16,
   "metadata": {},
   "outputs": [
    {
     "data": {
      "image/png": "[encoded data removed]",
      "text/plain": [
       "<matplotlib.figure.Figure at 0x7f26ee94ccc0>"
      ]
     },
     "metadata": {},
     "output_type": "display_data"
    }
   ],
   "source": [
    "seq.plot_confusion_matrix(dev, local_3.predict(dev))"
   ]
  },
  {
   "cell_type": "markdown",
   "metadata": {},
   "source": [
    "Another high frequency error stems from misclassifying verbs ('V') as common nouns ('N'). We can understand these errors better by again inspecting examples. "
   ]
  },
  {
   "cell_type": "code",
   "execution_count": 17,
   "metadata": {},
   "outputs": [
    {
     "data": {
      "text/html": [
       "\n",
       "        <div id=\"6c183200-be92-11e7-9e05-0242ac110002\" class=\"carousel\" data-ride=\"carousel\" data-interval=\"false\">\n",
       "          <!-- Controls -->\n",
       "          <a href=\"#6c183200-be92-11e7-9e05-0242ac110002\" role=\"button2\" data-slide=\"prev\">Previous</a>\n",
       "          &nbsp\n",
       "          <a  href=\"#6c183200-be92-11e7-9e05-0242ac110002\" role=\"button2\" data-slide=\"next\">Next</a>\n",
       "          <div class=\"carousel-inner\" role=\"listbox\">\n",
       "          <div class=\"item active\"><table style=\"\"><tr><td>the</td><td>players</td><td>and</td><td>his</td><td>wife</td><td><b>own</b></td><td>smash</td><td>burger</td></tr><tr><td>D</td><td>N</td><td>&</td><td>D</td><td>N</td><td><b>V</b></td><td>^</td><td>^</td></tr><tr><td>D</td><td>N</td><td>&</td><td>D</td><td>N</td><td><b>N</b></td><td>N</td><td>N</td></tr></table>\n",
       "        <table>\n",
       "          <tr><td>first_at</td><td>is_lower</td><td>word</td></tr>\n",
       "          <tr><td>False</td><td>True</td><td>own</td></tr>\n",
       "          <tr><td>-6.60</td><td>-1.69</td><td>0.00</td></tr>\n",
       "          <tr><td>-6.67</td><td>-1.09</td><td>0.00</td></tr>\n",
       "        </table> 1 / 9</div>\n",
       "<div class=\"item\"><table style=\"\"><tr><td>RT</td><td>@TheRealQuailman</td><td>:</td><td>Currently</td><td><b>laughing</b></td><td>at</td><td>Laker</td><td>haters</td><td>.</td></tr><tr><td>~</td><td>@</td><td>~</td><td>R</td><td><b>V</b></td><td>P</td><td>^</td><td>N</td><td>,</td></tr><tr><td>~</td><td>@</td><td>~</td><td>!</td><td><b>N</b></td><td>P</td><td>^</td><td>N</td><td>,</td></tr></table>\n",
       "        <table>\n",
       "          <tr><td>first_at</td><td>is_lower</td><td>word</td></tr>\n",
       "          <tr><td>False</td><td>True</td><td>laughing</td></tr>\n",
       "          <tr><td>-6.60</td><td>-1.69</td><td>0.00</td></tr>\n",
       "          <tr><td>-6.67</td><td>-1.09</td><td>0.00</td></tr>\n",
       "        </table> 2 / 9</div>\n",
       "<div class=\"item\"><table style=\"\"><tr><td>@ShiversTheNinja</td><td><b>forgive</b></td><td>me</td><td>for</td><td>blowing</td><td>up</td></tr><tr><td>@</td><td><b>V</b></td><td>O</td><td>P</td><td>V</td><td>T</td></tr><tr><td>@</td><td><b>N</b></td><td>O</td><td>P</td><td>N</td><td>T</td></tr></table>\n",
       "        <table>\n",
       "          <tr><td>first_at</td><td>is_lower</td><td>word</td></tr>\n",
       "          <tr><td>False</td><td>True</td><td>forgive</td></tr>\n",
       "          <tr><td>-6.60</td><td>-1.69</td><td>0.00</td></tr>\n",
       "          <tr><td>-6.67</td><td>-1.09</td><td>0.00</td></tr>\n",
       "        </table> 3 / 9</div>\n",
       "<div class=\"item\"><table style=\"\"><tr><td>@ShiversTheNinja</td><td>forgive</td><td>me</td><td>for</td><td><b>blowing</b></td><td>up</td><td>your</td><td>youtube</td><td>comment</td></tr><tr><td>@</td><td>V</td><td>O</td><td>P</td><td><b>V</b></td><td>T</td><td>D</td><td>^</td><td>N</td></tr><tr><td>@</td><td>N</td><td>O</td><td>P</td><td><b>N</b></td><td>T</td><td>D</td><td>N</td><td>N</td></tr></table>\n",
       "        <table>\n",
       "          <tr><td>first_at</td><td>is_lower</td><td>word</td></tr>\n",
       "          <tr><td>False</td><td>True</td><td>blowing</td></tr>\n",
       "          <tr><td>-6.60</td><td>-1.69</td><td>0.00</td></tr>\n",
       "          <tr><td>-6.67</td><td>-1.09</td><td>0.00</td></tr>\n",
       "        </table> 4 / 9</div>\n",
       "<div class=\"item\"><table style=\"\"><tr><td>Question</td><td>:</td><td>How</td><td>CAN</td><td>you</td><td><b>mend</b></td><td>a</td><td>broken</td><td>heart</td><td>?</td></tr><tr><td>N</td><td>,</td><td>R</td><td>V</td><td>O</td><td><b>V</b></td><td>D</td><td>A</td><td>N</td><td>,</td></tr><tr><td>!</td><td>~</td><td>R</td><td>V</td><td>O</td><td><b>N</b></td><td>D</td><td>V</td><td>V</td><td>,</td></tr></table>\n",
       "        <table>\n",
       "          <tr><td>first_at</td><td>is_lower</td><td>word</td></tr>\n",
       "          <tr><td>False</td><td>True</td><td>mend</td></tr>\n",
       "          <tr><td>-6.60</td><td>-1.69</td><td>0.00</td></tr>\n",
       "          <tr><td>-6.67</td><td>-1.09</td><td>0.00</td></tr>\n",
       "        </table> 5 / 9</div>\n",
       "<div class=\"item\"><table style=\"\"><tr><td>last</td><td>night</td><td>,</td><td>but</td><td>didn't</td><td><b>bother</b></td><td>calling</td><td>Shawn</td><td>because</td><td>I'd</td></tr><tr><td>A</td><td>N</td><td>,</td><td>&</td><td>V</td><td><b>V</b></td><td>V</td><td>^</td><td>P</td><td>L</td></tr><tr><td>A</td><td>N</td><td>,</td><td>&</td><td>V</td><td><b>N</b></td><td>V</td><td>!</td><td>P</td><td>L</td></tr></table>\n",
       "        <table>\n",
       "          <tr><td>first_at</td><td>is_lower</td><td>word</td></tr>\n",
       "          <tr><td>False</td><td>True</td><td>bother</td></tr>\n",
       "          <tr><td>-6.60</td><td>-1.69</td><td>0.00</td></tr>\n",
       "          <tr><td>-6.67</td><td>-1.09</td><td>0.00</td></tr>\n",
       "        </table> 6 / 9</div>\n",
       "<div class=\"item\"><table style=\"\"><tr><td>are</td><td>in</td><td>!</td><td>See</td><td>who</td><td><b>passed</b></td><td>and</td><td>who</td><td>made</td><td>the</td></tr><tr><td>V</td><td>P</td><td>,</td><td>V</td><td>O</td><td><b>V</b></td><td>&</td><td>O</td><td>V</td><td>D</td></tr><tr><td>V</td><td>P</td><td>,</td><td>V</td><td>O</td><td><b>N</b></td><td>&</td><td>O</td><td>V</td><td>D</td></tr></table>\n",
       "        <table>\n",
       "          <tr><td>first_at</td><td>is_lower</td><td>word</td></tr>\n",
       "          <tr><td>False</td><td>True</td><td>passed</td></tr>\n",
       "          <tr><td>-6.60</td><td>-1.69</td><td>0.00</td></tr>\n",
       "          <tr><td>-6.67</td><td>-1.09</td><td>0.00</td></tr>\n",
       "        </table> 7 / 9</div>\n",
       "<div class=\"item\"><table style=\"\"><tr><td>and</td><td>watch</td><td>the</td><td>news</td><td>and</td><td><b>tune</b></td><td>out</td><td>over</td><td>some</td><td>fresh</td></tr><tr><td>&</td><td>V</td><td>D</td><td>N</td><td>&</td><td><b>V</b></td><td>T</td><td>P</td><td>D</td><td>A</td></tr><tr><td>&</td><td>V</td><td>D</td><td>N</td><td>&</td><td><b>N</b></td><td>T</td><td>P</td><td>D</td><td>A</td></tr></table>\n",
       "        <table>\n",
       "          <tr><td>first_at</td><td>is_lower</td><td>word</td></tr>\n",
       "          <tr><td>False</td><td>True</td><td>tune</td></tr>\n",
       "          <tr><td>-6.60</td><td>-1.69</td><td>0.00</td></tr>\n",
       "          <tr><td>-6.67</td><td>-1.09</td><td>0.00</td></tr>\n",
       "        </table> 8 / 9</div>\n",
       "<div class=\"item\"><table style=\"\"><tr><td>that</td><td>,</td><td>regretfully</td><td>I</td><td>was</td><td><b>tied</b></td><td>up</td><td>,</td><td>Physed</td><td>at</td></tr><tr><td>P</td><td>,</td><td>R</td><td>O</td><td>V</td><td><b>V</b></td><td>T</td><td>,</td><td>N</td><td>P</td></tr><tr><td>P</td><td>,</td><td>N</td><td>O</td><td>V</td><td><b>N</b></td><td>T</td><td>,</td><td>!</td><td>P</td></tr></table>\n",
       "        <table>\n",
       "          <tr><td>first_at</td><td>is_lower</td><td>word</td></tr>\n",
       "          <tr><td>False</td><td>True</td><td>tied</td></tr>\n",
       "          <tr><td>-6.60</td><td>-1.69</td><td>0.00</td></tr>\n",
       "          <tr><td>-6.67</td><td>-1.09</td><td>0.00</td></tr>\n",
       "        </table> 9 / 9</div>\n",
       "          </div>\n",
       "        </div>\n",
       "        "
      ],
      "text/plain": [
       "<statnlpbook.util.Carousel at 0x7f26ee3a8f28>"
      ]
     },
     "execution_count": 17,
     "metadata": {},
     "output_type": "execute_result"
    }
   ],
   "source": [
    "util.Carousel(local_3.errors(dev[:20], filter_guess=lambda y: y=='N',filter_gold=lambda y: y=='V'))"
   ]
  },
  {
   "cell_type": "markdown",
   "metadata": {},
   "source": [
    "We find a couple of errors where verbs like \"laughing\", \"blowing\" or \"passed\" are misclassified as common nouns. When looking at the features of those instances, and the corresponding weights, we see that for $f_{\\text{word},w}$ feature template weights are $0$. This usually suggests that the word has not appeared (or not appeared as a verb) in the training set. However, we can tell that these words may be verbs without having to have seen them before because they come with standard verb suffixes such as \"ing\" or \"ed\". We can easily test for such cases by incorporating features that look at length two and three suffixes of the target token."
   ]
  },
  {
   "cell_type": "code",
   "execution_count": 18,
   "metadata": {},
   "outputs": [
    {
     "data": {
      "text/plain": [
       "0.7760729836201534"
      ]
     },
     "execution_count": 18,
     "metadata": {},
     "output_type": "execute_result"
    }
   ],
   "source": [
    "def feat_4(x,i):\n",
    "    return {\n",
    "        **feat_3(x,i),\n",
    "        'last_3': \"\".join(x[i][-3:]),\n",
    "        'last_2': \"\".join(x[i][-2:]),\n",
    "    }\n",
    "local_4 = seq.LocalSequenceLabeler(feat_4, train)\n",
    "seq.accuracy(dev, local_4.predict(dev))"
   ]
  },
  {
   "cell_type": "code",
   "execution_count": 19,
   "metadata": {},
   "outputs": [
    {
     "data": {
      "text/html": [
       "\n",
       "        <div id=\"6cf47dc8-be92-11e7-9e05-0242ac110002\" class=\"carousel\" data-ride=\"carousel\" data-interval=\"false\">\n",
       "          <!-- Controls -->\n",
       "          <a href=\"#6cf47dc8-be92-11e7-9e05-0242ac110002\" role=\"button2\" data-slide=\"prev\">Previous</a>\n",
       "          &nbsp\n",
       "          <a  href=\"#6cf47dc8-be92-11e7-9e05-0242ac110002\" role=\"button2\" data-slide=\"next\">Next</a>\n",
       "          <div class=\"carousel-inner\" role=\"listbox\">\n",
       "          <div class=\"item active\"><table style=\"\"><tr><td>the</td><td>players</td><td>and</td><td>his</td><td>wife</td><td><b>own</b></td><td>smash</td><td>burger</td></tr><tr><td>D</td><td>N</td><td>&</td><td>D</td><td>N</td><td><b>V</b></td><td>^</td><td>^</td></tr><tr><td>D</td><td>N</td><td>&</td><td>D</td><td>N</td><td><b>N</b></td><td>V</td><td>N</td></tr></table>\n",
       "        <table>\n",
       "          <tr><td>first_at</td><td>is_lower</td><td>last_2</td><td>last_3</td><td>word</td></tr>\n",
       "          <tr><td>False</td><td>True</td><td>wn</td><td>own</td><td>own</td></tr>\n",
       "          <tr><td>-6.20</td><td>-0.55</td><td>0.00</td><td>0.00</td><td>0.00</td></tr>\n",
       "          <tr><td>-6.89</td><td>-0.09</td><td>0.00</td><td>0.00</td><td>0.00</td></tr>\n",
       "        </table> 1 / 4</div>\n",
       "<div class=\"item\"><table style=\"\"><tr><td>Question</td><td>:</td><td>How</td><td>CAN</td><td>you</td><td><b>mend</b></td><td>a</td><td>broken</td><td>heart</td><td>?</td></tr><tr><td>N</td><td>,</td><td>R</td><td>V</td><td>O</td><td><b>V</b></td><td>D</td><td>A</td><td>N</td><td>,</td></tr><tr><td>N</td><td>~</td><td>R</td><td>V</td><td>O</td><td><b>N</b></td><td>D</td><td>V</td><td>V</td><td>,</td></tr></table>\n",
       "        <table>\n",
       "          <tr><td>first_at</td><td>is_lower</td><td>last_2</td><td>last_3</td><td>word</td></tr>\n",
       "          <tr><td>False</td><td>True</td><td>nd</td><td>end</td><td>mend</td></tr>\n",
       "          <tr><td>-6.20</td><td>-0.55</td><td>0.00</td><td>0.00</td><td>0.00</td></tr>\n",
       "          <tr><td>-6.89</td><td>-0.09</td><td>0.00</td><td>0.00</td><td>0.00</td></tr>\n",
       "        </table> 2 / 4</div>\n",
       "<div class=\"item\"><table style=\"\"><tr><td>last</td><td>night</td><td>,</td><td>but</td><td>didn't</td><td><b>bother</b></td><td>calling</td><td>Shawn</td><td>because</td><td>I'd</td></tr><tr><td>A</td><td>N</td><td>,</td><td>&</td><td>V</td><td><b>V</b></td><td>V</td><td>^</td><td>P</td><td>L</td></tr><tr><td>A</td><td>N</td><td>,</td><td>&</td><td>V</td><td><b>N</b></td><td>V</td><td>N</td><td>P</td><td>L</td></tr></table>\n",
       "        <table>\n",
       "          <tr><td>first_at</td><td>is_lower</td><td>last_2</td><td>last_3</td><td>word</td></tr>\n",
       "          <tr><td>False</td><td>True</td><td>er</td><td>her</td><td>bother</td></tr>\n",
       "          <tr><td>-6.20</td><td>-0.55</td><td>0.00</td><td>0.00</td><td>0.00</td></tr>\n",
       "          <tr><td>-6.89</td><td>-0.09</td><td>0.00</td><td>0.00</td><td>0.00</td></tr>\n",
       "        </table> 3 / 4</div>\n",
       "<div class=\"item\"><table style=\"\"><tr><td>and</td><td>watch</td><td>the</td><td>news</td><td>and</td><td><b>tune</b></td><td>out</td><td>over</td><td>some</td><td>fresh</td></tr><tr><td>&</td><td>V</td><td>D</td><td>N</td><td>&</td><td><b>V</b></td><td>T</td><td>P</td><td>D</td><td>A</td></tr><tr><td>&</td><td>V</td><td>D</td><td>N</td><td>&</td><td><b>N</b></td><td>T</td><td>P</td><td>D</td><td>A</td></tr></table>\n",
       "        <table>\n",
       "          <tr><td>first_at</td><td>is_lower</td><td>last_2</td><td>last_3</td><td>word</td></tr>\n",
       "          <tr><td>False</td><td>True</td><td>ne</td><td>une</td><td>tune</td></tr>\n",
       "          <tr><td>-6.20</td><td>-0.55</td><td>0.00</td><td>0.00</td><td>0.00</td></tr>\n",
       "          <tr><td>-6.89</td><td>-0.09</td><td>0.00</td><td>0.00</td><td>0.00</td></tr>\n",
       "        </table> 4 / 4</div>\n",
       "          </div>\n",
       "        </div>\n",
       "        "
      ],
      "text/plain": [
       "<statnlpbook.util.Carousel at 0x7f26ee5d38d0>"
      ]
     },
     "execution_count": 19,
     "metadata": {},
     "output_type": "execute_result"
    }
   ],
   "source": [
    "util.Carousel(local_4.errors(dev[:20], filter_guess=lambda y: y=='N',filter_gold=lambda y: y=='V' ))"
   ]
  },
  {
   "cell_type": "markdown",
   "metadata": {},
   "source": [
    "This indeed removed the earlier mistakes for unseen verbs.\n",
    "\n",
    "## Maximum Entropy Markov Models (MEMM)\n",
    "\n",
    "There is an observation we have not made use of. For PoS tagging as well as many other sequence labelling tasks we often have *dependencies* between consecutive labels. For example, after a non-possessive pronoun (\"O\") such as \"you\" a verb is more likely than a noun. This means that the current label $y_i$ does not only depend on the observation $\\x$ and index $i$, but also on the previous label $y_{i-1}$ (or even labels further in the past). Our *local* model above cannot capture this. \n",
    "\n",
    "One simple extension to the local model is the [Maximum Entropy Markov Model (MEMM)](http://www.ai.mit.edu/courses/6.891-nlp/READINGS/maxent.pdf). This model can again be understood as a product of local logistic regression (aka Maximum Entropy) classifiers $\\prob_\\params(y_i|\\x,y_{i-1},i)$, but now each of these classifiers can use the previous label as observed feature and hence makes a first-order Markov assumption. Let $y_0=\\text{PAD}$ be padding for the label sequence to operate properly $\\prob_\\params(y_1|\\x,y_{0},i)$, then the MEMM defines the following distribution over   \n",
    "\n",
    "$$\n",
    "p_\\params(\\y|\\x) = \\prod_{i=1}^n p_\\params(y_i|\\x,y_{i-1},i)\n",
    "$$\n",
    "\n",
    "The individual terms are defined as log-linear models as before, this time with access for features to the previous label: \n",
    "\n",
    "$$\n",
    "  p_\\params(y_i|\\x,y_{i-1},i) = \\frac{1}{Z_{\\x,y_{i-1},i}} \\exp \\langle \\repr(\\x,y_{i-1},i),\\params_{y_i} \\rangle\n",
    "$$\n",
    "\n",
    "where $Z_{\\x,y_{i-1},i}=\\sum_y \\exp \\langle \\repr(\\x,y_{i-1},i),\\params_{y_i} \\rangle $ is a *local* per-token normalisation factor.\n",
    "\n",
    "We show the factor graph of this model below. The observed \"P\" node corresponds to out setting of $y_0=\\text{PAD}$. "
   ]
  },
  {
   "cell_type": "code",
   "execution_count": 20,
   "metadata": {},
   "outputs": [
    {
     "data": {
      "image/svg+xml": [
       "<?xml version=\"1.0\" encoding=\"UTF-8\" standalone=\"no\"?>\n",
       "<!DOCTYPE svg PUBLIC \"-//W3C//DTD SVG 1.1//EN\"\n",
       " \"http://www.w3.org/Graphics/SVG/1.1/DTD/svg11.dtd\">\n",
       "<!-- Generated by graphviz version 2.38.0 (20140413.2041)\n",
       " -->\n",
       "<!-- Title: %3 Pages: 1 -->\n",
       "<svg width=\"656pt\" height=\"142pt\"\n",
       " viewBox=\"0.00 0.00 656.00 141.89\" xmlns=\"http://www.w3.org/2000/svg\" xmlns:xlink=\"http://www.w3.org/1999/xlink\">\n",
       "<g id=\"graph0\" class=\"graph\" transform=\"scale(1 1) rotate(0) translate(4 137.89)\">\n",
       "<title>%3</title>\n",
       "<polygon fill=\"white\" stroke=\"none\" points=\"-4,4 -4,-137.89 651.998,-137.89 651.998,4 -4,4\"/>\n",
       "<!-- x -->\n",
       "<g id=\"node1\" class=\"node\"><title>x</title>\n",
       "<ellipse fill=\"lightgrey\" stroke=\"black\" cx=\"322.5\" cy=\"-18\" rx=\"18\" ry=\"18\"/>\n",
       "<text text-anchor=\"middle\" x=\"322.5\" y=\"-14.3\" font-family=\"Times,serif\" font-size=\"14.00\">x</text>\n",
       "</g>\n",
       "<!-- y0 -->\n",
       "<g id=\"node2\" class=\"node\"><title>y0</title>\n",
       "<ellipse fill=\"lightgrey\" stroke=\"black\" cx=\"63.5\" cy=\"-91.4983\" rx=\"18\" ry=\"18\"/>\n",
       "<text text-anchor=\"middle\" x=\"63.5\" y=\"-87.7983\" font-family=\"Times,serif\" font-size=\"14.00\">P</text>\n",
       "</g>\n",
       "<!-- t1 -->\n",
       "<g id=\"node9\" class=\"node\"><title>t1</title>\n",
       "<polygon fill=\"black\" stroke=\"black\" points=\"27,-102.998 0,-102.998 0,-79.9983 27,-79.9983 27,-102.998\"/>\n",
       "<text text-anchor=\"middle\" x=\"13.5\" y=\"-87.7983\" font-family=\"Times,serif\" font-size=\"14.00\" fill=\"white\">t1</text>\n",
       "</g>\n",
       "<!-- y0&#45;&#45;t1 -->\n",
       "<g id=\"edge2\" class=\"edge\"><title>y0&#45;&#45;t1</title>\n",
       "<path fill=\"none\" stroke=\"black\" d=\"M45.3359,-91.4983C39.2812,-91.4983 33.2266,-91.4983 27.1719,-91.4983\"/>\n",
       "</g>\n",
       "<!-- y1 -->\n",
       "<g id=\"node3\" class=\"node\"><title>y1</title>\n",
       "<ellipse fill=\"none\" stroke=\"black\" cx=\"118.5\" cy=\"-91.4983\" rx=\"19.4965\" ry=\"19.4965\"/>\n",
       "<text text-anchor=\"middle\" x=\"118.5\" y=\"-87.7983\" font-family=\"Times,serif\" font-size=\"14.00\">y1</text>\n",
       "</g>\n",
       "<!-- y1&#45;&#45;t1 -->\n",
       "<g id=\"edge1\" class=\"edge\"><title>y1&#45;&#45;t1</title>\n",
       "<path fill=\"none\" stroke=\"black\" d=\"M107.478,-107.637C100.971,-115.687 91.9629,-124.622 81.5,-128.997 66.7385,-135.169 60.0289,-135.698 45.5,-128.997 33.9982,-123.691 25.1,-111.987 19.6393,-103.056\"/>\n",
       "</g>\n",
       "<!-- t2 -->\n",
       "<g id=\"node10\" class=\"node\"><title>t2</title>\n",
       "<polygon fill=\"black\" stroke=\"black\" points=\"183,-102.998 156,-102.998 156,-79.9983 183,-79.9983 183,-102.998\"/>\n",
       "<text text-anchor=\"middle\" x=\"169.5\" y=\"-87.7983\" font-family=\"Times,serif\" font-size=\"14.00\" fill=\"white\">t2</text>\n",
       "</g>\n",
       "<!-- y1&#45;&#45;t2 -->\n",
       "<g id=\"edge5\" class=\"edge\"><title>y1&#45;&#45;t2</title>\n",
       "<path fill=\"none\" stroke=\"black\" d=\"M138.023,-91.4983C143.925,-91.4983 149.827,-91.4983 155.729,-91.4983\"/>\n",
       "</g>\n",
       "<!-- y2 -->\n",
       "<g id=\"node4\" class=\"node\"><title>y2</title>\n",
       "<ellipse fill=\"none\" stroke=\"black\" cx=\"220.5\" cy=\"-91.4983\" rx=\"19.4965\" ry=\"19.4965\"/>\n",
       "<text text-anchor=\"middle\" x=\"220.5\" y=\"-87.7983\" font-family=\"Times,serif\" font-size=\"14.00\">y2</text>\n",
       "</g>\n",
       "<!-- y2&#45;&#45;t2 -->\n",
       "<g id=\"edge4\" class=\"edge\"><title>y2&#45;&#45;t2</title>\n",
       "<path fill=\"none\" stroke=\"black\" d=\"M200.896,-91.4983C194.946,-91.4983 188.996,-91.4983 183.047,-91.4983\"/>\n",
       "</g>\n",
       "<!-- t3 -->\n",
       "<g id=\"node11\" class=\"node\"><title>t3</title>\n",
       "<polygon fill=\"black\" stroke=\"black\" points=\"285,-102.998 258,-102.998 258,-79.9983 285,-79.9983 285,-102.998\"/>\n",
       "<text text-anchor=\"middle\" x=\"271.5\" y=\"-87.7983\" font-family=\"Times,serif\" font-size=\"14.00\" fill=\"white\">t3</text>\n",
       "</g>\n",
       "<!-- y2&#45;&#45;t3 -->\n",
       "<g id=\"edge8\" class=\"edge\"><title>y2&#45;&#45;t3</title>\n",
       "<path fill=\"none\" stroke=\"black\" d=\"M240.023,-91.4983C245.925,-91.4983 251.827,-91.4983 257.729,-91.4983\"/>\n",
       "</g>\n",
       "<!-- y3 -->\n",
       "<g id=\"node5\" class=\"node\"><title>y3</title>\n",
       "<ellipse fill=\"none\" stroke=\"black\" cx=\"322.5\" cy=\"-91.4983\" rx=\"19.4965\" ry=\"19.4965\"/>\n",
       "<text text-anchor=\"middle\" x=\"322.5\" y=\"-87.7983\" font-family=\"Times,serif\" font-size=\"14.00\">y3</text>\n",
       "</g>\n",
       "<!-- y3&#45;&#45;t3 -->\n",
       "<g id=\"edge7\" class=\"edge\"><title>y3&#45;&#45;t3</title>\n",
       "<path fill=\"none\" stroke=\"black\" d=\"M302.896,-91.4983C296.946,-91.4983 290.996,-91.4983 285.047,-91.4983\"/>\n",
       "</g>\n",
       "<!-- t4 -->\n",
       "<g id=\"node12\" class=\"node\"><title>t4</title>\n",
       "<polygon fill=\"black\" stroke=\"black\" points=\"387,-102.998 360,-102.998 360,-79.9983 387,-79.9983 387,-102.998\"/>\n",
       "<text text-anchor=\"middle\" x=\"373.5\" y=\"-87.7983\" font-family=\"Times,serif\" font-size=\"14.00\" fill=\"white\">t4</text>\n",
       "</g>\n",
       "<!-- y3&#45;&#45;t4 -->\n",
       "<g id=\"edge11\" class=\"edge\"><title>y3&#45;&#45;t4</title>\n",
       "<path fill=\"none\" stroke=\"black\" d=\"M342.023,-91.4983C347.925,-91.4983 353.827,-91.4983 359.729,-91.4983\"/>\n",
       "</g>\n",
       "<!-- y4 -->\n",
       "<g id=\"node6\" class=\"node\"><title>y4</title>\n",
       "<ellipse fill=\"none\" stroke=\"black\" cx=\"424.5\" cy=\"-91.4983\" rx=\"19.4965\" ry=\"19.4965\"/>\n",
       "<text text-anchor=\"middle\" x=\"424.5\" y=\"-87.7983\" font-family=\"Times,serif\" font-size=\"14.00\">y4</text>\n",
       "</g>\n",
       "<!-- y4&#45;&#45;t4 -->\n",
       "<g id=\"edge10\" class=\"edge\"><title>y4&#45;&#45;t4</title>\n",
       "<path fill=\"none\" stroke=\"black\" d=\"M404.896,-91.4983C398.946,-91.4983 392.996,-91.4983 387.047,-91.4983\"/>\n",
       "</g>\n",
       "<!-- t5 -->\n",
       "<g id=\"node13\" class=\"node\"><title>t5</title>\n",
       "<polygon fill=\"black\" stroke=\"black\" points=\"489,-102.998 462,-102.998 462,-79.9983 489,-79.9983 489,-102.998\"/>\n",
       "<text text-anchor=\"middle\" x=\"475.5\" y=\"-87.7983\" font-family=\"Times,serif\" font-size=\"14.00\" fill=\"white\">t5</text>\n",
       "</g>\n",
       "<!-- y4&#45;&#45;t5 -->\n",
       "<g id=\"edge14\" class=\"edge\"><title>y4&#45;&#45;t5</title>\n",
       "<path fill=\"none\" stroke=\"black\" d=\"M444.023,-91.4983C449.925,-91.4983 455.827,-91.4983 461.729,-91.4983\"/>\n",
       "</g>\n",
       "<!-- y5 -->\n",
       "<g id=\"node7\" class=\"node\"><title>y5</title>\n",
       "<ellipse fill=\"none\" stroke=\"black\" cx=\"526.5\" cy=\"-91.4983\" rx=\"19.4965\" ry=\"19.4965\"/>\n",
       "<text text-anchor=\"middle\" x=\"526.5\" y=\"-87.7983\" font-family=\"Times,serif\" font-size=\"14.00\">y5</text>\n",
       "</g>\n",
       "<!-- y5&#45;&#45;t5 -->\n",
       "<g id=\"edge13\" class=\"edge\"><title>y5&#45;&#45;t5</title>\n",
       "<path fill=\"none\" stroke=\"black\" d=\"M506.896,-91.4983C500.946,-91.4983 494.996,-91.4983 489.047,-91.4983\"/>\n",
       "</g>\n",
       "<!-- t6 -->\n",
       "<g id=\"node14\" class=\"node\"><title>t6</title>\n",
       "<polygon fill=\"black\" stroke=\"black\" points=\"591,-102.998 564,-102.998 564,-79.9983 591,-79.9983 591,-102.998\"/>\n",
       "<text text-anchor=\"middle\" x=\"577.5\" y=\"-87.7983\" font-family=\"Times,serif\" font-size=\"14.00\" fill=\"white\">t6</text>\n",
       "</g>\n",
       "<!-- y5&#45;&#45;t6 -->\n",
       "<g id=\"edge17\" class=\"edge\"><title>y5&#45;&#45;t6</title>\n",
       "<path fill=\"none\" stroke=\"black\" d=\"M546.023,-91.4983C551.925,-91.4983 557.827,-91.4983 563.729,-91.4983\"/>\n",
       "</g>\n",
       "<!-- y6 -->\n",
       "<g id=\"node8\" class=\"node\"><title>y6</title>\n",
       "<ellipse fill=\"none\" stroke=\"black\" cx=\"628.5\" cy=\"-91.4983\" rx=\"19.4965\" ry=\"19.4965\"/>\n",
       "<text text-anchor=\"middle\" x=\"628.5\" y=\"-87.7983\" font-family=\"Times,serif\" font-size=\"14.00\">y6</text>\n",
       "</g>\n",
       "<!-- y6&#45;&#45;t6 -->\n",
       "<g id=\"edge16\" class=\"edge\"><title>y6&#45;&#45;t6</title>\n",
       "<path fill=\"none\" stroke=\"black\" d=\"M608.896,-91.4983C602.946,-91.4983 596.996,-91.4983 591.047,-91.4983\"/>\n",
       "</g>\n",
       "<!-- t1&#45;&#45;x -->\n",
       "<g id=\"edge3\" class=\"edge\"><title>t1&#45;&#45;x</title>\n",
       "<path fill=\"none\" stroke=\"black\" d=\"M24.4484,-79.8712C28.0399,-76.9086 32.2154,-73.9665 36.5,-72 130.814,-28.7126 258.003,-20.7695 304.513,-19.3202\"/>\n",
       "</g>\n",
       "<!-- t2&#45;&#45;x -->\n",
       "<g id=\"edge6\" class=\"edge\"><title>t2&#45;&#45;x</title>\n",
       "<path fill=\"none\" stroke=\"black\" d=\"M181.673,-79.626C185.04,-76.9268 188.791,-74.1843 192.5,-72 230.513,-49.6134 279.759,-32.3885 305.352,-24.2173\"/>\n",
       "</g>\n",
       "<!-- t3&#45;&#45;x -->\n",
       "<g id=\"edge9\" class=\"edge\"><title>t3&#45;&#45;x</title>\n",
       "<path fill=\"none\" stroke=\"black\" d=\"M279.025,-79.9485C287.892,-67.5182 302.657,-46.8178 312.485,-33.0404\"/>\n",
       "</g>\n",
       "<!-- t4&#45;&#45;x -->\n",
       "<g id=\"edge12\" class=\"edge\"><title>t4&#45;&#45;x</title>\n",
       "<path fill=\"none\" stroke=\"black\" d=\"M365.975,-79.9485C357.108,-67.5182 342.343,-46.8178 332.515,-33.0404\"/>\n",
       "</g>\n",
       "<!-- t5&#45;&#45;x -->\n",
       "<g id=\"edge15\" class=\"edge\"><title>t5&#45;&#45;x</title>\n",
       "<path fill=\"none\" stroke=\"black\" d=\"M463.327,-79.626C459.96,-76.9268 456.209,-74.1843 452.5,-72 414.487,-49.6134 365.241,-32.3885 339.648,-24.2173\"/>\n",
       "</g>\n",
       "<!-- t6&#45;&#45;x -->\n",
       "<g id=\"edge18\" class=\"edge\"><title>t6&#45;&#45;x</title>\n",
       "<path fill=\"none\" stroke=\"black\" d=\"M566.5,-79.9798C562.907,-77.0216 558.743,-74.0547 554.5,-72 480.316,-36.0765 380.86,-23.956 340.573,-20.3558\"/>\n",
       "</g>\n",
       "</g>\n",
       "</svg>\n"
      ],
      "text/plain": [
       "<graphviz.dot.Graph at 0x7f26ee5d3860>"
      ]
     },
     "execution_count": 20,
     "metadata": {},
     "output_type": "execute_result"
    }
   ],
   "source": [
    "seq.draw_transition_fg(7)"
   ]
  },
  {
   "cell_type": "markdown",
   "metadata": {},
   "source": [
    "### Training MEMMs\n",
    "We can train MEMMs by optimising the conditional likelihood of the gold label sequences, $\\sum_{(\\x,\\y) \\in \\train} \\log \\prob_\\params(\\y|\\x)$. This objective can be formulated as follows:\n",
    "\n",
    "$$\n",
    "\\sum_{(\\x,\\y) \\in \\train} \\sum_{i=1}^{|\\x|} \\log \\prob_\\params(y_i|\\x,y_{i-1},i)   \n",
    "$$\n",
    "\n",
    "The objective is equivalent to a logistic regression objective for a classifier that assigns labels based on previous gold labels. This makes MEMMs easy to train: one can simply use a logistic regression classifier library and prepare a list of classifier training instances by iterating over all sequences and then generating one training instance per token.   \n",
    "\n",
    "### Prediction in MEMMs\n",
    "To predict the best label sequence we need to find a $\\y^*$ with maximal conditional probability given the observed word sequence $\\x$:\n",
    "\n",
    "$$\n",
    "\\y^* =\\argmax_\\y \\prob_\\params(\\y|\\x).\n",
    "$$\n",
    "\n",
    "Due to the label dependencies, we cannot simply choose each label in isolation in order find the maximum. One solution to this problem is a forward greedy method:\n",
    "\n",
    "1. set $y_0 \\leftarrow \\text{PAD}$\n",
    "1. for $i$ in $1 \\ldots |\\x|$:\n",
    "    1. $y_i \\leftarrow \\argmax_{y} \\prob_\\params(y|\\x,y_{i-1},i)$\n",
    "    \n",
    "This is an approximation because you can choose a locally optimal $y_i$ but for choosing the next $y_{i+1}$ a different previous $y_i'$ could have led to a much higher aggregate probability. In other words, you may find that \n",
    "\n",
    "$$\n",
    "\\prob_\\params(y_i'|\\x,y_{i-1},i) \\prob_\\params(y_{i+1}'|\\x,y_i',i) > \\prob_\\params(y_i|\\x,y_{i-1},i)\\prob_\\params(y_{i+1}|\\x,y_i,i)\n",
    "$$ \n",
    "\n",
    "even though $\\prob_\\params(y_i|\\x,y_{i-1},i) > \\prob_\\params(y_i'|\\x,y_{i-1},i)$. We will address this issue later.\n",
    "\n",
    "We provide an implementation of MEMMs, wrapping around a Scikit-Learn logistic regression model, in `seq.MEMMSequenceLabeler`. Below we first implement the greedy prediction algorithm above using this class. The class provides a local `predict_next` method that chooses the best label conditioned on a previous label. With this function at hand the greedy prediction algorithm is easy:"
   ]
  },
  {
   "cell_type": "code",
   "execution_count": 21,
   "metadata": {},
   "outputs": [],
   "source": [
    "def memm_greedy_predict(memm: seq.MEMMSequenceLabeler, data, use_gold_history=False):\n",
    "    result = []\n",
    "    for x, y in data:\n",
    "        y_guess = []\n",
    "        for i in range(0, len(x)):\n",
    "            prediction = memm.predict_next(x, i, y_guess if not use_gold_history else y)\n",
    "            y_guess.append(prediction)\n",
    "        result.append(y_guess)\n",
    "    return result"
   ]
  },
  {
   "cell_type": "markdown",
   "metadata": {},
   "source": [
    "Now we are ready to define a specific MEMM model. To specify the model we need to define its feature function. We use the feature function from before, assessing only $\\x$ and $i$, and append to it (see the `**feat_4(x,i)` notation) a new feature that captures the first item of the label history so far. Notice that we could assess labels further in the past (after increasing the `order` appropriately) but leave this for the reader to test. "
   ]
  },
  {
   "cell_type": "code",
   "execution_count": 22,
   "metadata": {},
   "outputs": [
    {
     "data": {
      "text/plain": [
       "0.8100767157370931"
      ]
     },
     "execution_count": 22,
     "metadata": {},
     "output_type": "execute_result"
    }
   ],
   "source": [
    "def memm_feat_1(x,i,hist):\n",
    "    return {\n",
    "        **feat_4(x,i),\n",
    "        'prev_y': hist[0],\n",
    "#          'prev_nom': hist[0] in {'N','^','O','S','Z'}\n",
    "    }\n",
    "\n",
    "memm_1 = seq.MEMMSequenceLabeler(memm_feat_1, train, order=1, C=10)\n",
    "seq.accuracy(dev,memm_greedy_predict(memm_1, dev))"
   ]
  },
  {
   "cell_type": "markdown",
   "metadata": {},
   "source": [
    "We have improved the predictions even further, and did avoid some of the verb mistakes we observed earlier. To illustrate this let us consider the remaining errors on the development subset used earlier. We see that instead of 5 errors we now encounter only 3. "
   ]
  },
  {
   "cell_type": "code",
   "execution_count": 23,
   "metadata": {},
   "outputs": [
    {
     "data": {
      "text/html": [
       "\n",
       "        <div id=\"6ea93050-be92-11e7-9e05-0242ac110002\" class=\"carousel\" data-ride=\"carousel\" data-interval=\"false\">\n",
       "          <!-- Controls -->\n",
       "          <a href=\"#6ea93050-be92-11e7-9e05-0242ac110002\" role=\"button2\" data-slide=\"prev\">Previous</a>\n",
       "          &nbsp\n",
       "          <a  href=\"#6ea93050-be92-11e7-9e05-0242ac110002\" role=\"button2\" data-slide=\"next\">Next</a>\n",
       "          <div class=\"carousel-inner\" role=\"listbox\">\n",
       "          <div class=\"item active\"><table style=\"\"><tr><td>the</td><td>players</td><td>and</td><td>his</td><td>wife</td><td><b>own</b></td><td>smash</td><td>burger</td></tr><tr><td>D</td><td>N</td><td>&</td><td>D</td><td>N</td><td><b>V</b></td><td>^</td><td>^</td></tr><tr><td>D</td><td>N</td><td>&</td><td>D</td><td>N</td><td><b>N</b></td><td>V</td><td>N</td></tr></table>\n",
       "        <table>\n",
       "          <tr><td>first_at</td><td>is_lower</td><td>last_2</td><td>last_3</td><td>prev_y</td><td>word</td></tr>\n",
       "          <tr><td>False</td><td>True</td><td>wn</td><td>own</td><td>N</td><td>own</td></tr>\n",
       "          <tr><td>-5.01</td><td>0.86</td><td>0.00</td><td>0.00</td><td>0.00</td><td>0.00</td></tr>\n",
       "          <tr><td>-5.79</td><td>0.57</td><td>0.00</td><td>0.00</td><td>0.00</td><td>0.00</td></tr>\n",
       "        </table> 1 / 2</div>\n",
       "<div class=\"item\"><table style=\"\"><tr><td>and</td><td>watch</td><td>the</td><td>news</td><td>and</td><td><b>tune</b></td><td>out</td><td>over</td><td>some</td><td>fresh</td></tr><tr><td>&</td><td>V</td><td>D</td><td>N</td><td>&</td><td><b>V</b></td><td>T</td><td>P</td><td>D</td><td>A</td></tr><tr><td>&</td><td>V</td><td>D</td><td>N</td><td>&</td><td><b>N</b></td><td>P</td><td>P</td><td>D</td><td>A</td></tr></table>\n",
       "        <table>\n",
       "          <tr><td>first_at</td><td>is_lower</td><td>last_2</td><td>last_3</td><td>prev_y</td><td>word</td></tr>\n",
       "          <tr><td>False</td><td>True</td><td>ne</td><td>une</td><td>&</td><td>tune</td></tr>\n",
       "          <tr><td>-5.01</td><td>0.86</td><td>0.00</td><td>0.00</td><td>0.00</td><td>0.00</td></tr>\n",
       "          <tr><td>-5.79</td><td>0.57</td><td>0.00</td><td>0.00</td><td>0.00</td><td>0.00</td></tr>\n",
       "        </table> 2 / 2</div>\n",
       "          </div>\n",
       "        </div>\n",
       "        "
      ],
      "text/plain": [
       "<statnlpbook.util.Carousel at 0x7f26ee5eae80>"
      ]
     },
     "execution_count": 23,
     "metadata": {},
     "output_type": "execute_result"
    }
   ],
   "source": [
    "util.Carousel(seq.errors(dev[:20], memm_greedy_predict(memm_1, dev[:20]), 'V', 'N',model=memm_1))"
   ]
  },
  {
   "cell_type": "markdown",
   "metadata": {},
   "source": [
    "We should also inspect what transition weights the model learnt. For the case of verbs ('V') we observe a high weight for $f_{\\text{prev_y},\\text{O}}$, indicating that pronouns are often followed by verbs, as we expected earlier.   "
   ]
  },
  {
   "cell_type": "code",
   "execution_count": 24,
   "metadata": {},
   "outputs": [
    {
     "data": {
      "image/png": "[encoded data removed]",
      "text/plain": [
       "<matplotlib.figure.Figure at 0x7f26ee5ea668>"
      ]
     },
     "metadata": {},
     "output_type": "display_data"
    }
   ],
   "source": [
    "memm_1.plot_lr_weights('V',feat_filter=lambda s: s.startswith(\"prev_\"))"
   ]
  },
  {
   "cell_type": "markdown",
   "metadata": {},
   "source": [
    "### Beam Search\n",
    "As we discussed, the greedy search approach is an approximate solution to the $\\argmax$ problem. One way to improve over greedy search is to maintain a *beam* of $k$-best solutions in each step. This enables initially weaker solutions to remain in the beam and move up the ranks in later steps in case they are more consistent with future observations. \n",
    "\n",
    "Technically a $k$-best beam search proceeds as follows. Let $L$ be the label set.\n",
    "\n",
    "1. Initialise a beam $B \\leftarrow \\left[(\\text{PAD}, 0) \\right]$ of partial solutions $(\\y,s)$ where $s$ is the partial log-score of $\\y$. \n",
    "1. **for** $i$ in $1 \\ldots |\\x|$:\n",
    "    1. Let $C\\leftarrow \\{\\}$ be the next beam candidates.\n",
    "    1. **for** $\\y, s$ in $B$ and $y$ in $L$: \n",
    "        1. $C \\leftarrow C \\cup \\{ (\\y \\| y, s + \\log \\prob_\\params(y|\\x,y_{i-1},i)) \\} $\n",
    "    1. Let $B\\leftarrow k\\text{-highest-scoring}(C)$ be the $k$ pairs $(\\y, s)$ with highest scores.\n",
    "1. **Return** $\\y$ with highest score in $B$. \n",
    "\n",
    "Note that a slightly faster version can use a priority queue. \n",
    "\n",
    "In Python we can implement this algorithm like so:"
   ]
  },
  {
   "cell_type": "code",
   "execution_count": 25,
   "metadata": {},
   "outputs": [
    {
     "data": {
      "text/plain": [
       "0.8133941530167945"
      ]
     },
     "execution_count": 25,
     "metadata": {},
     "output_type": "execute_result"
    }
   ],
   "source": [
    "def memm_beam_search(memm, x, width=2):\n",
    "    beam = [([],0.)]\n",
    "    history = [beam]\n",
    "    for i in range(0, len(x)):\n",
    "        # use priority queue \n",
    "        candidates = []\n",
    "        for (prev,score) in beam:\n",
    "            scores = memm.predict_scores(x, i, prev)\n",
    "            for label_index,label_score in enumerate(scores):\n",
    "                candidates.append((prev + [memm.labels()[label_index]], score + label_score))\n",
    "        beam = sorted(candidates, key=lambda x: -x[1])[:width]\n",
    "        history.append(beam)\n",
    "    return beam, history\n",
    "            \n",
    "def batch_predict(data, beam_predictor):\n",
    "    return [beam_predictor(x)[0][0][0] for x,y in data]\n",
    "\n",
    "seq.accuracy(dev, batch_predict(dev, lambda x: memm_beam_search(memm_1, x, 10)))"
   ]
  },
  {
   "cell_type": "markdown",
   "metadata": {},
   "source": [
    "With beam of size 10 accuracy improves only marginally. You can try other beam sizes (leading to longer runtimes) but likely will not see substantial improvements. Is this because we already finding solutions with highest probability, or because higher probability doesn't necessarily mean higher accuracy? \n",
    "\n",
    "We can test how many per-token predictions differ when comparing greedy search to a beam search of a given width, simply calculating their accuracies relative to each other:"
   ]
  },
  {
   "cell_type": "code",
   "execution_count": 26,
   "metadata": {},
   "outputs": [
    {
     "data": {
      "text/plain": [
       "0.9691063653327804"
      ]
     },
     "execution_count": 26,
     "metadata": {},
     "output_type": "execute_result"
    }
   ],
   "source": [
    "seq.accuracy(memm_greedy_predict(memm_1, dev), batch_predict(dev, lambda x: memm_beam_search(memm_1, x, 10)))"
   ]
  },
  {
   "cell_type": "markdown",
   "metadata": {},
   "source": [
    "We notice that about 4% of the tokens receive different labels, simply searching for higher scoring sequences. This suggest that we frequently find higher probability sequences, but that these are not necessarily more correct. We can also calculate the average log probability of the argmax sequence using different beam sizes. Again we see that there is a substantial difference between scores, they are just not reflected in task accuracy. "
   ]
  },
  {
   "cell_type": "code",
   "execution_count": 27,
   "metadata": {},
   "outputs": [
    {
     "data": {
      "text/plain": [
       "-3.62528740936034"
      ]
     },
     "execution_count": 27,
     "metadata": {},
     "output_type": "execute_result"
    }
   ],
   "source": [
    "sum([memm_beam_search(memm_1, x, 1)[0][0][1] for x,y in dev]) / len(dev)"
   ]
  },
  {
   "cell_type": "code",
   "execution_count": 28,
   "metadata": {},
   "outputs": [
    {
     "data": {
      "text/plain": [
       "-3.5424313113979289"
      ]
     },
     "execution_count": 28,
     "metadata": {},
     "output_type": "execute_result"
    }
   ],
   "source": [
    "sum([memm_beam_search(memm_1, x, 5)[0][0][1] for x,y in dev]) / len(dev)"
   ]
  },
  {
   "cell_type": "markdown",
   "metadata": {},
   "source": [
    "Beam search is a simple and often effective way to find sequences (or other structures) with higher probability. However, often it is also inefficient in the sense that it does not fully leverage the factorisation structure and conditional independences. To illustrate this problem recall that the conditional probability of a label $y_i$ only depends on the previous label $y_{i-1}$, any earlier labels have no impact on the term $\\prob(y_i|\\x,y_{i-1},i)$. With this in mind let us follow the beam for an example instance.     "
   ]
  },
  {
   "cell_type": "code",
   "execution_count": 29,
   "metadata": {},
   "outputs": [
    {
     "data": {
      "text/html": [
       "\n",
       "        <div id=\"7fab96ea-be92-11e7-9e05-0242ac110002\" class=\"carousel\" data-ride=\"carousel\" data-interval=\"false\">\n",
       "          <!-- Controls -->\n",
       "          <a href=\"#7fab96ea-be92-11e7-9e05-0242ac110002\" role=\"button2\" data-slide=\"prev\">Previous</a>\n",
       "          &nbsp\n",
       "          <a  href=\"#7fab96ea-be92-11e7-9e05-0242ac110002\" role=\"button2\" data-slide=\"next\">Next</a>\n",
       "          <div class=\"carousel-inner\" role=\"listbox\">\n",
       "          <div class=\"item active\">\n",
       "        <table>\n",
       "          <tr><td>Happy</td><td>International</td><td>Year</td><td>of</td><td>Biodiversity</td><td>!</td><td>What</td><td>better</td><td>way</td><td>to</td><td>celebrate</td><td>than</td><td>tuning</td><td>in</td><td>to</td><td>CropLife's</td><td>Biodiversity</td></tr>\n",
       "          <tr><td>A</td><td>A</td><td>N</td><td>P</td><td>N</td><td>,</td><td>O</td><td>A</td><td>N</td><td>P</td><td>V</td><td>P</td><td>V</td><td>T</td><td>P</td><td>Z</td><td>^</td></tr>\n",
       "          <tr><td>0.00</td></tr>\n",
       "        </table>\n",
       "         1 / 17</div>\n",
       "<div class=\"item\">\n",
       "        <table>\n",
       "          <tr><td>Happy</td><td>International</td><td>Year</td><td>of</td><td>Biodiversity</td><td>!</td><td>What</td><td>better</td><td>way</td><td>to</td><td>celebrate</td><td>than</td><td>tuning</td><td>in</td><td>to</td><td>CropLife's</td><td>Biodiversity</td></tr>\n",
       "          <tr><td>A</td><td>A</td><td>N</td><td>P</td><td>N</td><td>,</td><td>O</td><td>A</td><td>N</td><td>P</td><td>V</td><td>P</td><td>V</td><td>T</td><td>P</td><td>Z</td><td>^</td></tr>\n",
       "          <tr><td>A</td><td>-0.17</td></tr><tr><td>^</td><td>-3.43</td></tr><tr><td>!</td><td>-3.63</td></tr>\n",
       "        </table>\n",
       "         2 / 17</div>\n",
       "<div class=\"item\">\n",
       "        <table>\n",
       "          <tr><td>Happy</td><td>International</td><td>Year</td><td>of</td><td>Biodiversity</td><td>!</td><td>What</td><td>better</td><td>way</td><td>to</td><td>celebrate</td><td>than</td><td>tuning</td><td>in</td><td>to</td><td>CropLife's</td><td>Biodiversity</td></tr>\n",
       "          <tr><td>A</td><td>A</td><td>N</td><td>P</td><td>N</td><td>,</td><td>O</td><td>A</td><td>N</td><td>P</td><td>V</td><td>P</td><td>V</td><td>T</td><td>P</td><td>Z</td><td>^</td></tr>\n",
       "          <tr><td>A</td><td>N</td><td>-0.85</td></tr><tr><td>A</td><td>A</td><td>-1.06</td></tr><tr><td>A</td><td>^</td><td>-3.36</td></tr>\n",
       "        </table>\n",
       "         3 / 17</div>\n",
       "<div class=\"item\">\n",
       "        <table>\n",
       "          <tr><td>Happy</td><td>International</td><td>Year</td><td>of</td><td>Biodiversity</td><td>!</td><td>What</td><td>better</td><td>way</td><td>to</td><td>celebrate</td><td>than</td><td>tuning</td><td>in</td><td>to</td><td>CropLife's</td><td>Biodiversity</td></tr>\n",
       "          <tr><td>A</td><td>A</td><td>N</td><td>P</td><td>N</td><td>,</td><td>O</td><td>A</td><td>N</td><td>P</td><td>V</td><td>P</td><td>V</td><td>T</td><td>P</td><td>Z</td><td>^</td></tr>\n",
       "          <tr><td>A</td><td>A</td><td>N</td><td>-1.32</td></tr><tr><td>A</td><td>N</td><td>N</td><td>-1.67</td></tr><tr><td>A</td><td>N</td><td>V</td><td>-2.13</td></tr>\n",
       "        </table>\n",
       "         4 / 17</div>\n",
       "<div class=\"item\">\n",
       "        <table>\n",
       "          <tr><td>Happy</td><td>International</td><td>Year</td><td>of</td><td>Biodiversity</td><td>!</td><td>What</td><td>better</td><td>way</td><td>to</td><td>celebrate</td><td>than</td><td>tuning</td><td>in</td><td>to</td><td>CropLife's</td><td>Biodiversity</td></tr>\n",
       "          <tr><td>A</td><td>A</td><td>N</td><td>P</td><td>N</td><td>,</td><td>O</td><td>A</td><td>N</td><td>P</td><td>V</td><td>P</td><td>V</td><td>T</td><td>P</td><td>Z</td><td>^</td></tr>\n",
       "          <tr><td>A</td><td>A</td><td>N</td><td>P</td><td>-1.33</td></tr><tr><td>A</td><td>N</td><td>N</td><td>P</td><td>-1.68</td></tr><tr><td>A</td><td>N</td><td>V</td><td>P</td><td>-2.14</td></tr>\n",
       "        </table>\n",
       "         5 / 17</div>\n",
       "<div class=\"item\">\n",
       "        <table>\n",
       "          <tr><td>Happy</td><td>International</td><td>Year</td><td>of</td><td>Biodiversity</td><td>!</td><td>What</td><td>better</td><td>way</td><td>to</td><td>celebrate</td><td>than</td><td>tuning</td><td>in</td><td>to</td><td>CropLife's</td><td>Biodiversity</td></tr>\n",
       "          <tr><td>A</td><td>A</td><td>N</td><td>P</td><td>N</td><td>,</td><td>O</td><td>A</td><td>N</td><td>P</td><td>V</td><td>P</td><td>V</td><td>T</td><td>P</td><td>Z</td><td>^</td></tr>\n",
       "          <tr><td>A</td><td>A</td><td>N</td><td>P</td><td>N</td><td>-1.70</td></tr><tr><td>A</td><td>N</td><td>N</td><td>P</td><td>N</td><td>-2.05</td></tr><tr><td>A</td><td>N</td><td>V</td><td>P</td><td>N</td><td>-2.51</td></tr>\n",
       "        </table>\n",
       "         6 / 17</div>\n",
       "<div class=\"item\">\n",
       "        <table>\n",
       "          <tr><td>Happy</td><td>International</td><td>Year</td><td>of</td><td>Biodiversity</td><td>!</td><td>What</td><td>better</td><td>way</td><td>to</td><td>celebrate</td><td>than</td><td>tuning</td><td>in</td><td>to</td><td>CropLife's</td><td>Biodiversity</td></tr>\n",
       "          <tr><td>A</td><td>A</td><td>N</td><td>P</td><td>N</td><td>,</td><td>O</td><td>A</td><td>N</td><td>P</td><td>V</td><td>P</td><td>V</td><td>T</td><td>P</td><td>Z</td><td>^</td></tr>\n",
       "          <tr><td>A</td><td>A</td><td>N</td><td>P</td><td>N</td><td>,</td><td>-1.71</td></tr><tr><td>A</td><td>N</td><td>N</td><td>P</td><td>N</td><td>,</td><td>-2.06</td></tr><tr><td>A</td><td>N</td><td>V</td><td>P</td><td>N</td><td>,</td><td>-2.52</td></tr>\n",
       "        </table>\n",
       "         7 / 17</div>\n",
       "<div class=\"item\">\n",
       "        <table>\n",
       "          <tr><td>Happy</td><td>International</td><td>Year</td><td>of</td><td>Biodiversity</td><td>!</td><td>What</td><td>better</td><td>way</td><td>to</td><td>celebrate</td><td>than</td><td>tuning</td><td>in</td><td>to</td><td>CropLife's</td><td>Biodiversity</td></tr>\n",
       "          <tr><td>A</td><td>A</td><td>N</td><td>P</td><td>N</td><td>,</td><td>O</td><td>A</td><td>N</td><td>P</td><td>V</td><td>P</td><td>V</td><td>T</td><td>P</td><td>Z</td><td>^</td></tr>\n",
       "          <tr><td>A</td><td>A</td><td>N</td><td>P</td><td>N</td><td>,</td><td>O</td><td>-1.88</td></tr><tr><td>A</td><td>N</td><td>N</td><td>P</td><td>N</td><td>,</td><td>O</td><td>-2.23</td></tr><tr><td>A</td><td>N</td><td>V</td><td>P</td><td>N</td><td>,</td><td>O</td><td>-2.69</td></tr>\n",
       "        </table>\n",
       "         8 / 17</div>\n",
       "<div class=\"item\">\n",
       "        <table>\n",
       "          <tr><td>Happy</td><td>International</td><td>Year</td><td>of</td><td>Biodiversity</td><td>!</td><td>What</td><td>better</td><td>way</td><td>to</td><td>celebrate</td><td>than</td><td>tuning</td><td>in</td><td>to</td><td>CropLife's</td><td>Biodiversity</td></tr>\n",
       "          <tr><td>A</td><td>A</td><td>N</td><td>P</td><td>N</td><td>,</td><td>O</td><td>A</td><td>N</td><td>P</td><td>V</td><td>P</td><td>V</td><td>T</td><td>P</td><td>Z</td><td>^</td></tr>\n",
       "          <tr><td>A</td><td>A</td><td>N</td><td>P</td><td>N</td><td>,</td><td>O</td><td>R</td><td>-2.46</td></tr><tr><td>A</td><td>N</td><td>N</td><td>P</td><td>N</td><td>,</td><td>O</td><td>R</td><td>-2.81</td></tr><tr><td>A</td><td>A</td><td>N</td><td>P</td><td>N</td><td>,</td><td>O</td><td>A</td><td>-2.93</td></tr>\n",
       "        </table>\n",
       "         9 / 17</div>\n",
       "<div class=\"item\">\n",
       "        <table>\n",
       "          <tr><td>Happy</td><td>International</td><td>Year</td><td>of</td><td>Biodiversity</td><td>!</td><td>What</td><td>better</td><td>way</td><td>to</td><td>celebrate</td><td>than</td><td>tuning</td><td>in</td><td>to</td><td>CropLife's</td><td>Biodiversity</td></tr>\n",
       "          <tr><td>A</td><td>A</td><td>N</td><td>P</td><td>N</td><td>,</td><td>O</td><td>A</td><td>N</td><td>P</td><td>V</td><td>P</td><td>V</td><td>T</td><td>P</td><td>Z</td><td>^</td></tr>\n",
       "          <tr><td>A</td><td>A</td><td>N</td><td>P</td><td>N</td><td>,</td><td>O</td><td>A</td><td>N</td><td>-2.96</td></tr><tr><td>A</td><td>A</td><td>N</td><td>P</td><td>N</td><td>,</td><td>O</td><td>R</td><td>N</td><td>-3.02</td></tr><tr><td>A</td><td>N</td><td>N</td><td>P</td><td>N</td><td>,</td><td>O</td><td>R</td><td>N</td><td>-3.37</td></tr>\n",
       "        </table>\n",
       "         10 / 17</div>\n",
       "<div class=\"item\">\n",
       "        <table>\n",
       "          <tr><td>Happy</td><td>International</td><td>Year</td><td>of</td><td>Biodiversity</td><td>!</td><td>What</td><td>better</td><td>way</td><td>to</td><td>celebrate</td><td>than</td><td>tuning</td><td>in</td><td>to</td><td>CropLife's</td><td>Biodiversity</td></tr>\n",
       "          <tr><td>A</td><td>A</td><td>N</td><td>P</td><td>N</td><td>,</td><td>O</td><td>A</td><td>N</td><td>P</td><td>V</td><td>P</td><td>V</td><td>T</td><td>P</td><td>Z</td><td>^</td></tr>\n",
       "          <tr><td>A</td><td>A</td><td>N</td><td>P</td><td>N</td><td>,</td><td>O</td><td>A</td><td>N</td><td>P</td><td>-2.97</td></tr><tr><td>A</td><td>A</td><td>N</td><td>P</td><td>N</td><td>,</td><td>O</td><td>R</td><td>N</td><td>P</td><td>-3.02</td></tr><tr><td>A</td><td>N</td><td>N</td><td>P</td><td>N</td><td>,</td><td>O</td><td>R</td><td>N</td><td>P</td><td>-3.37</td></tr>\n",
       "        </table>\n",
       "         11 / 17</div>\n",
       "<div class=\"item\">\n",
       "        <table>\n",
       "          <tr><td>Happy</td><td>International</td><td>Year</td><td>of</td><td>Biodiversity</td><td>!</td><td>What</td><td>better</td><td>way</td><td>to</td><td>celebrate</td><td>than</td><td>tuning</td><td>in</td><td>to</td><td>CropLife's</td><td>Biodiversity</td></tr>\n",
       "          <tr><td>A</td><td>A</td><td>N</td><td>P</td><td>N</td><td>,</td><td>O</td><td>A</td><td>N</td><td>P</td><td>V</td><td>P</td><td>V</td><td>T</td><td>P</td><td>Z</td><td>^</td></tr>\n",
       "          <tr><td>A</td><td>A</td><td>N</td><td>P</td><td>N</td><td>,</td><td>O</td><td>A</td><td>N</td><td>P</td><td>N</td><td>-3.56</td></tr><tr><td>A</td><td>A</td><td>N</td><td>P</td><td>N</td><td>,</td><td>O</td><td>R</td><td>N</td><td>P</td><td>N</td><td>-3.61</td></tr><tr><td>A</td><td>N</td><td>N</td><td>P</td><td>N</td><td>,</td><td>O</td><td>R</td><td>N</td><td>P</td><td>N</td><td>-3.96</td></tr>\n",
       "        </table>\n",
       "         12 / 17</div>\n",
       "<div class=\"item\">\n",
       "        <table>\n",
       "          <tr><td>Happy</td><td>International</td><td>Year</td><td>of</td><td>Biodiversity</td><td>!</td><td>What</td><td>better</td><td>way</td><td>to</td><td>celebrate</td><td>than</td><td>tuning</td><td>in</td><td>to</td><td>CropLife's</td><td>Biodiversity</td></tr>\n",
       "          <tr><td>A</td><td>A</td><td>N</td><td>P</td><td>N</td><td>,</td><td>O</td><td>A</td><td>N</td><td>P</td><td>V</td><td>P</td><td>V</td><td>T</td><td>P</td><td>Z</td><td>^</td></tr>\n",
       "          <tr><td>A</td><td>A</td><td>N</td><td>P</td><td>N</td><td>,</td><td>O</td><td>A</td><td>N</td><td>P</td><td>N</td><td>P</td><td>-3.61</td></tr><tr><td>A</td><td>A</td><td>N</td><td>P</td><td>N</td><td>,</td><td>O</td><td>R</td><td>N</td><td>P</td><td>N</td><td>P</td><td>-3.66</td></tr><tr><td>A</td><td>N</td><td>N</td><td>P</td><td>N</td><td>,</td><td>O</td><td>R</td><td>N</td><td>P</td><td>N</td><td>P</td><td>-4.01</td></tr>\n",
       "        </table>\n",
       "         13 / 17</div>\n",
       "<div class=\"item\">\n",
       "        <table>\n",
       "          <tr><td>Happy</td><td>International</td><td>Year</td><td>of</td><td>Biodiversity</td><td>!</td><td>What</td><td>better</td><td>way</td><td>to</td><td>celebrate</td><td>than</td><td>tuning</td><td>in</td><td>to</td><td>CropLife's</td><td>Biodiversity</td></tr>\n",
       "          <tr><td>A</td><td>A</td><td>N</td><td>P</td><td>N</td><td>,</td><td>O</td><td>A</td><td>N</td><td>P</td><td>V</td><td>P</td><td>V</td><td>T</td><td>P</td><td>Z</td><td>^</td></tr>\n",
       "          <tr><td>A</td><td>A</td><td>N</td><td>P</td><td>N</td><td>,</td><td>O</td><td>A</td><td>N</td><td>P</td><td>N</td><td>P</td><td>V</td><td>-3.69</td></tr><tr><td>A</td><td>A</td><td>N</td><td>P</td><td>N</td><td>,</td><td>O</td><td>R</td><td>N</td><td>P</td><td>N</td><td>P</td><td>V</td><td>-3.75</td></tr><tr><td>A</td><td>N</td><td>N</td><td>P</td><td>N</td><td>,</td><td>O</td><td>R</td><td>N</td><td>P</td><td>N</td><td>P</td><td>V</td><td>-4.10</td></tr>\n",
       "        </table>\n",
       "         14 / 17</div>\n",
       "<div class=\"item\">\n",
       "        <table>\n",
       "          <tr><td>Happy</td><td>International</td><td>Year</td><td>of</td><td>Biodiversity</td><td>!</td><td>What</td><td>better</td><td>way</td><td>to</td><td>celebrate</td><td>than</td><td>tuning</td><td>in</td><td>to</td><td>CropLife's</td><td>Biodiversity</td></tr>\n",
       "          <tr><td>A</td><td>A</td><td>N</td><td>P</td><td>N</td><td>,</td><td>O</td><td>A</td><td>N</td><td>P</td><td>V</td><td>P</td><td>V</td><td>T</td><td>P</td><td>Z</td><td>^</td></tr>\n",
       "          <tr><td>A</td><td>A</td><td>N</td><td>P</td><td>N</td><td>,</td><td>O</td><td>A</td><td>N</td><td>P</td><td>N</td><td>P</td><td>V</td><td>P</td><td>-3.87</td></tr><tr><td>A</td><td>A</td><td>N</td><td>P</td><td>N</td><td>,</td><td>O</td><td>R</td><td>N</td><td>P</td><td>N</td><td>P</td><td>V</td><td>P</td><td>-3.93</td></tr><tr><td>A</td><td>N</td><td>N</td><td>P</td><td>N</td><td>,</td><td>O</td><td>R</td><td>N</td><td>P</td><td>N</td><td>P</td><td>V</td><td>P</td><td>-4.28</td></tr>\n",
       "        </table>\n",
       "         15 / 17</div>\n",
       "<div class=\"item\">\n",
       "        <table>\n",
       "          <tr><td>Happy</td><td>International</td><td>Year</td><td>of</td><td>Biodiversity</td><td>!</td><td>What</td><td>better</td><td>way</td><td>to</td><td>celebrate</td><td>than</td><td>tuning</td><td>in</td><td>to</td><td>CropLife's</td><td>Biodiversity</td></tr>\n",
       "          <tr><td>A</td><td>A</td><td>N</td><td>P</td><td>N</td><td>,</td><td>O</td><td>A</td><td>N</td><td>P</td><td>V</td><td>P</td><td>V</td><td>T</td><td>P</td><td>Z</td><td>^</td></tr>\n",
       "          <tr><td>A</td><td>A</td><td>N</td><td>P</td><td>N</td><td>,</td><td>O</td><td>A</td><td>N</td><td>P</td><td>N</td><td>P</td><td>V</td><td>P</td><td>P</td><td>-3.88</td></tr><tr><td>A</td><td>A</td><td>N</td><td>P</td><td>N</td><td>,</td><td>O</td><td>R</td><td>N</td><td>P</td><td>N</td><td>P</td><td>V</td><td>P</td><td>P</td><td>-3.93</td></tr><tr><td>A</td><td>N</td><td>N</td><td>P</td><td>N</td><td>,</td><td>O</td><td>R</td><td>N</td><td>P</td><td>N</td><td>P</td><td>V</td><td>P</td><td>P</td><td>-4.28</td></tr>\n",
       "        </table>\n",
       "         16 / 17</div>\n",
       "<div class=\"item\">\n",
       "        <table>\n",
       "          <tr><td>Happy</td><td>International</td><td>Year</td><td>of</td><td>Biodiversity</td><td>!</td><td>What</td><td>better</td><td>way</td><td>to</td><td>celebrate</td><td>than</td><td>tuning</td><td>in</td><td>to</td><td>CropLife's</td><td>Biodiversity</td></tr>\n",
       "          <tr><td>A</td><td>A</td><td>N</td><td>P</td><td>N</td><td>,</td><td>O</td><td>A</td><td>N</td><td>P</td><td>V</td><td>P</td><td>V</td><td>T</td><td>P</td><td>Z</td><td>^</td></tr>\n",
       "          <tr><td>A</td><td>A</td><td>N</td><td>P</td><td>N</td><td>,</td><td>O</td><td>A</td><td>N</td><td>P</td><td>N</td><td>P</td><td>V</td><td>P</td><td>P</td><td>L</td><td>-4.72</td></tr><tr><td>A</td><td>A</td><td>N</td><td>P</td><td>N</td><td>,</td><td>O</td><td>R</td><td>N</td><td>P</td><td>N</td><td>P</td><td>V</td><td>P</td><td>P</td><td>L</td><td>-4.78</td></tr><tr><td>A</td><td>A</td><td>N</td><td>P</td><td>N</td><td>,</td><td>O</td><td>A</td><td>N</td><td>P</td><td>N</td><td>P</td><td>V</td><td>P</td><td>P</td><td>Z</td><td>-5.02</td></tr>\n",
       "        </table>\n",
       "         17 / 17</div>\n",
       "          </div>\n",
       "        </div>\n",
       "        "
      ],
      "text/plain": [
       "<statnlpbook.util.Carousel at 0x7f26ee38fe10>"
      ]
     },
     "execution_count": 29,
     "metadata": {},
     "output_type": "execute_result"
    }
   ],
   "source": [
    "example = 56\n",
    "beam, history = memm_beam_search(memm_1, dev[example][0],3)\n",
    "seq.render_beam_history(history, dev[example], end=17)"
   ]
  },
  {
   "cell_type": "markdown",
   "metadata": {},
   "source": [
    "Notice the search *frontier*, the most recent label in each of the hypotheses, often has very little diversity. Sometimes this makes sense: for the word \"of\" it is very certain that the label \"P\" for preposition should be assigned, and the frontier reflects that. However, for the adjective \"better\" of \"better way\" the frontier contains the label \"R\" (adverb) twice, and the gold label \"A\" (adjective) not at all. This leads to an error in this case. We can fix this error by simply increasing the beam size to 4. You can test this above. In this case \"A\" barely makes it into the beam, and becomes the winning label in the next step as it fits better to the noun \"way\". \n",
    "\n",
    "One can generally avoid search errors by increasing the width, but for many models this is sub-optimal because it ignores the factorization or dependency structure of the model. In this particular case labels only depend on the previous label. This means that it makes no sense to maintain more than one hypothesis with the same frontier label in the beam. One only needs to remember the highest scoring sequence with that frontier label. To prove this consider two partial sequences $\\y$ and $\\y'$ of length $l$ with the same last label $t=y_l=y'_l$. Assume that the log probability $s = \\sum_{i}^0 \\log \\prob(y_i|\\x,y_{i-1},i)$  of $\\y$ is larger than the log probability $s' = \\sum_{i}^0 \\log \\prob(y'_i|\\x,y'_{i-1},i)$ of $\\y'$. Further assume that the label $y_{l+1}$ maximises $\\prob(y_{l+1}|\\x,t,i+1)$. Then the log probability of $\\y \\| y_{l+1}$ is larger than the log probability of $\\y' \\| y_{l+1}$ and hence there is no need to carry around $\\y'$.   \n",
    "\n",
    "### Viterbi \n",
    "\n",
    "The Viterbi (link/cite) algorithm leverages conditional independences of the model directly. It does so by maintaining a map $\\alpha_i(l)$ from label $l$ and token index $i$ to the score $\\log \\prob(\\y|\\x)$ of highest scoring sequence $\\y$ ending in label $l$ at token $i$. For each pair $(l,i)$ we also remember the sequence $\\y$ that yielded that score in a map $\\beta_i(l)$. The algorithm initialises $\\alpha_{1}(l) =\\log \\prob(l|\\x,\\text{PAD},1)$ and then updates the $\\alpha$ map via the following recursion:\n",
    "\n",
    "$$\n",
    "\\alpha_i(l) = \\max_y \\alpha_{i-1}(y) + \\log \\prob(l|\\x,y,i)  \n",
    "$$\n",
    "\n",
    "and in $\\beta_i(l)$ we store the 'winning' $y$ from the $\\max$ term. Once we reached the sequence end the result sequence can be inferred by finding the label $l$ with highest $\\alpha_{|\\x|}(l)$ and then back-tracking using $\\beta$. It is easy to show that this algorithm returns the *optimal* solution to the prediction/search problem, assuming that labels only depend on the previous label. (Exercise: extend to $n$ previous labels) \n",
    "\n",
    "Below we implement a beam version of the viterbi algorithm. In this version we restrict the maximisation that defines $\\alpha_i(l)$ to only range over the top $k$ highest scoring previous labels $y$.   "
   ]
  },
  {
   "cell_type": "code",
   "execution_count": 30,
   "metadata": {},
   "outputs": [
    {
     "data": {
      "text/html": [
       "\n",
       "        <div id=\"7fb9b04a-be92-11e7-9e05-0242ac110002\" class=\"carousel\" data-ride=\"carousel\" data-interval=\"false\">\n",
       "          <!-- Controls -->\n",
       "          <a href=\"#7fb9b04a-be92-11e7-9e05-0242ac110002\" role=\"button2\" data-slide=\"prev\">Previous</a>\n",
       "          &nbsp\n",
       "          <a  href=\"#7fb9b04a-be92-11e7-9e05-0242ac110002\" role=\"button2\" data-slide=\"next\">Next</a>\n",
       "          <div class=\"carousel-inner\" role=\"listbox\">\n",
       "          <div class=\"item active\">\n",
       "        <table>\n",
       "          <tr><td>Happy</td><td>International</td><td>Year</td><td>of</td><td>Biodiversity</td><td>!</td><td>What</td><td>better</td><td>way</td><td>to</td><td>celebrate</td><td>than</td><td>tuning</td><td>in</td><td>to</td><td>CropLife's</td><td>Biodiversity</td></tr>\n",
       "          <tr><td>A</td><td>A</td><td>N</td><td>P</td><td>N</td><td>,</td><td>O</td><td>A</td><td>N</td><td>P</td><td>V</td><td>P</td><td>V</td><td>T</td><td>P</td><td>Z</td><td>^</td></tr>\n",
       "          <tr><td>0.00</td></tr>\n",
       "        </table>\n",
       "         1 / 17</div>\n",
       "<div class=\"item\">\n",
       "        <table>\n",
       "          <tr><td>Happy</td><td>International</td><td>Year</td><td>of</td><td>Biodiversity</td><td>!</td><td>What</td><td>better</td><td>way</td><td>to</td><td>celebrate</td><td>than</td><td>tuning</td><td>in</td><td>to</td><td>CropLife's</td><td>Biodiversity</td></tr>\n",
       "          <tr><td>A</td><td>A</td><td>N</td><td>P</td><td>N</td><td>,</td><td>O</td><td>A</td><td>N</td><td>P</td><td>V</td><td>P</td><td>V</td><td>T</td><td>P</td><td>Z</td><td>^</td></tr>\n",
       "          <tr><td>A</td><td>-0.17</td></tr><tr><td>^</td><td>-3.43</td></tr><tr><td>!</td><td>-3.63</td></tr>\n",
       "        </table>\n",
       "         2 / 17</div>\n",
       "<div class=\"item\">\n",
       "        <table>\n",
       "          <tr><td>Happy</td><td>International</td><td>Year</td><td>of</td><td>Biodiversity</td><td>!</td><td>What</td><td>better</td><td>way</td><td>to</td><td>celebrate</td><td>than</td><td>tuning</td><td>in</td><td>to</td><td>CropLife's</td><td>Biodiversity</td></tr>\n",
       "          <tr><td>A</td><td>A</td><td>N</td><td>P</td><td>N</td><td>,</td><td>O</td><td>A</td><td>N</td><td>P</td><td>V</td><td>P</td><td>V</td><td>T</td><td>P</td><td>Z</td><td>^</td></tr>\n",
       "          <tr><td>A</td><td>N</td><td>-0.85</td></tr><tr><td>A</td><td>A</td><td>-1.06</td></tr><tr><td>A</td><td>^</td><td>-3.36</td></tr>\n",
       "        </table>\n",
       "         3 / 17</div>\n",
       "<div class=\"item\">\n",
       "        <table>\n",
       "          <tr><td>Happy</td><td>International</td><td>Year</td><td>of</td><td>Biodiversity</td><td>!</td><td>What</td><td>better</td><td>way</td><td>to</td><td>celebrate</td><td>than</td><td>tuning</td><td>in</td><td>to</td><td>CropLife's</td><td>Biodiversity</td></tr>\n",
       "          <tr><td>A</td><td>A</td><td>N</td><td>P</td><td>N</td><td>,</td><td>O</td><td>A</td><td>N</td><td>P</td><td>V</td><td>P</td><td>V</td><td>T</td><td>P</td><td>Z</td><td>^</td></tr>\n",
       "          <tr><td>A</td><td>A</td><td>N</td><td>-1.32</td></tr><tr><td>A</td><td>N</td><td>V</td><td>-2.13</td></tr><tr><td>A</td><td>N</td><td>P</td><td>-2.66</td></tr>\n",
       "        </table>\n",
       "         4 / 17</div>\n",
       "<div class=\"item\">\n",
       "        <table>\n",
       "          <tr><td>Happy</td><td>International</td><td>Year</td><td>of</td><td>Biodiversity</td><td>!</td><td>What</td><td>better</td><td>way</td><td>to</td><td>celebrate</td><td>than</td><td>tuning</td><td>in</td><td>to</td><td>CropLife's</td><td>Biodiversity</td></tr>\n",
       "          <tr><td>A</td><td>A</td><td>N</td><td>P</td><td>N</td><td>,</td><td>O</td><td>A</td><td>N</td><td>P</td><td>V</td><td>P</td><td>V</td><td>T</td><td>P</td><td>Z</td><td>^</td></tr>\n",
       "          <tr><td>A</td><td>A</td><td>N</td><td>P</td><td>-1.33</td></tr><tr><td>A</td><td>A</td><td>N</td><td>N</td><td>-7.63</td></tr><tr><td>A</td><td>A</td><td>N</td><td>V</td><td>-8.02</td></tr>\n",
       "        </table>\n",
       "         5 / 17</div>\n",
       "<div class=\"item\">\n",
       "        <table>\n",
       "          <tr><td>Happy</td><td>International</td><td>Year</td><td>of</td><td>Biodiversity</td><td>!</td><td>What</td><td>better</td><td>way</td><td>to</td><td>celebrate</td><td>than</td><td>tuning</td><td>in</td><td>to</td><td>CropLife's</td><td>Biodiversity</td></tr>\n",
       "          <tr><td>A</td><td>A</td><td>N</td><td>P</td><td>N</td><td>,</td><td>O</td><td>A</td><td>N</td><td>P</td><td>V</td><td>P</td><td>V</td><td>T</td><td>P</td><td>Z</td><td>^</td></tr>\n",
       "          <tr><td>A</td><td>A</td><td>N</td><td>P</td><td>N</td><td>-1.70</td></tr><tr><td>A</td><td>A</td><td>N</td><td>P</td><td>^</td><td>-2.75</td></tr><tr><td>A</td><td>A</td><td>N</td><td>P</td><td>A</td><td>-5.33</td></tr>\n",
       "        </table>\n",
       "         6 / 17</div>\n",
       "<div class=\"item\">\n",
       "        <table>\n",
       "          <tr><td>Happy</td><td>International</td><td>Year</td><td>of</td><td>Biodiversity</td><td>!</td><td>What</td><td>better</td><td>way</td><td>to</td><td>celebrate</td><td>than</td><td>tuning</td><td>in</td><td>to</td><td>CropLife's</td><td>Biodiversity</td></tr>\n",
       "          <tr><td>A</td><td>A</td><td>N</td><td>P</td><td>N</td><td>,</td><td>O</td><td>A</td><td>N</td><td>P</td><td>V</td><td>P</td><td>V</td><td>T</td><td>P</td><td>Z</td><td>^</td></tr>\n",
       "          <tr><td>A</td><td>A</td><td>N</td><td>P</td><td>N</td><td>,</td><td>-1.71</td></tr><tr><td>A</td><td>A</td><td>N</td><td>P</td><td>^</td><td>^</td><td>-5.37</td></tr><tr><td>A</td><td>A</td><td>N</td><td>P</td><td>N</td><td>P</td><td>-8.60</td></tr>\n",
       "        </table>\n",
       "         7 / 17</div>\n",
       "<div class=\"item\">\n",
       "        <table>\n",
       "          <tr><td>Happy</td><td>International</td><td>Year</td><td>of</td><td>Biodiversity</td><td>!</td><td>What</td><td>better</td><td>way</td><td>to</td><td>celebrate</td><td>than</td><td>tuning</td><td>in</td><td>to</td><td>CropLife's</td><td>Biodiversity</td></tr>\n",
       "          <tr><td>A</td><td>A</td><td>N</td><td>P</td><td>N</td><td>,</td><td>O</td><td>A</td><td>N</td><td>P</td><td>V</td><td>P</td><td>V</td><td>T</td><td>P</td><td>Z</td><td>^</td></tr>\n",
       "          <tr><td>A</td><td>A</td><td>N</td><td>P</td><td>N</td><td>,</td><td>O</td><td>-1.88</td></tr><tr><td>A</td><td>A</td><td>N</td><td>P</td><td>N</td><td>,</td><td>D</td><td>-4.38</td></tr><tr><td>A</td><td>A</td><td>N</td><td>P</td><td>N</td><td>,</td><td>#</td><td>-5.34</td></tr>\n",
       "        </table>\n",
       "         8 / 17</div>\n",
       "<div class=\"item\">\n",
       "        <table>\n",
       "          <tr><td>Happy</td><td>International</td><td>Year</td><td>of</td><td>Biodiversity</td><td>!</td><td>What</td><td>better</td><td>way</td><td>to</td><td>celebrate</td><td>than</td><td>tuning</td><td>in</td><td>to</td><td>CropLife's</td><td>Biodiversity</td></tr>\n",
       "          <tr><td>A</td><td>A</td><td>N</td><td>P</td><td>N</td><td>,</td><td>O</td><td>A</td><td>N</td><td>P</td><td>V</td><td>P</td><td>V</td><td>T</td><td>P</td><td>Z</td><td>^</td></tr>\n",
       "          <tr><td>A</td><td>A</td><td>N</td><td>P</td><td>N</td><td>,</td><td>O</td><td>R</td><td>-2.46</td></tr><tr><td>A</td><td>A</td><td>N</td><td>P</td><td>N</td><td>,</td><td>O</td><td>A</td><td>-2.93</td></tr><tr><td>A</td><td>A</td><td>N</td><td>P</td><td>N</td><td>,</td><td>O</td><td>V</td><td>-4.55</td></tr>\n",
       "        </table>\n",
       "         9 / 17</div>\n",
       "<div class=\"item\">\n",
       "        <table>\n",
       "          <tr><td>Happy</td><td>International</td><td>Year</td><td>of</td><td>Biodiversity</td><td>!</td><td>What</td><td>better</td><td>way</td><td>to</td><td>celebrate</td><td>than</td><td>tuning</td><td>in</td><td>to</td><td>CropLife's</td><td>Biodiversity</td></tr>\n",
       "          <tr><td>A</td><td>A</td><td>N</td><td>P</td><td>N</td><td>,</td><td>O</td><td>A</td><td>N</td><td>P</td><td>V</td><td>P</td><td>V</td><td>T</td><td>P</td><td>Z</td><td>^</td></tr>\n",
       "          <tr><td>A</td><td>A</td><td>N</td><td>P</td><td>N</td><td>,</td><td>O</td><td>A</td><td>N</td><td>-2.96</td></tr><tr><td>A</td><td>A</td><td>N</td><td>P</td><td>N</td><td>,</td><td>O</td><td>R</td><td>R</td><td>-3.99</td></tr><tr><td>A</td><td>A</td><td>N</td><td>P</td><td>N</td><td>,</td><td>O</td><td>R</td><td>V</td><td>-4.34</td></tr>\n",
       "        </table>\n",
       "         10 / 17</div>\n",
       "<div class=\"item\">\n",
       "        <table>\n",
       "          <tr><td>Happy</td><td>International</td><td>Year</td><td>of</td><td>Biodiversity</td><td>!</td><td>What</td><td>better</td><td>way</td><td>to</td><td>celebrate</td><td>than</td><td>tuning</td><td>in</td><td>to</td><td>CropLife's</td><td>Biodiversity</td></tr>\n",
       "          <tr><td>A</td><td>A</td><td>N</td><td>P</td><td>N</td><td>,</td><td>O</td><td>A</td><td>N</td><td>P</td><td>V</td><td>P</td><td>V</td><td>T</td><td>P</td><td>Z</td><td>^</td></tr>\n",
       "          <tr><td>A</td><td>A</td><td>N</td><td>P</td><td>N</td><td>,</td><td>O</td><td>A</td><td>N</td><td>P</td><td>-2.97</td></tr><tr><td>A</td><td>A</td><td>N</td><td>P</td><td>N</td><td>,</td><td>O</td><td>R</td><td>V</td><td>T</td><td>-8.52</td></tr><tr><td>A</td><td>A</td><td>N</td><td>P</td><td>N</td><td>,</td><td>O</td><td>A</td><td>N</td><td>N</td><td>-9.52</td></tr>\n",
       "        </table>\n",
       "         11 / 17</div>\n",
       "<div class=\"item\">\n",
       "        <table>\n",
       "          <tr><td>Happy</td><td>International</td><td>Year</td><td>of</td><td>Biodiversity</td><td>!</td><td>What</td><td>better</td><td>way</td><td>to</td><td>celebrate</td><td>than</td><td>tuning</td><td>in</td><td>to</td><td>CropLife's</td><td>Biodiversity</td></tr>\n",
       "          <tr><td>A</td><td>A</td><td>N</td><td>P</td><td>N</td><td>,</td><td>O</td><td>A</td><td>N</td><td>P</td><td>V</td><td>P</td><td>V</td><td>T</td><td>P</td><td>Z</td><td>^</td></tr>\n",
       "          <tr><td>A</td><td>A</td><td>N</td><td>P</td><td>N</td><td>,</td><td>O</td><td>A</td><td>N</td><td>P</td><td>N</td><td>-3.56</td></tr><tr><td>A</td><td>A</td><td>N</td><td>P</td><td>N</td><td>,</td><td>O</td><td>A</td><td>N</td><td>P</td><td>V</td><td>-4.25</td></tr><tr><td>A</td><td>A</td><td>N</td><td>P</td><td>N</td><td>,</td><td>O</td><td>A</td><td>N</td><td>P</td><td>A</td><td>-5.25</td></tr>\n",
       "        </table>\n",
       "         12 / 17</div>\n",
       "<div class=\"item\">\n",
       "        <table>\n",
       "          <tr><td>Happy</td><td>International</td><td>Year</td><td>of</td><td>Biodiversity</td><td>!</td><td>What</td><td>better</td><td>way</td><td>to</td><td>celebrate</td><td>than</td><td>tuning</td><td>in</td><td>to</td><td>CropLife's</td><td>Biodiversity</td></tr>\n",
       "          <tr><td>A</td><td>A</td><td>N</td><td>P</td><td>N</td><td>,</td><td>O</td><td>A</td><td>N</td><td>P</td><td>V</td><td>P</td><td>V</td><td>T</td><td>P</td><td>Z</td><td>^</td></tr>\n",
       "          <tr><td>A</td><td>A</td><td>N</td><td>P</td><td>N</td><td>,</td><td>O</td><td>A</td><td>N</td><td>P</td><td>N</td><td>P</td><td>-3.61</td></tr><tr><td>A</td><td>A</td><td>N</td><td>P</td><td>N</td><td>,</td><td>O</td><td>A</td><td>N</td><td>P</td><td>N</td><td>V</td><td>-7.12</td></tr><tr><td>A</td><td>A</td><td>N</td><td>P</td><td>N</td><td>,</td><td>O</td><td>A</td><td>N</td><td>P</td><td>N</td><td>U</td><td>-8.82</td></tr>\n",
       "        </table>\n",
       "         13 / 17</div>\n",
       "<div class=\"item\">\n",
       "        <table>\n",
       "          <tr><td>Happy</td><td>International</td><td>Year</td><td>of</td><td>Biodiversity</td><td>!</td><td>What</td><td>better</td><td>way</td><td>to</td><td>celebrate</td><td>than</td><td>tuning</td><td>in</td><td>to</td><td>CropLife's</td><td>Biodiversity</td></tr>\n",
       "          <tr><td>A</td><td>A</td><td>N</td><td>P</td><td>N</td><td>,</td><td>O</td><td>A</td><td>N</td><td>P</td><td>V</td><td>P</td><td>V</td><td>T</td><td>P</td><td>Z</td><td>^</td></tr>\n",
       "          <tr><td>A</td><td>A</td><td>N</td><td>P</td><td>N</td><td>,</td><td>O</td><td>A</td><td>N</td><td>P</td><td>N</td><td>P</td><td>V</td><td>-3.69</td></tr><tr><td>A</td><td>A</td><td>N</td><td>P</td><td>N</td><td>,</td><td>O</td><td>A</td><td>N</td><td>P</td><td>N</td><td>P</td><td>N</td><td>-6.35</td></tr><tr><td>A</td><td>A</td><td>N</td><td>P</td><td>N</td><td>,</td><td>O</td><td>A</td><td>N</td><td>P</td><td>N</td><td>P</td><td>A</td><td>-8.09</td></tr>\n",
       "        </table>\n",
       "         14 / 17</div>\n",
       "<div class=\"item\">\n",
       "        <table>\n",
       "          <tr><td>Happy</td><td>International</td><td>Year</td><td>of</td><td>Biodiversity</td><td>!</td><td>What</td><td>better</td><td>way</td><td>to</td><td>celebrate</td><td>than</td><td>tuning</td><td>in</td><td>to</td><td>CropLife's</td><td>Biodiversity</td></tr>\n",
       "          <tr><td>A</td><td>A</td><td>N</td><td>P</td><td>N</td><td>,</td><td>O</td><td>A</td><td>N</td><td>P</td><td>V</td><td>P</td><td>V</td><td>T</td><td>P</td><td>Z</td><td>^</td></tr>\n",
       "          <tr><td>A</td><td>A</td><td>N</td><td>P</td><td>N</td><td>,</td><td>O</td><td>A</td><td>N</td><td>P</td><td>N</td><td>P</td><td>V</td><td>P</td><td>-3.87</td></tr><tr><td>A</td><td>A</td><td>N</td><td>P</td><td>N</td><td>,</td><td>O</td><td>A</td><td>N</td><td>P</td><td>N</td><td>P</td><td>V</td><td>T</td><td>-5.60</td></tr><tr><td>A</td><td>A</td><td>N</td><td>P</td><td>N</td><td>,</td><td>O</td><td>A</td><td>N</td><td>P</td><td>N</td><td>P</td><td>V</td><td>&</td><td>-9.22</td></tr>\n",
       "        </table>\n",
       "         15 / 17</div>\n",
       "<div class=\"item\">\n",
       "        <table>\n",
       "          <tr><td>Happy</td><td>International</td><td>Year</td><td>of</td><td>Biodiversity</td><td>!</td><td>What</td><td>better</td><td>way</td><td>to</td><td>celebrate</td><td>than</td><td>tuning</td><td>in</td><td>to</td><td>CropLife's</td><td>Biodiversity</td></tr>\n",
       "          <tr><td>A</td><td>A</td><td>N</td><td>P</td><td>N</td><td>,</td><td>O</td><td>A</td><td>N</td><td>P</td><td>V</td><td>P</td><td>V</td><td>T</td><td>P</td><td>Z</td><td>^</td></tr>\n",
       "          <tr><td>A</td><td>A</td><td>N</td><td>P</td><td>N</td><td>,</td><td>O</td><td>A</td><td>N</td><td>P</td><td>N</td><td>P</td><td>V</td><td>P</td><td>P</td><td>-3.88</td></tr><tr><td>A</td><td>A</td><td>N</td><td>P</td><td>N</td><td>,</td><td>O</td><td>A</td><td>N</td><td>P</td><td>N</td><td>P</td><td>V</td><td>P</td><td>^</td><td>-10.16</td></tr><tr><td>A</td><td>A</td><td>N</td><td>P</td><td>N</td><td>,</td><td>O</td><td>A</td><td>N</td><td>P</td><td>N</td><td>P</td><td>V</td><td>P</td><td>$</td><td>-10.55</td></tr>\n",
       "        </table>\n",
       "         16 / 17</div>\n",
       "<div class=\"item\">\n",
       "        <table>\n",
       "          <tr><td>Happy</td><td>International</td><td>Year</td><td>of</td><td>Biodiversity</td><td>!</td><td>What</td><td>better</td><td>way</td><td>to</td><td>celebrate</td><td>than</td><td>tuning</td><td>in</td><td>to</td><td>CropLife's</td><td>Biodiversity</td></tr>\n",
       "          <tr><td>A</td><td>A</td><td>N</td><td>P</td><td>N</td><td>,</td><td>O</td><td>A</td><td>N</td><td>P</td><td>V</td><td>P</td><td>V</td><td>T</td><td>P</td><td>Z</td><td>^</td></tr>\n",
       "          <tr><td>A</td><td>A</td><td>N</td><td>P</td><td>N</td><td>,</td><td>O</td><td>A</td><td>N</td><td>P</td><td>N</td><td>P</td><td>V</td><td>P</td><td>P</td><td>L</td><td>-4.72</td></tr><tr><td>A</td><td>A</td><td>N</td><td>P</td><td>N</td><td>,</td><td>O</td><td>A</td><td>N</td><td>P</td><td>N</td><td>P</td><td>V</td><td>P</td><td>P</td><td>Z</td><td>-5.02</td></tr><tr><td>A</td><td>A</td><td>N</td><td>P</td><td>N</td><td>,</td><td>O</td><td>A</td><td>N</td><td>P</td><td>N</td><td>P</td><td>V</td><td>P</td><td>P</td><td>S</td><td>-6.22</td></tr>\n",
       "        </table>\n",
       "         17 / 17</div>\n",
       "          </div>\n",
       "        </div>\n",
       "        "
      ],
      "text/plain": [
       "<statnlpbook.util.Carousel at 0x7f26ee6c5160>"
      ]
     },
     "execution_count": 30,
     "metadata": {},
     "output_type": "execute_result"
    }
   ],
   "source": [
    "from collections import defaultdict\n",
    "import math\n",
    "def memm_viterbi_search(memm, x, width=2):\n",
    "    labels = memm.labels()\n",
    "    # initialise\n",
    "    alpha = [{}]\n",
    "    beta = [{}]\n",
    "    for label_index, label_score in enumerate(memm.predict_scores_hist(x, 0, [\"PAD\"])):\n",
    "        label = labels[label_index]\n",
    "        alpha[0][label] = label_score\n",
    "        beta[0][label] = \"PAD\"\n",
    "    \n",
    "    # prune\n",
    "    seq.prune_alpha_beta(alpha[0], beta[0], width)\n",
    "    \n",
    "    # recursion \n",
    "    for i in range(1, len(x)):\n",
    "        alpha.append(defaultdict(lambda: -math.inf))\n",
    "        beta.append({})\n",
    "        for p in alpha[i-1].keys():\n",
    "            for label_index, label_score in enumerate(memm.predict_scores_hist(x, i, [p])):\n",
    "                label = labels[label_index]\n",
    "                new_score =  alpha[i-1][p] + label_score\n",
    "                if new_score > alpha[i][label]:\n",
    "                    alpha[i][label] = new_score\n",
    "                    beta[i][label] = p\n",
    "        # prune\n",
    "        seq.prune_alpha_beta(alpha[i], beta[i], width)\n",
    "    \n",
    "    # convert to beam history to be used in the same way beam search was used.  \n",
    "    history = seq.convert_alpha_beta_to_history(x, alpha, beta)\n",
    "    return history[-1], history\n",
    "\n",
    "beam, history = memm_viterbi_search(memm_1, dev[example][0],3)\n",
    "seq.render_beam_history(history, dev[example], 17)"
   ]
  },
  {
   "cell_type": "markdown",
   "metadata": {},
   "source": [
    "Crucially, for the same beam size we now keep the correct labelling of \"better\" in the beam and reach a better solution, both in terms of log probability and actual accuracy. \n",
    "\n",
    "This improvement in log probabilities does not always lead to higher global accuracy:"
   ]
  },
  {
   "cell_type": "code",
   "execution_count": 31,
   "metadata": {},
   "outputs": [
    {
     "data": {
      "text/plain": [
       "0.8131868131868132"
      ]
     },
     "execution_count": 31,
     "metadata": {},
     "output_type": "execute_result"
    }
   ],
   "source": [
    "seq.accuracy(dev, batch_predict(dev, lambda x: memm_viterbi_search(memm_1, x, 10)))"
   ]
  },
  {
   "cell_type": "markdown",
   "metadata": {},
   "source": [
    "## Label Bias Problem\n",
    "\n",
    "MEMMs multiply several *locally* normalised transition probabilities to arrive at a sequence probability. That is, for each token $i$ and a given previous state $y_{i-1}$ the sum of transition scores into next states $\\sum_{y_i} \\prob_\\params(y_i|\\x,y_{i-1},i)$ equals 1. This local normalisation makes training easy (why?), but it also leads to a problem. Consider two simple sequences \"that works\" and \"that house\". The former is a pronoun (\"O\") followed by a verb (\"V\"), the latter is a determiner (\"D\") followed by a noun (\"N\"). Let us assume that \n",
    "\n",
    "$$\n",
    "\\prob_\\params(\\text{D}|\\x,\\text{PAD},0) =\\prob_\\params(\\text{O}|\\x,\\text{PAD},0) \\approx 0.5,\n",
    "$$\n",
    "\n",
    "meaning that at the beginning of a sentence both the determiner and pronoun label for \"that\" have roughly the same probability 0.5. Now assume that in the training set determiners are always followed by nouns, and pronouns always by verbs. This would mean that \n",
    "\n",
    "$$\n",
    "\\prob_\\params(\\text{N}|\\x,\\text{D},i) = \\prob_\\params(\\text{V}|\\x,\\text{O},i)  \\approx 1\n",
    "$$     \n",
    "\n",
    "and hence transitions from these two states are completely independent of the observation. \n",
    "\n",
    "Now we have $\\prob_\\params(\\text{D N}|\\, \\text{that works}) \\approx 0.5$ and $\\prob_\\params(\\text{O V}|\\, \\text{that works}) \\approx 0.5$, and the same for the input \"that house\". This means that once we enter the \"D\" or \"O\" state, the following observations have no effect on the sequence probability. The reason is that MEMMs requires *all* incoming probability mass (0.5 in the above example) to a given state (such as \"D\" or \"O\") to be distributed among the outgoing states. If there is only one possible next state, then that next state will receive all the mass, regardless of the observation. In particular, the model cannot say \"in state \"D\" and for observation \"works\", *all* labels are impossible. More generally, states with few outgoing distributions effectively ignore observations, and this creates a bias towards such states. This problem is known as the *label bias problem*. "
   ]
  },
  {
   "cell_type": "markdown",
   "metadata": {},
   "source": [
    "## CRFs\n",
    "\n",
    "[Conditional Random Fields (CRFs)](http://www.seas.upenn.edu/~strctlrn/bib/PDF/crf.pdf) have been developed to overcome the label bias. The core problem of MEMMs is local normalisation. CRFs replace this with *global* normalisation. That is instead of normalising across all possible next states $y_{i+1}$ given a current state $y_i$ and observation $\\x$, the CRF normalises across all possible *sequences* $\\y$ given observation $\\x$. Formally the CRF is hence defined as follows:\n",
    "\n",
    "$$\n",
    "p_\\params(\\y|\\x) = \\frac{1}{Z_{\\x}} \\prod_i^{|\\x|} \\exp  \\langle \\repr(\\x,y_{i-1},i), \\params_{y_i} \\rangle\n",
    "$$\n",
    "\n",
    "where $Z_{\\x}=\\sum_\\y   \\prod_i^{|\\x|} \\exp \\langle \\repr(\\x,y_{i-1},i), \\params_{y_i} \\rangle$ is the *partition function*, a *global* normalisation constant depending on $\\x$. Notably each term $\\exp  \\langle \\repr(\\x,y_{i-1},i), \\params_{y_i} \\rangle$ in the product can now take on values in $[0,\\infty)$ as opposed to the MEMM terms in $[0,1]$.  \n",
    "\n",
    "The name CRF stems from the fact they correspond to [Markov random fields](http://www.statslab.cam.ac.uk/~grg/books/hammfest/3-pdc.ps), globally conditioned on the observation $\\x$. While in this chapter we focus on cases where the dependency structure corresponds to a linear chain, CRFs are more general and encompass any graphical structure. \n",
    "\n",
    "### Training Linear Chain CRFs\n",
    "\n",
    "CRFs can be trained (as usual) by maximising the conditional log-likelihood of the data \n",
    "\n",
    "$$\n",
    "CL(\\params) = \\sum_{(\\x,\\y) \\in \\train} \\log \\prob_\\params(\\y|\\x).\n",
    "$$\n",
    "\n",
    "This is substantially harder than for MEMMs because the partition function makes it impossible to break up the objective into only per-token logistic regression terms. Instead the objective needs to be treated on a per-sequence basis. Conceptually this is not difficult: just as for logistic regression we need to calculate the gradient of the objective, and once we have this gradient, we choose a gradient descent/ascent method to optimise the function. The general CRF conditional log-likelihood is in fact a generalisation of the logistic regression objective, and hence the CRF gradient will look very similar to the gradient of logistic regression. In this chapter we will only briefly discuss the gradient and what is necessary to calculate it. \n",
    "\n",
    "\\begin{split}\n",
    "  \\nabla_{y'} CL(\\params) =  \\sum_{(\\x,\\y) \\in \\train} \\sum^{|\\x|}_i\\repr(\\x,y_{i-1},i) \\delta(y_i,y') - p_\\params(y',y_{i-1}|\\x) \\repr(\\x,y_{i-1},i) \n",
    "\\end{split}\n",
    "\n",
    "\n",
    "### Prediction in Linear Chain CRFs\n",
    "\n",
    "From the perspective of finding $\\argmax_\\y \\prob_\\params(\\y|\\x)$ we can treat the CRF just as the MEMM. They share the same factorisation/dependency structure and are just differently normalised. That is, we can again simply perform greedy search, use a beam or apply Viterbi. \n",
    "\n",
    "Below we train a CRF model using the same feature vectors as used for the MEMM model, and then do prediction via the Viterbi algorithm (this is the standard algorithm in most CRF libraries). "
   ]
  },
  {
   "cell_type": "code",
   "execution_count": 32,
   "metadata": {},
   "outputs": [
    {
     "data": {
      "text/plain": [
       "0.8216877462160481"
      ]
     },
     "execution_count": 32,
     "metadata": {},
     "output_type": "execute_result"
    }
   ],
   "source": [
    "crf_1 = seq.CRFSequenceLabeler(feat_4, train)\n",
    "seq.accuracy(dev, crf_1.predict(dev))"
   ]
  },
  {
   "cell_type": "markdown",
   "metadata": {},
   "source": [
    "A notable 1% point improvement over the MEMM model that essentially comes from free in the sense that we are using exactly the same feature representation and are just changing from local to global normalisation."
   ]
  },
  {
   "cell_type": "markdown",
   "metadata": {},
   "source": [
    "## Test Data\n",
    "Let us run the above models on the test data to see whether our findings generalise.\n"
   ]
  },
  {
   "cell_type": "code",
   "execution_count": 33,
   "metadata": {},
   "outputs": [
    {
     "data": {
      "text/html": [
       "<div>\n",
       "<table border=\"1\" class=\"dataframe\">\n",
       "  <thead>\n",
       "    <tr style=\"text-align: right;\">\n",
       "      <th></th>\n",
       "      <th>0</th>\n",
       "      <th>1</th>\n",
       "    </tr>\n",
       "  </thead>\n",
       "  <tbody>\n",
       "    <tr>\n",
       "      <th>0</th>\n",
       "      <td>word</td>\n",
       "      <td>0.651147</td>\n",
       "    </tr>\n",
       "    <tr>\n",
       "      <th>1</th>\n",
       "      <td>+ first @</td>\n",
       "      <td>0.696029</td>\n",
       "    </tr>\n",
       "    <tr>\n",
       "      <th>2</th>\n",
       "      <td>+ cap</td>\n",
       "      <td>0.740492</td>\n",
       "    </tr>\n",
       "    <tr>\n",
       "      <th>3</th>\n",
       "      <td>+ suffix</td>\n",
       "      <td>0.790968</td>\n",
       "    </tr>\n",
       "    <tr>\n",
       "      <th>4</th>\n",
       "      <td>MEMM</td>\n",
       "      <td>0.812640</td>\n",
       "    </tr>\n",
       "    <tr>\n",
       "      <th>5</th>\n",
       "      <td>CRF</td>\n",
       "      <td>0.822707</td>\n",
       "    </tr>\n",
       "  </tbody>\n",
       "</table>\n",
       "</div>"
      ],
      "text/plain": [
       "           0         1\n",
       "0       word  0.651147\n",
       "1  + first @  0.696029\n",
       "2      + cap  0.740492\n",
       "3   + suffix  0.790968\n",
       "4       MEMM  0.812640\n",
       "5        CRF  0.822707"
      ]
     },
     "execution_count": 33,
     "metadata": {},
     "output_type": "execute_result"
    }
   ],
   "source": [
    "import pandas as pd\n",
    "pd.DataFrame([\n",
    "        [\"word\", seq.accuracy(test, local_1.predict(test))],\n",
    "        [\"+ first @\", seq.accuracy(test, local_2.predict(test))],\n",
    "        [\"+ cap\", seq.accuracy(test, local_3.predict(test))],\n",
    "        [\"+ suffix\", seq.accuracy(test, local_4.predict(test))],\n",
    "        [\"MEMM\", seq.accuracy(test, memm_1.predict(test))],\n",
    "        [\"CRF\", seq.accuracy(test, crf_1.predict(test))]       \n",
    "    ])"
   ]
  },
  {
   "cell_type": "markdown",
   "metadata": {},
   "source": [
    "## Background Material\n",
    "* [Tackling the Poor Assumptions of Naive Bayes Text Classifiers](https://people.csail.mit.edu/jrennie/papers/icml03-nb.pdf), Rennie et al, ICML 2003 "
   ]
  }
 ],
 "metadata": {
  "kernelspec": {
   "display_name": "Python 3",
   "language": "python",
   "name": "python3"
  },
  "language_info": {
   "codemirror_mode": {
    "name": "ipython",
    "version": 3
   },
   "file_extension": ".py",
   "mimetype": "text/x-python",
   "name": "python",
   "nbconvert_exporter": "python",
   "pygments_lexer": "ipython3",
   "version": "3.6.2"
  }
 },
 "nbformat": 4,
 "nbformat_minor": 1
}
