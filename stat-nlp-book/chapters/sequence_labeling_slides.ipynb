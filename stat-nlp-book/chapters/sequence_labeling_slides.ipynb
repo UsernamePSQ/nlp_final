{
 "cells": [
  {
   "cell_type": "code",
   "execution_count": 37,
   "metadata": {
    "scrolled": true,
    "slideshow": {
     "slide_type": "skip"
    }
   },
   "outputs": [],
   "source": [
    "%%capture\n",
    "%load_ext autoreload\n",
    "%autoreload 2\n",
    "%matplotlib inline\n",
    "# %cd .. \n",
    "import os, sys\n",
    "sys.path.append(\"..\")\n",
    "import statnlpbook.util as util\n",
    "import statnlpbook.sequence as seq\n",
    "from statnlpbook.gmb import load_gmb_dataset\n",
    "import pandas as pd\n",
    "import matplotlib\n",
    "import warnings\n",
    "warnings.filterwarnings('ignore')\n",
    "matplotlib.rcParams['figure.figsize'] = (8.0, 5.0)\n",
    "from collections import defaultdict, Counter\n",
    "from random import random"
   ]
  },
  {
   "cell_type": "markdown",
   "metadata": {
    "slideshow": {
     "slide_type": "skip"
    }
   },
   "source": [
    "<!---\n",
    "Latex Macros\n",
    "-->\n",
    "$$\n",
    "\\newcommand{\\Xs}{\\mathcal{X}}\n",
    "\\newcommand{\\Ys}{\\mathcal{Y}}\n",
    "\\newcommand{\\y}{\\mathbf{y}}\n",
    "\\newcommand{\\balpha}{\\boldsymbol{\\alpha}}\n",
    "\\newcommand{\\bbeta}{\\boldsymbol{\\beta}}\n",
    "\\newcommand{\\aligns}{\\mathbf{a}}\n",
    "\\newcommand{\\align}{a}\n",
    "\\newcommand{\\source}{\\mathbf{s}}\n",
    "\\newcommand{\\target}{\\mathbf{t}}\n",
    "\\newcommand{\\ssource}{s}\n",
    "\\newcommand{\\starget}{t}\n",
    "\\newcommand{\\repr}{\\mathbf{f}}\n",
    "\\newcommand{\\repry}{\\mathbf{g}}\n",
    "\\newcommand{\\x}{\\mathbf{x}}\n",
    "\\newcommand{\\prob}{p}\n",
    "\\newcommand{\\bar}{\\,|\\,}\n",
    "\\newcommand{\\vocab}{V}\n",
    "\\newcommand{\\params}{\\boldsymbol{\\theta}}\n",
    "\\newcommand{\\param}{\\theta}\n",
    "\\DeclareMathOperator{\\perplexity}{PP}\n",
    "\\DeclareMathOperator{\\argmax}{argmax}\n",
    "\\DeclareMathOperator{\\argmin}{argmin}\n",
    "\\newcommand{\\train}{\\mathcal{D}}\n",
    "\\newcommand{\\counts}[2]{\\#_{#1}(#2) }\n",
    "\\newcommand{\\length}[1]{\\text{length}(#1) }\n",
    "\\newcommand{\\indi}{\\mathbb{I}}\n",
    "$$"
   ]
  },
  {
   "cell_type": "code",
   "execution_count": 67,
   "metadata": {
    "scrolled": true,
    "slideshow": {
     "slide_type": "skip"
    }
   },
   "outputs": [
    {
     "data": {
      "text/html": [
       "<style>\n",
       ".rendered_html td {\n",
       "    font-size: xx-large;\n",
       "    text-align: left; !important\n",
       "}\n",
       ".rendered_html th {\n",
       "    font-size: xx-large;\n",
       "    text-align: left; !important\n",
       "}\n",
       "</style>\n"
      ],
      "text/plain": [
       "<IPython.core.display.HTML object>"
      ]
     },
     "metadata": {},
     "output_type": "display_data"
    }
   ],
   "source": [
    "%%HTML\n",
    "<style>\n",
    ".rendered_html td {\n",
    "    font-size: xx-large;\n",
    "    text-align: left; !important\n",
    "}\n",
    ".rendered_html th {\n",
    "    font-size: xx-large;\n",
    "    text-align: left; !important\n",
    "}\n",
    "</style>"
   ]
  },
  {
   "cell_type": "code",
   "execution_count": 3,
   "metadata": {
    "slideshow": {
     "slide_type": "skip"
    }
   },
   "outputs": [],
   "source": [
    "%load_ext tikzmagic"
   ]
  },
  {
   "cell_type": "markdown",
   "metadata": {
    "slideshow": {
     "slide_type": "slide"
    }
   },
   "source": [
    "# Natural Language Processing (NLP) Lecture 4:\n",
    "# Sequence Labeling\n",
    "\n",
    "&nbsp;\n",
    "\n",
    "### Marcel Bollmann (marcel@di.ku.dk)"
   ]
  },
  {
   "cell_type": "markdown",
   "metadata": {
    "slideshow": {
     "slide_type": "subslide"
    }
   },
   "source": [
    "## Sequence Labeling\n",
    "\n",
    "+ Assigning exactly one label to each element in a sequence\n",
    "\n",
    "+ In context of RNNs, example of **one-to-one** paradigm\n",
    "\n",
    "<center><img src=\"../img/one_to_one.png\"></center>"
   ]
  },
  {
   "cell_type": "markdown",
   "metadata": {
    "slideshow": {
     "slide_type": "slide"
    }
   },
   "source": [
    "## Part-of-speech tagging\n",
    "\n",
    "Assign each token in a sentence its **part-of-speech (POS) tag**.\n",
    "\n",
    "| 1 | 2 | 3 | 4 | 5 | 6 | 7 |\n",
    "|-|-|-|-|-|-|-|\n",
    "| I | predict | that | it | will | rain | tonight |\n",
    "| PRP | VBP | IN | PRP | MD | VB | NN |"
   ]
  },
  {
   "cell_type": "markdown",
   "metadata": {
    "slideshow": {
     "slide_type": "subslide"
    }
   },
   "source": [
    "## Part-of-speech tagsets\n",
    "\n",
    "+ POS tags group words with **similar grammatical properties**\n",
    "+ Granularity of tags can differ\n",
    "+ *For example:* English Penn TreeBank Tagset distinguishes four types of nouns\n",
    "\n",
    "| | | |\n",
    "|-|-|-|\n",
    "| **NN** | noun, singular or mass | *cat, rain* |\n",
    "| **NNS** | noun, plural | *cats, tables* |\n",
    "| **NNP** | proper noun, singular | *John, IBM* |\n",
    "| **NNPS** | proper noun, plural | *Muslims, Philippines* |\n"
   ]
  },
  {
   "cell_type": "markdown",
   "metadata": {
    "slideshow": {
     "slide_type": "subslide"
    }
   },
   "source": [
    "### Crucial challenge: Ambiguity!\n",
    "\n",
    "| | | | | | |\n",
    "|-|-|-|-|-|-|\n",
    "| He | is | treated | for | **back** | injury |\n",
    "| PRP | VBP | VBN | IN | **NN** | NN |\n",
    "\n",
    "| | | | | | |\n",
    "|-|-|-|-|-|-|\n",
    "| He | is | sent | **back** | to | prison |\n",
    "| PRP | VBP | VBN | **RB** | TO | NN |\n",
    "\n",
    "| | | | | |\n",
    "|-|-|-|-|-|\n",
    "| I | can | **back** | this | up | \n",
    "| PRP | MD | **VB** | DT | RP |\n",
    "\n"
   ]
  },
  {
   "cell_type": "markdown",
   "metadata": {
    "slideshow": {
     "slide_type": "subslide"
    }
   },
   "source": [
    "## GMB dataset\n",
    "\n",
    "+ GMB = Groningen Meaning Bank\n",
    "+ https://www.kaggle.com/shoumikgoswami/annotated-gmb-corpus/\n"
   ]
  },
  {
   "cell_type": "code",
   "execution_count": 4,
   "metadata": {
    "scrolled": true,
    "slideshow": {
     "slide_type": "-"
    }
   },
   "outputs": [
    {
     "data": {
      "text/html": [
       "<div>\n",
       "<style scoped>\n",
       "    .dataframe tbody tr th:only-of-type {\n",
       "        vertical-align: middle;\n",
       "    }\n",
       "\n",
       "    .dataframe tbody tr th {\n",
       "        vertical-align: top;\n",
       "    }\n",
       "\n",
       "    .dataframe thead th {\n",
       "        text-align: right;\n",
       "    }\n",
       "</style>\n",
       "<table border=\"1\" class=\"dataframe\">\n",
       "  <thead>\n",
       "    <tr style=\"text-align: right;\">\n",
       "      <th></th>\n",
       "      <th>0</th>\n",
       "      <th>1</th>\n",
       "      <th>2</th>\n",
       "      <th>3</th>\n",
       "      <th>4</th>\n",
       "      <th>5</th>\n",
       "      <th>6</th>\n",
       "      <th>7</th>\n",
       "      <th>8</th>\n",
       "      <th>9</th>\n",
       "      <th>10</th>\n",
       "      <th>11</th>\n",
       "      <th>12</th>\n",
       "      <th>13</th>\n",
       "    </tr>\n",
       "  </thead>\n",
       "  <tbody>\n",
       "    <tr>\n",
       "      <td>0</td>\n",
       "      <td>They</td>\n",
       "      <td>marched</td>\n",
       "      <td>from</td>\n",
       "      <td>the</td>\n",
       "      <td>Houses</td>\n",
       "      <td>of</td>\n",
       "      <td>Parliament</td>\n",
       "      <td>to</td>\n",
       "      <td>a</td>\n",
       "      <td>rally</td>\n",
       "      <td>in</td>\n",
       "      <td>Hyde</td>\n",
       "      <td>Park</td>\n",
       "      <td>.</td>\n",
       "    </tr>\n",
       "    <tr>\n",
       "      <td>1</td>\n",
       "      <td>PRP</td>\n",
       "      <td>VBD</td>\n",
       "      <td>IN</td>\n",
       "      <td>DT</td>\n",
       "      <td>NNS</td>\n",
       "      <td>IN</td>\n",
       "      <td>NN</td>\n",
       "      <td>TO</td>\n",
       "      <td>DT</td>\n",
       "      <td>NN</td>\n",
       "      <td>IN</td>\n",
       "      <td>NNP</td>\n",
       "      <td>NNP</td>\n",
       "      <td>.</td>\n",
       "    </tr>\n",
       "  </tbody>\n",
       "</table>\n",
       "</div>"
      ],
      "text/plain": [
       "      0        1     2    3       4   5           6   7   8      9  10    11  \\\n",
       "0  They  marched  from  the  Houses  of  Parliament  to   a  rally  in  Hyde   \n",
       "1   PRP      VBD    IN   DT     NNS  IN          NN  TO  DT     NN  IN   NNP   \n",
       "\n",
       "     12 13  \n",
       "0  Park  .  \n",
       "1   NNP  .  "
      ]
     },
     "execution_count": 4,
     "metadata": {},
     "output_type": "execute_result"
    }
   ],
   "source": [
    "tokens, pos, ents = load_gmb_dataset('../data/gmb/GMB_dataset_utf8.txt')\n",
    "\n",
    "pd.DataFrame([tokens[2], pos[2]])"
   ]
  },
  {
   "cell_type": "code",
   "execution_count": 5,
   "metadata": {
    "scrolled": true,
    "slideshow": {
     "slide_type": "skip"
    }
   },
   "outputs": [],
   "source": [
    "examples = {}\n",
    "counts = Counter(tag for sent in pos for tag in sent)\n",
    "words = defaultdict(set)\n",
    "for x_s, y_s in zip(tokens, pos):\n",
    "    for i, (x, y) in enumerate(zip(x_s, y_s)):\n",
    "        if y not in examples or random() > 0.97:\n",
    "            examples[y] = [x_s[j] + \"/\" + y_s[j] if i == j else x_s[j] for j in range(max(i-1,0),min(i+2,len(x_s)))]\n",
    "        words[y].add(x)\n",
    "sorted_tags = sorted(counts.items(),key=lambda x:-x[1])\n",
    "sorted_tags_with_examples = [(t,c,len(words[t]),\" \".join(examples[t])) for t,c in sorted_tags]\n",
    "\n",
    "sorted_tags_table = pd.DataFrame(sorted_tags_with_examples, columns=['Tag','Count','Unique Tokens','Example'])"
   ]
  },
  {
   "cell_type": "code",
   "execution_count": 6,
   "metadata": {
    "scrolled": false,
    "slideshow": {
     "slide_type": "subslide"
    }
   },
   "outputs": [
    {
     "data": {
      "text/html": [
       "<div>\n",
       "<style scoped>\n",
       "    .dataframe tbody tr th:only-of-type {\n",
       "        vertical-align: middle;\n",
       "    }\n",
       "\n",
       "    .dataframe tbody tr th {\n",
       "        vertical-align: top;\n",
       "    }\n",
       "\n",
       "    .dataframe thead th {\n",
       "        text-align: right;\n",
       "    }\n",
       "</style>\n",
       "<table border=\"1\" class=\"dataframe\">\n",
       "  <thead>\n",
       "    <tr style=\"text-align: right;\">\n",
       "      <th></th>\n",
       "      <th>Tag</th>\n",
       "      <th>Count</th>\n",
       "      <th>Unique Tokens</th>\n",
       "      <th>Example</th>\n",
       "    </tr>\n",
       "  </thead>\n",
       "  <tbody>\n",
       "    <tr>\n",
       "      <td>0</td>\n",
       "      <td>NN</td>\n",
       "      <td>9307</td>\n",
       "      <td>2087</td>\n",
       "      <td>the capital/NN .</td>\n",
       "    </tr>\n",
       "    <tr>\n",
       "      <td>1</td>\n",
       "      <td>NNP</td>\n",
       "      <td>8189</td>\n",
       "      <td>2069</td>\n",
       "      <td>dictator Saddam/NNP Hussein</td>\n",
       "    </tr>\n",
       "    <tr>\n",
       "      <td>2</td>\n",
       "      <td>IN</td>\n",
       "      <td>7759</td>\n",
       "      <td>94</td>\n",
       "      <td>back in/IN custody</td>\n",
       "    </tr>\n",
       "    <tr>\n",
       "      <td>3</td>\n",
       "      <td>DT</td>\n",
       "      <td>6310</td>\n",
       "      <td>40</td>\n",
       "      <td>of the/DT stalemate</td>\n",
       "    </tr>\n",
       "    <tr>\n",
       "      <td>4</td>\n",
       "      <td>JJ</td>\n",
       "      <td>4875</td>\n",
       "      <td>1214</td>\n",
       "      <td>the war-shattered/JJ nation</td>\n",
       "    </tr>\n",
       "    <tr>\n",
       "      <td>5</td>\n",
       "      <td>NNS</td>\n",
       "      <td>4803</td>\n",
       "      <td>1102</td>\n",
       "      <td>after gunmen/NNS fired</td>\n",
       "    </tr>\n",
       "    <tr>\n",
       "      <td>6</td>\n",
       "      <td>.</td>\n",
       "      <td>2992</td>\n",
       "      <td>3</td>\n",
       "      <td>territory ./.</td>\n",
       "    </tr>\n",
       "    <tr>\n",
       "      <td>7</td>\n",
       "      <td>VBD</td>\n",
       "      <td>2429</td>\n",
       "      <td>470</td>\n",
       "      <td>which produced/VBD the</td>\n",
       "    </tr>\n",
       "    <tr>\n",
       "      <td>8</td>\n",
       "      <td>VBN</td>\n",
       "      <td>2060</td>\n",
       "      <td>588</td>\n",
       "      <td>be held/VBN May</td>\n",
       "    </tr>\n",
       "    <tr>\n",
       "      <td>9</td>\n",
       "      <td>,</td>\n",
       "      <td>1953</td>\n",
       "      <td>1</td>\n",
       "      <td>arthritis ,/, but</td>\n",
       "    </tr>\n",
       "  </tbody>\n",
       "</table>\n",
       "</div>"
      ],
      "text/plain": [
       "   Tag  Count  Unique Tokens                      Example\n",
       "0   NN   9307           2087             the capital/NN .\n",
       "1  NNP   8189           2069  dictator Saddam/NNP Hussein\n",
       "2   IN   7759             94           back in/IN custody\n",
       "3   DT   6310             40          of the/DT stalemate\n",
       "4   JJ   4875           1214  the war-shattered/JJ nation\n",
       "5  NNS   4803           1102       after gunmen/NNS fired\n",
       "6    .   2992              3                territory ./.\n",
       "7  VBD   2429            470       which produced/VBD the\n",
       "8  VBN   2060            588              be held/VBN May\n",
       "9    ,   1953              1            arthritis ,/, but"
      ]
     },
     "execution_count": 6,
     "metadata": {},
     "output_type": "execute_result"
    }
   ],
   "source": [
    "sorted_tags_table[:10]"
   ]
  },
  {
   "cell_type": "markdown",
   "metadata": {
    "slideshow": {
     "slide_type": "notes"
    }
   },
   "source": [
    "The Penn Treebank tagset has 45 tags in total."
   ]
  },
  {
   "cell_type": "markdown",
   "metadata": {
    "slideshow": {
     "slide_type": "slide"
    }
   },
   "source": [
    "## Sequence Labeling as Structured Prediction\n",
    "\n",
    "* Input Space $\\Xs$: sequences of items to label\n",
    "* Output Space $\\Ys$: sequences of output labels\n",
    "* Model: $s_{\\params}(\\x,\\y)$\n",
    "* Prediction: $\\argmax_\\y s_{\\params}(\\x,\\y)$"
   ]
  },
  {
   "cell_type": "markdown",
   "metadata": {
    "slideshow": {
     "slide_type": "subslide"
    }
   },
   "source": [
    "## Conditional Models\n",
    "Model probability distributions over label sequences $\\y$ conditioned on input sequences $\\x$\n",
    "\n",
    "$$\n",
    "s_{\\params}(\\x,\\y) = \\prob_\\params(\\y|\\x)\n",
    "$$ \n",
    "\n",
    "* Analogous to conditional models of [text classification](doc_classify_slides_short.ipynb) chapter"
   ]
  },
  {
   "cell_type": "markdown",
   "metadata": {
    "slideshow": {
     "slide_type": "subslide"
    }
   },
   "source": [
    "## Local Models / Classifiers\n",
    "A **fully factorised** or **local** model:\n",
    "\n",
    "$$\n",
    "p_\\params(\\y|\\x) = \\prod_{i=1}^n p_\\params(y_i|\\x,i)\n",
    "$$\n",
    "\n",
    "* Labels are independent of each other\n",
    "* Inference in this model is trivial"
   ]
  },
  {
   "cell_type": "markdown",
   "metadata": {
    "slideshow": {
     "slide_type": "subslide"
    }
   },
   "source": [
    "### Example\n",
    "\n",
    "$$\n",
    "\\prob_\\params(\\text{\"PRP MD VB\"} \\bar \\text{\"it will rain\"}) = \\\\\\\\ \\prob_\\params(\\text{\"PRP\"}\\bar \\text{\"it will rain\"},1) \\cdot \\prob_\\params(\\text{\"MD\"} \\bar \\text{\"it will rain\"},2) \\cdot \\prob_\\params(\\text{\"VB\"} \\bar \\text{\"it will rain\"},3)\n",
    "$$"
   ]
  },
  {
   "cell_type": "markdown",
   "metadata": {
    "slideshow": {
     "slide_type": "subslide"
    }
   },
   "source": [
    "### Parametrisation\n",
    "\n",
    "**Log-linear classifier** $p_\\params(y\\bar\\x,i)$ to predict class for sentence $\\x$ and position $i$\n",
    "\n",
    "$$\n",
    "  p_\\params(y\\bar\\x,i) = \\frac{1}{Z_\\x} \\exp \\langle \\repr(\\x,i),\\params_y \\rangle\n",
    "$$\n"
   ]
  },
  {
   "cell_type": "markdown",
   "metadata": {
    "slideshow": {
     "slide_type": "fragment"
    }
   },
   "source": [
    "+ $\\repr(\\x,i)$ is a **feature function**\n",
    "+ How far can we get with very simple features?"
   ]
  },
  {
   "cell_type": "markdown",
   "metadata": {
    "slideshow": {
     "slide_type": "subslide"
    }
   },
   "source": [
    "Bias:\n",
    "$$\n",
    "\\repr_0(\\x,i) = 1\n",
    "$$"
   ]
  },
  {
   "cell_type": "markdown",
   "metadata": {
    "slideshow": {
     "slide_type": "-"
    }
   },
   "source": [
    "Word at token to tag:\n",
    "$$\n",
    "\\repr_w(\\x,i) = \\begin{cases}1 \\text{ if }x_i=w \\\\\\\\ 0 \\text{ else} \\end{cases}\n",
    "$$"
   ]
  },
  {
   "cell_type": "code",
   "execution_count": 57,
   "metadata": {
    "scrolled": true,
    "slideshow": {
     "slide_type": "subslide"
    }
   },
   "outputs": [],
   "source": [
    "def feat_1(x,i):\n",
    "    return {\n",
    "        'bias': 1.0,  \n",
    "        'word:' + x[i]: 1.0,\n",
    "    }\n",
    "\n",
    "train = list(zip(tokens[:-200], pos[:-200]))\n",
    "dev = list(zip(tokens[-200:], pos[-200:]))\n",
    "\n",
    "local_1 = seq.LocalSequenceLabeler(feat_1, train, class_weight='balanced')"
   ]
  },
  {
   "cell_type": "markdown",
   "metadata": {
    "slideshow": {
     "slide_type": "subslide"
    }
   },
   "source": [
    "We can assess the accuracy of this model on the development set."
   ]
  },
  {
   "cell_type": "code",
   "execution_count": 58,
   "metadata": {
    "scrolled": true,
    "slideshow": {
     "slide_type": "-"
    }
   },
   "outputs": [
    {
     "data": {
      "text/plain": [
       "0.8797186400937866"
      ]
     },
     "execution_count": 58,
     "metadata": {},
     "output_type": "execute_result"
    }
   ],
   "source": [
    "seq.accuracy(dev, local_1.predict(dev))"
   ]
  },
  {
   "cell_type": "markdown",
   "metadata": {
    "slideshow": {
     "slide_type": "subslide"
    }
   },
   "source": [
    "### How to Improve?\n",
    "\n",
    "Look at **confusion matrix**"
   ]
  },
  {
   "cell_type": "code",
   "execution_count": 29,
   "metadata": {
    "slideshow": {
     "slide_type": "skip"
    }
   },
   "outputs": [],
   "source": [
    "import matplotlib.pyplot as plt\n",
    "plt.rcParams['figure.figsize'] = [7, 7]\n",
    "import matplotlib.pylab as plb\n",
    "plb.rcParams['figure.dpi'] = 120"
   ]
  },
  {
   "cell_type": "code",
   "execution_count": 30,
   "metadata": {
    "scrolled": false,
    "slideshow": {
     "slide_type": "subslide"
    }
   },
   "outputs": [
    {
     "data": {
      "image/png": "[encoded data removed]",
      "text/plain": [
       "<Figure size 840x840 with 2 Axes>"
      ]
     },
     "metadata": {
      "needs_background": "light"
     },
     "output_type": "display_data"
    }
   ],
   "source": [
    "seq.plot_confusion_matrix(dev, local_1.predict(dev), normalise=True)"
   ]
  },
  {
   "cell_type": "markdown",
   "metadata": {
    "slideshow": {
     "slide_type": "subslide"
    }
   },
   "source": [
    "Shows:\n",
    "\n",
    "* mostly strong diagonal (good predictions)\n",
    "* `NN` receives a lot of wrong counts, often confused with `NNP`"
   ]
  },
  {
   "cell_type": "code",
   "execution_count": 31,
   "metadata": {
    "scrolled": false,
    "slideshow": {
     "slide_type": "subslide"
    }
   },
   "outputs": [
    {
     "data": {
      "text/html": [
       "\n",
       "        <div id=\"c54066fe-dbc3-11e9-8f29-d0abd5bf43ed\" class=\"carousel\" data-ride=\"carousel\" data-interval=\"false\">\n",
       "          <!-- Controls -->\n",
       "          <a href=\"#c54066fe-dbc3-11e9-8f29-d0abd5bf43ed\" role=\"button2\" data-slide=\"prev\">Previous</a>\n",
       "          &nbsp;\n",
       "          <a  href=\"#c54066fe-dbc3-11e9-8f29-d0abd5bf43ed\" role=\"button2\" data-slide=\"next\">Next</a>\n",
       "          <div class=\"carousel-inner\" role=\"listbox\">\n",
       "          <div class=\"item active\"><table style=\"\"><tr><td>New</td><td>York</td><td>City</td><td><b>Mayor</b></td><td>Michael</td><td>Bloomberg</td><td>says</td><td>a</td></tr><tr><td>NNP</td><td>NNP</td><td>NNP</td><td><b>NNP</b></td><td>NNP</td><td>NNP</td><td>VBZ</td><td>DT</td></tr><tr><td>NNP</td><td>NNP</td><td>NNP</td><td><b>NN</b></td><td>NNP</td><td>NNP</td><td>VBZ</td><td>DT</td></tr></table>\n",
       "        <table>\n",
       "          <tr><td>bias</td><td>word:Mayor</td></tr>\n",
       "          <tr><td>1.0</td><td>1.0</td></tr>\n",
       "          <tr><td>-2.97</td><td>0.00</td></tr>\n",
       "          <tr><td>-2.96</td><td>0.00</td></tr>\n",
       "        </table> 1 / 114</div>\n",
       "<div class=\"item\"><table style=\"\"><tr><td>Union</td><td>head</td><td>Roger</td><td><b>Toussaint</b></td><td>calls</td><td>the</td><td>dispute</td><td>a</td></tr><tr><td>NN</td><td>NN</td><td>NNP</td><td><b>NNP</b></td><td>VBZ</td><td>DT</td><td>NN</td><td>DT</td></tr><tr><td>NNP</td><td>NN</td><td>NNP</td><td><b>NN</b></td><td>VBZ</td><td>DT</td><td>NN</td><td>DT</td></tr></table>\n",
       "        <table>\n",
       "          <tr><td>bias</td><td>word:Toussaint</td></tr>\n",
       "          <tr><td>1.0</td><td>1.0</td></tr>\n",
       "          <tr><td>-2.97</td><td>0.00</td></tr>\n",
       "          <tr><td>-2.96</td><td>0.00</td></tr>\n",
       "        </table> 2 / 114</div>\n",
       "<div class=\"item\"><table style=\"\"><tr><td>treatment</td><td>for</td><td>children</td><td>living</td><td>with</td><td><b>H.I.V.</b></td><td>and</td><td>AIDS</td><td>.</td></tr><tr><td>NN</td><td>IN</td><td>NNS</td><td>VBG</td><td>IN</td><td><b>NNP</b></td><td>CC</td><td>NNP</td><td>.</td></tr><tr><td>NN</td><td>IN</td><td>NNS</td><td>VBG</td><td>IN</td><td><b>NN</b></td><td>CC</td><td>NNP</td><td>.</td></tr></table>\n",
       "        <table>\n",
       "          <tr><td>bias</td><td>word:H.I.V.</td></tr>\n",
       "          <tr><td>1.0</td><td>1.0</td></tr>\n",
       "          <tr><td>-2.97</td><td>0.00</td></tr>\n",
       "          <tr><td>-2.96</td><td>0.00</td></tr>\n",
       "        </table> 3 / 114</div>\n",
       "<div class=\"item\"><table style=\"\"><tr><td>Clinton</td><td>and</td><td>Cambodian</td><td>Prime</td><td>Minister</td><td><b>Hun</b></td><td>Sen</td><td>signed</td><td>the</td><td>deal</td></tr><tr><td>NNP</td><td>CC</td><td>JJ</td><td>NNP</td><td>NNP</td><td><b>NNP</b></td><td>NNP</td><td>VBD</td><td>DT</td><td>NN</td></tr><tr><td>NNP</td><td>CC</td><td>JJ</td><td>NNP</td><td>NNP</td><td><b>NN</b></td><td>NN</td><td>VBN</td><td>DT</td><td>NN</td></tr></table>\n",
       "        <table>\n",
       "          <tr><td>bias</td><td>word:Hun</td></tr>\n",
       "          <tr><td>1.0</td><td>1.0</td></tr>\n",
       "          <tr><td>-2.97</td><td>0.00</td></tr>\n",
       "          <tr><td>-2.96</td><td>0.00</td></tr>\n",
       "        </table> 4 / 114</div>\n",
       "<div class=\"item\"><table style=\"\"><tr><td>and</td><td>Cambodian</td><td>Prime</td><td>Minister</td><td>Hun</td><td><b>Sen</b></td><td>signed</td><td>the</td><td>deal</td><td>Monday</td></tr><tr><td>CC</td><td>JJ</td><td>NNP</td><td>NNP</td><td>NNP</td><td><b>NNP</b></td><td>VBD</td><td>DT</td><td>NN</td><td>NNP</td></tr><tr><td>CC</td><td>JJ</td><td>NNP</td><td>NNP</td><td>NN</td><td><b>NN</b></td><td>VBN</td><td>DT</td><td>NN</td><td>NNP</td></tr></table>\n",
       "        <table>\n",
       "          <tr><td>bias</td><td>word:Sen</td></tr>\n",
       "          <tr><td>1.0</td><td>1.0</td></tr>\n",
       "          <tr><td>-2.97</td><td>0.00</td></tr>\n",
       "          <tr><td>-2.96</td><td>0.00</td></tr>\n",
       "        </table> 5 / 114</div>\n",
       "<div class=\"item\"><table style=\"\"><tr><td>Monday</td><td>in</td><td>the</td><td>capital</td><td>,</td><td><b>Phnom</b></td><td>Penh</td><td>.</td></tr><tr><td>NNP</td><td>IN</td><td>DT</td><td>NN</td><td>,</td><td><b>NNP</b></td><td>NNP</td><td>.</td></tr><tr><td>NNP</td><td>IN</td><td>DT</td><td>NN</td><td>,</td><td><b>NN</b></td><td>NN</td><td>.</td></tr></table>\n",
       "        <table>\n",
       "          <tr><td>bias</td><td>word:Phnom</td></tr>\n",
       "          <tr><td>1.0</td><td>1.0</td></tr>\n",
       "          <tr><td>-2.97</td><td>0.00</td></tr>\n",
       "          <tr><td>-2.96</td><td>0.00</td></tr>\n",
       "        </table> 6 / 114</div>\n",
       "<div class=\"item\"><table style=\"\"><tr><td>in</td><td>the</td><td>capital</td><td>,</td><td>Phnom</td><td><b>Penh</b></td><td>.</td></tr><tr><td>IN</td><td>DT</td><td>NN</td><td>,</td><td>NNP</td><td><b>NNP</b></td><td>.</td></tr><tr><td>IN</td><td>DT</td><td>NN</td><td>,</td><td>NN</td><td><b>NN</b></td><td>.</td></tr></table>\n",
       "        <table>\n",
       "          <tr><td>bias</td><td>word:Penh</td></tr>\n",
       "          <tr><td>1.0</td><td>1.0</td></tr>\n",
       "          <tr><td>-2.97</td><td>0.00</td></tr>\n",
       "          <tr><td>-2.96</td><td>0.00</td></tr>\n",
       "        </table> 7 / 114</div>\n",
       "<div class=\"item\"><table style=\"\"><tr><td>The</td><td>former</td><td>president</td><td>is</td><td>in</td><td><b>Cambodia</b></td><td>to</td><td>tour</td><td>AIDS-related</td><td>projects</td></tr><tr><td>DT</td><td>JJ</td><td>NN</td><td>VBZ</td><td>IN</td><td><b>NNP</b></td><td>TO</td><td>VB</td><td>JJ</td><td>NNS</td></tr><tr><td>DT</td><td>JJ</td><td>NN</td><td>VBZ</td><td>IN</td><td><b>NN</b></td><td>TO</td><td>NN</td><td>NN</td><td>NNS</td></tr></table>\n",
       "        <table>\n",
       "          <tr><td>bias</td><td>word:Cambodia</td></tr>\n",
       "          <tr><td>1.0</td><td>1.0</td></tr>\n",
       "          <tr><td>-2.97</td><td>0.00</td></tr>\n",
       "          <tr><td>-2.96</td><td>0.00</td></tr>\n",
       "        </table> 8 / 114</div>\n",
       "<div class=\"item\"><table style=\"\"><tr><td>development</td><td>group</td><td>,</td><td>the</td><td>Clinton</td><td><b>Foundation</b></td><td>H.I.V./AIDS</td><td>Initiative</td><td>.</td></tr><tr><td>NN</td><td>NN</td><td>,</td><td>DT</td><td>NNP</td><td><b>NNP</b></td><td>NNP</td><td>NNP</td><td>.</td></tr><tr><td>NN</td><td>NN</td><td>,</td><td>DT</td><td>NNP</td><td><b>NN</b></td><td>NN</td><td>NN</td><td>.</td></tr></table>\n",
       "        <table>\n",
       "          <tr><td>bias</td><td>word:Foundation</td></tr>\n",
       "          <tr><td>1.0</td><td>1.0</td></tr>\n",
       "          <tr><td>-2.97</td><td>0.00</td></tr>\n",
       "          <tr><td>-2.96</td><td>0.00</td></tr>\n",
       "        </table> 9 / 114</div>\n",
       "<div class=\"item\"><table style=\"\"><tr><td>group</td><td>,</td><td>the</td><td>Clinton</td><td>Foundation</td><td><b>H.I.V./AIDS</b></td><td>Initiative</td><td>.</td></tr><tr><td>NN</td><td>,</td><td>DT</td><td>NNP</td><td>NNP</td><td><b>NNP</b></td><td>NNP</td><td>.</td></tr><tr><td>NN</td><td>,</td><td>DT</td><td>NNP</td><td>NN</td><td><b>NN</b></td><td>NN</td><td>.</td></tr></table>\n",
       "        <table>\n",
       "          <tr><td>bias</td><td>word:H.I.V./AIDS</td></tr>\n",
       "          <tr><td>1.0</td><td>1.0</td></tr>\n",
       "          <tr><td>-2.97</td><td>0.00</td></tr>\n",
       "          <tr><td>-2.96</td><td>0.00</td></tr>\n",
       "        </table> 10 / 114</div>\n",
       "<div class=\"item\"><table style=\"\"><tr><td>,</td><td>the</td><td>Clinton</td><td>Foundation</td><td>H.I.V./AIDS</td><td><b>Initiative</b></td><td>.</td></tr><tr><td>,</td><td>DT</td><td>NNP</td><td>NNP</td><td>NNP</td><td><b>NNP</b></td><td>.</td></tr><tr><td>,</td><td>DT</td><td>NNP</td><td>NN</td><td>NN</td><td><b>NN</b></td><td>.</td></tr></table>\n",
       "        <table>\n",
       "          <tr><td>bias</td><td>word:Initiative</td></tr>\n",
       "          <tr><td>1.0</td><td>1.0</td></tr>\n",
       "          <tr><td>-2.97</td><td>0.00</td></tr>\n",
       "          <tr><td>-2.96</td><td>0.00</td></tr>\n",
       "        </table> 11 / 114</div>\n",
       "<div class=\"item\"><table style=\"\"><tr><td>steadfast</td><td>\"</td><td>efforts</td><td>to</td><td>fight</td><td><b>H.I.V</b></td><td>.</td><td>He</td><td>said</td><td>there</td></tr><tr><td>JJS</td><td>``</td><td>NNS</td><td>TO</td><td>VB</td><td><b>NNP</b></td><td>.</td><td>PRP</td><td>VBD</td><td>EX</td></tr><tr><td>NN</td><td>``</td><td>NNS</td><td>TO</td><td>VB</td><td><b>NN</b></td><td>.</td><td>PRP</td><td>VBD</td><td>EX</td></tr></table>\n",
       "        <table>\n",
       "          <tr><td>bias</td><td>word:H.I.V</td></tr>\n",
       "          <tr><td>1.0</td><td>1.0</td></tr>\n",
       "          <tr><td>-2.97</td><td>0.00</td></tr>\n",
       "          <tr><td>-2.96</td><td>0.00</td></tr>\n",
       "        </table> 12 / 114</div>\n",
       "<div class=\"item\"><table style=\"\"><tr><td>He</td><td>said</td><td>there</td><td>is</td><td>hope</td><td><b>Cambodia</b></td><td>can</td><td>be</td><td>a</td><td>model</td></tr><tr><td>PRP</td><td>VBD</td><td>EX</td><td>VBZ</td><td>NN</td><td><b>NNP</b></td><td>MD</td><td>VB</td><td>DT</td><td>NN</td></tr><tr><td>PRP</td><td>VBD</td><td>EX</td><td>VBZ</td><td>VBP</td><td><b>NN</b></td><td>MD</td><td>VB</td><td>DT</td><td>NN</td></tr></table>\n",
       "        <table>\n",
       "          <tr><td>bias</td><td>word:Cambodia</td></tr>\n",
       "          <tr><td>1.0</td><td>1.0</td></tr>\n",
       "          <tr><td>-2.97</td><td>0.00</td></tr>\n",
       "          <tr><td>-2.96</td><td>0.00</td></tr>\n",
       "        </table> 13 / 114</div>\n",
       "<div class=\"item\"><table style=\"\"><tr><td><b>Cambodia</b></td><td>has</td><td>reduced</td><td>adult</td><td>infection</td></tr><tr><td><b>NNP</b></td><td>VBZ</td><td>VBN</td><td>NN</td><td>NN</td></tr><tr><td><b>NN</b></td><td>VBZ</td><td>VBD</td><td>NN</td><td>NN</td></tr></table>\n",
       "        <table>\n",
       "          <tr><td>bias</td><td>word:Cambodia</td></tr>\n",
       "          <tr><td>1.0</td><td>1.0</td></tr>\n",
       "          <tr><td>-2.97</td><td>0.00</td></tr>\n",
       "          <tr><td>-2.96</td><td>0.00</td></tr>\n",
       "        </table> 14 / 114</div>\n",
       "<div class=\"item\"><table style=\"\"><tr><td>Prime</td><td>Minister</td><td><b>Hun</b></td><td>Sen</td><td>says</td><td>Mr.</td><td>Clinton</td></tr><tr><td>NNP</td><td>NNP</td><td><b>NNP</b></td><td>NNP</td><td>VBZ</td><td>NNP</td><td>NNP</td></tr><tr><td>NNP</td><td>NNP</td><td><b>NN</b></td><td>NN</td><td>VBZ</td><td>NNP</td><td>NNP</td></tr></table>\n",
       "        <table>\n",
       "          <tr><td>bias</td><td>word:Hun</td></tr>\n",
       "          <tr><td>1.0</td><td>1.0</td></tr>\n",
       "          <tr><td>-2.97</td><td>0.00</td></tr>\n",
       "          <tr><td>-2.96</td><td>0.00</td></tr>\n",
       "        </table> 15 / 114</div>\n",
       "<div class=\"item\"><table style=\"\"><tr><td>Prime</td><td>Minister</td><td>Hun</td><td><b>Sen</b></td><td>says</td><td>Mr.</td><td>Clinton</td><td>'s</td></tr><tr><td>NNP</td><td>NNP</td><td>NNP</td><td><b>NNP</b></td><td>VBZ</td><td>NNP</td><td>NNP</td><td>POS</td></tr><tr><td>NNP</td><td>NNP</td><td>NN</td><td><b>NN</b></td><td>VBZ</td><td>NNP</td><td>NNP</td><td>POS</td></tr></table>\n",
       "        <table>\n",
       "          <tr><td>bias</td><td>word:Sen</td></tr>\n",
       "          <tr><td>1.0</td><td>1.0</td></tr>\n",
       "          <tr><td>-2.97</td><td>0.00</td></tr>\n",
       "          <tr><td>-2.96</td><td>0.00</td></tr>\n",
       "        </table> 16 / 114</div>\n",
       "<div class=\"item\"><table style=\"\"><tr><td>visit</td><td>will</td><td>raise</td><td>awareness</td><td>about</td><td><b>H.I.V.</b></td><td>and</td><td>help</td><td>prevent</td><td>discrimination</td></tr><tr><td>NN</td><td>MD</td><td>VB</td><td>NN</td><td>IN</td><td><b>NNP</b></td><td>CC</td><td>VB</td><td>VB</td><td>NN</td></tr><tr><td>VB</td><td>MD</td><td>VB</td><td>NN</td><td>IN</td><td><b>NN</b></td><td>CC</td><td>VB</td><td>VB</td><td>NN</td></tr></table>\n",
       "        <table>\n",
       "          <tr><td>bias</td><td>word:H.I.V.</td></tr>\n",
       "          <tr><td>1.0</td><td>1.0</td></tr>\n",
       "          <tr><td>-2.97</td><td>0.00</td></tr>\n",
       "          <tr><td>-2.96</td><td>0.00</td></tr>\n",
       "        </table> 17 / 114</div>\n",
       "<div class=\"item\"><table style=\"\"><tr><td>Ali</td><td><b>Muse</b></td><td>,</td><td>who</td><td>is</td><td>head</td></tr><tr><td>NNP</td><td><b>NNP</b></td><td>,</td><td>WP</td><td>VBZ</td><td>NN</td></tr><tr><td>NNP</td><td><b>NN</b></td><td>,</td><td>WP</td><td>VBZ</td><td>NN</td></tr></table>\n",
       "        <table>\n",
       "          <tr><td>bias</td><td>word:Muse</td></tr>\n",
       "          <tr><td>1.0</td><td>1.0</td></tr>\n",
       "          <tr><td>-2.97</td><td>0.00</td></tr>\n",
       "          <tr><td>-2.96</td><td>0.00</td></tr>\n",
       "        </table> 18 / 114</div>\n",
       "<div class=\"item\"><table style=\"\"><tr><td>in</td><td>the</td><td>city</td><td>'s</td><td>busy</td><td><b>Bakara</b></td><td>market</td><td>.</td></tr><tr><td>IN</td><td>DT</td><td>NN</td><td>POS</td><td>JJ</td><td><b>NNP</b></td><td>NN</td><td>.</td></tr><tr><td>IN</td><td>DT</td><td>NN</td><td>POS</td><td>JJ</td><td><b>NN</b></td><td>NN</td><td>.</td></tr></table>\n",
       "        <table>\n",
       "          <tr><td>bias</td><td>word:Bakara</td></tr>\n",
       "          <tr><td>1.0</td><td>1.0</td></tr>\n",
       "          <tr><td>-2.97</td><td>0.00</td></tr>\n",
       "          <tr><td>-2.96</td><td>0.00</td></tr>\n",
       "        </table> 19 / 114</div>\n",
       "<div class=\"item\"><table style=\"\"><tr><td>The</td><td>founder</td><td>of</td><td><b>Microsoft</b></td><td>,</td><td>Bill</td><td>Gates</td><td>,</td></tr><tr><td>DT</td><td>NN</td><td>IN</td><td><b>NNP</b></td><td>,</td><td>NNP</td><td>NNP</td><td>,</td></tr><tr><td>DT</td><td>NN</td><td>IN</td><td><b>NN</b></td><td>,</td><td>NNP</td><td>NNP</td><td>,</td></tr></table>\n",
       "        <table>\n",
       "          <tr><td>bias</td><td>word:Microsoft</td></tr>\n",
       "          <tr><td>1.0</td><td>1.0</td></tr>\n",
       "          <tr><td>-2.97</td><td>0.00</td></tr>\n",
       "          <tr><td>-2.96</td><td>0.00</td></tr>\n",
       "        </table> 20 / 114</div>\n",
       "<div class=\"item\"><table style=\"\"><tr><td>and</td><td>pushed</td><td>through</td><td>crowds</td><td>at</td><td><b>Hanoi</b></td><td>University</td><td>Saturday</td><td>,</td><td>where</td></tr><tr><td>CC</td><td>VBD</td><td>IN</td><td>NNS</td><td>IN</td><td><b>NNP</b></td><td>NNP</td><td>NNP</td><td>,</td><td>WRB</td></tr><tr><td>CC</td><td>VBN</td><td>IN</td><td>NN</td><td>IN</td><td><b>NN</b></td><td>NNP</td><td>NNP</td><td>,</td><td>WRB</td></tr></table>\n",
       "        <table>\n",
       "          <tr><td>bias</td><td>word:Hanoi</td></tr>\n",
       "          <tr><td>1.0</td><td>1.0</td></tr>\n",
       "          <tr><td>-2.97</td><td>0.00</td></tr>\n",
       "          <tr><td>-2.96</td><td>0.00</td></tr>\n",
       "        </table> 21 / 114</div>\n",
       "<div class=\"item\"><table style=\"\"><tr><td>,</td><td>Gates</td><td>met</td><td>Prime</td><td>Minister</td><td><b>Phan</b></td><td>Van</td><td>Khai</td><td>and</td><td>President</td></tr><tr><td>,</td><td>NNP</td><td>VBD</td><td>NNP</td><td>NNP</td><td><b>NNP</b></td><td>NNP</td><td>NNP</td><td>CC</td><td>NNP</td></tr><tr><td>,</td><td>NNP</td><td>VBD</td><td>NNP</td><td>NNP</td><td><b>NN</b></td><td>NNP</td><td>NN</td><td>CC</td><td>NNP</td></tr></table>\n",
       "        <table>\n",
       "          <tr><td>bias</td><td>word:Phan</td></tr>\n",
       "          <tr><td>1.0</td><td>1.0</td></tr>\n",
       "          <tr><td>-2.97</td><td>0.00</td></tr>\n",
       "          <tr><td>-2.96</td><td>0.00</td></tr>\n",
       "        </table> 22 / 114</div>\n",
       "<div class=\"item\"><table style=\"\"><tr><td>met</td><td>Prime</td><td>Minister</td><td>Phan</td><td>Van</td><td><b>Khai</b></td><td>and</td><td>President</td><td>Tran</td><td>Duc</td></tr><tr><td>VBD</td><td>NNP</td><td>NNP</td><td>NNP</td><td>NNP</td><td><b>NNP</b></td><td>CC</td><td>NNP</td><td>NNP</td><td>NNP</td></tr><tr><td>VBD</td><td>NNP</td><td>NNP</td><td>NN</td><td>NNP</td><td><b>NN</b></td><td>CC</td><td>NNP</td><td>NN</td><td>NN</td></tr></table>\n",
       "        <table>\n",
       "          <tr><td>bias</td><td>word:Khai</td></tr>\n",
       "          <tr><td>1.0</td><td>1.0</td></tr>\n",
       "          <tr><td>-2.97</td><td>0.00</td></tr>\n",
       "          <tr><td>-2.96</td><td>0.00</td></tr>\n",
       "        </table> 23 / 114</div>\n",
       "<div class=\"item\"><table style=\"\"><tr><td>Phan</td><td>Van</td><td>Khai</td><td>and</td><td>President</td><td><b>Tran</b></td><td>Duc</td><td>Luong</td><td>,</td><td>who</td></tr><tr><td>NNP</td><td>NNP</td><td>NNP</td><td>CC</td><td>NNP</td><td><b>NNP</b></td><td>NNP</td><td>NNP</td><td>,</td><td>WP</td></tr><tr><td>NN</td><td>NNP</td><td>NN</td><td>CC</td><td>NNP</td><td><b>NN</b></td><td>NN</td><td>NN</td><td>,</td><td>WP</td></tr></table>\n",
       "        <table>\n",
       "          <tr><td>bias</td><td>word:Tran</td></tr>\n",
       "          <tr><td>1.0</td><td>1.0</td></tr>\n",
       "          <tr><td>-2.97</td><td>0.00</td></tr>\n",
       "          <tr><td>-2.96</td><td>0.00</td></tr>\n",
       "        </table> 24 / 114</div>\n",
       "<div class=\"item\"><table style=\"\"><tr><td>Van</td><td>Khai</td><td>and</td><td>President</td><td>Tran</td><td><b>Duc</b></td><td>Luong</td><td>,</td><td>who</td><td>both</td></tr><tr><td>NNP</td><td>NNP</td><td>CC</td><td>NNP</td><td>NNP</td><td><b>NNP</b></td><td>NNP</td><td>,</td><td>WP</td><td>DT</td></tr><tr><td>NNP</td><td>NN</td><td>CC</td><td>NNP</td><td>NN</td><td><b>NN</b></td><td>NN</td><td>,</td><td>WP</td><td>DT</td></tr></table>\n",
       "        <table>\n",
       "          <tr><td>bias</td><td>word:Duc</td></tr>\n",
       "          <tr><td>1.0</td><td>1.0</td></tr>\n",
       "          <tr><td>-2.97</td><td>0.00</td></tr>\n",
       "          <tr><td>-2.96</td><td>0.00</td></tr>\n",
       "        </table> 25 / 114</div>\n",
       "<div class=\"item\"><table style=\"\"><tr><td>Khai</td><td>and</td><td>President</td><td>Tran</td><td>Duc</td><td><b>Luong</b></td><td>,</td><td>who</td><td>both</td><td>took</td></tr><tr><td>NNP</td><td>CC</td><td>NNP</td><td>NNP</td><td>NNP</td><td><b>NNP</b></td><td>,</td><td>WP</td><td>DT</td><td>VBD</td></tr><tr><td>NN</td><td>CC</td><td>NNP</td><td>NN</td><td>NN</td><td><b>NN</b></td><td>,</td><td>WP</td><td>DT</td><td>VBD</td></tr></table>\n",
       "        <table>\n",
       "          <tr><td>bias</td><td>word:Luong</td></tr>\n",
       "          <tr><td>1.0</td><td>1.0</td></tr>\n",
       "          <tr><td>-2.97</td><td>0.00</td></tr>\n",
       "          <tr><td>-2.96</td><td>0.00</td></tr>\n",
       "        </table> 26 / 114</div>\n",
       "<div class=\"item\"><table style=\"\"><tr><td>signed</td><td>an</td><td>agreement</td><td>to</td><td>use</td><td><b>Microsoft</b></td><td>software</td><td>in</td><td>Vietnam</td><td>'s</td></tr><tr><td>VBD</td><td>DT</td><td>NN</td><td>TO</td><td>VB</td><td><b>NNP</b></td><td>NN</td><td>IN</td><td>NNP</td><td>POS</td></tr><tr><td>VBN</td><td>DT</td><td>NN</td><td>TO</td><td>VB</td><td><b>NN</b></td><td>NN</td><td>IN</td><td>NNP</td><td>POS</td></tr></table>\n",
       "        <table>\n",
       "          <tr><td>bias</td><td>word:Microsoft</td></tr>\n",
       "          <tr><td>1.0</td><td>1.0</td></tr>\n",
       "          <tr><td>-2.97</td><td>0.00</td></tr>\n",
       "          <tr><td>-2.96</td><td>0.00</td></tr>\n",
       "        </table> 27 / 114</div>\n",
       "<div class=\"item\"><table style=\"\"><tr><td>Gates</td><td>'</td><td>trip</td><td>to</td><td><b>Hanoi</b></td><td>is</td><td>seen</td><td>as</td><td>another</td></tr><tr><td>NNP</td><td>POS</td><td>NN</td><td>TO</td><td><b>NNP</b></td><td>VBZ</td><td>VBN</td><td>IN</td><td>DT</td></tr><tr><td>NNP</td><td>POS</td><td>NN</td><td>TO</td><td><b>NN</b></td><td>VBZ</td><td>VBN</td><td>IN</td><td>DT</td></tr></table>\n",
       "        <table>\n",
       "          <tr><td>bias</td><td>word:Hanoi</td></tr>\n",
       "          <tr><td>1.0</td><td>1.0</td></tr>\n",
       "          <tr><td>-2.97</td><td>0.00</td></tr>\n",
       "          <tr><td>-2.96</td><td>0.00</td></tr>\n",
       "        </table> 28 / 114</div>\n",
       "<div class=\"item\"><table style=\"\"><tr><td>tech</td><td>deal</td><td>when</td><td>leading</td><td>chipmaker</td><td><b>Intel</b></td><td>Corporation</td><td>announced</td><td>it</td><td>was</td></tr><tr><td>NN</td><td>NN</td><td>WRB</td><td>VBG</td><td>NN</td><td><b>NNP</b></td><td>NNP</td><td>VBD</td><td>PRP</td><td>VBD</td></tr><tr><td>NN</td><td>NN</td><td>WRB</td><td>VBG</td><td>NN</td><td><b>NN</b></td><td>NNP</td><td>VBD</td><td>PRP</td><td>VBD</td></tr></table>\n",
       "        <table>\n",
       "          <tr><td>bias</td><td>word:Intel</td></tr>\n",
       "          <tr><td>1.0</td><td>1.0</td></tr>\n",
       "          <tr><td>-2.97</td><td>0.00</td></tr>\n",
       "          <tr><td>-2.96</td><td>0.00</td></tr>\n",
       "        </table> 29 / 114</div>\n",
       "<div class=\"item\"><table style=\"\"><tr><td><b>Kandani</b></td><td>Ngwira</td><td>,</td><td>who</td><td>works</td></tr><tr><td><b>NNP</b></td><td>NNP</td><td>,</td><td>WP</td><td>VBZ</td></tr><tr><td><b>NN</b></td><td>NN</td><td>,</td><td>WP</td><td>VBZ</td></tr></table>\n",
       "        <table>\n",
       "          <tr><td>bias</td><td>word:Kandani</td></tr>\n",
       "          <tr><td>1.0</td><td>1.0</td></tr>\n",
       "          <tr><td>-2.97</td><td>0.00</td></tr>\n",
       "          <tr><td>-2.96</td><td>0.00</td></tr>\n",
       "        </table> 30 / 114</div>\n",
       "<div class=\"item\"><table style=\"\"><tr><td>Kandani</td><td><b>Ngwira</b></td><td>,</td><td>who</td><td>works</td><td>for</td></tr><tr><td>NNP</td><td><b>NNP</b></td><td>,</td><td>WP</td><td>VBZ</td><td>IN</td></tr><tr><td>NN</td><td><b>NN</b></td><td>,</td><td>WP</td><td>VBZ</td><td>IN</td></tr></table>\n",
       "        <table>\n",
       "          <tr><td>bias</td><td>word:Ngwira</td></tr>\n",
       "          <tr><td>1.0</td><td>1.0</td></tr>\n",
       "          <tr><td>-2.97</td><td>0.00</td></tr>\n",
       "          <tr><td>-2.96</td><td>0.00</td></tr>\n",
       "        </table> 31 / 114</div>\n",
       "<div class=\"item\"><table style=\"\"><tr><td>A</td><td><b>Malawi</b></td><td>journalist</td><td>who</td><td>works</td><td>for</td></tr><tr><td>DT</td><td><b>NNP</b></td><td>NN</td><td>WP</td><td>VBZ</td><td>IN</td></tr><tr><td>DT</td><td><b>NN</b></td><td>NN</td><td>WP</td><td>VBZ</td><td>IN</td></tr></table>\n",
       "        <table>\n",
       "          <tr><td>bias</td><td>word:Malawi</td></tr>\n",
       "          <tr><td>1.0</td><td>1.0</td></tr>\n",
       "          <tr><td>-2.97</td><td>0.00</td></tr>\n",
       "          <tr><td>-2.96</td><td>0.00</td></tr>\n",
       "        </table> 32 / 114</div>\n",
       "<div class=\"item\"><table style=\"\"><tr><td><b>Kandani</b></td><td>Ngwira</td><td>contacted</td><td>media</td><td>outlets</td></tr><tr><td><b>NNP</b></td><td>NNP</td><td>VBD</td><td>NNS</td><td>NNS</td></tr><tr><td><b>NN</b></td><td>NN</td><td>VBN</td><td>NNS</td><td>NNS</td></tr></table>\n",
       "        <table>\n",
       "          <tr><td>bias</td><td>word:Kandani</td></tr>\n",
       "          <tr><td>1.0</td><td>1.0</td></tr>\n",
       "          <tr><td>-2.97</td><td>0.00</td></tr>\n",
       "          <tr><td>-2.96</td><td>0.00</td></tr>\n",
       "        </table> 33 / 114</div>\n",
       "<div class=\"item\"><table style=\"\"><tr><td>Kandani</td><td><b>Ngwira</b></td><td>contacted</td><td>media</td><td>outlets</td><td>on</td></tr><tr><td>NNP</td><td><b>NNP</b></td><td>VBD</td><td>NNS</td><td>NNS</td><td>IN</td></tr><tr><td>NN</td><td><b>NN</b></td><td>VBN</td><td>NNS</td><td>NNS</td><td>IN</td></tr></table>\n",
       "        <table>\n",
       "          <tr><td>bias</td><td>word:Ngwira</td></tr>\n",
       "          <tr><td>1.0</td><td>1.0</td></tr>\n",
       "          <tr><td>-2.97</td><td>0.00</td></tr>\n",
       "          <tr><td>-2.96</td><td>0.00</td></tr>\n",
       "        </table> 34 / 114</div>\n",
       "<div class=\"item\"><table style=\"\"><tr><td><b>Ngwira</b></td><td>works</td><td>for</td><td>the</td><td>Weekly</td></tr><tr><td><b>NNP</b></td><td>VBZ</td><td>IN</td><td>DT</td><td>NNP</td></tr><tr><td><b>NN</b></td><td>VBZ</td><td>IN</td><td>DT</td><td>NN</td></tr></table>\n",
       "        <table>\n",
       "          <tr><td>bias</td><td>word:Ngwira</td></tr>\n",
       "          <tr><td>1.0</td><td>1.0</td></tr>\n",
       "          <tr><td>-2.97</td><td>0.00</td></tr>\n",
       "          <tr><td>-2.96</td><td>0.00</td></tr>\n",
       "        </table> 35 / 114</div>\n",
       "<div class=\"item\"><table style=\"\"><tr><td>Ngwira</td><td>works</td><td>for</td><td>the</td><td><b>Weekly</b></td><td>Times</td><td>,</td><td>a</td><td>newspaper</td></tr><tr><td>NNP</td><td>VBZ</td><td>IN</td><td>DT</td><td><b>NNP</b></td><td>NNP</td><td>,</td><td>DT</td><td>NN</td></tr><tr><td>NN</td><td>VBZ</td><td>IN</td><td>DT</td><td><b>NN</b></td><td>NNP</td><td>,</td><td>DT</td><td>NN</td></tr></table>\n",
       "        <table>\n",
       "          <tr><td>bias</td><td>word:Weekly</td></tr>\n",
       "          <tr><td>1.0</td><td>1.0</td></tr>\n",
       "          <tr><td>-2.97</td><td>0.00</td></tr>\n",
       "          <tr><td>-2.96</td><td>0.00</td></tr>\n",
       "        </table> 36 / 114</div>\n",
       "<div class=\"item\"><table style=\"\"><tr><td>National</td><td>police</td><td>spokesman</td><td>,</td><td><b>Willy</b></td><td>Mwaluka</td><td>,</td><td>says</td><td>he</td></tr><tr><td>JJ</td><td>NN</td><td>NN</td><td>,</td><td><b>NNP</b></td><td>NNP</td><td>,</td><td>VBZ</td><td>PRP</td></tr><tr><td>NNP</td><td>NNS</td><td>NN</td><td>,</td><td><b>NN</b></td><td>NN</td><td>,</td><td>VBZ</td><td>PRP</td></tr></table>\n",
       "        <table>\n",
       "          <tr><td>bias</td><td>word:Willy</td></tr>\n",
       "          <tr><td>1.0</td><td>1.0</td></tr>\n",
       "          <tr><td>-2.97</td><td>0.00</td></tr>\n",
       "          <tr><td>-2.96</td><td>0.00</td></tr>\n",
       "        </table> 37 / 114</div>\n",
       "<div class=\"item\"><table style=\"\"><tr><td>National</td><td>police</td><td>spokesman</td><td>,</td><td>Willy</td><td><b>Mwaluka</b></td><td>,</td><td>says</td><td>he</td><td>had</td></tr><tr><td>JJ</td><td>NN</td><td>NN</td><td>,</td><td>NNP</td><td><b>NNP</b></td><td>,</td><td>VBZ</td><td>PRP</td><td>VBD</td></tr><tr><td>NNP</td><td>NNS</td><td>NN</td><td>,</td><td>NN</td><td><b>NN</b></td><td>,</td><td>VBZ</td><td>PRP</td><td>VBD</td></tr></table>\n",
       "        <table>\n",
       "          <tr><td>bias</td><td>word:Mwaluka</td></tr>\n",
       "          <tr><td>1.0</td><td>1.0</td></tr>\n",
       "          <tr><td>-2.97</td><td>0.00</td></tr>\n",
       "          <tr><td>-2.96</td><td>0.00</td></tr>\n",
       "        </table> 38 / 114</div>\n",
       "<div class=\"item\"><table style=\"\"><tr><td>he</td><td>had</td><td>no</td><td>information</td><td>about</td><td><b>Ngwira</b></td><td>'s</td><td>detention</td><td>.</td></tr><tr><td>PRP</td><td>VBD</td><td>DT</td><td>NN</td><td>IN</td><td><b>NNP</b></td><td>POS</td><td>NN</td><td>.</td></tr><tr><td>PRP</td><td>VBD</td><td>DT</td><td>NN</td><td>IN</td><td><b>NN</b></td><td>POS</td><td>NN</td><td>.</td></tr></table>\n",
       "        <table>\n",
       "          <tr><td>bias</td><td>word:Ngwira</td></tr>\n",
       "          <tr><td>1.0</td><td>1.0</td></tr>\n",
       "          <tr><td>-2.97</td><td>0.00</td></tr>\n",
       "          <tr><td>-2.96</td><td>0.00</td></tr>\n",
       "        </table> 39 / 114</div>\n",
       "<div class=\"item\"><table style=\"\"><tr><td>says</td><td>he</td><td>was</td><td>arrested</td><td>in</td><td><b>Blantyre</b></td><td>and</td><td>transported</td><td>to</td><td>the</td></tr><tr><td>VBZ</td><td>PRP</td><td>VBD</td><td>VBN</td><td>IN</td><td><b>NNP</b></td><td>CC</td><td>VBN</td><td>TO</td><td>DT</td></tr><tr><td>VBZ</td><td>PRP</td><td>VBD</td><td>VBN</td><td>IN</td><td><b>NN</b></td><td>CC</td><td>VBN</td><td>TO</td><td>DT</td></tr></table>\n",
       "        <table>\n",
       "          <tr><td>bias</td><td>word:Blantyre</td></tr>\n",
       "          <tr><td>1.0</td><td>1.0</td></tr>\n",
       "          <tr><td>-2.97</td><td>0.00</td></tr>\n",
       "          <tr><td>-2.96</td><td>0.00</td></tr>\n",
       "        </table> 40 / 114</div>\n",
       "<div class=\"item\"><table style=\"\"><tr><td>transported</td><td>to</td><td>the</td><td>capital</td><td>,</td><td><b>Lilongwe</b></td><td>.</td></tr><tr><td>VBN</td><td>TO</td><td>DT</td><td>NN</td><td>,</td><td><b>NNP</b></td><td>.</td></tr><tr><td>VBN</td><td>TO</td><td>DT</td><td>NN</td><td>,</td><td><b>NN</b></td><td>.</td></tr></table>\n",
       "        <table>\n",
       "          <tr><td>bias</td><td>word:Lilongwe</td></tr>\n",
       "          <tr><td>1.0</td><td>1.0</td></tr>\n",
       "          <tr><td>-2.97</td><td>0.00</td></tr>\n",
       "          <tr><td>-2.96</td><td>0.00</td></tr>\n",
       "        </table> 41 / 114</div>\n",
       "<div class=\"item\"><table style=\"\"><tr><td><b>Blantyre</b></td><td>Newspapers</td><td>Limited</td><td>,</td><td>which</td></tr><tr><td><b>NNP</b></td><td>NNP</td><td>NNP</td><td>,</td><td>WDT</td></tr><tr><td><b>NN</b></td><td>NN</td><td>NN</td><td>,</td><td>WDT</td></tr></table>\n",
       "        <table>\n",
       "          <tr><td>bias</td><td>word:Blantyre</td></tr>\n",
       "          <tr><td>1.0</td><td>1.0</td></tr>\n",
       "          <tr><td>-2.97</td><td>0.00</td></tr>\n",
       "          <tr><td>-2.96</td><td>0.00</td></tr>\n",
       "        </table> 42 / 114</div>\n",
       "<div class=\"item\"><table style=\"\"><tr><td>Blantyre</td><td><b>Newspapers</b></td><td>Limited</td><td>,</td><td>which</td><td>owns</td></tr><tr><td>NNP</td><td><b>NNP</b></td><td>NNP</td><td>,</td><td>WDT</td><td>VBZ</td></tr><tr><td>NN</td><td><b>NN</b></td><td>NN</td><td>,</td><td>WDT</td><td>NN</td></tr></table>\n",
       "        <table>\n",
       "          <tr><td>bias</td><td>word:Newspapers</td></tr>\n",
       "          <tr><td>1.0</td><td>1.0</td></tr>\n",
       "          <tr><td>-2.97</td><td>0.00</td></tr>\n",
       "          <tr><td>-2.96</td><td>0.00</td></tr>\n",
       "        </table> 43 / 114</div>\n",
       "<div class=\"item\"><table style=\"\"><tr><td>Blantyre</td><td>Newspapers</td><td><b>Limited</b></td><td>,</td><td>which</td><td>owns</td><td>the</td></tr><tr><td>NNP</td><td>NNP</td><td><b>NNP</b></td><td>,</td><td>WDT</td><td>VBZ</td><td>DT</td></tr><tr><td>NN</td><td>NN</td><td><b>NN</b></td><td>,</td><td>WDT</td><td>NN</td><td>DT</td></tr></table>\n",
       "        <table>\n",
       "          <tr><td>bias</td><td>word:Limited</td></tr>\n",
       "          <tr><td>1.0</td><td>1.0</td></tr>\n",
       "          <tr><td>-2.97</td><td>0.00</td></tr>\n",
       "          <tr><td>-2.96</td><td>0.00</td></tr>\n",
       "        </table> 44 / 114</div>\n",
       "<div class=\"item\"><table style=\"\"><tr><td>Limited</td><td>,</td><td>which</td><td>owns</td><td>the</td><td><b>Weekly</b></td><td>Times</td><td>says</td><td>it</td><td>is</td></tr><tr><td>NNP</td><td>,</td><td>WDT</td><td>VBZ</td><td>DT</td><td><b>NNP</b></td><td>NNP</td><td>VBZ</td><td>PRP</td><td>VBZ</td></tr><tr><td>NN</td><td>,</td><td>WDT</td><td>NN</td><td>DT</td><td><b>NN</b></td><td>NNP</td><td>VBZ</td><td>PRP</td><td>VBZ</td></tr></table>\n",
       "        <table>\n",
       "          <tr><td>bias</td><td>word:Weekly</td></tr>\n",
       "          <tr><td>1.0</td><td>1.0</td></tr>\n",
       "          <tr><td>-2.97</td><td>0.00</td></tr>\n",
       "          <tr><td>-2.96</td><td>0.00</td></tr>\n",
       "        </table> 45 / 114</div>\n",
       "<div class=\"item\"><table style=\"\"><tr><td>is</td><td>providing</td><td>a</td><td>lawyer</td><td>for</td><td><b>Ngwira</b></td><td>.</td></tr><tr><td>VBZ</td><td>VBG</td><td>DT</td><td>NN</td><td>IN</td><td><b>NNP</b></td><td>.</td></tr><tr><td>VBZ</td><td>VBG</td><td>DT</td><td>NN</td><td>IN</td><td><b>NN</b></td><td>.</td></tr></table>\n",
       "        <table>\n",
       "          <tr><td>bias</td><td>word:Ngwira</td></tr>\n",
       "          <tr><td>1.0</td><td>1.0</td></tr>\n",
       "          <tr><td>-2.97</td><td>0.00</td></tr>\n",
       "          <tr><td>-2.96</td><td>0.00</td></tr>\n",
       "        </table> 46 / 114</div>\n",
       "<div class=\"item\"><table style=\"\"><tr><td><b>Eurozone</b></td><td>industrial</td><td>output</td><td>fell</td><td>17</td></tr><tr><td><b>NNP</b></td><td>JJ</td><td>NN</td><td>VBD</td><td>CD</td></tr><tr><td><b>NN</b></td><td>JJ</td><td>NN</td><td>VBD</td><td>CD</td></tr></table>\n",
       "        <table>\n",
       "          <tr><td>bias</td><td>word:Eurozone</td></tr>\n",
       "          <tr><td>1.0</td><td>1.0</td></tr>\n",
       "          <tr><td>-2.97</td><td>0.00</td></tr>\n",
       "          <tr><td>-2.96</td><td>0.00</td></tr>\n",
       "        </table> 47 / 114</div>\n",
       "<div class=\"item\"><table style=\"\"><tr><td><b>Job</b></td><td>cuts</td><td>and</td><td>a</td><td>shorter</td></tr><tr><td><b>NNP</b></td><td>NNS</td><td>CC</td><td>DT</td><td>JJR</td></tr><tr><td><b>NN</b></td><td>NNS</td><td>CC</td><td>DT</td><td>NN</td></tr></table>\n",
       "        <table>\n",
       "          <tr><td>bias</td><td>word:Job</td></tr>\n",
       "          <tr><td>1.0</td><td>1.0</td></tr>\n",
       "          <tr><td>-2.97</td><td>0.00</td></tr>\n",
       "          <tr><td>-2.96</td><td>0.00</td></tr>\n",
       "        </table> 48 / 114</div>\n",
       "<div class=\"item\"><table style=\"\"><tr><td>Alexei</td><td><b>Alexeyenko</b></td><td>said</td><td>Sunday</td><td>the</td><td>section</td></tr><tr><td>NNP</td><td><b>NNP</b></td><td>VBD</td><td>NNP</td><td>DT</td><td>NN</td></tr><tr><td>NNP</td><td><b>NN</b></td><td>VBD</td><td>NNP</td><td>DT</td><td>NN</td></tr></table>\n",
       "        <table>\n",
       "          <tr><td>bias</td><td>word:Alexeyenko</td></tr>\n",
       "          <tr><td>1.0</td><td>1.0</td></tr>\n",
       "          <tr><td>-2.97</td><td>0.00</td></tr>\n",
       "          <tr><td>-2.96</td><td>0.00</td></tr>\n",
       "        </table> 49 / 114</div>\n",
       "<div class=\"item\"><table style=\"\"><tr><td>'s</td><td>chief</td><td>veterinary</td><td>official</td><td>,</td><td><b>Valery</b></td><td>Sitnikov</td><td>,</td><td>said</td><td>bio-terrorism</td></tr><tr><td>POS</td><td>NN</td><td>JJ</td><td>NN</td><td>,</td><td><b>NNP</b></td><td>NNP</td><td>,</td><td>VBD</td><td>NN</td></tr><tr><td>POS</td><td>NN</td><td>NN</td><td>JJ</td><td>,</td><td><b>NN</b></td><td>NN</td><td>,</td><td>VBD</td><td>NN</td></tr></table>\n",
       "        <table>\n",
       "          <tr><td>bias</td><td>word:Valery</td></tr>\n",
       "          <tr><td>1.0</td><td>1.0</td></tr>\n",
       "          <tr><td>-2.97</td><td>0.00</td></tr>\n",
       "          <tr><td>-2.96</td><td>0.00</td></tr>\n",
       "        </table> 50 / 114</div>\n",
       "<div class=\"item\"><table style=\"\"><tr><td>chief</td><td>veterinary</td><td>official</td><td>,</td><td>Valery</td><td><b>Sitnikov</b></td><td>,</td><td>said</td><td>bio-terrorism</td><td>can</td></tr><tr><td>NN</td><td>JJ</td><td>NN</td><td>,</td><td>NNP</td><td><b>NNP</b></td><td>,</td><td>VBD</td><td>NN</td><td>MD</td></tr><tr><td>NN</td><td>NN</td><td>JJ</td><td>,</td><td>NN</td><td><b>NN</b></td><td>,</td><td>VBD</td><td>NN</td><td>MD</td></tr></table>\n",
       "        <table>\n",
       "          <tr><td>bias</td><td>word:Sitnikov</td></tr>\n",
       "          <tr><td>1.0</td><td>1.0</td></tr>\n",
       "          <tr><td>-2.97</td><td>0.00</td></tr>\n",
       "          <tr><td>-2.96</td><td>0.00</td></tr>\n",
       "        </table> 51 / 114</div>\n",
       "<div class=\"item\"><table style=\"\"><tr><td>'s</td><td>Deputy</td><td>Foreign</td><td>Minister</td><td>,</td><td><b>Choe</b></td><td>Su</td><td>Hon</td><td>,</td><td>said</td></tr><tr><td>POS</td><td>NNP</td><td>NNP</td><td>NNP</td><td>,</td><td><b>NNP</b></td><td>NNP</td><td>NNP</td><td>,</td><td>VBD</td></tr><tr><td>POS</td><td>NNP</td><td>NNP</td><td>NNP</td><td>,</td><td><b>NN</b></td><td>NN</td><td>NN</td><td>,</td><td>VBD</td></tr></table>\n",
       "        <table>\n",
       "          <tr><td>bias</td><td>word:Choe</td></tr>\n",
       "          <tr><td>1.0</td><td>1.0</td></tr>\n",
       "          <tr><td>-2.97</td><td>0.00</td></tr>\n",
       "          <tr><td>-2.96</td><td>0.00</td></tr>\n",
       "        </table> 52 / 114</div>\n",
       "<div class=\"item\"><table style=\"\"><tr><td>Deputy</td><td>Foreign</td><td>Minister</td><td>,</td><td>Choe</td><td><b>Su</b></td><td>Hon</td><td>,</td><td>said</td><td>Pyongyang</td></tr><tr><td>NNP</td><td>NNP</td><td>NNP</td><td>,</td><td>NNP</td><td><b>NNP</b></td><td>NNP</td><td>,</td><td>VBD</td><td>NNP</td></tr><tr><td>NNP</td><td>NNP</td><td>NNP</td><td>,</td><td>NN</td><td><b>NN</b></td><td>NN</td><td>,</td><td>VBD</td><td>NNP</td></tr></table>\n",
       "        <table>\n",
       "          <tr><td>bias</td><td>word:Su</td></tr>\n",
       "          <tr><td>1.0</td><td>1.0</td></tr>\n",
       "          <tr><td>-2.97</td><td>0.00</td></tr>\n",
       "          <tr><td>-2.96</td><td>0.00</td></tr>\n",
       "        </table> 53 / 114</div>\n",
       "<div class=\"item\"><table style=\"\"><tr><td>Foreign</td><td>Minister</td><td>,</td><td>Choe</td><td>Su</td><td><b>Hon</b></td><td>,</td><td>said</td><td>Pyongyang</td><td>would</td></tr><tr><td>NNP</td><td>NNP</td><td>,</td><td>NNP</td><td>NNP</td><td><b>NNP</b></td><td>,</td><td>VBD</td><td>NNP</td><td>MD</td></tr><tr><td>NNP</td><td>NNP</td><td>,</td><td>NN</td><td>NN</td><td><b>NN</b></td><td>,</td><td>VBD</td><td>NNP</td><td>MD</td></tr></table>\n",
       "        <table>\n",
       "          <tr><td>bias</td><td>word:Hon</td></tr>\n",
       "          <tr><td>1.0</td><td>1.0</td></tr>\n",
       "          <tr><td>-2.97</td><td>0.00</td></tr>\n",
       "          <tr><td>-2.96</td><td>0.00</td></tr>\n",
       "        </table> 54 / 114</div>\n",
       "<div class=\"item\"><table style=\"\"><tr><td>Meanwhile</td><td>,</td><td>Japan</td><td>'s</td><td><b>Kyodo</b></td><td>news</td><td>agency</td><td>reports</td><td>Pyongyang</td></tr><tr><td>RB</td><td>,</td><td>NNP</td><td>POS</td><td><b>NNP</b></td><td>NN</td><td>NN</td><td>VBP</td><td>NNP</td></tr><tr><td>RB</td><td>,</td><td>NNP</td><td>POS</td><td><b>NN</b></td><td>NN</td><td>NN</td><td>VBZ</td><td>NNP</td></tr></table>\n",
       "        <table>\n",
       "          <tr><td>bias</td><td>word:Kyodo</td></tr>\n",
       "          <tr><td>1.0</td><td>1.0</td></tr>\n",
       "          <tr><td>-2.97</td><td>0.00</td></tr>\n",
       "          <tr><td>-2.96</td><td>0.00</td></tr>\n",
       "        </table> 55 / 114</div>\n",
       "<div class=\"item\"><table style=\"\"><tr><td>Tuesday</td><td>,</td><td>while</td><td>California</td><td>Governor</td><td><b>Arnold</b></td><td>Schwarzenegger</td><td>considers</td><td>granting</td><td>clemency</td></tr><tr><td>NNP</td><td>,</td><td>IN</td><td>NNP</td><td>NNP</td><td><b>NNP</b></td><td>NNP</td><td>VBZ</td><td>VBG</td><td>NN</td></tr><tr><td>NNP</td><td>,</td><td>IN</td><td>NNP</td><td>NNP</td><td><b>NN</b></td><td>NN</td><td>NN</td><td>NN</td><td>NN</td></tr></table>\n",
       "        <table>\n",
       "          <tr><td>bias</td><td>word:Arnold</td></tr>\n",
       "          <tr><td>1.0</td><td>1.0</td></tr>\n",
       "          <tr><td>-2.97</td><td>0.00</td></tr>\n",
       "          <tr><td>-2.96</td><td>0.00</td></tr>\n",
       "        </table> 56 / 114</div>\n",
       "<div class=\"item\"><table style=\"\"><tr><td>,</td><td>while</td><td>California</td><td>Governor</td><td>Arnold</td><td><b>Schwarzenegger</b></td><td>considers</td><td>granting</td><td>clemency</td><td>.</td></tr><tr><td>,</td><td>IN</td><td>NNP</td><td>NNP</td><td>NNP</td><td><b>NNP</b></td><td>VBZ</td><td>VBG</td><td>NN</td><td>.</td></tr><tr><td>,</td><td>IN</td><td>NNP</td><td>NNP</td><td>NN</td><td><b>NN</b></td><td>NN</td><td>NN</td><td>NN</td><td>.</td></tr></table>\n",
       "        <table>\n",
       "          <tr><td>bias</td><td>word:Schwarzenegger</td></tr>\n",
       "          <tr><td>1.0</td><td>1.0</td></tr>\n",
       "          <tr><td>-2.97</td><td>0.00</td></tr>\n",
       "          <tr><td>-2.96</td><td>0.00</td></tr>\n",
       "        </table> 57 / 114</div>\n",
       "<div class=\"item\"><table style=\"\"><tr><td><b>Stanley</b></td><td>\"</td><td>Tookie</td><td>\"</td><td>Williams</td></tr><tr><td><b>NNP</b></td><td>``</td><td>NNP</td><td>``</td><td>NNP</td></tr><tr><td><b>NN</b></td><td>``</td><td>NN</td><td>``</td><td>NNP</td></tr></table>\n",
       "        <table>\n",
       "          <tr><td>bias</td><td>word:Stanley</td></tr>\n",
       "          <tr><td>1.0</td><td>1.0</td></tr>\n",
       "          <tr><td>-2.97</td><td>0.00</td></tr>\n",
       "          <tr><td>-2.96</td><td>0.00</td></tr>\n",
       "        </table> 58 / 114</div>\n",
       "<div class=\"item\"><table style=\"\"><tr><td>Stanley</td><td>\"</td><td><b>Tookie</b></td><td>\"</td><td>Williams</td><td>has</td><td>been</td></tr><tr><td>NNP</td><td>``</td><td><b>NNP</b></td><td>``</td><td>NNP</td><td>VBZ</td><td>VBN</td></tr><tr><td>NN</td><td>``</td><td><b>NN</b></td><td>``</td><td>NNP</td><td>VBZ</td><td>VBN</td></tr></table>\n",
       "        <table>\n",
       "          <tr><td>bias</td><td>word:Tookie</td></tr>\n",
       "          <tr><td>1.0</td><td>1.0</td></tr>\n",
       "          <tr><td>-2.97</td><td>0.00</td></tr>\n",
       "          <tr><td>-2.96</td><td>0.00</td></tr>\n",
       "        </table> 59 / 114</div>\n",
       "<div class=\"item\"><table style=\"\"><tr><td>the</td><td>co-founder</td><td>of</td><td>the</td><td>infamous</td><td><b>Crips</b></td><td>street</td><td>gang</td><td>.</td></tr><tr><td>DT</td><td>NN</td><td>IN</td><td>DT</td><td>JJ</td><td><b>NNP</b></td><td>NN</td><td>NN</td><td>.</td></tr><tr><td>DT</td><td>NN</td><td>IN</td><td>DT</td><td>NN</td><td><b>NN</b></td><td>NN</td><td>NN</td><td>.</td></tr></table>\n",
       "        <table>\n",
       "          <tr><td>bias</td><td>word:Crips</td></tr>\n",
       "          <tr><td>1.0</td><td>1.0</td></tr>\n",
       "          <tr><td>-2.97</td><td>0.00</td></tr>\n",
       "          <tr><td>-2.96</td><td>0.00</td></tr>\n",
       "        </table> 60 / 114</div>\n",
       "<div class=\"item\"><table style=\"\"><tr><td>Mr.</td><td><b>Schwarzenegger</b></td><td>'s</td><td>decision</td><td>on</td><td>clemency</td></tr><tr><td>NNP</td><td><b>NNP</b></td><td>POS</td><td>NN</td><td>IN</td><td>NN</td></tr><tr><td>NNP</td><td><b>NN</b></td><td>POS</td><td>NN</td><td>IN</td><td>NN</td></tr></table>\n",
       "        <table>\n",
       "          <tr><td>bias</td><td>word:Schwarzenegger</td></tr>\n",
       "          <tr><td>1.0</td><td>1.0</td></tr>\n",
       "          <tr><td>-2.97</td><td>0.00</td></tr>\n",
       "          <tr><td>-2.96</td><td>0.00</td></tr>\n",
       "        </table> 61 / 114</div>\n",
       "<div class=\"item\"><table style=\"\"><tr><td>Former</td><td>foreign</td><td>minister</td><td>Ibrahim</td><td><b>Yazdi</b></td><td>also</td><td>signed</td><td>up</td><td>for</td></tr><tr><td>JJ</td><td>JJ</td><td>NN</td><td>NNP</td><td><b>NNP</b></td><td>RB</td><td>VBD</td><td>RP</td><td>IN</td></tr><tr><td>JJ</td><td>JJ</td><td>NN</td><td>NNP</td><td><b>NN</b></td><td>RB</td><td>VBN</td><td>RP</td><td>IN</td></tr></table>\n",
       "        <table>\n",
       "          <tr><td>bias</td><td>word:Yazdi</td></tr>\n",
       "          <tr><td>1.0</td><td>1.0</td></tr>\n",
       "          <tr><td>-2.97</td><td>0.00</td></tr>\n",
       "          <tr><td>-2.96</td><td>0.00</td></tr>\n",
       "        </table> 62 / 114</div>\n",
       "<div class=\"item\"><table style=\"\"><tr><td>elect</td><td>a</td><td>successor</td><td>to</td><td>President</td><td><b>Mohammad</b></td><td>Khatami</td><td>.</td></tr><tr><td>VB</td><td>DT</td><td>NN</td><td>TO</td><td>NNP</td><td><b>NNP</b></td><td>NNP</td><td>.</td></tr><tr><td>VB</td><td>DT</td><td>NN</td><td>TO</td><td>NNP</td><td><b>NN</b></td><td>NNP</td><td>.</td></tr></table>\n",
       "        <table>\n",
       "          <tr><td>bias</td><td>word:Mohammad</td></tr>\n",
       "          <tr><td>1.0</td><td>1.0</td></tr>\n",
       "          <tr><td>-2.97</td><td>0.00</td></tr>\n",
       "          <tr><td>-2.96</td><td>0.00</td></tr>\n",
       "        </table> 63 / 114</div>\n",
       "<div class=\"item\"><table style=\"\"><tr><td>them</td><td>highly</td><td>favored</td><td>two-time</td><td>president</td><td><b>Akbar</b></td><td>Hashemi</td><td>Rafsanjani</td><td>.</td></tr><tr><td>PRP</td><td>RB</td><td>JJ</td><td>JJ</td><td>NN</td><td><b>NNP</b></td><td>NNP</td><td>NNP</td><td>.</td></tr><tr><td>PRP</td><td>RB</td><td>NN</td><td>NN</td><td>NN</td><td><b>NN</b></td><td>NN</td><td>NN</td><td>.</td></tr></table>\n",
       "        <table>\n",
       "          <tr><td>bias</td><td>word:Akbar</td></tr>\n",
       "          <tr><td>1.0</td><td>1.0</td></tr>\n",
       "          <tr><td>-2.97</td><td>0.00</td></tr>\n",
       "          <tr><td>-2.96</td><td>0.00</td></tr>\n",
       "        </table> 64 / 114</div>\n",
       "<div class=\"item\"><table style=\"\"><tr><td>highly</td><td>favored</td><td>two-time</td><td>president</td><td>Akbar</td><td><b>Hashemi</b></td><td>Rafsanjani</td><td>.</td></tr><tr><td>RB</td><td>JJ</td><td>JJ</td><td>NN</td><td>NNP</td><td><b>NNP</b></td><td>NNP</td><td>.</td></tr><tr><td>RB</td><td>NN</td><td>NN</td><td>NN</td><td>NN</td><td><b>NN</b></td><td>NN</td><td>.</td></tr></table>\n",
       "        <table>\n",
       "          <tr><td>bias</td><td>word:Hashemi</td></tr>\n",
       "          <tr><td>1.0</td><td>1.0</td></tr>\n",
       "          <tr><td>-2.97</td><td>0.00</td></tr>\n",
       "          <tr><td>-2.96</td><td>0.00</td></tr>\n",
       "        </table> 65 / 114</div>\n",
       "<div class=\"item\"><table style=\"\"><tr><td>favored</td><td>two-time</td><td>president</td><td>Akbar</td><td>Hashemi</td><td><b>Rafsanjani</b></td><td>.</td></tr><tr><td>JJ</td><td>JJ</td><td>NN</td><td>NNP</td><td>NNP</td><td><b>NNP</b></td><td>.</td></tr><tr><td>NN</td><td>NN</td><td>NN</td><td>NN</td><td>NN</td><td><b>NN</b></td><td>.</td></tr></table>\n",
       "        <table>\n",
       "          <tr><td>bias</td><td>word:Rafsanjani</td></tr>\n",
       "          <tr><td>1.0</td><td>1.0</td></tr>\n",
       "          <tr><td>-2.97</td><td>0.00</td></tr>\n",
       "          <tr><td>-2.96</td><td>0.00</td></tr>\n",
       "        </table> 66 / 114</div>\n",
       "<div class=\"item\"><table style=\"\"><tr><td>of</td><td>the</td><td>national</td><td>police</td><td>,</td><td><b>Bager</b></td><td>Qalibaf</td><td>,</td><td>and</td><td>the</td></tr><tr><td>IN</td><td>DT</td><td>JJ</td><td>NN</td><td>,</td><td><b>NNP</b></td><td>NNP</td><td>,</td><td>CC</td><td>DT</td></tr><tr><td>IN</td><td>DT</td><td>JJ</td><td>NNS</td><td>,</td><td><b>NN</b></td><td>NN</td><td>,</td><td>CC</td><td>DT</td></tr></table>\n",
       "        <table>\n",
       "          <tr><td>bias</td><td>word:Bager</td></tr>\n",
       "          <tr><td>1.0</td><td>1.0</td></tr>\n",
       "          <tr><td>-2.97</td><td>0.00</td></tr>\n",
       "          <tr><td>-2.96</td><td>0.00</td></tr>\n",
       "        </table> 67 / 114</div>\n",
       "<div class=\"item\"><table style=\"\"><tr><td>the</td><td>national</td><td>police</td><td>,</td><td>Bager</td><td><b>Qalibaf</b></td><td>,</td><td>and</td><td>the</td><td>mayor</td></tr><tr><td>DT</td><td>JJ</td><td>NN</td><td>,</td><td>NNP</td><td><b>NNP</b></td><td>,</td><td>CC</td><td>DT</td><td>NN</td></tr><tr><td>DT</td><td>JJ</td><td>NNS</td><td>,</td><td>NN</td><td><b>NN</b></td><td>,</td><td>CC</td><td>DT</td><td>NN</td></tr></table>\n",
       "        <table>\n",
       "          <tr><td>bias</td><td>word:Qalibaf</td></tr>\n",
       "          <tr><td>1.0</td><td>1.0</td></tr>\n",
       "          <tr><td>-2.97</td><td>0.00</td></tr>\n",
       "          <tr><td>-2.96</td><td>0.00</td></tr>\n",
       "        </table> 68 / 114</div>\n",
       "<div class=\"item\"><table style=\"\"><tr><td>in</td><td>Beirut</td><td>Tuesday</td><td>,</td><td>Hassan</td><td><b>Nasrallah</b></td><td>accused</td><td>Mr.</td><td>Bush</td><td>and</td></tr><tr><td>IN</td><td>NNP</td><td>NNP</td><td>,</td><td>NNP</td><td><b>NNP</b></td><td>VBD</td><td>NNP</td><td>NNP</td><td>CC</td></tr><tr><td>IN</td><td>NNP</td><td>NNP</td><td>,</td><td>NNP</td><td><b>NN</b></td><td>VBN</td><td>NNP</td><td>NNP</td><td>CC</td></tr></table>\n",
       "        <table>\n",
       "          <tr><td>bias</td><td>word:Nasrallah</td></tr>\n",
       "          <tr><td>1.0</td><td>1.0</td></tr>\n",
       "          <tr><td>-2.97</td><td>0.00</td></tr>\n",
       "          <tr><td>-2.96</td><td>0.00</td></tr>\n",
       "        </table> 69 / 114</div>\n",
       "<div class=\"item\"><table style=\"\"><tr><td>of</td><td>a</td><td>security</td><td>conference</td><td>in</td><td><b>Munich</b></td><td>,</td><td>Mr.</td><td>Annan</td><td>said</td></tr><tr><td>IN</td><td>DT</td><td>NN</td><td>NN</td><td>IN</td><td><b>NNP</b></td><td>,</td><td>NNP</td><td>NNP</td><td>VBD</td></tr><tr><td>IN</td><td>DT</td><td>NN</td><td>NN</td><td>IN</td><td><b>NN</b></td><td>,</td><td>NNP</td><td>NNP</td><td>VBD</td></tr></table>\n",
       "        <table>\n",
       "          <tr><td>bias</td><td>word:Munich</td></tr>\n",
       "          <tr><td>1.0</td><td>1.0</td></tr>\n",
       "          <tr><td>-2.97</td><td>0.00</td></tr>\n",
       "          <tr><td>-2.96</td><td>0.00</td></tr>\n",
       "        </table> 70 / 114</div>\n",
       "<div class=\"item\"><table style=\"\"><tr><td>VOA</td><td>'s</td><td><b>Melinda</b></td><td>Smith</td><td>has</td><td>details</td><td>of</td></tr><tr><td>NNP</td><td>POS</td><td><b>NNP</b></td><td>NNP</td><td>VBZ</td><td>NNS</td><td>IN</td></tr><tr><td>NNP</td><td>POS</td><td><b>NN</b></td><td>NN</td><td>VBZ</td><td>NNS</td><td>IN</td></tr></table>\n",
       "        <table>\n",
       "          <tr><td>bias</td><td>word:Melinda</td></tr>\n",
       "          <tr><td>1.0</td><td>1.0</td></tr>\n",
       "          <tr><td>-2.97</td><td>0.00</td></tr>\n",
       "          <tr><td>-2.96</td><td>0.00</td></tr>\n",
       "        </table> 71 / 114</div>\n",
       "<div class=\"item\"><table style=\"\"><tr><td>VOA</td><td>'s</td><td>Melinda</td><td><b>Smith</b></td><td>has</td><td>details</td><td>of</td><td>a</td></tr><tr><td>NNP</td><td>POS</td><td>NNP</td><td><b>NNP</b></td><td>VBZ</td><td>NNS</td><td>IN</td><td>DT</td></tr><tr><td>NNP</td><td>POS</td><td>NN</td><td><b>NN</b></td><td>VBZ</td><td>NNS</td><td>IN</td><td>DT</td></tr></table>\n",
       "        <table>\n",
       "          <tr><td>bias</td><td>word:Smith</td></tr>\n",
       "          <tr><td>1.0</td><td>1.0</td></tr>\n",
       "          <tr><td>-2.97</td><td>0.00</td></tr>\n",
       "          <tr><td>-2.96</td><td>0.00</td></tr>\n",
       "        </table> 72 / 114</div>\n",
       "<div class=\"item\"><table style=\"\"><tr><td>16</td><td>prisoners</td><td>were</td><td>killed</td><td>at</td><td><b>Uribana</b></td><td>prison</td><td>when</td><td>rival</td><td>gangs</td></tr><tr><td>CD</td><td>NNS</td><td>VBD</td><td>VBN</td><td>IN</td><td><b>NNP</b></td><td>NN</td><td>WRB</td><td>JJ</td><td>NNS</td></tr><tr><td>CD</td><td>NNS</td><td>VBD</td><td>VBN</td><td>IN</td><td><b>NN</b></td><td>NN</td><td>WRB</td><td>JJ</td><td>NNS</td></tr></table>\n",
       "        <table>\n",
       "          <tr><td>bias</td><td>word:Uribana</td></tr>\n",
       "          <tr><td>1.0</td><td>1.0</td></tr>\n",
       "          <tr><td>-2.97</td><td>0.00</td></tr>\n",
       "          <tr><td>-2.96</td><td>0.00</td></tr>\n",
       "        </table> 73 / 114</div>\n",
       "<div class=\"item\"><table style=\"\"><tr><td>Jack</td><td><b>Hooper</b></td><td>,</td><td>the</td><td>deputy</td><td>director</td></tr><tr><td>NNP</td><td><b>NNP</b></td><td>,</td><td>DT</td><td>NN</td><td>NN</td></tr><tr><td>NNP</td><td><b>NN</b></td><td>,</td><td>DT</td><td>NN</td><td>NN</td></tr></table>\n",
       "        <table>\n",
       "          <tr><td>bias</td><td>word:Hooper</td></tr>\n",
       "          <tr><td>1.0</td><td>1.0</td></tr>\n",
       "          <tr><td>-2.97</td><td>0.00</td></tr>\n",
       "          <tr><td>-2.96</td><td>0.00</td></tr>\n",
       "        </table> 74 / 114</div>\n",
       "<div class=\"item\"><table style=\"\"><tr><td>of</td><td>the</td><td>Canadian</td><td>Security</td><td>Intelligence</td><td><b>Service</b></td><td>,</td><td>spoke</td><td>Monday</td><td>in</td></tr><tr><td>IN</td><td>DT</td><td>NNP</td><td>NNP</td><td>NNP</td><td><b>NNP</b></td><td>,</td><td>VBD</td><td>NNP</td><td>IN</td></tr><tr><td>IN</td><td>DT</td><td>JJ</td><td>NNP</td><td>NNP</td><td><b>NN</b></td><td>,</td><td>VBD</td><td>NNP</td><td>IN</td></tr></table>\n",
       "        <table>\n",
       "          <tr><td>bias</td><td>word:Service</td></tr>\n",
       "          <tr><td>1.0</td><td>1.0</td></tr>\n",
       "          <tr><td>-2.97</td><td>0.00</td></tr>\n",
       "          <tr><td>-2.96</td><td>0.00</td></tr>\n",
       "        </table> 75 / 114</div>\n",
       "<div class=\"item\"><table style=\"\"><tr><td>Service</td><td>,</td><td>spoke</td><td>Monday</td><td>in</td><td><b>Ottawa</b></td><td>to</td><td>a</td><td>legislative</td><td>committee</td></tr><tr><td>NNP</td><td>,</td><td>VBD</td><td>NNP</td><td>IN</td><td><b>NNP</b></td><td>TO</td><td>DT</td><td>JJ</td><td>NN</td></tr><tr><td>NN</td><td>,</td><td>VBD</td><td>NNP</td><td>IN</td><td><b>NN</b></td><td>TO</td><td>DT</td><td>JJ</td><td>NN</td></tr></table>\n",
       "        <table>\n",
       "          <tr><td>bias</td><td>word:Ottawa</td></tr>\n",
       "          <tr><td>1.0</td><td>1.0</td></tr>\n",
       "          <tr><td>-2.97</td><td>0.00</td></tr>\n",
       "          <tr><td>-2.96</td><td>0.00</td></tr>\n",
       "        </table> 76 / 114</div>\n",
       "<div class=\"item\"><table style=\"\"><tr><td><b>Hooper</b></td><td>told</td><td>the</td><td>lawmakers</td><td>Canada</td></tr><tr><td><b>NNP</b></td><td>VBD</td><td>DT</td><td>NNS</td><td>NNP</td></tr><tr><td><b>NN</b></td><td>VBD</td><td>DT</td><td>NNS</td><td>NNP</td></tr></table>\n",
       "        <table>\n",
       "          <tr><td>bias</td><td>word:Hooper</td></tr>\n",
       "          <tr><td>1.0</td><td>1.0</td></tr>\n",
       "          <tr><td>-2.97</td><td>0.00</td></tr>\n",
       "          <tr><td>-2.96</td><td>0.00</td></tr>\n",
       "        </table> 77 / 114</div>\n",
       "<div class=\"item\"><table style=\"\"><tr><td><b>Hooper</b></td><td>said</td><td>that</td><td>many</td><td>of</td></tr><tr><td><b>NNP</b></td><td>VBD</td><td>IN</td><td>NN</td><td>IN</td></tr><tr><td><b>NN</b></td><td>VBD</td><td>WDT</td><td>JJ</td><td>IN</td></tr></table>\n",
       "        <table>\n",
       "          <tr><td>bias</td><td>word:Hooper</td></tr>\n",
       "          <tr><td>1.0</td><td>1.0</td></tr>\n",
       "          <tr><td>-2.97</td><td>0.00</td></tr>\n",
       "          <tr><td>-2.96</td><td>0.00</td></tr>\n",
       "        </table> 78 / 114</div>\n",
       "<div class=\"item\"><table style=\"\"><tr><td>send</td><td>election</td><td>observers</td><td>to</td><td>monitor</td><td><b>Suriname</b></td><td>'s</td><td>parliamentary</td><td>elections</td><td>to</td></tr><tr><td>VB</td><td>NN</td><td>NNS</td><td>TO</td><td>VB</td><td><b>NNP</b></td><td>POS</td><td>JJ</td><td>NNS</td><td>TO</td></tr><tr><td>VB</td><td>NN</td><td>NNS</td><td>TO</td><td>VB</td><td><b>NN</b></td><td>POS</td><td>JJ</td><td>NNS</td><td>TO</td></tr></table>\n",
       "        <table>\n",
       "          <tr><td>bias</td><td>word:Suriname</td></tr>\n",
       "          <tr><td>1.0</td><td>1.0</td></tr>\n",
       "          <tr><td>-2.97</td><td>0.00</td></tr>\n",
       "          <tr><td>-2.96</td><td>0.00</td></tr>\n",
       "        </table> 79 / 114</div>\n",
       "<div class=\"item\"><table style=\"\"><tr><td>The</td><td><b>OAS</b></td><td>and</td><td>Suriname</td><td>officials</td><td>agreed</td></tr><tr><td>DT</td><td><b>NNP</b></td><td>CC</td><td>NNP</td><td>NNS</td><td>VBD</td></tr><tr><td>DT</td><td><b>NN</b></td><td>CC</td><td>NN</td><td>NNS</td><td>VBD</td></tr></table>\n",
       "        <table>\n",
       "          <tr><td>bias</td><td>word:OAS</td></tr>\n",
       "          <tr><td>1.0</td><td>1.0</td></tr>\n",
       "          <tr><td>-2.97</td><td>0.00</td></tr>\n",
       "          <tr><td>-2.96</td><td>0.00</td></tr>\n",
       "        </table> 80 / 114</div>\n",
       "<div class=\"item\"><table style=\"\"><tr><td>The</td><td>OAS</td><td>and</td><td><b>Suriname</b></td><td>officials</td><td>agreed</td><td>to</td><td>the</td></tr><tr><td>DT</td><td>NNP</td><td>CC</td><td><b>NNP</b></td><td>NNS</td><td>VBD</td><td>TO</td><td>DT</td></tr><tr><td>DT</td><td>NN</td><td>CC</td><td><b>NN</b></td><td>NNS</td><td>VBD</td><td>TO</td><td>DT</td></tr></table>\n",
       "        <table>\n",
       "          <tr><td>bias</td><td>word:Suriname</td></tr>\n",
       "          <tr><td>1.0</td><td>1.0</td></tr>\n",
       "          <tr><td>-2.97</td><td>0.00</td></tr>\n",
       "          <tr><td>-2.96</td><td>0.00</td></tr>\n",
       "        </table> 81 / 114</div>\n",
       "<div class=\"item\"><table style=\"\"><tr><td>The</td><td>ruling</td><td>coalition</td><td>in</td><td><b>Suriname</b></td><td>faces</td><td>opposition</td><td>from</td><td>the</td></tr><tr><td>DT</td><td>NN</td><td>NN</td><td>IN</td><td><b>NNP</b></td><td>VBZ</td><td>NN</td><td>IN</td><td>DT</td></tr><tr><td>DT</td><td>NN</td><td>NN</td><td>IN</td><td><b>NN</b></td><td>VBZ</td><td>NN</td><td>IN</td><td>DT</td></tr></table>\n",
       "        <table>\n",
       "          <tr><td>bias</td><td>word:Suriname</td></tr>\n",
       "          <tr><td>1.0</td><td>1.0</td></tr>\n",
       "          <tr><td>-2.97</td><td>0.00</td></tr>\n",
       "          <tr><td>-2.96</td><td>0.00</td></tr>\n",
       "        </table> 82 / 114</div>\n",
       "<div class=\"item\"><table style=\"\"><tr><td>its</td><td>leader</td><td>,</td><td>former</td><td>dictator</td><td><b>Desi</b></td><td>Bouterse</td><td>,</td><td>would</td><td>become</td></tr><tr><td>PRP$</td><td>NN</td><td>,</td><td>JJ</td><td>NN</td><td><b>NNP</b></td><td>NNP</td><td>,</td><td>MD</td><td>VB</td></tr><tr><td>PRP$</td><td>NN</td><td>,</td><td>JJ</td><td>NN</td><td><b>NN</b></td><td>NN</td><td>,</td><td>MD</td><td>VBN</td></tr></table>\n",
       "        <table>\n",
       "          <tr><td>bias</td><td>word:Desi</td></tr>\n",
       "          <tr><td>1.0</td><td>1.0</td></tr>\n",
       "          <tr><td>-2.97</td><td>0.00</td></tr>\n",
       "          <tr><td>-2.96</td><td>0.00</td></tr>\n",
       "        </table> 83 / 114</div>\n",
       "<div class=\"item\"><table style=\"\"><tr><td>leader</td><td>,</td><td>former</td><td>dictator</td><td>Desi</td><td><b>Bouterse</b></td><td>,</td><td>would</td><td>become</td><td>president</td></tr><tr><td>NN</td><td>,</td><td>JJ</td><td>NN</td><td>NNP</td><td><b>NNP</b></td><td>,</td><td>MD</td><td>VB</td><td>NN</td></tr><tr><td>NN</td><td>,</td><td>JJ</td><td>NN</td><td>NN</td><td><b>NN</b></td><td>,</td><td>MD</td><td>VBN</td><td>NN</td></tr></table>\n",
       "        <table>\n",
       "          <tr><td>bias</td><td>word:Bouterse</td></tr>\n",
       "          <tr><td>1.0</td><td>1.0</td></tr>\n",
       "          <tr><td>-2.97</td><td>0.00</td></tr>\n",
       "          <tr><td>-2.96</td><td>0.00</td></tr>\n",
       "        </table> 84 / 114</div>\n",
       "<div class=\"item\"><table style=\"\"><tr><td>has</td><td>warned</td><td>that</td><td>relations</td><td>with</td><td><b>Suriname</b></td><td>would</td><td>suffer</td><td>if</td><td>Bouterse</td></tr><tr><td>VBZ</td><td>VBN</td><td>IN</td><td>NNS</td><td>IN</td><td><b>NNP</b></td><td>MD</td><td>VB</td><td>IN</td><td>NNP</td></tr><tr><td>VBZ</td><td>VBD</td><td>WDT</td><td>NNS</td><td>IN</td><td><b>NN</b></td><td>MD</td><td>VBP</td><td>IN</td><td>NN</td></tr></table>\n",
       "        <table>\n",
       "          <tr><td>bias</td><td>word:Suriname</td></tr>\n",
       "          <tr><td>1.0</td><td>1.0</td></tr>\n",
       "          <tr><td>-2.97</td><td>0.00</td></tr>\n",
       "          <tr><td>-2.96</td><td>0.00</td></tr>\n",
       "        </table> 85 / 114</div>\n",
       "<div class=\"item\"><table style=\"\"><tr><td>with</td><td>Suriname</td><td>would</td><td>suffer</td><td>if</td><td><b>Bouterse</b></td><td>takes</td><td>power</td><td>.</td></tr><tr><td>IN</td><td>NNP</td><td>MD</td><td>VB</td><td>IN</td><td><b>NNP</b></td><td>VBZ</td><td>NN</td><td>.</td></tr><tr><td>IN</td><td>NN</td><td>MD</td><td>VBP</td><td>IN</td><td><b>NN</b></td><td>VBZ</td><td>NN</td><td>.</td></tr></table>\n",
       "        <table>\n",
       "          <tr><td>bias</td><td>word:Bouterse</td></tr>\n",
       "          <tr><td>1.0</td><td>1.0</td></tr>\n",
       "          <tr><td>-2.97</td><td>0.00</td></tr>\n",
       "          <tr><td>-2.96</td><td>0.00</td></tr>\n",
       "        </table> 86 / 114</div>\n",
       "<div class=\"item\"><table style=\"\"><tr><td><b>Bouterse</b></td><td>,</td><td>who</td><td>is</td><td>an</td></tr><tr><td><b>NNP</b></td><td>,</td><td>WP</td><td>VBZ</td><td>DT</td></tr><tr><td><b>NN</b></td><td>,</td><td>WP</td><td>VBZ</td><td>DT</td></tr></table>\n",
       "        <table>\n",
       "          <tr><td>bias</td><td>word:Bouterse</td></tr>\n",
       "          <tr><td>1.0</td><td>1.0</td></tr>\n",
       "          <tr><td>-2.97</td><td>0.00</td></tr>\n",
       "          <tr><td>-2.96</td><td>0.00</td></tr>\n",
       "        </table> 87 / 114</div>\n",
       "<div class=\"item\"><table style=\"\"><tr><td>a</td><td>successful</td><td>military</td><td>coup</td><td>in</td><td><b>Suriname</b></td><td>in</td><td>1980</td><td>,</td><td>and</td></tr><tr><td>DT</td><td>JJ</td><td>JJ</td><td>NN</td><td>IN</td><td><b>NNP</b></td><td>IN</td><td>CD</td><td>,</td><td>CC</td></tr><tr><td>DT</td><td>JJ</td><td>JJ</td><td>NN</td><td>IN</td><td><b>NN</b></td><td>IN</td><td>CD</td><td>,</td><td>CC</td></tr></table>\n",
       "        <table>\n",
       "          <tr><td>bias</td><td>word:Suriname</td></tr>\n",
       "          <tr><td>1.0</td><td>1.0</td></tr>\n",
       "          <tr><td>-2.97</td><td>0.00</td></tr>\n",
       "          <tr><td>-2.96</td><td>0.00</td></tr>\n",
       "        </table> 88 / 114</div>\n",
       "<div class=\"item\"><table style=\"\"><tr><td>,</td><td>84-year-old</td><td>pope</td><td>suffers</td><td>from</td><td><b>Parkinson</b></td><td>'s</td><td>disease</td><td>and</td><td>arthritis</td></tr><tr><td>,</td><td>JJ</td><td>NN</td><td>NNS</td><td>IN</td><td><b>NNP</b></td><td>POS</td><td>NN</td><td>CC</td><td>NN</td></tr><tr><td>,</td><td>NN</td><td>NN</td><td>VBZ</td><td>IN</td><td><b>NN</b></td><td>POS</td><td>NN</td><td>CC</td><td>NN</td></tr></table>\n",
       "        <table>\n",
       "          <tr><td>bias</td><td>word:Parkinson</td></tr>\n",
       "          <tr><td>1.0</td><td>1.0</td></tr>\n",
       "          <tr><td>-2.97</td><td>0.00</td></tr>\n",
       "          <tr><td>-2.96</td><td>0.00</td></tr>\n",
       "        </table> 89 / 114</div>\n",
       "<div class=\"item\"><table style=\"\"><tr><td>over</td><td>three</td><td>other</td><td>towns</td><td>-</td><td><b>Qalqiliya</b></td><td>,</td><td>Bethlehem</td><td>and</td><td>Ramallah</td></tr><tr><td>RP</td><td>CD</td><td>JJ</td><td>NNS</td><td>:</td><td><b>NNP</b></td><td>,</td><td>NNP</td><td>CC</td><td>NNP</td></tr><tr><td>IN</td><td>CD</td><td>JJ</td><td>NNS</td><td>:</td><td><b>NN</b></td><td>,</td><td>NN</td><td>CC</td><td>NNP</td></tr></table>\n",
       "        <table>\n",
       "          <tr><td>bias</td><td>word:Qalqiliya</td></tr>\n",
       "          <tr><td>1.0</td><td>1.0</td></tr>\n",
       "          <tr><td>-2.97</td><td>0.00</td></tr>\n",
       "          <tr><td>-2.96</td><td>0.00</td></tr>\n",
       "        </table> 90 / 114</div>\n",
       "<div class=\"item\"><table style=\"\"><tr><td>other</td><td>towns</td><td>-</td><td>Qalqiliya</td><td>,</td><td><b>Bethlehem</b></td><td>and</td><td>Ramallah</td><td>.</td></tr><tr><td>JJ</td><td>NNS</td><td>:</td><td>NNP</td><td>,</td><td><b>NNP</b></td><td>CC</td><td>NNP</td><td>.</td></tr><tr><td>JJ</td><td>NNS</td><td>:</td><td>NN</td><td>,</td><td><b>NN</b></td><td>CC</td><td>NNP</td><td>.</td></tr></table>\n",
       "        <table>\n",
       "          <tr><td>bias</td><td>word:Bethlehem</td></tr>\n",
       "          <tr><td>1.0</td><td>1.0</td></tr>\n",
       "          <tr><td>-2.97</td><td>0.00</td></tr>\n",
       "          <tr><td>-2.96</td><td>0.00</td></tr>\n",
       "        </table> 91 / 114</div>\n",
       "<div class=\"item\"><table style=\"\"><tr><td>build</td><td>3,500</td><td>new</td><td>homes</td><td>in</td><td><b>Maale</b></td><td>Adumin</td><td>,</td><td>the</td><td>largest</td></tr><tr><td>VB</td><td>CD</td><td>JJ</td><td>NNS</td><td>IN</td><td><b>NNP</b></td><td>NNP</td><td>,</td><td>DT</td><td>JJS</td></tr><tr><td>VB</td><td>NN</td><td>JJ</td><td>NNS</td><td>IN</td><td><b>NN</b></td><td>NN</td><td>,</td><td>DT</td><td>JJS</td></tr></table>\n",
       "        <table>\n",
       "          <tr><td>bias</td><td>word:Maale</td></tr>\n",
       "          <tr><td>1.0</td><td>1.0</td></tr>\n",
       "          <tr><td>-2.97</td><td>0.00</td></tr>\n",
       "          <tr><td>-2.96</td><td>0.00</td></tr>\n",
       "        </table> 92 / 114</div>\n",
       "<div class=\"item\"><table style=\"\"><tr><td>3,500</td><td>new</td><td>homes</td><td>in</td><td>Maale</td><td><b>Adumin</b></td><td>,</td><td>the</td><td>largest</td><td>Jewish</td></tr><tr><td>CD</td><td>JJ</td><td>NNS</td><td>IN</td><td>NNP</td><td><b>NNP</b></td><td>,</td><td>DT</td><td>JJS</td><td>JJ</td></tr><tr><td>NN</td><td>JJ</td><td>NNS</td><td>IN</td><td>NN</td><td><b>NN</b></td><td>,</td><td>DT</td><td>JJS</td><td>JJ</td></tr></table>\n",
       "        <table>\n",
       "          <tr><td>bias</td><td>word:Adumin</td></tr>\n",
       "          <tr><td>1.0</td><td>1.0</td></tr>\n",
       "          <tr><td>-2.97</td><td>0.00</td></tr>\n",
       "          <tr><td>-2.96</td><td>0.00</td></tr>\n",
       "        </table> 93 / 114</div>\n",
       "<div class=\"item\"><table style=\"\"><tr><td>violation</td><td>of</td><td>the</td><td>internationally-backed</td><td>\"</td><td><b>Road</b></td><td>Map</td><td>\"</td><td>peace</td><td>plan</td></tr><tr><td>NN</td><td>IN</td><td>DT</td><td>JJ</td><td>``</td><td><b>NNP</b></td><td>NNP</td><td>``</td><td>NN</td><td>NN</td></tr><tr><td>NN</td><td>IN</td><td>DT</td><td>NN</td><td>``</td><td><b>NN</b></td><td>NN</td><td>``</td><td>NN</td><td>NN</td></tr></table>\n",
       "        <table>\n",
       "          <tr><td>bias</td><td>word:Road</td></tr>\n",
       "          <tr><td>1.0</td><td>1.0</td></tr>\n",
       "          <tr><td>-2.97</td><td>0.00</td></tr>\n",
       "          <tr><td>-2.96</td><td>0.00</td></tr>\n",
       "        </table> 94 / 114</div>\n",
       "<div class=\"item\"><table style=\"\"><tr><td>of</td><td>the</td><td>internationally-backed</td><td>\"</td><td>Road</td><td><b>Map</b></td><td>\"</td><td>peace</td><td>plan</td><td>and</td></tr><tr><td>IN</td><td>DT</td><td>JJ</td><td>``</td><td>NNP</td><td><b>NNP</b></td><td>``</td><td>NN</td><td>NN</td><td>CC</td></tr><tr><td>IN</td><td>DT</td><td>NN</td><td>``</td><td>NN</td><td><b>NN</b></td><td>``</td><td>NN</td><td>NN</td><td>CC</td></tr></table>\n",
       "        <table>\n",
       "          <tr><td>bias</td><td>word:Map</td></tr>\n",
       "          <tr><td>1.0</td><td>1.0</td></tr>\n",
       "          <tr><td>-2.97</td><td>0.00</td></tr>\n",
       "          <tr><td>-2.96</td><td>0.00</td></tr>\n",
       "        </table> 95 / 114</div>\n",
       "<div class=\"item\"><table style=\"\"><tr><td>they</td><td>entered</td><td>the</td><td>bar</td><td>in</td><td><b>Michoacan</b></td><td>state</td><td>before</td><td>dawn</td><td>Wednesday</td></tr><tr><td>PRP</td><td>VBD</td><td>DT</td><td>NN</td><td>IN</td><td><b>NNP</b></td><td>NN</td><td>IN</td><td>NN</td><td>NNP</td></tr><tr><td>PRP</td><td>VBD</td><td>DT</td><td>NN</td><td>IN</td><td><b>NN</b></td><td>NN</td><td>IN</td><td>NN</td><td>NNP</td></tr></table>\n",
       "        <table>\n",
       "          <tr><td>bias</td><td>word:Michoacan</td></tr>\n",
       "          <tr><td>1.0</td><td>1.0</td></tr>\n",
       "          <tr><td>-2.97</td><td>0.00</td></tr>\n",
       "          <tr><td>-2.96</td><td>0.00</td></tr>\n",
       "        </table> 96 / 114</div>\n",
       "<div class=\"item\"><table style=\"\"><tr><td>in</td><td>the</td><td>city</td><td>'s</td><td>crowded</td><td><b>Khori</b></td><td>Garden</td><td>neighborhood</td><td>.</td></tr><tr><td>IN</td><td>DT</td><td>NN</td><td>POS</td><td>JJ</td><td><b>NNP</b></td><td>NNP</td><td>NN</td><td>.</td></tr><tr><td>IN</td><td>DT</td><td>NN</td><td>POS</td><td>NN</td><td><b>NN</b></td><td>NNP</td><td>NN</td><td>.</td></tr></table>\n",
       "        <table>\n",
       "          <tr><td>bias</td><td>word:Khori</td></tr>\n",
       "          <tr><td>1.0</td><td>1.0</td></tr>\n",
       "          <tr><td>-2.97</td><td>0.00</td></tr>\n",
       "          <tr><td>-2.96</td><td>0.00</td></tr>\n",
       "        </table> 97 / 114</div>\n",
       "<div class=\"item\"><table style=\"\"><tr><td>the</td><td>Muslim</td><td>holy</td><td>month</td><td>of</td><td><b>Ramadan</b></td><td>.</td></tr><tr><td>DT</td><td>NNP</td><td>JJ</td><td>NN</td><td>IN</td><td><b>NNP</b></td><td>.</td></tr><tr><td>DT</td><td>NNP</td><td>JJ</td><td>NN</td><td>IN</td><td><b>NN</b></td><td>.</td></tr></table>\n",
       "        <table>\n",
       "          <tr><td>bias</td><td>word:Ramadan</td></tr>\n",
       "          <tr><td>1.0</td><td>1.0</td></tr>\n",
       "          <tr><td>-2.97</td><td>0.00</td></tr>\n",
       "          <tr><td>-2.96</td><td>0.00</td></tr>\n",
       "        </table> 98 / 114</div>\n",
       "<div class=\"item\"><table style=\"\"><tr><td>Prime</td><td>Minister</td><td>Benjamin</td><td><b>Netanyahu</b></td><td>told</td><td>his</td><td>Cabinet</td><td>Sunday</td></tr><tr><td>NNP</td><td>NNP</td><td>NNP</td><td><b>NNP</b></td><td>VBD</td><td>PRP$</td><td>NNP</td><td>NNP</td></tr><tr><td>NNP</td><td>NNP</td><td>NNP</td><td><b>NN</b></td><td>VBD</td><td>PRP$</td><td>NNP</td><td>NNP</td></tr></table>\n",
       "        <table>\n",
       "          <tr><td>bias</td><td>word:Netanyahu</td></tr>\n",
       "          <tr><td>1.0</td><td>1.0</td></tr>\n",
       "          <tr><td>-2.97</td><td>0.00</td></tr>\n",
       "          <tr><td>-2.96</td><td>0.00</td></tr>\n",
       "        </table> 99 / 114</div>\n",
       "<div class=\"item\"><table style=\"\"><tr><td>Mr.</td><td><b>Netanyahu</b></td><td>said</td><td>the</td><td>performers</td><td>'</td></tr><tr><td>NNP</td><td><b>NNP</b></td><td>VBD</td><td>DT</td><td>NNS</td><td>POS</td></tr><tr><td>NNP</td><td><b>NN</b></td><td>VBD</td><td>DT</td><td>NN</td><td>POS</td></tr></table>\n",
       "        <table>\n",
       "          <tr><td>bias</td><td>word:Netanyahu</td></tr>\n",
       "          <tr><td>1.0</td><td>1.0</td></tr>\n",
       "          <tr><td>-2.97</td><td>0.00</td></tr>\n",
       "          <tr><td>-2.96</td><td>0.00</td></tr>\n",
       "        </table> 100 / 114</div>\n",
       "<div class=\"item\"><table style=\"\"><tr><td>central</td><td>towns</td><td>of</td><td>Baidoa</td><td>and</td><td><b>Jowhar</b></td><td>until</td><td>security</td><td>improves</td><td>in</td></tr><tr><td>JJ</td><td>NNS</td><td>IN</td><td>NNP</td><td>CC</td><td><b>NNP</b></td><td>IN</td><td>NN</td><td>VBZ</td><td>IN</td></tr><tr><td>JJ</td><td>NNS</td><td>IN</td><td>NNP</td><td>CC</td><td><b>NN</b></td><td>IN</td><td>NN</td><td>VBZ</td><td>IN</td></tr></table>\n",
       "        <table>\n",
       "          <tr><td>bias</td><td>word:Jowhar</td></tr>\n",
       "          <tr><td>1.0</td><td>1.0</td></tr>\n",
       "          <tr><td>-2.97</td><td>0.00</td></tr>\n",
       "          <tr><td>-2.96</td><td>0.00</td></tr>\n",
       "        </table> 101 / 114</div>\n",
       "<div class=\"item\"><table style=\"\"><tr><td>The</td><td>regional</td><td>bloc</td><td>-</td><td><b>IGAD</b></td><td>-</td><td>has</td><td>decided</td><td>to</td></tr><tr><td>DT</td><td>JJ</td><td>NN</td><td>:</td><td><b>NNP</b></td><td>:</td><td>VBZ</td><td>VBN</td><td>TO</td></tr><tr><td>DT</td><td>JJ</td><td>NN</td><td>:</td><td><b>NN</b></td><td>:</td><td>VBZ</td><td>VBD</td><td>TO</td></tr></table>\n",
       "        <table>\n",
       "          <tr><td>bias</td><td>word:IGAD</td></tr>\n",
       "          <tr><td>1.0</td><td>1.0</td></tr>\n",
       "          <tr><td>-2.97</td><td>0.00</td></tr>\n",
       "          <tr><td>-2.96</td><td>0.00</td></tr>\n",
       "        </table> 102 / 114</div>\n",
       "<div class=\"item\"><table style=\"\"><tr><td>to</td><td>the</td><td>holy</td><td>city</td><td>of</td><td><b>Mecca</b></td><td>,</td><td>where</td><td>some</td><td>of</td></tr><tr><td>TO</td><td>DT</td><td>JJ</td><td>NN</td><td>IN</td><td><b>NNP</b></td><td>,</td><td>WRB</td><td>DT</td><td>IN</td></tr><tr><td>TO</td><td>DT</td><td>JJ</td><td>NN</td><td>IN</td><td><b>NN</b></td><td>,</td><td>WRB</td><td>DT</td><td>IN</td></tr></table>\n",
       "        <table>\n",
       "          <tr><td>bias</td><td>word:Mecca</td></tr>\n",
       "          <tr><td>1.0</td><td>1.0</td></tr>\n",
       "          <tr><td>-2.97</td><td>0.00</td></tr>\n",
       "          <tr><td>-2.96</td><td>0.00</td></tr>\n",
       "        </table> 103 / 114</div>\n",
       "<div class=\"item\"><table style=\"\"><tr><td>the</td><td>minor</td><td>pilgrimage</td><td>known</td><td>as</td><td><b>Omra</b></td><td>.</td></tr><tr><td>DT</td><td>JJ</td><td>NN</td><td>VBN</td><td>IN</td><td><b>NNP</b></td><td>.</td></tr><tr><td>DT</td><td>JJ</td><td>NN</td><td>VBN</td><td>IN</td><td><b>NN</b></td><td>.</td></tr></table>\n",
       "        <table>\n",
       "          <tr><td>bias</td><td>word:Omra</td></tr>\n",
       "          <tr><td>1.0</td><td>1.0</td></tr>\n",
       "          <tr><td>-2.97</td><td>0.00</td></tr>\n",
       "          <tr><td>-2.96</td><td>0.00</td></tr>\n",
       "        </table> 104 / 114</div>\n",
       "<div class=\"item\"><table style=\"\"><tr><td>Only</td><td>Muslims</td><td>are</td><td>allowed</td><td>in</td><td><b>Mecca</b></td><td>.</td></tr><tr><td>RB</td><td>NNPS</td><td>VBP</td><td>VBN</td><td>IN</td><td><b>NNP</b></td><td>.</td></tr><tr><td>RB</td><td>NNPS</td><td>VBP</td><td>VBN</td><td>IN</td><td><b>NN</b></td><td>.</td></tr></table>\n",
       "        <table>\n",
       "          <tr><td>bias</td><td>word:Mecca</td></tr>\n",
       "          <tr><td>1.0</td><td>1.0</td></tr>\n",
       "          <tr><td>-2.97</td><td>0.00</td></tr>\n",
       "          <tr><td>-2.96</td><td>0.00</td></tr>\n",
       "        </table> 105 / 114</div>\n",
       "<div class=\"item\"><table style=\"\"><tr><td>government</td><td>of</td><td>ousted</td><td>Haitian</td><td>President</td><td><b>Jean</b></td><td>Bertrand</td><td>Aristide</td><td>were</td><td>among</td></tr><tr><td>NN</td><td>IN</td><td>JJ</td><td>JJ</td><td>NNP</td><td><b>NNP</b></td><td>NNP</td><td>NNP</td><td>VBD</td><td>IN</td></tr><tr><td>NN</td><td>IN</td><td>VBD</td><td>JJ</td><td>NNP</td><td><b>NN</b></td><td>NN</td><td>NN</td><td>VBD</td><td>IN</td></tr></table>\n",
       "        <table>\n",
       "          <tr><td>bias</td><td>word:Jean</td></tr>\n",
       "          <tr><td>1.0</td><td>1.0</td></tr>\n",
       "          <tr><td>-2.97</td><td>0.00</td></tr>\n",
       "          <tr><td>-2.96</td><td>0.00</td></tr>\n",
       "        </table> 106 / 114</div>\n",
       "<div class=\"item\"><table style=\"\"><tr><td>of</td><td>ousted</td><td>Haitian</td><td>President</td><td>Jean</td><td><b>Bertrand</b></td><td>Aristide</td><td>were</td><td>among</td><td>the</td></tr><tr><td>IN</td><td>JJ</td><td>JJ</td><td>NNP</td><td>NNP</td><td><b>NNP</b></td><td>NNP</td><td>VBD</td><td>IN</td><td>DT</td></tr><tr><td>IN</td><td>VBD</td><td>JJ</td><td>NNP</td><td>NN</td><td><b>NN</b></td><td>NN</td><td>VBD</td><td>IN</td><td>DT</td></tr></table>\n",
       "        <table>\n",
       "          <tr><td>bias</td><td>word:Bertrand</td></tr>\n",
       "          <tr><td>1.0</td><td>1.0</td></tr>\n",
       "          <tr><td>-2.97</td><td>0.00</td></tr>\n",
       "          <tr><td>-2.96</td><td>0.00</td></tr>\n",
       "        </table> 107 / 114</div>\n",
       "<div class=\"item\"><table style=\"\"><tr><td>ousted</td><td>Haitian</td><td>President</td><td>Jean</td><td>Bertrand</td><td><b>Aristide</b></td><td>were</td><td>among</td><td>the</td><td>prisoners</td></tr><tr><td>JJ</td><td>JJ</td><td>NNP</td><td>NNP</td><td>NNP</td><td><b>NNP</b></td><td>VBD</td><td>IN</td><td>DT</td><td>NNS</td></tr><tr><td>VBD</td><td>JJ</td><td>NNP</td><td>NN</td><td>NN</td><td><b>NN</b></td><td>VBD</td><td>IN</td><td>DT</td><td>NNS</td></tr></table>\n",
       "        <table>\n",
       "          <tr><td>bias</td><td>word:Aristide</td></tr>\n",
       "          <tr><td>1.0</td><td>1.0</td></tr>\n",
       "          <tr><td>-2.97</td><td>0.00</td></tr>\n",
       "          <tr><td>-2.96</td><td>0.00</td></tr>\n",
       "        </table> 108 / 114</div>\n",
       "<div class=\"item\"><table style=\"\"><tr><td>authorities</td><td>say</td><td>former</td><td>Prime</td><td>Minister</td><td><b>Yvon</b></td><td>Neptune</td><td>and</td><td>former</td><td>Interior</td></tr><tr><td>NNS</td><td>VBP</td><td>JJ</td><td>NNP</td><td>NNP</td><td><b>NNP</b></td><td>NNP</td><td>CC</td><td>JJ</td><td>NNP</td></tr><tr><td>NNS</td><td>VBP</td><td>JJ</td><td>NNP</td><td>NNP</td><td><b>NN</b></td><td>NN</td><td>CC</td><td>JJ</td><td>NNP</td></tr></table>\n",
       "        <table>\n",
       "          <tr><td>bias</td><td>word:Yvon</td></tr>\n",
       "          <tr><td>1.0</td><td>1.0</td></tr>\n",
       "          <tr><td>-2.97</td><td>0.00</td></tr>\n",
       "          <tr><td>-2.96</td><td>0.00</td></tr>\n",
       "        </table> 109 / 114</div>\n",
       "<div class=\"item\"><table style=\"\"><tr><td>say</td><td>former</td><td>Prime</td><td>Minister</td><td>Yvon</td><td><b>Neptune</b></td><td>and</td><td>former</td><td>Interior</td><td>Minister</td></tr><tr><td>VBP</td><td>JJ</td><td>NNP</td><td>NNP</td><td>NNP</td><td><b>NNP</b></td><td>CC</td><td>JJ</td><td>NNP</td><td>NNP</td></tr><tr><td>VBP</td><td>JJ</td><td>NNP</td><td>NNP</td><td>NN</td><td><b>NN</b></td><td>CC</td><td>JJ</td><td>NNP</td><td>NNP</td></tr></table>\n",
       "        <table>\n",
       "          <tr><td>bias</td><td>word:Neptune</td></tr>\n",
       "          <tr><td>1.0</td><td>1.0</td></tr>\n",
       "          <tr><td>-2.97</td><td>0.00</td></tr>\n",
       "          <tr><td>-2.96</td><td>0.00</td></tr>\n",
       "        </table> 110 / 114</div>\n",
       "<div class=\"item\"><table style=\"\"><tr><td>Neptune</td><td>and</td><td>former</td><td>Interior</td><td>Minister</td><td><b>Jocelerme</b></td><td>Privert</td><td>are</td><td>back</td><td>in</td></tr><tr><td>NNP</td><td>CC</td><td>JJ</td><td>NNP</td><td>NNP</td><td><b>NNP</b></td><td>NNP</td><td>VBP</td><td>RB</td><td>IN</td></tr><tr><td>NN</td><td>CC</td><td>JJ</td><td>NNP</td><td>NNP</td><td><b>NN</b></td><td>NN</td><td>VBP</td><td>RB</td><td>IN</td></tr></table>\n",
       "        <table>\n",
       "          <tr><td>bias</td><td>word:Jocelerme</td></tr>\n",
       "          <tr><td>1.0</td><td>1.0</td></tr>\n",
       "          <tr><td>-2.97</td><td>0.00</td></tr>\n",
       "          <tr><td>-2.96</td><td>0.00</td></tr>\n",
       "        </table> 111 / 114</div>\n",
       "<div class=\"item\"><table style=\"\"><tr><td>and</td><td>former</td><td>Interior</td><td>Minister</td><td>Jocelerme</td><td><b>Privert</b></td><td>are</td><td>back</td><td>in</td><td>custody</td></tr><tr><td>CC</td><td>JJ</td><td>NNP</td><td>NNP</td><td>NNP</td><td><b>NNP</b></td><td>VBP</td><td>RB</td><td>IN</td><td>NN</td></tr><tr><td>CC</td><td>JJ</td><td>NNP</td><td>NNP</td><td>NN</td><td><b>NN</b></td><td>VBP</td><td>RB</td><td>IN</td><td>NN</td></tr></table>\n",
       "        <table>\n",
       "          <tr><td>bias</td><td>word:Privert</td></tr>\n",
       "          <tr><td>1.0</td><td>1.0</td></tr>\n",
       "          <tr><td>-2.97</td><td>0.00</td></tr>\n",
       "          <tr><td>-2.96</td><td>0.00</td></tr>\n",
       "        </table> 112 / 114</div>\n",
       "<div class=\"item\"><table style=\"\"><tr><td>are</td><td>accused</td><td>of</td><td>violence</td><td>against</td><td><b>Aristide</b></td><td>opponents</td><td>.</td></tr><tr><td>VBP</td><td>VBN</td><td>IN</td><td>NN</td><td>IN</td><td><b>NNP</b></td><td>NNS</td><td>.</td></tr><tr><td>VBP</td><td>VBN</td><td>IN</td><td>NN</td><td>IN</td><td><b>NN</b></td><td>NNS</td><td>.</td></tr></table>\n",
       "        <table>\n",
       "          <tr><td>bias</td><td>word:Aristide</td></tr>\n",
       "          <tr><td>1.0</td><td>1.0</td></tr>\n",
       "          <tr><td>-2.97</td><td>0.00</td></tr>\n",
       "          <tr><td>-2.96</td><td>0.00</td></tr>\n",
       "        </table> 113 / 114</div>\n",
       "<div class=\"item\"><table style=\"\"><tr><td>of</td><td>dozens</td><td>of</td><td>villagers</td><td>in</td><td><b>Dujail</b></td><td>.</td></tr><tr><td>IN</td><td>NNS</td><td>IN</td><td>NNS</td><td>IN</td><td><b>NNP</b></td><td>.</td></tr><tr><td>IN</td><td>NNS</td><td>IN</td><td>NNS</td><td>IN</td><td><b>NN</b></td><td>.</td></tr></table>\n",
       "        <table>\n",
       "          <tr><td>bias</td><td>word:Dujail</td></tr>\n",
       "          <tr><td>1.0</td><td>1.0</td></tr>\n",
       "          <tr><td>-2.97</td><td>0.00</td></tr>\n",
       "          <tr><td>-2.96</td><td>0.00</td></tr>\n",
       "        </table> 114 / 114</div>\n",
       "          </div>\n",
       "        </div>\n",
       "        "
      ],
      "text/plain": [
       "<statnlpbook.util.Carousel at 0x7fa03be99fd0>"
      ]
     },
     "execution_count": 31,
     "metadata": {},
     "output_type": "execute_result"
    }
   ],
   "source": [
    "util.Carousel(local_1.errors(dev, \n",
    "                             filter_guess=lambda y: y=='NN',\n",
    "                             filter_gold=lambda y: y=='NNP'))"
   ]
  },
  {
   "cell_type": "markdown",
   "metadata": {
    "slideshow": {
     "slide_type": "subslide"
    }
   },
   "source": [
    "* \"Mayor\", \"Toussaint\" or \"H.I.V.\" are misclassified as common nouns \n",
    "* For $f_{\\text{word},w}$ feature template weights are $0$ \n",
    "\n",
    "Suggests that word has not appeared in the training set! "
   ]
  },
  {
   "cell_type": "markdown",
   "metadata": {
    "slideshow": {
     "slide_type": "subslide"
    }
   },
   "source": [
    "Proper nouns tend to be capitalised!"
   ]
  },
  {
   "cell_type": "code",
   "execution_count": 33,
   "metadata": {
    "scrolled": true,
    "slideshow": {
     "slide_type": "fragment"
    }
   },
   "outputs": [
    {
     "data": {
      "text/plain": [
       "0.9144196951934349"
      ]
     },
     "execution_count": 33,
     "metadata": {},
     "output_type": "execute_result"
    }
   ],
   "source": [
    "def feat_2(x,i):\n",
    "    return {\n",
    "        'bias': 1.0,  \n",
    "        'word:' + x[i].lower(): 1.0,\n",
    "        'first_upper:' + str(x[i][0].isupper()): 1.0,\n",
    "    }\n",
    "local_2 = seq.LocalSequenceLabeler(feat_2, train)\n",
    "seq.accuracy(dev, local_2.predict(dev))"
   ]
  },
  {
   "cell_type": "markdown",
   "metadata": {
    "slideshow": {
     "slide_type": "fragment"
    }
   },
   "source": [
    "Are these results actually caused by improved `NN`/`NNP` prediction?"
   ]
  },
  {
   "cell_type": "code",
   "execution_count": 34,
   "metadata": {
    "scrolled": false,
    "slideshow": {
     "slide_type": "subslide"
    }
   },
   "outputs": [
    {
     "data": {
      "image/png": "[encoded data removed]",
      "text/plain": [
       "<Figure size 840x840 with 2 Axes>"
      ]
     },
     "metadata": {
      "needs_background": "light"
     },
     "output_type": "display_data"
    }
   ],
   "source": [
    "seq.plot_confusion_matrix(dev, local_2.predict(dev), normalise=True)"
   ]
  },
  {
   "cell_type": "markdown",
   "metadata": {
    "slideshow": {
     "slide_type": "subslide"
    }
   },
   "source": [
    "<center><img src=\"../img/quiz_time.png\"></center>\n",
    "\n",
    "(Actually more \"brainstorm time\" ...)\n",
    "\n",
    "## https://tinyurl.com/nlp2019-pos"
   ]
  },
  {
   "cell_type": "markdown",
   "metadata": {
    "slideshow": {
     "slide_type": "slide"
    }
   },
   "source": [
    "## Named entity recognition (NER)\n",
    "\n",
    "&nbsp;\n",
    "\n",
    "| |\n",
    "|-|\n",
    "| \\[Barack Obama\\]<sub>PER</sub> was born in \\[Hawaii\\]<sub>LOC</sub> |\n"
   ]
  },
  {
   "cell_type": "markdown",
   "metadata": {
    "slideshow": {
     "slide_type": "subslide"
    }
   },
   "source": [
    "## NER as sequence labeling\n",
    "\n",
    "Label tokens as beginning (B), inside (I), or outside (O) a **named entity:**\n",
    "\n",
    "| | | | | | |\n",
    "|-|-|-|-|-|-|\n",
    "| Barack | Obama | was |  born | in | Hawaii |\n",
    "| B-PER | I-PER | O |  O | O | B-LOC |\n"
   ]
  },
  {
   "cell_type": "markdown",
   "metadata": {
    "slideshow": {
     "slide_type": "fragment"
    }
   },
   "source": [
    "+ Many tasks can be framed as sequence labeling using this idea!"
   ]
  },
  {
   "cell_type": "markdown",
   "metadata": {
    "slideshow": {
     "slide_type": "subslide"
    }
   },
   "source": [
    "GMB dataset also has named entity annotation:"
   ]
  },
  {
   "cell_type": "code",
   "execution_count": 13,
   "metadata": {
    "scrolled": true,
    "slideshow": {
     "slide_type": "-"
    }
   },
   "outputs": [
    {
     "data": {
      "text/html": [
       "<div>\n",
       "<style scoped>\n",
       "    .dataframe tbody tr th:only-of-type {\n",
       "        vertical-align: middle;\n",
       "    }\n",
       "\n",
       "    .dataframe tbody tr th {\n",
       "        vertical-align: top;\n",
       "    }\n",
       "\n",
       "    .dataframe thead th {\n",
       "        text-align: right;\n",
       "    }\n",
       "</style>\n",
       "<table border=\"1\" class=\"dataframe\">\n",
       "  <thead>\n",
       "    <tr style=\"text-align: right;\">\n",
       "      <th></th>\n",
       "      <th>0</th>\n",
       "      <th>1</th>\n",
       "      <th>2</th>\n",
       "      <th>3</th>\n",
       "      <th>4</th>\n",
       "      <th>5</th>\n",
       "      <th>6</th>\n",
       "      <th>7</th>\n",
       "      <th>8</th>\n",
       "      <th>9</th>\n",
       "      <th>10</th>\n",
       "    </tr>\n",
       "  </thead>\n",
       "  <tbody>\n",
       "    <tr>\n",
       "      <td>0</td>\n",
       "      <td>Iran</td>\n",
       "      <td>'s</td>\n",
       "      <td>new</td>\n",
       "      <td>President</td>\n",
       "      <td>Mahmoud</td>\n",
       "      <td>Ahmadinejad</td>\n",
       "      <td>said</td>\n",
       "      <td>Tuesday</td>\n",
       "      <td>that</td>\n",
       "      <td>European</td>\n",
       "      <td>incentives</td>\n",
       "    </tr>\n",
       "    <tr>\n",
       "      <td>1</td>\n",
       "      <td>NNP</td>\n",
       "      <td>POS</td>\n",
       "      <td>JJ</td>\n",
       "      <td>NNP</td>\n",
       "      <td>NNP</td>\n",
       "      <td>NNP</td>\n",
       "      <td>VBD</td>\n",
       "      <td>NNP</td>\n",
       "      <td>IN</td>\n",
       "      <td>JJ</td>\n",
       "      <td>NNS</td>\n",
       "    </tr>\n",
       "    <tr>\n",
       "      <td>2</td>\n",
       "      <td>B-gpe</td>\n",
       "      <td>O</td>\n",
       "      <td>O</td>\n",
       "      <td>B-per</td>\n",
       "      <td>I-per</td>\n",
       "      <td>I-per</td>\n",
       "      <td>O</td>\n",
       "      <td>B-tim</td>\n",
       "      <td>O</td>\n",
       "      <td>B-gpe</td>\n",
       "      <td>O</td>\n",
       "    </tr>\n",
       "  </tbody>\n",
       "</table>\n",
       "</div>"
      ],
      "text/plain": [
       "       0    1    2          3        4            5     6        7     8  \\\n",
       "0   Iran   's  new  President  Mahmoud  Ahmadinejad  said  Tuesday  that   \n",
       "1    NNP  POS   JJ        NNP      NNP          NNP   VBD      NNP    IN   \n",
       "2  B-gpe    O    O      B-per    I-per        I-per     O    B-tim     O   \n",
       "\n",
       "          9          10  \n",
       "0  European  incentives  \n",
       "1        JJ         NNS  \n",
       "2     B-gpe           O  "
      ]
     },
     "execution_count": 13,
     "metadata": {},
     "output_type": "execute_result"
    }
   ],
   "source": [
    "pd.DataFrame([tokens[12][:11], pos[12][:11], ents[12][:11]])"
   ]
  },
  {
   "cell_type": "code",
   "execution_count": 54,
   "metadata": {
    "scrolled": true,
    "slideshow": {
     "slide_type": "skip"
    }
   },
   "outputs": [],
   "source": [
    "examples = {}\n",
    "counts_ent = Counter(tag[2:] for sent in ents for tag in sent if tag.startswith(\"B-\"))\n",
    "in_entity = False\n",
    "for x_s, y_s in zip(tokens, ents):\n",
    "    for i, (x, y) in enumerate(zip(x_s, y_s)):\n",
    "        if y == \"O\":\n",
    "            in_entity = False\n",
    "            continue\n",
    "        y_ent = y[2:]\n",
    "        if y[0] == \"B\":\n",
    "            if y_ent not in examples or random() > 0.6:\n",
    "                examples[y_ent] = [x]\n",
    "                in_entity = True\n",
    "            else:\n",
    "                in_entity = False\n",
    "        if y[0] == \"I\" and in_entity:\n",
    "            examples[y_ent].append(x)\n",
    "\n",
    "sorted_ents = sorted(counts_ent.items(),key=lambda x:-x[1])\n",
    "sorted_ents_with_examples = [(t,c,\" \".join(examples[t])) for t,c in sorted_ents]\n",
    "\n",
    "sorted_ents_table = pd.DataFrame(sorted_ents_with_examples, columns=['Entity Type','Count','Example'])"
   ]
  },
  {
   "cell_type": "code",
   "execution_count": 55,
   "metadata": {
    "scrolled": false,
    "slideshow": {
     "slide_type": "subslide"
    }
   },
   "outputs": [
    {
     "data": {
      "text/html": [
       "<div>\n",
       "<style scoped>\n",
       "    .dataframe tbody tr th:only-of-type {\n",
       "        vertical-align: middle;\n",
       "    }\n",
       "\n",
       "    .dataframe tbody tr th {\n",
       "        vertical-align: top;\n",
       "    }\n",
       "\n",
       "    .dataframe thead th {\n",
       "        text-align: right;\n",
       "    }\n",
       "</style>\n",
       "<table border=\"1\" class=\"dataframe\">\n",
       "  <thead>\n",
       "    <tr style=\"text-align: right;\">\n",
       "      <th></th>\n",
       "      <th>Entity Type</th>\n",
       "      <th>Count</th>\n",
       "      <th>Example</th>\n",
       "    </tr>\n",
       "  </thead>\n",
       "  <tbody>\n",
       "    <tr>\n",
       "      <td>0</td>\n",
       "      <td>geo</td>\n",
       "      <td>2070</td>\n",
       "      <td>Dujail</td>\n",
       "    </tr>\n",
       "    <tr>\n",
       "      <td>1</td>\n",
       "      <td>org</td>\n",
       "      <td>1237</td>\n",
       "      <td>Security Council</td>\n",
       "    </tr>\n",
       "    <tr>\n",
       "      <td>2</td>\n",
       "      <td>gpe</td>\n",
       "      <td>1230</td>\n",
       "      <td>Haitian</td>\n",
       "    </tr>\n",
       "    <tr>\n",
       "      <td>3</td>\n",
       "      <td>tim</td>\n",
       "      <td>1160</td>\n",
       "      <td>1982</td>\n",
       "    </tr>\n",
       "    <tr>\n",
       "      <td>4</td>\n",
       "      <td>per</td>\n",
       "      <td>1107</td>\n",
       "      <td>Mr. Annan</td>\n",
       "    </tr>\n",
       "    <tr>\n",
       "      <td>5</td>\n",
       "      <td>art</td>\n",
       "      <td>53</td>\n",
       "      <td>Christopher Hotel</td>\n",
       "    </tr>\n",
       "    <tr>\n",
       "      <td>6</td>\n",
       "      <td>eve</td>\n",
       "      <td>45</td>\n",
       "      <td>Summer Olympics</td>\n",
       "    </tr>\n",
       "    <tr>\n",
       "      <td>7</td>\n",
       "      <td>nat</td>\n",
       "      <td>20</td>\n",
       "      <td>XDR-TB</td>\n",
       "    </tr>\n",
       "  </tbody>\n",
       "</table>\n",
       "</div>"
      ],
      "text/plain": [
       "  Entity Type  Count            Example\n",
       "0         geo   2070             Dujail\n",
       "1         org   1237   Security Council\n",
       "2         gpe   1230            Haitian\n",
       "3         tim   1160               1982\n",
       "4         per   1107          Mr. Annan\n",
       "5         art     53  Christopher Hotel\n",
       "6         eve     45    Summer Olympics\n",
       "7         nat     20             XDR-TB"
      ]
     },
     "execution_count": 55,
     "metadata": {},
     "output_type": "execute_result"
    }
   ],
   "source": [
    "sorted_ents_table"
   ]
  },
  {
   "cell_type": "markdown",
   "metadata": {
    "slideshow": {
     "slide_type": "subslide"
    }
   },
   "source": [
    "Can we run our simple **local model** on this?"
   ]
  },
  {
   "cell_type": "code",
   "execution_count": 60,
   "metadata": {
    "scrolled": true
   },
   "outputs": [
    {
     "data": {
      "text/plain": [
       "0.9329425556858147"
      ]
     },
     "execution_count": 60,
     "metadata": {},
     "output_type": "execute_result"
    }
   ],
   "source": [
    "train_ner = list(zip(tokens[:-200], ents[:-200]))\n",
    "dev_ner = list(zip(tokens[-200:], ents[-200:]))\n",
    "\n",
    "def feat_2(x,i):\n",
    "    return {\n",
    "        'bias': 1.0,  \n",
    "        'word:' + x[i].lower(): 1.0,\n",
    "        'first_upper:' + str(x[i][0].isupper()): 1.0,\n",
    "    }\n",
    "local_2 = seq.LocalSequenceLabeler(feat_2, train_ner)\n",
    "seq.accuracy(dev_ner, local_2.predict(dev_ner))"
   ]
  },
  {
   "cell_type": "markdown",
   "metadata": {
    "slideshow": {
     "slide_type": "fragment"
    }
   },
   "source": [
    "This seems great, but tag distribution is also **highly skewed**:"
   ]
  },
  {
   "cell_type": "code",
   "execution_count": 61,
   "metadata": {},
   "outputs": [
    {
     "data": {
      "text/plain": [
       "0.8527549824150059"
      ]
     },
     "execution_count": 61,
     "metadata": {},
     "output_type": "execute_result"
    }
   ],
   "source": [
    "only_o = [tuple(['O'] * len(tags)) for _, tags in dev_ner]\n",
    "seq.accuracy(dev_ner, only_o)"
   ]
  },
  {
   "cell_type": "code",
   "execution_count": 63,
   "metadata": {
    "scrolled": true,
    "slideshow": {
     "slide_type": "skip"
    }
   },
   "outputs": [],
   "source": [
    "def get_spans(labels):\n",
    "    spans = []\n",
    "    current = [None, None, None]\n",
    "    for i, label in enumerate(labels):\n",
    "        if label.startswith(\"I-\") and label[2:] == current[0]:\n",
    "            # continued span\n",
    "            continue\n",
    "        # push span, if there is any\n",
    "        if current[0] is not None:\n",
    "            current[2] = i\n",
    "            spans.append(current)\n",
    "            current = [None, None, None]\n",
    "        if label.startswith(\"B-\"):\n",
    "            current[0] = label[2:]\n",
    "            current[1] = i\n",
    "    if current[0] is not None:\n",
    "        current[2] = len(labels)\n",
    "        spans.append(current)\n",
    "    return spans\n",
    "\n",
    "def _calculate_prf(preds, golds):\n",
    "    total_pred, total_gold, match = 0, 0, 0\n",
    "    for pred, gold in zip(preds, golds):\n",
    "        pred_s = get_spans(pred)\n",
    "        gold_s = get_spans(gold)\n",
    "        total_pred += len(pred_s)\n",
    "        total_gold += len(gold_s)\n",
    "        match += sum(s in pred_s for s in gold_s)\n",
    "    # precision: % of entities found by the system that are correct\n",
    "    p = match / total_pred\n",
    "    # recall: % of entities in dataset found by the system\n",
    "    r = match / total_gold\n",
    "    # f-score: harmonic mean of precision and recall\n",
    "    f = 2 * (p * r) / (p + r)\n",
    "\n",
    "    return p, r, f\n",
    "\n",
    "def calculate_prf(goldset, preds):\n",
    "    return _calculate_prf(preds, [s[1] for s in goldset])"
   ]
  },
  {
   "cell_type": "markdown",
   "metadata": {
    "slideshow": {
     "slide_type": "subslide"
    }
   },
   "source": [
    "Tasks like NER are more commonly evaluated with...\n",
    "\n",
    "### Precision, recall, and F-measure\n",
    "\n",
    "\\begin{align}\n",
    "\\text{precision} & = \\frac{|\\text{predicted}\\cap\\text{annotated}|}{|\\text{predicted}|} \\\\[.5em]\n",
    "\\text{recall} & = \\frac{|\\text{predicted}\\cap\\text{annotated}|}{|\\text{annotated}|} \\\\[.5em]\n",
    "F & = 2 \\cdot \\frac{\\text{precision}\\cdot\\text{recall}}{\\text{precision}+\\text{recall}} \\\\\n",
    "\\end{align}\n"
   ]
  },
  {
   "cell_type": "code",
   "execution_count": 64,
   "metadata": {
    "scrolled": true,
    "slideshow": {
     "slide_type": "fragment"
    }
   },
   "outputs": [
    {
     "data": {
      "text/plain": [
       "(0.7130681818181818, 0.5770114942528736, 0.6378653113087674)"
      ]
     },
     "execution_count": 64,
     "metadata": {},
     "output_type": "execute_result"
    }
   ],
   "source": [
    "calculate_prf(dev_ner, local_2.predict(dev_ner))"
   ]
  },
  {
   "cell_type": "markdown",
   "metadata": {
    "slideshow": {
     "slide_type": "slide"
    }
   },
   "source": [
    "## Sequence labeling with neural networks"
   ]
  },
  {
   "cell_type": "markdown",
   "metadata": {
    "slideshow": {
     "slide_type": "fragment"
    }
   },
   "source": [
    "Typically: Bi-directional RNNs, e.g. LSTMs\n",
    "\n",
    "\n",
    "<center>\n",
    "  <img src='../img/bplank_bilstm.png'/>\n",
    "</center>"
   ]
  },
  {
   "cell_type": "markdown",
   "metadata": {
    "slideshow": {
     "slide_type": "subslide"
    }
   },
   "source": [
    "A recurrent neural network (plain RNN, LSTM, GRU, ...) computes its output based on a hidden, internal state:\n",
    "\n",
    "$$\n",
    " {\\mathbf{y}}_{t} = \\text{RNN}(\\x_t, {\\mathbf{h}}_{t})\n",
    "$$\n"
   ]
  },
  {
   "cell_type": "markdown",
   "metadata": {
    "slideshow": {
     "slide_type": "subslide"
    }
   },
   "source": [
    "\n",
    "A **bi-directional** RNN is just two uni-directional RNNs combined:\n",
    "\n",
    "\\begin{align}\n",
    " \\overrightarrow{\\mathbf{y}_{t}} & = \\overrightarrow{\\text{RNN}}(\\x_t, \\overrightarrow{\\mathbf{h}_{t}})\\\\\n",
    " \\overleftarrow{\\mathbf{y}_{t}} & = \\overleftarrow{\\text{RNN}}(\\x_t, \\overleftarrow{\\mathbf{h}_{t}}) \n",
    " \\\\\n",
    " {\\mathbf{y}}_{t} & = \\overrightarrow{\\mathbf{y}_{t}} \\oplus \\overleftarrow{\\mathbf{y}_{t}} \\\\\n",
    "\\end{align}\n",
    "\n",
    "where\n",
    "\n",
    "+ $\\overrightarrow{\\text{RNN}}$ reads the input sequence $\\x$ from left to right\n",
    "+ $\\overleftarrow{\\text{RNN}}$ reads the input sequence $\\x$ from right to left\n"
   ]
  },
  {
   "cell_type": "markdown",
   "metadata": {
    "slideshow": {
     "slide_type": "subslide"
    }
   },
   "source": [
    "A different illustration of the same concept:\n",
    "\n",
    "<center>\n",
    "  <img style=\"width:28vw;\" src='../img/genthial_bilstm.png'/>\n",
    "</center>\n",
    "\n",
    "<span class=\"font-size:small;\">Source: https://guillaumegenthial.github.io/sequence-tagging-with-tensorflow.html</span>"
   ]
  },
  {
   "cell_type": "markdown",
   "metadata": {
    "slideshow": {
     "slide_type": "subslide"
    }
   },
   "source": [
    "To predict label probabilities, we use the **softmax function**:\n",
    "\n",
    "\n",
    "$$\n",
    "\\begin{aligned}\n",
    " {\\mathbf{y}}_{t} & = \\overrightarrow{\\mathbf{y}_{t}} \\oplus \\overleftarrow{\\mathbf{y}_{t}} \\\\\n",
    " \\hat{\\mathbf{y}}_{t} & = \\text{softmax}(\\mathbf{W}^o \\mathbf{y}_{t}) \\in \\mathbb{R}^{|V|} \\\\\n",
    "\\end{aligned}\n",
    "$$\n"
   ]
  },
  {
   "cell_type": "markdown",
   "metadata": {
    "slideshow": {
     "slide_type": "subslide"
    }
   },
   "source": [
    "### An important technical detail\n",
    "\n",
    "The linear transformation $\\mathbf{W}^o \\mathbf{y}_{t}$ is usually not modelled as part of the RNN itself in most deep learning frameworks.\n",
    "\n",
    "Instead, look for one of\n",
    "\n",
    "+ **feed-forward layer**\n",
    "+ **dense layer** (*e.g. in Keras*)\n",
    "+ **linear layer** (*e.g. in PyTorch*)\n",
    "\n",
    "with a softmax activation"
   ]
  },
  {
   "cell_type": "markdown",
   "metadata": {
    "slideshow": {
     "slide_type": "subslide"
    }
   },
   "source": [
    "Remember the log-linear classifier:\n",
    "\n",
    "$$\n",
    "  p_\\params(y\\bar\\x,i) = \\frac{1}{Z_\\x} \\exp \\langle \\repr(\\x,i),\\params_y \\rangle\n",
    "$$\n",
    "\n",
    "A bi-LSTM model with a softmax layer on top is also modelling $p_\\params(y\\bar\\x,i)$, so if you take $\\params$ to be the set of parameters of the neural network, then:\n",
    "\n",
    "\\begin{align}\n",
    " \\hat{\\mathbf{y}}_{t} & = \\text{softmax}(\\hat{\\mathbf{h}}_{t}) \\\\\n",
    "  &= \\frac{1}{Z_\\x} \\exp \\langle \\hat{\\mathbf{h}}_{t},\\params_y \\rangle \\\\\n",
    "\\end{align}\n",
    "\n",
    "**What, then, are the most important differences to the simple log-linear approach?**\n",
    "\n",
    "## https://tinyurl.com/nlp2019-bilstm"
   ]
  },
  {
   "cell_type": "markdown",
   "metadata": {
    "slideshow": {
     "slide_type": "slide"
    }
   },
   "source": [
    "What haven't we modeled yet?"
   ]
  },
  {
   "cell_type": "markdown",
   "metadata": {
    "slideshow": {
     "slide_type": "fragment"
    }
   },
   "source": [
    "## There are *dependencies* between consecutive labels!"
   ]
  },
  {
   "cell_type": "markdown",
   "metadata": {
    "slideshow": {
     "slide_type": "subslide"
    }
   },
   "source": [
    "Can you think about fitting words for this POS tag sequence?\n",
    "\n",
    "| | | |\n",
    "|-|-|-|\n",
    "| DT | JJ | NN |\n",
    "| *determiner* | *adjective* | *noun (singular or mass)* |"
   ]
  },
  {
   "cell_type": "markdown",
   "metadata": {
    "slideshow": {
     "slide_type": "fragment"
    }
   },
   "source": [
    "What about this one?\n",
    "\n",
    "| | |\n",
    "|-|-|\n",
    "| DT | VB |\n",
    "| *determiner* | *verb (base form)* |"
   ]
  },
  {
   "cell_type": "markdown",
   "metadata": {
    "slideshow": {
     "slide_type": "fragment"
    }
   },
   "source": [
    "+ After determiners (`DT`), adjectives and nouns are much more likely than verbs\n",
    "+ *Local* models cannot *directly* capture this"
   ]
  },
  {
   "cell_type": "code",
   "execution_count": 65,
   "metadata": {
    "scrolled": false,
    "slideshow": {
     "slide_type": "subslide"
    }
   },
   "outputs": [
    {
     "data": {
      "text/html": [
       "\n",
       "        <div id=\"4c9a509c-dbc4-11e9-8f29-d0abd5bf43ed\" class=\"carousel\" data-ride=\"carousel\" data-interval=\"false\">\n",
       "          <!-- Controls -->\n",
       "          <a href=\"#4c9a509c-dbc4-11e9-8f29-d0abd5bf43ed\" role=\"button2\" data-slide=\"prev\">Previous</a>\n",
       "          &nbsp;\n",
       "          <a  href=\"#4c9a509c-dbc4-11e9-8f29-d0abd5bf43ed\" role=\"button2\" data-slide=\"next\">Next</a>\n",
       "          <div class=\"carousel-inner\" role=\"listbox\">\n",
       "          <div class=\"item active\"><table style=\"\"><tr><td>Former</td><td>U.S.</td><td>president</td><td><b>Bill</b></td><td>Clinton</td><td>has</td><td>signed</td><td>an</td></tr><tr><td>O</td><td>B-geo</td><td>O</td><td><b>B-per</b></td><td>I-per</td><td>O</td><td>O</td><td>O</td></tr><tr><td>O</td><td>B-geo</td><td>O</td><td><b>I-per</b></td><td>I-per</td><td>O</td><td>O</td><td>O</td></tr></table>\n",
       "        <table>\n",
       "          <tr><td>bias</td><td>first_upper:True</td><td>word:bill</td></tr>\n",
       "          <tr><td>1.0</td><td>1.0</td><td>1.0</td></tr>\n",
       "          <tr><td>-3.92</td><td>0.92</td><td>1.66</td></tr>\n",
       "          <tr><td>-3.23</td><td>0.93</td><td>2.94</td></tr>\n",
       "        </table> 1 / 22</div>\n",
       "<div class=\"item\"><table style=\"\"><tr><td>his</td><td>development</td><td>group</td><td>,</td><td>the</td><td><b>Clinton</b></td><td>Foundation</td><td>H.I.V./AIDS</td><td>Initiative</td><td>.</td></tr><tr><td>O</td><td>O</td><td>O</td><td>O</td><td>O</td><td><b>B-per</b></td><td>I-per</td><td>I-per</td><td>I-per</td><td>O</td></tr><tr><td>O</td><td>O</td><td>O</td><td>O</td><td>O</td><td><b>I-per</b></td><td>O</td><td>O</td><td>O</td><td>O</td></tr></table>\n",
       "        <table>\n",
       "          <tr><td>bias</td><td>first_upper:True</td><td>word:clinton</td></tr>\n",
       "          <tr><td>1.0</td><td>1.0</td><td>1.0</td></tr>\n",
       "          <tr><td>-3.92</td><td>0.92</td><td>1.31</td></tr>\n",
       "          <tr><td>-3.23</td><td>0.93</td><td>3.70</td></tr>\n",
       "        </table> 2 / 22</div>\n",
       "<div class=\"item\"><table style=\"\"><tr><td>The</td><td>founder</td><td>of</td><td>Microsoft</td><td>,</td><td><b>Bill</b></td><td>Gates</td><td>,</td><td>has</td><td>received</td></tr><tr><td>O</td><td>O</td><td>O</td><td>B-org</td><td>O</td><td><b>B-per</b></td><td>I-per</td><td>O</td><td>O</td><td>O</td></tr><tr><td>O</td><td>O</td><td>O</td><td>O</td><td>O</td><td><b>I-per</b></td><td>I-per</td><td>O</td><td>O</td><td>O</td></tr></table>\n",
       "        <table>\n",
       "          <tr><td>bias</td><td>first_upper:True</td><td>word:bill</td></tr>\n",
       "          <tr><td>1.0</td><td>1.0</td><td>1.0</td></tr>\n",
       "          <tr><td>-3.92</td><td>0.92</td><td>1.66</td></tr>\n",
       "          <tr><td>-3.23</td><td>0.93</td><td>2.94</td></tr>\n",
       "        </table> 3 / 22</div>\n",
       "<div class=\"item\"><table style=\"\"><tr><td>Hanoi</td><td>University</td><td>Saturday</td><td>,</td><td>where</td><td><b>Gates</b></td><td>was</td><td>delivering</td><td>a</td><td>speech</td></tr><tr><td>B-org</td><td>I-org</td><td>B-tim</td><td>O</td><td>O</td><td><b>B-per</b></td><td>O</td><td>O</td><td>O</td><td>O</td></tr><tr><td>O</td><td>I-org</td><td>B-tim</td><td>O</td><td>O</td><td><b>I-per</b></td><td>O</td><td>O</td><td>O</td><td>O</td></tr></table>\n",
       "        <table>\n",
       "          <tr><td>bias</td><td>first_upper:True</td><td>word:gates</td></tr>\n",
       "          <tr><td>1.0</td><td>1.0</td><td>1.0</td></tr>\n",
       "          <tr><td>-3.92</td><td>0.92</td><td>2.49</td></tr>\n",
       "          <tr><td>-3.23</td><td>0.93</td><td>1.91</td></tr>\n",
       "        </table> 4 / 22</div>\n",
       "<div class=\"item\"><table style=\"\"><tr><td>Earlier</td><td>,</td><td><b>Gates</b></td><td>met</td><td>Prime</td><td>Minister</td><td>Phan</td></tr><tr><td>O</td><td>O</td><td><b>B-per</b></td><td>O</td><td>B-per</td><td>O</td><td>B-per</td></tr><tr><td>O</td><td>O</td><td><b>I-per</b></td><td>O</td><td>B-per</td><td>I-per</td><td>O</td></tr></table>\n",
       "        <table>\n",
       "          <tr><td>bias</td><td>first_upper:True</td><td>word:gates</td></tr>\n",
       "          <tr><td>1.0</td><td>1.0</td><td>1.0</td></tr>\n",
       "          <tr><td>-3.92</td><td>0.92</td><td>2.49</td></tr>\n",
       "          <tr><td>-3.23</td><td>0.93</td><td>1.91</td></tr>\n",
       "        </table> 5 / 22</div>\n",
       "<div class=\"item\"><table style=\"\"><tr><td>,</td><td>the</td><td>Vietnamese</td><td>leaders</td><td>and</td><td><b>Gates</b></td><td>signed</td><td>an</td><td>agreement</td><td>to</td></tr><tr><td>O</td><td>O</td><td>B-gpe</td><td>O</td><td>O</td><td><b>B-per</b></td><td>O</td><td>O</td><td>O</td><td>O</td></tr><tr><td>O</td><td>O</td><td>B-gpe</td><td>O</td><td>O</td><td><b>I-per</b></td><td>O</td><td>O</td><td>O</td><td>O</td></tr></table>\n",
       "        <table>\n",
       "          <tr><td>bias</td><td>first_upper:True</td><td>word:gates</td></tr>\n",
       "          <tr><td>1.0</td><td>1.0</td><td>1.0</td></tr>\n",
       "          <tr><td>-3.92</td><td>0.92</td><td>2.49</td></tr>\n",
       "          <tr><td>-3.23</td><td>0.93</td><td>1.91</td></tr>\n",
       "        </table> 6 / 22</div>\n",
       "<div class=\"item\"><table style=\"\"><tr><td><b>Gates</b></td><td>'</td><td>trip</td><td>to</td><td>Hanoi</td></tr><tr><td><b>B-per</b></td><td>O</td><td>O</td><td>O</td><td>B-geo</td></tr><tr><td><b>I-per</b></td><td>O</td><td>O</td><td>O</td><td>O</td></tr></table>\n",
       "        <table>\n",
       "          <tr><td>bias</td><td>first_upper:True</td><td>word:gates</td></tr>\n",
       "          <tr><td>1.0</td><td>1.0</td><td>1.0</td></tr>\n",
       "          <tr><td>-3.92</td><td>0.92</td><td>2.49</td></tr>\n",
       "          <tr><td>-3.23</td><td>0.93</td><td>1.91</td></tr>\n",
       "        </table> 7 / 22</div>\n",
       "<div class=\"item\"><table style=\"\"><tr><td>follow</td><td>efforts</td><td>by</td><td>Palestinian</td><td>leader</td><td><b>Mahmoud</b></td><td>Abbas</td><td>to</td><td>persuade</td><td>militants</td></tr><tr><td>O</td><td>O</td><td>O</td><td>B-gpe</td><td>O</td><td><b>B-per</b></td><td>I-per</td><td>O</td><td>O</td><td>O</td></tr><tr><td>O</td><td>O</td><td>O</td><td>B-gpe</td><td>O</td><td><b>I-per</b></td><td>I-per</td><td>O</td><td>O</td><td>O</td></tr></table>\n",
       "        <table>\n",
       "          <tr><td>bias</td><td>first_upper:True</td><td>word:mahmoud</td></tr>\n",
       "          <tr><td>1.0</td><td>1.0</td><td>1.0</td></tr>\n",
       "          <tr><td>-3.92</td><td>0.92</td><td>1.85</td></tr>\n",
       "          <tr><td>-3.23</td><td>0.93</td><td>3.31</td></tr>\n",
       "        </table> 8 / 22</div>\n",
       "<div class=\"item\"><table style=\"\"><tr><td>Stanley</td><td>\"</td><td>Tookie</td><td>\"</td><td><b>Williams</b></td><td>has</td><td>been</td><td>convicted</td><td>of</td></tr><tr><td>B-per</td><td>O</td><td>B-per</td><td>O</td><td><b>B-per</b></td><td>O</td><td>O</td><td>O</td><td>O</td></tr><tr><td>O</td><td>O</td><td>O</td><td>O</td><td><b>I-per</b></td><td>O</td><td>O</td><td>O</td><td>O</td></tr></table>\n",
       "        <table>\n",
       "          <tr><td>bias</td><td>first_upper:True</td><td>word:williams</td></tr>\n",
       "          <tr><td>1.0</td><td>1.0</td><td>1.0</td></tr>\n",
       "          <tr><td>-3.92</td><td>0.92</td><td>-0.34</td></tr>\n",
       "          <tr><td>-3.23</td><td>0.93</td><td>3.10</td></tr>\n",
       "        </table> 9 / 22</div>\n",
       "<div class=\"item\"><table style=\"\"><tr><td>has</td><td>attracted</td><td>international</td><td>attention</td><td>because</td><td><b>Williams</b></td><td>is</td><td>the</td><td>author</td><td>of</td></tr><tr><td>O</td><td>O</td><td>O</td><td>O</td><td>O</td><td><b>B-per</b></td><td>O</td><td>O</td><td>O</td><td>O</td></tr><tr><td>O</td><td>O</td><td>O</td><td>O</td><td>O</td><td><b>I-per</b></td><td>O</td><td>O</td><td>O</td><td>O</td></tr></table>\n",
       "        <table>\n",
       "          <tr><td>bias</td><td>first_upper:True</td><td>word:williams</td></tr>\n",
       "          <tr><td>1.0</td><td>1.0</td><td>1.0</td></tr>\n",
       "          <tr><td>-3.92</td><td>0.92</td><td>-0.34</td></tr>\n",
       "          <tr><td>-3.23</td><td>0.93</td><td>3.10</td></tr>\n",
       "        </table> 10 / 22</div>\n",
       "<div class=\"item\"><table style=\"\"><tr><td>the</td><td>books</td><td>are</td><td>evidence</td><td>that</td><td><b>Williams</b></td><td>has</td><td>turned</td><td>his</td><td>life</td></tr><tr><td>O</td><td>O</td><td>O</td><td>O</td><td>O</td><td><b>B-per</b></td><td>O</td><td>O</td><td>O</td><td>O</td></tr><tr><td>O</td><td>O</td><td>O</td><td>O</td><td>O</td><td><b>I-per</b></td><td>O</td><td>O</td><td>O</td><td>O</td></tr></table>\n",
       "        <table>\n",
       "          <tr><td>bias</td><td>first_upper:True</td><td>word:williams</td></tr>\n",
       "          <tr><td>1.0</td><td>1.0</td><td>1.0</td></tr>\n",
       "          <tr><td>-3.92</td><td>0.92</td><td>-0.34</td></tr>\n",
       "          <tr><td>-3.23</td><td>0.93</td><td>3.10</td></tr>\n",
       "        </table> 11 / 22</div>\n",
       "<div class=\"item\"><table style=\"\"><tr><td><b>Williams</b></td><td>has</td><td>apologized</td><td>for</td><td>his</td></tr><tr><td><b>B-per</b></td><td>O</td><td>O</td><td>O</td><td>O</td></tr><tr><td><b>I-per</b></td><td>O</td><td>O</td><td>O</td><td>O</td></tr></table>\n",
       "        <table>\n",
       "          <tr><td>bias</td><td>first_upper:True</td><td>word:williams</td></tr>\n",
       "          <tr><td>1.0</td><td>1.0</td><td>1.0</td></tr>\n",
       "          <tr><td>-3.92</td><td>0.92</td><td>-0.34</td></tr>\n",
       "          <tr><td>-3.23</td><td>0.93</td><td>3.10</td></tr>\n",
       "        </table> 12 / 22</div>\n",
       "<div class=\"item\"><table style=\"\"><tr><td>the</td><td>California</td><td>high</td><td>court</td><td>upheld</td><td><b>Williams</b></td><td>'</td><td>conviction</td><td>.</td></tr><tr><td>O</td><td>B-geo</td><td>O</td><td>O</td><td>O</td><td><b>B-per</b></td><td>O</td><td>O</td><td>O</td></tr><tr><td>O</td><td>B-geo</td><td>O</td><td>O</td><td>O</td><td><b>I-per</b></td><td>O</td><td>O</td><td>O</td></tr></table>\n",
       "        <table>\n",
       "          <tr><td>bias</td><td>first_upper:True</td><td>word:williams</td></tr>\n",
       "          <tr><td>1.0</td><td>1.0</td><td>1.0</td></tr>\n",
       "          <tr><td>-3.92</td><td>0.92</td><td>-0.34</td></tr>\n",
       "          <tr><td>-3.23</td><td>0.93</td><td>3.10</td></tr>\n",
       "        </table> 13 / 22</div>\n",
       "<div class=\"item\"><table style=\"\"><tr><td>the</td><td>mayor</td><td>of</td><td>Tehran</td><td>,</td><td><b>Mahmoud</b></td><td>Ahmadinejad</td><td>,</td><td>are</td><td>also</td></tr><tr><td>O</td><td>O</td><td>O</td><td>B-geo</td><td>O</td><td><b>B-geo</b></td><td>I-geo</td><td>O</td><td>O</td><td>O</td></tr><tr><td>O</td><td>O</td><td>O</td><td>B-geo</td><td>O</td><td><b>I-per</b></td><td>I-per</td><td>O</td><td>O</td><td>O</td></tr></table>\n",
       "        <table>\n",
       "          <tr><td>bias</td><td>first_upper:True</td><td>word:mahmoud</td></tr>\n",
       "          <tr><td>1.0</td><td>1.0</td><td>1.0</td></tr>\n",
       "          <tr><td>-3.16</td><td>0.47</td><td>-1.94</td></tr>\n",
       "          <tr><td>-3.23</td><td>0.93</td><td>3.31</td></tr>\n",
       "        </table> 14 / 22</div>\n",
       "<div class=\"item\"><table style=\"\"><tr><td>crowd</td><td>in</td><td>Beirut</td><td>Tuesday</td><td>,</td><td><b>Hassan</b></td><td>Nasrallah</td><td>accused</td><td>Mr.</td><td>Bush</td></tr><tr><td>O</td><td>O</td><td>B-geo</td><td>B-tim</td><td>O</td><td><b>B-per</b></td><td>I-per</td><td>O</td><td>B-per</td><td>I-per</td></tr><tr><td>O</td><td>O</td><td>B-geo</td><td>B-tim</td><td>O</td><td><b>I-per</b></td><td>O</td><td>O</td><td>B-per</td><td>I-per</td></tr></table>\n",
       "        <table>\n",
       "          <tr><td>bias</td><td>first_upper:True</td><td>word:hassan</td></tr>\n",
       "          <tr><td>1.0</td><td>1.0</td><td>1.0</td></tr>\n",
       "          <tr><td>-3.92</td><td>0.92</td><td>1.66</td></tr>\n",
       "          <tr><td>-3.23</td><td>0.93</td><td>3.03</td></tr>\n",
       "        </table> 15 / 22</div>\n",
       "<div class=\"item\"><table style=\"\"><tr><td>He</td><td>also</td><td>asserted</td><td>that</td><td>the</td><td><b>Bush</b></td><td>administration</td><td>ordered</td><td>Israel</td><td>to</td></tr><tr><td>O</td><td>O</td><td>O</td><td>O</td><td>O</td><td><b>B-per</b></td><td>O</td><td>O</td><td>B-geo</td><td>O</td></tr><tr><td>O</td><td>O</td><td>O</td><td>O</td><td>O</td><td><b>I-per</b></td><td>O</td><td>O</td><td>B-geo</td><td>O</td></tr></table>\n",
       "        <table>\n",
       "          <tr><td>bias</td><td>first_upper:True</td><td>word:bush</td></tr>\n",
       "          <tr><td>1.0</td><td>1.0</td><td>1.0</td></tr>\n",
       "          <tr><td>-3.92</td><td>0.92</td><td>1.41</td></tr>\n",
       "          <tr><td>-3.23</td><td>0.93</td><td>3.33</td></tr>\n",
       "        </table> 16 / 22</div>\n",
       "<div class=\"item\"><table style=\"\"><tr><td>the</td><td>ailing</td><td>former</td><td>Cuban</td><td>leader</td><td><b>Fidel</b></td><td>Castro</td><td>during</td><td>a</td><td>short</td></tr><tr><td>O</td><td>O</td><td>O</td><td>B-gpe</td><td>O</td><td><b>B-per</b></td><td>I-per</td><td>O</td><td>O</td><td>O</td></tr><tr><td>O</td><td>O</td><td>O</td><td>B-gpe</td><td>O</td><td><b>I-per</b></td><td>I-per</td><td>O</td><td>O</td><td>O</td></tr></table>\n",
       "        <table>\n",
       "          <tr><td>bias</td><td>first_upper:True</td><td>word:fidel</td></tr>\n",
       "          <tr><td>1.0</td><td>1.0</td><td>1.0</td></tr>\n",
       "          <tr><td>-3.92</td><td>0.92</td><td>2.73</td></tr>\n",
       "          <tr><td>-3.23</td><td>0.93</td><td>2.09</td></tr>\n",
       "        </table> 17 / 22</div>\n",
       "<div class=\"item\"><table style=\"\"><tr><td>Saturday</td><td>before</td><td>Mr.</td><td>Chavez</td><td>'s</td><td><b>afternoon</b></td><td>departure</td><td>.</td></tr><tr><td>B-tim</td><td>O</td><td>B-per</td><td>I-per</td><td>O</td><td><b>B-tim</b></td><td>O</td><td>O</td></tr><tr><td>B-tim</td><td>O</td><td>B-per</td><td>I-per</td><td>O</td><td><b>I-tim</b></td><td>O</td><td>O</td></tr></table>\n",
       "        <table>\n",
       "          <tr><td>bias</td><td>first_upper:False</td><td>word:afternoon</td></tr>\n",
       "          <tr><td>1.0</td><td>1.0</td><td>1.0</td></tr>\n",
       "          <tr><td>-3.66</td><td>-2.17</td><td>-0.06</td></tr>\n",
       "          <tr><td>-4.22</td><td>-1.92</td><td>6.80</td></tr>\n",
       "        </table> 18 / 22</div>\n",
       "<div class=\"item\"><table style=\"\"><tr><td>No</td><td>images</td><td>of</td><td><b>Fidel</b></td><td>Castro</td><td>were</td><td>released</td><td>from</td></tr><tr><td>O</td><td>O</td><td>O</td><td><b>B-per</b></td><td>I-per</td><td>O</td><td>O</td><td>O</td></tr><tr><td>O</td><td>O</td><td>O</td><td><b>I-per</b></td><td>I-per</td><td>O</td><td>O</td><td>O</td></tr></table>\n",
       "        <table>\n",
       "          <tr><td>bias</td><td>first_upper:True</td><td>word:fidel</td></tr>\n",
       "          <tr><td>1.0</td><td>1.0</td><td>1.0</td></tr>\n",
       "          <tr><td>-3.92</td><td>0.92</td><td>2.73</td></tr>\n",
       "          <tr><td>-3.23</td><td>0.93</td><td>2.09</td></tr>\n",
       "        </table> 19 / 22</div>\n",
       "<div class=\"item\"><table style=\"\"><tr><td>Mexico</td><td>'s</td><td>President-elect</td><td><b>Felipe</b></td><td>Calderon</td><td>has</td><td>vowed</td><td>to</td></tr><tr><td>B-geo</td><td>O</td><td>O</td><td><b>B-per</b></td><td>I-per</td><td>O</td><td>O</td><td>O</td></tr><tr><td>B-geo</td><td>O</td><td>O</td><td><b>I-per</b></td><td>I-per</td><td>O</td><td>O</td><td>O</td></tr></table>\n",
       "        <table>\n",
       "          <tr><td>bias</td><td>first_upper:True</td><td>word:felipe</td></tr>\n",
       "          <tr><td>1.0</td><td>1.0</td><td>1.0</td></tr>\n",
       "          <tr><td>-3.92</td><td>0.92</td><td>1.99</td></tr>\n",
       "          <tr><td>-3.23</td><td>0.93</td><td>2.62</td></tr>\n",
       "        </table> 20 / 22</div>\n",
       "<div class=\"item\"><table style=\"\"><tr><td>Prime</td><td>Minister</td><td><b>Benjamin</b></td><td>Netanyahu</td><td>told</td><td>his</td><td>Cabinet</td></tr><tr><td>B-per</td><td>O</td><td><b>B-per</b></td><td>I-per</td><td>O</td><td>O</td><td>O</td></tr><tr><td>B-per</td><td>I-per</td><td><b>I-per</b></td><td>O</td><td>O</td><td>O</td><td>O</td></tr></table>\n",
       "        <table>\n",
       "          <tr><td>bias</td><td>first_upper:True</td><td>word:benjamin</td></tr>\n",
       "          <tr><td>1.0</td><td>1.0</td><td>1.0</td></tr>\n",
       "          <tr><td>-3.92</td><td>0.92</td><td>-0.34</td></tr>\n",
       "          <tr><td>-3.23</td><td>0.93</td><td>3.10</td></tr>\n",
       "        </table> 21 / 22</div>\n",
       "<div class=\"item\"><table style=\"\"><tr><td>The</td><td><b>Security</b></td><td>Council</td><td>has</td><td>threatened</td><td>sanctions</td></tr><tr><td>O</td><td><b>B-org</b></td><td>I-org</td><td>O</td><td>O</td><td>O</td></tr><tr><td>O</td><td><b>I-org</b></td><td>I-org</td><td>O</td><td>O</td><td>O</td></tr></table>\n",
       "        <table>\n",
       "          <tr><td>bias</td><td>first_upper:True</td><td>word:security</td></tr>\n",
       "          <tr><td>1.0</td><td>1.0</td><td>1.0</td></tr>\n",
       "          <tr><td>-3.79</td><td>0.70</td><td>0.81</td></tr>\n",
       "          <tr><td>-3.85</td><td>0.66</td><td>3.54</td></tr>\n",
       "        </table> 22 / 22</div>\n",
       "          </div>\n",
       "        </div>\n",
       "        "
      ],
      "text/plain": [
       "<statnlpbook.util.Carousel at 0x7fa03c151dd0>"
      ]
     },
     "execution_count": 65,
     "metadata": {},
     "output_type": "execute_result"
    }
   ],
   "source": [
    "util.Carousel(local_2.errors(dev_ner, \n",
    "                             filter_guess=lambda y: y.startswith(\"I-\"),\n",
    "                             filter_gold=lambda y: y.startswith(\"B-\")))"
   ]
  },
  {
   "cell_type": "markdown",
   "metadata": {
    "slideshow": {
     "slide_type": "subslide"
    }
   },
   "source": [
    "In the IOB tagging scheme:\n",
    "\n",
    "+ `I-[label]` can logically **only** appear after `B-[label]`!\n",
    "\n",
    "The following can **never** be valid tag sequences:\n",
    "\n",
    "* `O  I-per`\n",
    "\n",
    "* `B-per  I-geo`\n"
   ]
  },
  {
   "cell_type": "markdown",
   "metadata": {
    "slideshow": {
     "slide_type": "subslide"
    }
   },
   "source": [
    "What if we went from this...\n",
    "\n",
    "$$\n",
    "p_\\params(\\y|\\x) = \\prod_{i=1}^n p_\\params(y_i|\\x,i)\n",
    "$$\n",
    "\n",
    "...to this?\n",
    "\n",
    "$$\n",
    "p_\\params(\\y|\\x) = \\prod_{i=1}^n p_\\params(y_i|\\x,y_{i-1},i)\n",
    "$$\n"
   ]
  },
  {
   "cell_type": "markdown",
   "metadata": {
    "slideshow": {
     "slide_type": "fragment"
    }
   },
   "source": [
    "### First-order Markov assumption\n",
    "\n",
    "* Probability of a label depends only on the previous label\n"
   ]
  },
  {
   "cell_type": "markdown",
   "metadata": {
    "slideshow": {
     "slide_type": "subslide"
    }
   },
   "source": [
    "### Example\n",
    "\n",
    "$$\n",
    "\\prob_\\params(\\text{\"O I-per I-per\"} \\bar \\text{\"president Bill Clinton\"}) = \\\\\n",
    "\\prob_\\params(\\text{\"O\"}\\bar \\text{\"president Bill Clinton\"},\\text{\"<PAD>\"},1) ~ \\cdot \\\\\n",
    "\\prob_\\params(\\text{\"I-per\"} \\bar \\text{\"president Bill Clinton\"},\\text{\"O\"},2) ~ \\cdot \\\\\n",
    "\\prob_\\params(\\text{\"I-per\"} \\bar \\text{\"president Bill Clinton\"},\\text{\"I-per\"},3) \\\\\n",
    "$$"
   ]
  },
  {
   "cell_type": "markdown",
   "metadata": {
    "slideshow": {
     "slide_type": "slide"
    }
   },
   "source": [
    "## Maximum Entropy Markov Models (MEMM)\n",
    "\n",
    "Log-linear version with access to previous label: \n",
    "\n",
    "$$\n",
    "  p_\\params(y_i|\\x,y_{i-1},i) = \\frac{1}{Z_{\\x,y_{i-1},i}} \\exp \\langle \\repr(\\x,y_{i-1},i),\\params_{y_i} \\rangle\n",
    "$$\n",
    "\n",
    "where $Z_{\\x,y_{i-1},i}=\\sum_y \\exp \\langle \\repr(\\x,y_{i-1},i),\\params_{y_i} \\rangle $ is a *local* per-token normalisation factor"
   ]
  },
  {
   "cell_type": "markdown",
   "metadata": {
    "slideshow": {
     "slide_type": "subslide"
    }
   },
   "source": [
    "### Training MEMMs\n",
    "Optimising the conditional likelihood \n",
    "\n",
    "$$\n",
    "\\sum_{(\\x,\\y) \\in \\train} \\log \\prob_\\params(\\y|\\x)\n",
    "$$"
   ]
  },
  {
   "cell_type": "markdown",
   "metadata": {
    "slideshow": {
     "slide_type": "fragment"
    }
   },
   "source": [
    "Decomposes nicely: \n",
    "$$\n",
    "\\sum_{(\\x,\\y) \\in \\train} \\sum_{i=1}^{|\\x|} \\log \\prob_\\params(y_i|\\x,y_{i-1},i)   \n",
    "$$"
   ]
  },
  {
   "cell_type": "markdown",
   "metadata": {
    "slideshow": {
     "slide_type": "subslide"
    }
   },
   "source": [
    "Easy to train\n",
    "* Equivalent to a **logistic regression objective** for a classifier that assigns labels based on previous gold labels"
   ]
  },
  {
   "cell_type": "markdown",
   "metadata": {
    "slideshow": {
     "slide_type": "subslide"
    }
   },
   "source": [
    "However...\n",
    "\n",
    "### Local normalization introduces *label bias*\n",
    "\n",
    "+ Tag probabilities always sum to 1 at each position\n",
    "+ Can lead to MEMMs effectively \"ignoring\" the inputs"
   ]
  },
  {
   "cell_type": "markdown",
   "metadata": {
    "slideshow": {
     "slide_type": "slide"
    }
   },
   "source": [
    "## Conditional Random Fields (CRF)\n",
    "\n",
    "Replace *local* with *global* normalization:\n",
    "\n",
    "$$\n",
    "  p_\\params(y_i|\\x,y_{i-1},i) = \\frac{1}{Z_{\\x}} \\exp \\langle \\repr(\\x,y_{i-1},i),\\params_{y_i} \\rangle\n",
    "$$\n",
    "\n",
    "where $Z_{\\x}=\\sum_\\y   \\prod_i^{|\\x|} \\exp \\langle \\repr(\\x,y_{i-1},i), \\params_{y_i} \\rangle$ is the *partition function*"
   ]
  },
  {
   "cell_type": "markdown",
   "metadata": {
    "slideshow": {
     "slide_type": "fragment"
    }
   },
   "source": [
    "***\n",
    "\n",
    "+ More precisely, this is a **linear-chain CRF**.\n",
    "\n",
    "  (CRFs can be applied to any graph structure, but we are only considering sequences.)\n"
   ]
  },
  {
   "cell_type": "markdown",
   "metadata": {
    "slideshow": {
     "slide_type": "subslide"
    }
   },
   "source": [
    "## &#128077;\n",
    "\n",
    "+ Finds globally optimal set of features\n",
    "+ Eliminates label bias\n",
    "\n",
    "## &#128078;\n",
    "\n",
    "+ More difficult to train (—cannot break down into local terms anymore!)"
   ]
  },
  {
   "cell_type": "markdown",
   "metadata": {
    "slideshow": {
     "slide_type": "slide"
    }
   },
   "source": [
    "The best of both worlds?\n",
    "\n",
    "## BiLSTM-CRF\n",
    "\n",
    "+ We can **combine** our bi-directional LSTM model with a CRF!"
   ]
  },
  {
   "cell_type": "markdown",
   "metadata": {
    "slideshow": {
     "slide_type": "subslide"
    }
   },
   "source": [
    "<center>\n",
    "  <img src=\"../img/ner_bilstm.png\">\n",
    "</center>"
   ]
  },
  {
   "cell_type": "markdown",
   "metadata": {
    "slideshow": {
     "slide_type": "subslide"
    }
   },
   "source": [
    "<center>\n",
    "  <img src=\"../img/ner_bilstm_crf.png\">\n",
    "</center>"
   ]
  },
  {
   "cell_type": "markdown",
   "metadata": {
    "slideshow": {
     "slide_type": "slide"
    }
   },
   "source": [
    "## Prediction in MEMMs, CRFs, BiLSTM-CRFs, ...\n",
    "\n",
    "To predict the best label sequence, find a $\\y^*$ with maximal conditional probability\n",
    "\n",
    "$$\n",
    "\\y^* =\\argmax_\\y \\prob_\\params(\\y|\\x).\n",
    "$$"
   ]
  },
  {
   "cell_type": "markdown",
   "metadata": {
    "slideshow": {
     "slide_type": "fragment"
    }
   },
   "source": [
    "### Problem\n",
    "\n",
    "We cannot simply choose each label in isolation because **decisions depend on each other.**"
   ]
  },
  {
   "cell_type": "markdown",
   "metadata": {
    "slideshow": {
     "slide_type": "subslide"
    }
   },
   "source": [
    "## Greedy prediction\n",
    "\n",
    "Simplest option:\n",
    "* Choose highest scoring label for token 1\n",
    "* Choose highest scoring label for token 2, conditioned on best label from 1\n",
    "* etc."
   ]
  },
  {
   "cell_type": "markdown",
   "metadata": {
    "slideshow": {
     "slide_type": "fragment"
    }
   },
   "source": [
    "But...\n",
    "\n",
    "+ May lead to **search errors** when returned $\\y^*$ is not highest scoring **global** solution"
   ]
  },
  {
   "cell_type": "markdown",
   "metadata": {
    "slideshow": {
     "slide_type": "subslide"
    }
   },
   "source": [
    "## Beam Search\n",
    "\n",
    "Keep a \"beam\" of the best $\\beta$ previous solutions\n",
    "\n",
    "1. Choose $\\beta$ highest scoring labels for token 1\n",
    "2. 1. For each of the previous $\\beta$ labels: Predict probabilities for next label, conditioned on the previous label(s)\n",
    "   2. **Sum** the probabilities for previous states and next label\n",
    "   3. **Prune** the beam by only keeping the top $\\beta$ paths\n",
    "3. Repeat until end of sequence"
   ]
  },
  {
   "cell_type": "markdown",
   "metadata": {
    "slideshow": {
     "slide_type": "slide"
    }
   },
   "source": [
    "## Summary\n",
    "* Many problems can be cast as sequence labeling\n",
    "* Solution 1: Sequence of linear regression classifiers\n",
    "    * Rely on good feature engineering\n",
    "* Solution 2: Recurrent neural networks (e.g., bidirectional LSTMs)\n",
    "    * Rely on substantial amounts of training data\n",
    "* Solution 3: CRFs to model label dependencies\n",
    "    * Can be stacked on top of neural networks\n",
    "    * Require non-trivial search algorithms\n",
    "    * ...but greedy and beam search often work well\n"
   ]
  },
  {
   "cell_type": "markdown",
   "metadata": {
    "slideshow": {
     "slide_type": "slide"
    }
   },
   "source": [
    "## Background Material \n",
    "* Jurafsky & Martin, Speech and Language Processing, [§8.4 and §8.5](https://web.stanford.edu/~jurafsky/slp3/8.pdf) introduces Markov chains, HMMs, & MEMMs\n",
    "* Tutorial on CRFs: Sutton & McCallum, [An Introduction to Conditional Random Fields for Relational Learning](https://people.cs.umass.edu/~mccallum/papers/crf-tutorial.pdf)\n",
    "* LSTM-CRF architecture: Huang et al., [Bidirectional LSTM-CRF for Sequence Tagging](https://arxiv.org/pdf/1508.01991v1.pdf)\n"
   ]
  },
  {
   "cell_type": "code",
   "execution_count": null,
   "metadata": {
    "slideshow": {
     "slide_type": "skip"
    }
   },
   "outputs": [],
   "source": []
  },
  {
   "cell_type": "code",
   "execution_count": 21,
   "metadata": {
    "slideshow": {
     "slide_type": "skip"
    }
   },
   "outputs": [
    {
     "data": {
      "image/png": "[encoded data removed]"
     },
     "metadata": {},
     "output_type": "display_data"
    }
   ],
   "source": [
    "%%tikz -l arrows,positioning -s 1100,500 -sc 0.7\n",
    "\n",
    "  \\tikzset{state/.style={draw,rectangle,minimum height=1.5em,minimum width=2em,\n",
    "                         inner xsep=1em,inner ysep=0.5em,fill=gray!10},\n",
    "           addstate/.style={draw,circle,inner sep=0.2em,fill=gray!10},\n",
    "           emptystate/.style={inner sep=0.4em,text height=0.6em,text depth=0.2em},\n",
    "           outer/.style={outer sep=0},\n",
    "           label/.style={align=center,font=\\bfseries\\itshape\\small,text height=0.5em}}\n",
    "\n",
    "     \\node[emptystate]    (I1)    at  (0, 0.0)  {Barack};\n",
    "     \\node[emptystate]    (I2)    at  (3, 0.0)  {Obama};\n",
    "     \\node[emptystate]    (I3)    at  (6, 0.0)  {visits};\n",
    "     \\node[emptystate]    (I4)    at  (9, 0.0)  {Denmark};\n",
    "\n",
    "     \\node[state]         (FRNN1)  at  (-0.5, 1.5)  {};\n",
    "     \\node[state]         (FRNN2)  at  ( 2.5, 1.5)  {};\n",
    "     \\node[state]         (FRNN3)  at  ( 5.5, 1.5)  {};\n",
    "     \\node[state]         (FRNN4)  at  ( 8.5, 1.5)  {};\n",
    "\n",
    "     \\node[state]         (BRNN1)  at  (0.5, 3.0)  {};\n",
    "     \\node[state]         (BRNN2)  at  (3.5, 3.0)  {};\n",
    "     \\node[state]         (BRNN3)  at  (6.5, 3.0)  {};\n",
    "     \\node[state]         (BRNN4)  at  (9.5, 3.0)  {};\n",
    "\n",
    "     \\node[addstate]      (A1)    at  (0, 4.5)  {$\\oplus$};\n",
    "     \\node[addstate]      (A2)    at  (3, 4.5)  {$\\oplus$};\n",
    "     \\node[addstate]      (A3)    at  (6, 4.5)  {$\\oplus$};\n",
    "     \\node[addstate]      (A4)    at  (9, 4.5)  {$\\oplus$};\n",
    "\n",
    "     \\node[state]    (CRF1)    at  (0, 6.0)  {};\n",
    "     \\node[state]    (CRF2)    at  (3, 6.0)  {};\n",
    "     \\node[state]    (CRF3)    at  (6, 6.0)  {};\n",
    "     \\node[state]    (CRF4)    at  (9, 6.0)  {};\n",
    "    \n",
    "     \\node[emptystate]    (O1)    at  (0, 7.5)  {B-per};\n",
    "     \\node[emptystate]    (O2)    at  (3, 7.5)  {I-per};\n",
    "     \\node[emptystate]    (O3)    at  (6, 7.5)  {O};\n",
    "     \\node[emptystate]    (O4)    at  (9, 7.5)  {B-geo};\n",
    "\n",
    "     \\foreach \\step in {1,...,4} {\n",
    "       \\draw[->]          (I\\step) to (FRNN\\step);\n",
    "       \\draw[->]          (I\\step) to (BRNN\\step);\n",
    "       \\draw[->]          (FRNN\\step) to (A\\step);\n",
    "       \\draw[->]          (BRNN\\step) to (A\\step);\n",
    "       \\draw[->]          (A\\step) to (CRF\\step);\n",
    "       \\draw[->]          (CRF\\step) to (O\\step);\n",
    "     }\n",
    "\n",
    "     \\draw[->, densely dashed]  (FRNN1) to (FRNN2);\n",
    "     \\draw[->, densely dashed]  (FRNN2) to (FRNN3);\n",
    "     \\draw[->, densely dashed]  (FRNN3) to (FRNN4);\n",
    "     \\draw[->, densely dashed]  (BRNN4) to (BRNN3);\n",
    "     \\draw[->, densely dashed]  (BRNN3) to (BRNN2);\n",
    "     \\draw[->, densely dashed]  (BRNN2) to (BRNN1);\n"
   ]
  },
  {
   "cell_type": "code",
   "execution_count": 22,
   "metadata": {
    "slideshow": {
     "slide_type": "skip"
    }
   },
   "outputs": [
    {
     "data": {
      "image/png": "[encoded data removed]"
     },
     "metadata": {},
     "output_type": "display_data"
    }
   ],
   "source": [
    "%%tikz -l arrows,positioning -s 1100,500 -sc 0.7\n",
    "\n",
    "  \\tikzset{state/.style={draw,rectangle,minimum height=1.5em,minimum width=2em,\n",
    "                         inner xsep=1em,inner ysep=0.5em,fill=gray!10},\n",
    "           crfstate/.style={draw,rectangle,minimum height=1.5em,minimum width=20em,\n",
    "                         inner xsep=1em,inner ysep=0.5em,fill=gray!10},\n",
    "           addstate/.style={draw,circle,inner sep=0.2em,fill=gray!10},\n",
    "           emptystate/.style={inner sep=0.4em,text height=0.6em,text depth=0.2em},\n",
    "           outer/.style={outer sep=0},\n",
    "           label/.style={align=center,font=\\bfseries\\itshape\\small,text height=0.5em}}\n",
    "\n",
    "     \\node[emptystate]    (I1)    at  (0, 0.0)  {Barack};\n",
    "     \\node[emptystate]    (I2)    at  (3, 0.0)  {Obama};\n",
    "     \\node[emptystate]    (I3)    at  (6, 0.0)  {visits};\n",
    "     \\node[emptystate]    (I4)    at  (9, 0.0)  {Denmark};\n",
    "\n",
    "     \\node[state]         (FRNN1)  at  (-0.5, 1.5)  {};\n",
    "     \\node[state]         (FRNN2)  at  ( 2.5, 1.5)  {};\n",
    "     \\node[state]         (FRNN3)  at  ( 5.5, 1.5)  {};\n",
    "     \\node[state]         (FRNN4)  at  ( 8.5, 1.5)  {};\n",
    "\n",
    "     \\node[state]         (BRNN1)  at  (0.5, 3.0)  {};\n",
    "     \\node[state]         (BRNN2)  at  (3.5, 3.0)  {};\n",
    "     \\node[state]         (BRNN3)  at  (6.5, 3.0)  {};\n",
    "     \\node[state]         (BRNN4)  at  (9.5, 3.0)  {};\n",
    "\n",
    "     \\node[addstate]      (A1)    at  (0, 4.5)  {$\\oplus$};\n",
    "     \\node[addstate]      (A2)    at  (3, 4.5)  {$\\oplus$};\n",
    "     \\node[addstate]      (A3)    at  (6, 4.5)  {$\\oplus$};\n",
    "     \\node[addstate]      (A4)    at  (9, 4.5)  {$\\oplus$};\n",
    "\n",
    "     \\node[crfstate]      (CRF)   at  (4.5, 6.0) {CRF};\n",
    "     \\node[emptystate]    (CRF1)    at  (0, 6.0)  {};\n",
    "     \\node[emptystate]    (CRF2)    at  (3, 6.0)  {};\n",
    "     \\node[emptystate]    (CRF3)    at  (6, 6.0)  {};\n",
    "     \\node[emptystate]    (CRF4)    at  (9, 6.0)  {};\n",
    "    \n",
    "     \\node[emptystate]    (O1)    at  (0, 7.5)  {B-per};\n",
    "     \\node[emptystate]    (O2)    at  (3, 7.5)  {I-per};\n",
    "     \\node[emptystate]    (O3)    at  (6, 7.5)  {O};\n",
    "     \\node[emptystate]    (O4)    at  (9, 7.5)  {B-geo};\n",
    "\n",
    "     \\foreach \\step in {1,...,4} {\n",
    "       \\draw[->]          (I\\step) to (FRNN\\step);\n",
    "       \\draw[->]          (I\\step) to (BRNN\\step);\n",
    "       \\draw[->]          (FRNN\\step) to (A\\step);\n",
    "       \\draw[->]          (BRNN\\step) to (A\\step);\n",
    "       \\draw[->]          (A\\step) to (CRF\\step);\n",
    "       \\draw[->]          (CRF\\step) to (O\\step);\n",
    "     }\n",
    "\n",
    "     \\draw[->, densely dashed]  (FRNN1) to (FRNN2);\n",
    "     \\draw[->, densely dashed]  (FRNN2) to (FRNN3);\n",
    "     \\draw[->, densely dashed]  (FRNN3) to (FRNN4);\n",
    "     \\draw[->, densely dashed]  (BRNN4) to (BRNN3);\n",
    "     \\draw[->, densely dashed]  (BRNN3) to (BRNN2);\n",
    "     \\draw[->, densely dashed]  (BRNN2) to (BRNN1);\n"
   ]
  }
 ],
 "metadata": {
  "celltoolbar": "Slideshow",
  "kernelspec": {
   "display_name": "Python 3",
   "language": "python",
   "name": "python3"
  },
  "language_info": {
   "codemirror_mode": {
    "name": "ipython",
    "version": 3
   },
   "file_extension": ".py",
   "mimetype": "text/x-python",
   "name": "python",
   "nbconvert_exporter": "python",
   "pygments_lexer": "ipython3",
   "version": "3.7.4"
  }
 },
 "nbformat": 4,
 "nbformat_minor": 1
}
