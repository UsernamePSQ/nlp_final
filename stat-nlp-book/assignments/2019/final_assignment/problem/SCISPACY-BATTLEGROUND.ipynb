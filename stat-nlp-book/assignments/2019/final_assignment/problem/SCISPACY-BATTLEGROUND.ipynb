{
 "cells": [
  {
   "cell_type": "code",
   "execution_count": 1,
   "metadata": {},
   "outputs": [],
   "source": [
    "#! SETUP 1\n",
    "import sys, os\n",
    "_snlp_book_dir = \"../../../../\"\n",
    "sys.path.append(_snlp_book_dir) \n",
    "import math\n",
    "from glob import glob\n",
    "from os.path import isfile, join\n",
    "from statnlpbook.vocab import Vocab\n",
    "from statnlpbook.scienceie import calculateMeasures\n",
    "import shutil\n",
    "import string"
   ]
  },
  {
   "cell_type": "code",
   "execution_count": null,
   "metadata": {},
   "outputs": [],
   "source": [
    "import pickle\n",
    "\n",
    "### To load objects\n",
    "import pickle\n",
    "def save_obj(obj, name ):\n",
    "    with open(name + '.pkl', 'wb') as f:\n",
    "        pickle.dump(obj, f, pickle.HIGHEST_PROTOCOL)\n",
    "def load_obj(name):\n",
    "    with open(name + '.pkl', 'rb') as f:\n",
    "        return pickle.load(f)\n",
    "\n",
    "# To get scispacy to work, you need to first install scispacy. Restart kernel, set installer to False\n",
    "# then run the pip install of the model and load. Otherwise it will not work for some reason.\n",
    "if False:\n",
    "    #https://github.com/allenai/scispacy\n",
    "    import numpy\n",
    "    #!pip install pybind11\n",
    "    #!pip install scispacy --no-deps\n",
    "    !pip install scispacy\n",
    "\n",
    "if False:\n",
    "    import scispacy\n",
    "    #!pip install https://s3-us-west-2.amazonaws.com/ai2-s2-scispacy/releases/v0.2.4/en_core_sci_lg-0.2.4.tar.gz\n",
    "    import spacy\n",
    "    !pip install https://s3-us-west-2.amazonaws.com/ai2-s2-scispacy/releases/v0.2.4/en_core_sci_sm-0.2.4.tar.gz\n",
    "    #!python -m spacy download en_core_sci_sm\n",
    "    #import en_core_sci_sm\n",
    "    #nlp = spacy.load(\"en_core_sci_lg\")\n",
    "    nlp = spacy.load(\"en_core_sci_sm\")\n",
    "\n",
    "    # lets pickle this kid\n",
    "    #save_obj(nlp, \"scispacy\")\n",
    "    nlp.to_disk(\"scispacy\")\n",
    "    # build package\n",
    "    !python -m spacy package scispacy scispacyout\n",
    "\n",
    "    del nlp\n",
    "    print(\"new POS/Lemma model saved.\")\n",
    "\n",
    "import spacy\n",
    "\n",
    "nlp = spacy.load(\"scispacyout/en_core_sci_sm-0.2.4/en_core_sci_sm/en_core_sci_sm-0.2.4\")\n",
    "#nlp = spacy.blank(\"en\").from_disk(\"scispacy\")\n",
    "nlp.tokenizer = nlp.tokenizer.tokens_from_list\n",
    "print(type(nlp))\n"
   ]
  }
 ],
 "metadata": {
  "kernelspec": {
   "display_name": "Python 3",
   "language": "python",
   "name": "python3"
  },
  "language_info": {
   "codemirror_mode": {
    "name": "ipython",
    "version": 3
   },
   "file_extension": ".py",
   "mimetype": "text/x-python",
   "name": "python",
   "nbconvert_exporter": "python",
   "pygments_lexer": "ipython3",
   "version": "3.6.2"
  }
 },
 "nbformat": 4,
 "nbformat_minor": 2
}
