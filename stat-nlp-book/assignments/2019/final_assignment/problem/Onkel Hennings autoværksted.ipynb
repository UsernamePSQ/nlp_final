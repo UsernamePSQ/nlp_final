{
 "cells": [
  {
   "cell_type": "code",
   "execution_count": 1,
   "metadata": {},
   "outputs": [],
   "source": [
    "%load_ext autoreload\n",
    "%autoreload 2\n",
    "%matplotlib inline"
   ]
  },
  {
   "cell_type": "code",
   "execution_count": 2,
   "metadata": {},
   "outputs": [],
   "source": [
    "#! SETUP 1\n",
    "import sys, os\n",
    "_snlp_book_dir = \"../../../../\"\n",
    "sys.path.append(_snlp_book_dir) \n",
    "import math\n",
    "from glob import glob\n",
    "from os.path import isfile, join\n",
    "from statnlpbook.vocab import Vocab\n",
    "from statnlpbook.scienceie import calculateMeasures\n",
    "import shutil\n",
    "import string"
   ]
  },
  {
   "cell_type": "code",
   "execution_count": 3,
   "metadata": {},
   "outputs": [],
   "source": [
    "### General modules\n",
    "import pprint\n",
    "from gensim.models import fasttext\n",
    "from gensim.models import KeyedVectors\n",
    "from copy import deepcopy\n",
    "from collections import Counter\n",
    "import numpy as np\n",
    "import pandas as pd\n",
    "\n",
    "### Our own modules\n",
    "from Extra_files.modules.load_and_save import load_scienceie, save_to_ann, reformat_to_save\n",
    "from Extra_files.modules.rules import _add_rules\n",
    "from Extra_files.modules.error_analysis import plot_confusion_matrix, get_dataframe\n",
    "from Extra_files.modules.DataPreparation import entityLocator, addPOStoDic, addLemmatoDic, inputPair, WordEmbedder\n",
    "from Extra_files.modules.MasterVocab import MasterVocab\n",
    "from Extra_files.modules.scaling import downscale\n",
    "from Extra_files.models.dummy_model import _sebastians_dummy_model\n",
    "from Extra_files.modules.Outputter import checkLegality, mostProbableYetLegal\n",
    "from Extra_files.modules.CalcMeasuresTMP import calcMeasures, normaliseAnn\n",
    "\n",
    "pp = pprint.PrettyPrinter(indent=1,depth = None, compact = True).pprint"
   ]
  },
  {
   "cell_type": "code",
   "execution_count": 4,
   "metadata": {},
   "outputs": [
    {
     "name": "stdout",
     "output_type": "stream",
     "text": [
      "Number of entities removed due to overlap: 269 out of 1330\n",
      "Number of entities not identified in text: 1 out of 1061\n",
      "Number of relations lost due to overlap: 10 out of 168\n",
      "Removed references.\n",
      "Concatenated 'i.e.' and 'e.g.'.\n"
     ]
    }
   ],
   "source": [
    "from pickle import load, dump\n",
    "\n",
    "# data_m_XY = dataX_Y_format(train_data,indices = True) \n",
    "# data_m_XY_dev = dataX_Y_format(dev_data,indices = True)\n",
    "# dump(data_m_XY, open('Extra_files/resources/train_ind.pkl', 'wb'))\n",
    "\n",
    "data_m_XY = load(open('Extra_files/resources/train_ind.pkl', 'rb'))\n",
    "data_m_XY_dev = load(open('Extra_files/resources/dev_ind.pkl', 'rb'))\n",
    "dev_data = load_scienceie(datadir=join(_snlp_book_dir, \"data\", \"scienceie\", \"dev\"))\n",
    "if False:\n",
    "    print(data_m_XY['metadata'][0])\n",
    "    pp(data_m_XY['data_X'][0])\n",
    "    print(data_m_XY['data_Y'][0])\n",
    "    \n",
    "data = dev_data[list(dev_data.keys())[10]] # this one has many relations"
   ]
  },
  {
   "cell_type": "code",
   "execution_count": 5,
   "metadata": {},
   "outputs": [
    {
     "name": "stdout",
     "output_type": "stream",
     "text": [
      "[('*', 'Synonym', 'T4', 'T3'), ('*', 'Synonym', 'T6', 'T5'),\n",
      " ('R1', 'Hyponym', 'T15', 'T31'), ('R2', 'Hyponym', 'T16', 'T31'),\n",
      " ('R3', 'Hyponym', 'T17', 'T31'), ('R4', 'Hyponym', 'T18', 'T31'),\n",
      " ('R5', 'Hyponym', 'T19', 'T31')]\n"
     ]
    }
   ],
   "source": [
    "pp(data['relations'])"
   ]
  },
  {
   "cell_type": "code",
   "execution_count": 6,
   "metadata": {},
   "outputs": [],
   "source": [
    "if False:\n",
    "    predictions = np.array([[0.4, 0.7, 0.3, 0.1], [0.8, 0.2, 0.5, 0.1], [0.5, 0.3, 0.6, 0.2], [0.9, 0.1, 0.0, 0.0]])\n",
    "    #mostProbableYetLegal(predictions)\n",
    "\n",
    "    # rank by highest probability\n",
    "    probs = np.max(predictions, axis = 1)\n",
    "    highestorder = np.argsort(probs)[::-1] #flip the order\n",
    "    print(highestorder)\n",
    "    # sort predictions\n",
    "    pred_sorted = predictions[highestorder]\n",
    "    legalpreds = []\n",
    "    checkpreds = []\n",
    "    for pred in pred_sorted:\n",
    "        print(legalpreds)\n",
    "        checkpreds = deepcopy(legalpreds)\n",
    "        checkpreds.append(pred)\n",
    "        print(legalpreds)\n",
    "        # append if legal\n",
    "        if checkLegality(checkpreds):\n",
    "            legalpreds.append(pred)\n",
    "        #end-if\n",
    "    #end-for\n",
    "    print(legalpreds)\n",
    "\n",
    "    print(\"the function\")\n",
    "    mostProbableYetLegal(predictions)"
   ]
  },
  {
   "cell_type": "code",
   "execution_count": 10,
   "metadata": {
    "scrolled": true
   },
   "outputs": [
    {
     "name": "stdout",
     "output_type": "stream",
     "text": [
      "(['T1\\tTask 910 937\\tpredict corrosion behaviour',\n",
      "  'T2\\tProcess 846 891\\tVolta potential differences in microstructure',\n",
      "  'T3\\tProcess 12 27\\tVolta potential', 'T4\\tProcess 29 30\\tΨ',\n",
      "  'T5\\tProcess 39 59\\tpotential difference',\n",
      "  'T6\\tProcess 12 27\\tVolta potential',\n",
      "  'T7\\tProcess 204 240\\telectrochemical behaviour of a metal',\n",
      "  'T8\\tProcess 254 292\\tscanning Kelvin probe force microscopy',\n",
      "  'T9\\tProcess 294 299\\tSKPFM', 'T10\\tTask 318 340\\tdetection of local EWF',\n",
      "  'T11\\tTask 378 405\\tVolta potential differences', 'T12\\tTask 407 409\\tΔΨ',\n",
      "  'T13\\tMaterial 422 449\\tatomic force microscopy tip',\n",
      "  'T14\\tMaterial 459 468\\tPt coated', 'T15\\tMaterial 478 491\\tmetal surface',\n",
      "  'T16\\tProcess 530 535\\tSKPFM', 'T17\\tProcess 621 636\\tVolta potential',\n",
      "  'T18\\tProcess 657 684\\tproperty of a metal surface',\n",
      "  'T19\\tProcess 168 188\\tmeasureable quantity',\n",
      "  'T20\\tProcess 12 27\\tVolta potential',\n",
      "  'T21\\tTask 704 740\\tunderstand electrochemical processes',\n",
      "  'T22\\tProcess 969 1018\\tlarger (ΔΨ) indicate increased surface reactivity',\n",
      "  'T24\\tProcess 1062 1089\\tVolta potential differences',\n",
      "  'T25\\tMaterial 1112 1119\\tdry air',\n",
      "  'T26\\tProcess 1130 1154\\tfree corrosion potential',\n",
      "  'T27\\tProcess 1156 1161\\tEcorr', 'T28\\tMaterial 235 240\\tmetal',\n",
      "  'T29\\tMaterial 568 579\\tambient air', 'T30\\tMaterial 671 684\\tmetal surface',\n",
      "  'T31\\tProcess 715 740\\telectrochemical processes',\n",
      "  'R\\tHyponym-of Process_39_59 Process_12_27',\n",
      "  'R\\tSynonym-of Process_254_292 Process_294_299',\n",
      "  'R\\tHyponym-of Process_168_188 Process_12_27',\n",
      "  'R\\tHyponym-of Process_715_740 Process_39_59',\n",
      "  'R\\tSynonym-of Process_1130_1154 Process_1156_1161',\n",
      "  'R\\tSynonym-of Task_378_405 Task_407_409',\n",
      "  'R\\tHyponym-of Process_12_27 Process_39_59',\n",
      "  'R\\tHyponym-of Process_657_684 Process_621_636'],\n",
      " ['Task 910 937', 'Process 846 891', 'Process 12 27', 'Process 29 30',\n",
      "  'Process 39 59', 'Process 12 27', 'Process 204 240', 'Process 254 292',\n",
      "  'Process 294 299', 'Task 318 340', 'Task 378 405', 'Task 407 409',\n",
      "  'Material 422 449', 'Material 459 468', 'Material 478 491', 'Process 530 535',\n",
      "  'Process 621 636', 'Process 657 684', 'Process 168 188', 'Process 12 27',\n",
      "  'Task 704 740', 'Process 969 1018', 'Process 1062 1089', 'Material 1112 1119',\n",
      "  'Process 1130 1154', 'Process 1156 1161', 'Material 235 240',\n",
      "  'Material 568 579', 'Material 671 684', 'Process 715 740',\n",
      "  'Hyponym-of Process_39_59 Process_12_27',\n",
      "  'Synonym-of Process_254_292 Process_294_299',\n",
      "  'Hyponym-of Process_168_188 Process_12_27',\n",
      "  'Hyponym-of Process_715_740 Process_39_59',\n",
      "  'Synonym-of Process_1130_1154 Process_1156_1161',\n",
      "  'Synonym-of Task_378_405 Task_407_409',\n",
      "  'Hyponym-of Process_12_27 Process_39_59',\n",
      "  'Hyponym-of Process_657_684 Process_621_636'],\n",
      " ['910 937', '846 891', '12 27', '29 30', '39 59', '12 27', '204 240',\n",
      "  '254 292', '294 299', '318 340', '378 405', '407 409', '422 449', '459 468',\n",
      "  '478 491', '530 535', '621 636', '657 684', '168 188', '12 27', '704 740',\n",
      "  '969 1018', '1062 1089', '1112 1119', '1130 1154', '1156 1161', '235 240',\n",
      "  '568 579', '671 684', '715 740', 'Process_39_59 Process_12_27',\n",
      "  'Process_254_292 Process_294_299', 'Process_168_188 Process_12_27',\n",
      "  'Process_715_740 Process_39_59', 'Process_1130_1154 Process_1156_1161',\n",
      "  'Task_378_405 Task_407_409', 'Process_12_27 Process_39_59',\n",
      "  'Process_657_684 Process_621_636'],\n",
      " ['Hyponym-of Process_39_59 Process_12_27',\n",
      "  'Synonym-of Process_254_292 Process_294_299',\n",
      "  'Hyponym-of Process_168_188 Process_12_27',\n",
      "  'Hyponym-of Process_715_740 Process_39_59',\n",
      "  'Synonym-of Process_1130_1154 Process_1156_1161',\n",
      "  'Synonym-of Task_378_405 Task_407_409',\n",
      "  'Hyponym-of Process_12_27 Process_39_59',\n",
      "  'Hyponym-of Process_657_684 Process_621_636'])\n"
     ]
    }
   ],
   "source": [
    "targetann = open(\"fakeANN/fakePred/example.ann\", \"r\")\n",
    "pp(normaliseAnn(targetann, \"\"))\n",
    "targetann.close()"
   ]
  },
  {
   "cell_type": "code",
   "execution_count": 22,
   "metadata": {},
   "outputs": [
    {
     "name": "stdout",
     "output_type": "stream",
     "text": [
      "           precision   recall f1-score  support\n",
      "\n",
      "    Process     1.00     1.00     1.00       16\n",
      "   Material     1.00     1.00     1.00        7\n",
      "       Task     1.00     1.00     1.00        5\n",
      " Synonym-of     1.00     1.00     1.00        3\n",
      " Hyponym-of     0.33     1.00     0.50        2\n",
      "\n",
      "avg / total     0.89     1.00     0.94       33\n",
      "\n",
      "\n"
     ]
    },
    {
     "data": {
      "text/plain": [
       "{'Hyponym-of': {'f1-score': 0.5,\n",
       "  'precision': 0.3333333333333333,\n",
       "  'recall': 1.0,\n",
       "  'support': 2},\n",
       " 'Material': {'f1-score': 1.0, 'precision': 1.0, 'recall': 1.0, 'support': 7},\n",
       " 'Process': {'f1-score': 1.0, 'precision': 1.0, 'recall': 1.0, 'support': 16},\n",
       " 'Synonym-of': {'f1-score': 1.0,\n",
       "  'precision': 1.0,\n",
       "  'recall': 1.0,\n",
       "  'support': 3},\n",
       " 'Task': {'f1-score': 1.0, 'precision': 1.0, 'recall': 1.0, 'support': 5},\n",
       " 'overall': {'f1-score': 0.9428571428571428,\n",
       "  'precision': 0.8918918918918919,\n",
       "  'recall': 1.0,\n",
       "  'support': 33}}"
      ]
     },
     "execution_count": 22,
     "metadata": {},
     "output_type": "execute_result"
    }
   ],
   "source": [
    "calcMeasures(\"fakeANN/fakeGold/\", \"fakeANN/fakePred/\")"
   ]
  },
  {
   "cell_type": "markdown",
   "metadata": {},
   "source": [
    "**What works and when:**<br>\n",
    "[ ] Number of entities is below 2<br>\n",
    "[ ] Number of entities is below 2 and includes relations<br>\n",
    "[ ] Number of entities is below 2 and relations reference non-existing entities<br>\n",
    "[ ] Relations reference non-existing entities<br>\n",
    "[ ] Relation between the same entity: Hyponym-of Arg1:T1 Arg2:T1<br>\n",
    "[ ] Relation between the same entity: Synonym-of T1 T1<br>\n",
    "[ ] No ANN file (shouldn't happen but sure)<br>\n",
    "[ ] Circular relations: Hyponym-of Arg1:T1 Arg2:T2 & Hyponym-of Arg1:T2 Arg2:T1\n"
   ]
  }
 ],
 "metadata": {
  "kernelspec": {
   "display_name": "Python 3",
   "language": "python",
   "name": "python3"
  },
  "language_info": {
   "codemirror_mode": {
    "name": "ipython",
    "version": 3
   },
   "file_extension": ".py",
   "mimetype": "text/x-python",
   "name": "python",
   "nbconvert_exporter": "python",
   "pygments_lexer": "ipython3",
   "version": "3.6.2"
  }
 },
 "nbformat": 4,
 "nbformat_minor": 2
}
