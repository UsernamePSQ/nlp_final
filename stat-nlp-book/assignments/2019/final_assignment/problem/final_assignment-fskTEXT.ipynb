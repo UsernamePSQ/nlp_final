{
 "cells": [
  {
   "cell_type": "markdown",
   "metadata": {
    "hideCode": false,
    "hidePrompt": false
   },
   "source": [
    "# Final Assignment\n",
    "\n",
    "In this assignment, you will build a relation extraction model for scientific articles based on the [ScienceIE dataset](https://scienceie.github.io/) in a group of up to 3 students. This is the same dataset that was used for Assignment 2, where you had to train a model to extract keyphrases. You are welcome to build on code any team member already wrote for Assignment 2.\n",
    "\n",
    "You will build and train relation extraction models on the ScienceIE dataset. For this, you will also need to do data preprocessing to convert the ScienceIE data into a format suitable for training a relation extraction models. \n",
    "\n",
    "Your mark will depend on:\n",
    "\n",
    "* your **reasoning behind modelling choices** made\n",
    "* the correct **implementations** of your relation extraction models, and\n",
    "* the **performance** of your models on a held-out test set.\n",
    "\n",
    "To develop your model you have access to:\n",
    "\n",
    "* The data in `data/scienceie/`. Remember to un-tar the data.tar.gz file.\n",
    "* Libraries on the [docker image](https://cloud.docker.com/repository/docker/bjerva/stat-nlp-book) which contains everything in [this image](https://github.com/jupyter/docker-stacks/tree/master/scipy-notebook), including scikit-learn, torch 1.2.0 and tensorflow 1.14.0. \n",
    "\n",
    "\n",
    "As with the previous assignment, since we have to run the notebooks of all students, and because writing efficient code is important, your notebook should run in 10 minutes at most, including package loading time, on your machine.\n",
    "Furthermore, you are welcome to provide a saved version of your model with loading code. In this case loading, testing, and evaluation has to be done in 10 minutes. You can use the dev set to check if this is the case, and assume that it will be fine for the held-out test set if so."
   ]
  },
  {
   "cell_type": "markdown",
   "metadata": {
    "hideCode": false,
    "hidePrompt": false
   },
   "source": [
    "## Setup Instructions\n",
    "It is important that this file is placed in the **correct directory**. It will not run otherwise. The correct directory is\n",
    "\n",
    "    DIRECTORY_OF_YOUR_BOOK/assignments/2019/final_assignment/problem/\n",
    "    \n",
    "where `DIRECTORY_OF_YOUR_BOOK` is a placeholder for the directory you downloaded the book to. After you placed it there, **rename the file** to your UCPH ID (of the form `xxxxxx`). "
   ]
  },
  {
   "cell_type": "markdown",
   "metadata": {
    "hideCode": false,
    "hidePrompt": false
   },
   "source": [
    "## General Instructions\n",
    "This notebook will be used by you to provide your solution, and by us to both assess your solution and enter your marks. It contains three types of sections:\n",
    "\n",
    "1. **Setup** Sections: these sections set up code and resources for assessment. **Do not edit these**. \n",
    "2. **Assessment** Sections: these sections are used for both evaluating the output of your code, and for markers to enter their marks. **Do not edit these**. \n",
    "3. **Task** Sections: these sections require your solutions. They may contain stub code, and you are expected to edit this code. For free text answers simply edit the markdown field.  \n",
    "\n",
    "Note that you are free to **create additional notebook cells** within a task section. \n",
    "\n",
    "**Do not share** this assignment publicly, by uploading it online, emailing it to friends etc. \n",
    "\n",
    "**Do not** copy code from the Web or from other students, this will count as plagiarism."
   ]
  },
  {
   "cell_type": "markdown",
   "metadata": {
    "hideCode": false,
    "hidePrompt": false
   },
   "source": [
    "## Submission Instructions\n",
    "\n",
    "To submit your solution:\n",
    "\n",
    "* Make sure that your solution is fully contained in this notebook. \n",
    "* **Rename this notebook to your UCPH ID** (of the form \"xxxxxx\"), if you have not already done so.\n",
    "* Download the notebook in Jupyter via *File -> Download as -> Notebook (.ipynb)*.\n",
    "* Upload the notebook to Absalon.\n"
   ]
  },
  {
   "cell_type": "markdown",
   "metadata": {
    "hideCode": false,
    "hidePrompt": false
   },
   "source": [
    "## <font color='green'>Setup 1</font>: Load Libraries\n",
    "This cell loads libraries important for evaluation and assessment of your model. **Do not change it.**"
   ]
  },
  {
   "cell_type": "code",
   "execution_count": 3,
   "metadata": {},
   "outputs": [],
   "source": [
    "%load_ext autoreload\n",
    "%autoreload 2\n",
    "%matplotlib inline"
   ]
  },
  {
   "cell_type": "code",
   "execution_count": 4,
   "metadata": {
    "hideCode": false,
    "hidePrompt": false
   },
   "outputs": [],
   "source": [
    "#! SETUP 1\n",
    "import sys, os\n",
    "_snlp_book_dir = \"../../../../\"\n",
    "sys.path.append(_snlp_book_dir) \n",
    "import math\n",
    "from glob import glob\n",
    "from os.path import isfile, join\n",
    "from statnlpbook.vocab import Vocab\n",
    "from statnlpbook.scienceie import calculateMeasures\n",
    "import shutil\n",
    "import string"
   ]
  },
  {
   "cell_type": "markdown",
   "metadata": {
    "hideCode": false,
    "hidePrompt": false
   },
   "source": [
    "## <font color='blue'>Task 1</font>: Convert dataset between standoff and IOB format\n",
    "\n",
    "We want to work with [the ScienceIE dataset](https://scienceie.github.io) that can be found in the `data/scienceie/` directory of the repository.  This dataset comes with **standoff annotation** for keyphrases and relations between them.  This means that for each document in the dataset, there are two files: a `.txt` file with the raw sentences, and a `.ann` file with the annotated keyphrases.  \n",
    "\n",
    "For example, this is one of the `.txt` files from the training set:\n",
    "\n",
    "```\n",
    "Failure of structural components is a major concern in the nuclear power industry and represents not only a safety issue, but also a hazard to economic performance. Stress corrosion cracking (SCC), and especially intergranular stress corrosion cracking (IGSCC), have proved to be a significant potential cause of failures in the nuclear industry in materials such as Alloy 600 (74% Ni, 16% Cr and 8% Fe) and stainless steels, especially in Pressurised Water Reactors (PWR) [1–5]. Stress corrosion cracking in pressurized water reactors (PWSCC) occurs in Alloy 600 in safety critical components, such as steam generator tubes, heater sleeves, pressurized instrument penetrations and control rod drive mechanisms [2,6,7]. Understanding the mechanisms that control SCC in this alloy will allow for continued extensions of life in current plant as well as safer designs of future nuclear reactors.\n",
    "```\n",
    "\n",
    "And this is the corresponding `.ann` file:\n",
    "\n",
    "```\n",
    "T1\tMaterial 11 32\tstructural components\n",
    "T2\tProcess 0 32\tFailure of structural components\n",
    "T3\tProcess 254 259\tIGSCC\n",
    "T4\tProcess 213 252\tintergranular stress corrosion cracking\n",
    "*\tSynonym-of T4 T3\n",
    "T5\tProcess 165 190\tStress corrosion cracking\n",
    "T6\tProcess 192 195\tSCC\n",
    "*\tSynonym-of T5 T6\n",
    "T7\tMaterial 367 376\tAlloy 600\n",
    "T8\tMaterial 378 402\t74% Ni, 16% Cr and 8% Fe\n",
    "*\tSynonym-of T7 T8\n",
    "T9\tMaterial 408 424\tstainless steels\n",
    "T10\tMaterial 440 466\tPressurised Water Reactors\n",
    "T11\tMaterial 468 471\tPWR\n",
    "T12\tProcess 480 505\tStress corrosion cracking\n",
    "T13\tMaterial 509 535\tpressurized water reactors\n",
    "T14\tMaterial 537 542\tPWSCC\n",
    "*\tSynonym-of T13 T14\n",
    "T15\tMaterial 554 563\tAlloy 600\n",
    "T16\tMaterial 603 624\tsteam generator tubes\n",
    "T17\tMaterial 626 640\theater sleeves\n",
    "T18\tMaterial 642 677\tpressurized instrument penetrations\n",
    "T19\tMaterial 682 710\tcontrol rod drive mechanisms\n",
    "T20\tMaterial 762 765\tSCC\n",
    "T21\tMaterial 774 779\talloy\n",
    "T22\tMaterial 835 840\tplant\n",
    "T23\tTask 852 892\tsafer designs of future nuclear reactors\n",
    "T24\tMaterial 876 892\tnuclear reactors\n",
    "T25\tMaterial 567 593\tsafety critical components\n",
    "R1\tHyponym-of Arg1:T16 Arg2:T25\t\n",
    "R2\tHyponym-of Arg1:T17 Arg2:T25\t\n",
    "R3\tHyponym-of Arg1:T18 Arg2:T25\t\n",
    "R4\tHyponym-of Arg1:T19 Arg2:T25\n",
    "```"
   ]
  },
  {
   "cell_type": "markdown",
   "metadata": {},
   "source": [
    "Note: Besides keyphrases, which you are already familiar with from Assignment 2, the `.ann` files also contain relation annotations labeled `Hyponym-of` and `Synonym-of`. These are relations between keyphrases. \n",
    "\n",
    "`Synonym-of` is an undirected relation, meaning that if you see a line like this:\n",
    "\n",
    "```*\tSynonym-of T13 T14```\n",
    "\n",
    "The order of keyphrases could be swapped, i.e. the following would also hold:\n",
    "\n",
    "```*\tSynonym-of T14 T13```\n",
    "\n",
    "The evaluation script will thus be agnostic to the order in which the keyphrases between which `Synonym-of` relations hold are ordered.\n",
    "\n",
    "`Hyponym-of`, on the other hand, is a directed relation, meaning that it is order-sensitive, and that the evaluation script will take the order of keyphrases between which `Hyponym-of` relations hold into account."
   ]
  },
  {
   "cell_type": "markdown",
   "metadata": {},
   "source": [
    "The `.ann` standoff format is **documented in [the brat documentation](http://brat.nlplab.org/standoff.html).**  \n",
    "You may want to convert the format into some internal representation for training models; however, how you do that is up to you, i.e. you do not have to use IOB format like in Assignment 2. \n",
    "\n",
    "**Further Notes**:\n",
    "- At training time, you you will be provided with plain text documents and `.ann` files with keyphrases and relations\n",
    "- At test time, you will be provided with plain text documents and `.ann` files **with keyphrases only**. This is because your task is to predict relations.\n",
    "- The evaluation script is agnostic to the order of relation triples and relation ids, but should preserve the ids of the keyphrases that will be used in the predicted relations. The evaluation scripts requres the entity annotations to be present as well in the prediction file."
   ]
  },
  {
   "cell_type": "markdown",
   "metadata": {},
   "source": [
    "### Data pre-processing\n",
    "\n",
    "Bla bla bla <br>\n",
    "\n",
    "<img src=\"Extra_files/figures/Preprocessing.png\">\n"
   ]
  },
  {
   "cell_type": "markdown",
   "metadata": {},
   "source": [
    "### Module imports\n",
    "\n",
    "To highlight the important parts of the assignmen, most of the functions are written in modules in 'Extra_files/modules'. These are imported below."
   ]
  },
  {
   "cell_type": "code",
   "execution_count": 3,
   "metadata": {},
   "outputs": [],
   "source": [
    "### General modules\n",
    "import pprint\n",
    "from gensim.models import fasttext\n",
    "from gensim.models import KeyedVectors\n",
    "from copy import deepcopy\n",
    "from collections import Counter\n",
    "import matplotlib.pyplot as plt\n",
    "import numpy as np\n",
    "import pandas as pd\n",
    "\n",
    "pp = pprint.PrettyPrinter(compact = True).pprint\n",
    "\n",
    "### Our own modules\n",
    "from Extra_files.modules.load_and_save import load_scienceie, save_to_ann, reformat_to_save\n",
    "from Extra_files.modules.rules import _add_rules\n",
    "from Extra_files.modules.error_analysis import plot_confusion_matrix, get_dataframe, plot_correct_labels\n",
    "from Extra_files.modules.DataPreparation import entityLocator, addPOStoDic, addLemmatoDic, inputPair\n",
    "from Extra_files.modules.WordEmbedder import WordEmbedder\n",
    "from Extra_files.modules.MasterVocab import MasterVocab\n",
    "from Extra_files.modules.scaling import downscale, upscale\n",
    "from Extra_files.models.dummy_model import _sebastians_dummy_model"
   ]
  },
  {
   "cell_type": "markdown",
   "metadata": {},
   "source": [
    "### Load Sciencie\n",
    "\n",
    "The 'load_scienceie' converts the dataset from standoff to IOB format.<br>\n",
    "Due to overlapping sentences, some of the entities must be removed, and this also results in loss of relations. The exact numbers are printed. \n",
    "\n",
    "After having converted it to IOB-format, it removes references ([13],[14-16], etc.). These are defined as brackets with only integers, or the symbols '-', '-' or komma in.\n",
    "\n",
    "It also concatenates 'i.e.' and 'e.g.' to a single words. These are extensively used between hyponyms, and it is believed that it will be easier for the CNN implemented below to detect the importance of 'i.e.' than 'i', '.', 'e', '.'."
   ]
  },
  {
   "cell_type": "code",
   "execution_count": 4,
   "metadata": {},
   "outputs": [
    {
     "name": "stdout",
     "output_type": "stream",
     "text": [
      "Loading dev_data...\n",
      "Number of entities removed due to overlap: 269 out of 1330\n",
      "Number of entities not identified in text: 1 out of 1061\n",
      "Number of relations lost due to overlap: 10 out of 168\n",
      "Removed references.\n",
      "Concatenated 'i.e.' and 'e.g.'.\n",
      "Loading train_data...\n",
      "Number of entities removed due to overlap: 1337 out of 7405\n",
      "Number of entities not identified in text: 28 out of 6068\n",
      "Number of relations lost due to overlap: 50 out of 673\n",
      "Removed references.\n",
      "Concatenated 'i.e.' and 'e.g.'.\n"
     ]
    }
   ],
   "source": [
    "print(\"Loading dev_data...\")\n",
    "dev_data = load_scienceie(datadir=join(_snlp_book_dir, \"data\", \"scienceie\", \"dev\"))\n",
    "print(\"Loading train_data...\")\n",
    "train_data = load_scienceie(datadir=join(_snlp_book_dir, \"data\", \"scienceie\", \"train\"))"
   ]
  },
  {
   "cell_type": "markdown",
   "metadata": {},
   "source": [
    "### Spacy\n",
    "\n",
    "We download the spacy 'en' model to utilize its \"Part-of-Speech\" tagging and lemmatization for the words in our data. The data at hand, and in particularily the entities, are generally very scientific. This poses a challenge for the *'vanilla'* spacy package. There is an alternative package called scispacy which should perform better. Unfortunately, installing scispacy and downloading a suitable scientific model takes too much of our allowed running time. <br>\n",
    "In the cell below, we import and install our spacy model: <br>\n",
    "*NOTE:* We realized too late that you will install scispacy yourselves, and do not have time to fix this issue. Too bad..."
   ]
  },
  {
   "cell_type": "code",
   "execution_count": 1,
   "metadata": {},
   "outputs": [],
   "source": [
    "%%capture\n",
    "!python -m spacy download en\n",
    "import spacy\n",
    "nlp = spacy.load(\"en\")\n",
    "nlp.tokenizer = nlp.tokenizer.tokens_from_list"
   ]
  },
  {
   "cell_type": "markdown",
   "metadata": {},
   "source": [
    "### Generate Vocab classes for transformation to indices"
   ]
  },
  {
   "cell_type": "markdown",
   "metadata": {},
   "source": [
    "We generate three different vocabularies - one for words and lemma, one for Part-of-Speech and one for Entities. These vocabularies are all stored within our class \"MasterVocab\". This allows for seamless passing and controlling the vocabularies throughout the entire notebook.<br> The \"MasterVocab\" class contains a method that generates the three vocabularies from data and stores them internally. Additionally, the class has methods to map the raw X data input into indices via the respective vocabularies. Using an embedder class which will be introduced in the next cell, it can also return word embeddings for both the words and lemmas for our X data."
   ]
  },
  {
   "cell_type": "code",
   "execution_count": 6,
   "metadata": {},
   "outputs": [],
   "source": [
    "from pickle import load, dump\n",
    "\n",
    "# Generate the Vocab classes\n",
    "\n",
    "# vocab = MasterVocab(max_vocab_size = 4092)\n",
    "# vocab.generateVocabularies(train_data, nlp_language)\n",
    "# dump(vocab, open('Extra_files/resources/vocab.pkl', 'wb'))\n",
    "\n",
    "vocab = load(open('Extra_files/resources/vocab.pkl', 'rb'))\n"
   ]
  },
  {
   "cell_type": "markdown",
   "metadata": {},
   "source": [
    "### Model for FastText embedding"
   ]
  },
  {
   "cell_type": "markdown",
   "metadata": {},
   "source": [
    "The words and lemmas of our data is transformed into word embeddings via FastText. This has several benefits. It allows us to reduce the entire vocabulary of words into vectors of length 300 - the standard vector dimension for FastText. Given the amount of data we have available, we believe it to be futile to attempt to train our own word-embeddings without serious risk of overfitting. <br>\n",
    "\n",
    "**Our FastText Model**<br>\n",
    "We use the 'wiki-news-300d-1M' FastText model which contains vectors for a vocabulary of 1 million words. Naturally, we cannot use this model in its raw form due to our limitations on memory (2GB). Instead, we load in a smaller subset of that FastText model with a limit of vocabulary of 15'000 words. The scientific nature of data has the consequence that a lot of our tokens cannot be found in such a limited FastText model.<br>\n",
    "To alleviate this issue, we introduce another FastText model with a vocabulary of 350 000 words. We then check each token in our vocabulary from data. If a specific token is found in the rich FastText model, but not the limited one, we add the token to our limited FastText model from the rich FastText model. This approach means that we eventually add roughly 7500 extra words to the vocabulary of our limited FastText model - such that it contains a total of 22'5000 words. This results in a relatively small FastText model with an impressive 0.89% coverage of tokens in vocabulary from data. We save the final FastText model and discard the large model with 350'000 words to free up memory.\n",
    "<img src=\"Extra_files/figures/FastTextModel.png\">"
   ]
  },
  {
   "cell_type": "markdown",
   "metadata": {},
   "source": [
    "**Reducing dimensionality of FastText**<br>\n",
    "The FastText models all return word embeddings of a dimension of 300. This means that each token in our data would have a dimension of 600 from embedding the word and lemma alone. Even though we have quite a lot of data to work with, such a huge dimensionality significantly increases the risk of overfitting. On top of that it can introduce memory issues.<br>\n",
    "We reduce the dimensionality from 300 to 50 via 'Principal Component Analysis' (PCA). The PCA allows us to reduce the dimensionality effectively, such that we do not lose information than necessary. The illustration below shows the explained variance ratio as a function of components. Our choice of 50 components capture roughly 65% of the variability in our embeddings.\n",
    "\n",
    "<img src=\"Extra_files/figures/PCA_pic.png\">\n",
    "\n",
    "**The Embedding class:**<br>\n",
    "We implement the class \"WordEmbedder\" which can build, save and load the FastText model as described above. The class has a method 'getEmbedding' which returns the word embeddings if the token is found in our FastText model, otherwise it returns an array of zeros before the PCA transformation. Furthermore, we append an indicator of 0.0 if the token was found in the model or 1.0 if it did not. This indicator is appended after the PCA transformation to avoid it being distorted. This principle is illustrated below:\n",
    "\n",
    "<img src=\"Extra_files/figures/PCAFT.png\">\n",
    "\n",
    "The WordEmbedder uses the method \"loadEmbedder\" which loads in the FastText Model along with the pre-\"trained\" PCA."
   ]
  },
  {
   "cell_type": "code",
   "execution_count": 9,
   "metadata": {},
   "outputs": [
    {
     "name": "stdout",
     "output_type": "stream",
     "text": [
      "PCA model loaded from Extra_files/resources/PCA.pkl\n"
     ]
    }
   ],
   "source": [
    "engbedder = WordEmbedder()\n",
    "#engbedder.loadModel()\n",
    "#engbedder.loadPCA()\n",
    "engbedder.loadEmbedder() # loads both of the above in"
   ]
  },
  {
   "cell_type": "markdown",
   "metadata": {},
   "source": [
    "### Reshape IOBtags to traindata for model"
   ]
  },
  {
   "cell_type": "markdown",
   "metadata": {},
   "source": [
    "As outlined previously, our X data consists of only the data points between and including the two entities for which we wish to predict a relation. This requires us to transform the text files and IOB-annotations into the format above. The EntityLocator locates all the entities in our data file. From this list of entities, we set up an X data entry for each pair of Entities. The data is then finally transformed via a mapping to indices with or without word embeddings from FastText as explained above."
   ]
  },
  {
   "cell_type": "code",
   "execution_count": 10,
   "metadata": {},
   "outputs": [],
   "source": [
    "### I have splitted the functions but made it backwards compatible\n",
    "def dataX_Y_format(data, indices = False, embeddings = False, embedder = engbedder):\n",
    "    data_m_XY = dataX_Y_format_no_index(data)\n",
    "    data_m_XY = downscale(data_m_XY)\n",
    "    if indices or embeddings:\n",
    "        if embeddings:\n",
    "            data_m_XY = transform_to_embeddings(data_m_XY, embedder)\n",
    "        else:\n",
    "            data_m_XY = transform_to_indices(data_m_XY)\n",
    "        #end-if\n",
    "    return data_m_XY\n",
    "\n",
    "# Only without index\n",
    "def dataX_Y_format_no_index(data, nlp_language = nlp):\n",
    "    \n",
    "    metadata = []\n",
    "    data_X = []\n",
    "    data_Y = []\n",
    "        \n",
    "    for txt, file in data.items():\n",
    "        addPOStoDic(file, nlp_language)\n",
    "        addLemmatoDic(file, nlp_language)\n",
    "        entities = entityLocator(file)\n",
    "        \n",
    "        #Labels\n",
    "        labels = {}\n",
    "        labels['Synonyms']= [(rel[2],rel[3]) for rel in file['relations'] if rel[1] == 'Synonym']\n",
    "        labels['Hyponyms'] = [(rel[2],rel[3]) for rel in file['relations'] if rel[1] == 'Hyponym']\n",
    "        \n",
    "        # create a 'stair' of combinations\n",
    "        \n",
    "        for i in range(len(entities)):\n",
    "            for j in range(i+1, len(entities)):\n",
    "                \n",
    "                #Extrac X and annotation names\n",
    "                ann_names = (entities[i][0],entities[j][0])\n",
    "                ann_names_reverted = (entities[j][0],entities[i][0])\n",
    "                \n",
    "                metadata.append( (txt,entities[i][0],entities[j][0]))\n",
    "                \n",
    "                xdata = inputPair(entities[i], entities[j], file, nlp_language)\n",
    "                data_X.append(np.array(xdata))\n",
    "                \n",
    "                ### Extract label\n",
    "                if ann_names in labels['Hyponyms']:\n",
    "                    data_Y.append('Hyponym')\n",
    "                elif ann_names_reverted in labels['Hyponyms']:\n",
    "                    data_Y.append('Hypernym')\n",
    "                elif ann_names in labels['Synonyms'] or ann_names_reverted in labels['Synonyms']:\n",
    "                    data_Y.append('Synonym')\n",
    "                else:\n",
    "                    data_Y.append('NONE')\n",
    "                    \n",
    "\n",
    "    #We need it all in a single object\n",
    "    data = {'metadata': metadata, 'data_X': data_X, 'data_Y': data_Y, 'Vocab': vocab}\n",
    "    \n",
    "    return data\n",
    "\n",
    "#Transform to indices\n",
    "def transform_to_indices(data_m_XY):\n",
    "    '''\n",
    "    Inplace transform of words to indices\n",
    "    \n",
    "    Uses 'vocab' from global env.\n",
    "    '''\n",
    "    for idx in range(len(data_m_XY['data_Y'])):\n",
    "        data_m_XY['data_X'][idx] = vocab.transformX_toIndex(data_m_XY['data_X'][idx]) \n",
    "    \n",
    "    return data_m_XY\n",
    "\n",
    "# Transform to Embeddings & indices\n",
    "def transform_to_embeddings(data_m_XY, embedder):\n",
    "    '''\n",
    "    Inplace transform of words to embeddings and indices\n",
    "    \n",
    "    Uses 'vocab' from global env.\n",
    "    '''\n",
    "    for idx in range(len(data_m_XY['data_Y'])):\n",
    "        data_m_XY['data_X'][idx] = vocab.transformX_toEmbeddings(data_m_XY['data_X'][idx], embedder) \n",
    "    \n",
    "    return data_m_XY"
   ]
  },
  {
   "cell_type": "markdown",
   "metadata": {},
   "source": [
    "#### Reshaping tokens and IOBtags to train data"
   ]
  },
  {
   "cell_type": "code",
   "execution_count": 9,
   "metadata": {
    "scrolled": true
   },
   "outputs": [],
   "source": [
    "from pickle import load, dump\n",
    "\n",
    "# data_m_XY = dataX_Y_format(train_data,indices = True) \n",
    "# dump(data_m_XY, open('Extra_files/resources/train_ind.pkl', 'wb'))\n",
    "# data_m_XY_dev = dataX_Y_format(dev_data,indices = True)\n",
    "# dump(data_m_XY_dev, open('Extra_files/resources/dev_ind.pkl', 'wb'))\n",
    "\n",
    "data_m_XY = load(open('Extra_files/resources/train_ind.pkl', 'rb'))\n",
    "data_m_XY_dev = load(open('Extra_files/resources/dev_ind.pkl', 'rb'))\n",
    "train_keys = set(train_data.keys())\n",
    "dev_keys = set(dev_data.keys())\n",
    "\n",
    "if False:\n",
    "    print(data_m_XY['metadata'][0])\n",
    "    pp(data_m_XY['data_X'][0])\n",
    "    print(data_m_XY['data_Y'][0])\n",
    "    \n",
    "    print(data_m_XY['Vocab'].transformX_toLabel(data_m_XY['data_X'][0]))"
   ]
  },
  {
   "cell_type": "code",
   "execution_count": 10,
   "metadata": {},
   "outputs": [
    {
     "name": "stdout",
     "output_type": "stream",
     "text": [
      "Upscaling relations with factor 10\n",
      "Labels before scale: [('NONE', 11150), ('Hypernym', 256), ('Synonym', 225), ('Hyponym', 137)]\n",
      "Labels after scale: [('NONE', 11150), ('Hypernym', 2560), ('Synonym', 2250), ('Hyponym', 1370)]\n"
     ]
    }
   ],
   "source": [
    "data_m_XY2 = upscale(data_m_XY, 10)"
   ]
  },
  {
   "cell_type": "code",
   "execution_count": 11,
   "metadata": {},
   "outputs": [],
   "source": [
    "def cached_data_format(data, *args, **kwargs):\n",
    "    if set(data.keys())== train_keys:\n",
    "        return data_m_XY\n",
    "    elif set(data.keys())== dev_keys:\n",
    "        return data_m_XY_dev\n",
    "    else:\n",
    "        return dataX_Y_format(data, *args, **kwargs)"
   ]
  },
  {
   "cell_type": "markdown",
   "metadata": {},
   "source": [
    "#### Downscaling and upscaling\n",
    "<br>\n",
    "\n",
    "<img src=\"Extra_files/figures/Label_dist.png\">\n"
   ]
  },
  {
   "cell_type": "code",
   "execution_count": null,
   "metadata": {},
   "outputs": [],
   "source": [
    "# x = cached_data_format(train_data)  # should happen instantly"
   ]
  },
  {
   "cell_type": "code",
   "execution_count": 12,
   "metadata": {},
   "outputs": [],
   "source": [
    "train_X = data_m_XY2['data_X']\n",
    "train_Y = data_m_XY2['data_Y']"
   ]
  },
  {
   "cell_type": "code",
   "execution_count": 13,
   "metadata": {},
   "outputs": [],
   "source": [
    "dev_X = data_m_XY_dev['data_X']\n",
    "dev_Y = data_m_XY_dev['data_Y']"
   ]
  },
  {
   "cell_type": "code",
   "execution_count": 14,
   "metadata": {},
   "outputs": [],
   "source": [
    "## MW - QUICK MODEL - NEEDED GLOBAL VARIABLES \n",
    "\n",
    "# DON'T TOUCH, WILL BE MOVED / CLEANED\n",
    "\n",
    "from sklearn.preprocessing import OneHotEncoder\n",
    "enc = OneHotEncoder()\n",
    "### NfS\n",
    "enc.fit(np.asarray(data_m_XY['data_Y']).reshape(-1,1))\n",
    "# enc.fit(np.asarray(['Hyponym', 'Hypernym', 'NONE', 'Synonym']).reshape(-1,1))\n",
    "###\n",
    "\n",
    "def gen(xs, ys=None, once=False):\n",
    "    \"\"\"\n",
    "    Catch all function:\n",
    "        makes data trainable/predictable by yielding batches of single observations, i.e.\n",
    "        compatable with the input of the NN\n",
    "    \"\"\"\n",
    "    def to_col_list(sequence):\n",
    "        return [np.expand_dims(x,0) if i not in [1,2] else np.expand_dims(np.expand_dims(x,-1),0) for i, x in enumerate(list(np.swapaxes(sequence, 1,0)))]\n",
    "    def onehot(y):\n",
    "        return enc.transform(np.array(y).reshape(-1,1)).todense()\n",
    "\n",
    "    if ys is not None:\n",
    "        while True:\n",
    "            for x,y in zip(xs, ys):\n",
    "                yield to_col_list(x), onehot(y)\n",
    "            if once:\n",
    "                break\n",
    "    else:\n",
    "        while True:\n",
    "            for x in xs:\n",
    "                yield to_col_list(x)\n",
    "            if once:\n",
    "                break\n",
    "        \n",
    "# onehot(train_Y[0]).todense()\n",
    "    \n",
    "# for x,y in gen(train_X, train_Y):\n",
    "#     print(x)\n",
    "#     print(y.todense())\n",
    "#     break\n",
    "\n",
    "# for x,y in gen(train_X, train_Y):\n",
    "    \n",
    "#     print(enc.inverse_transform(m.predict(x))[0])\n",
    "#     break"
   ]
  },
  {
   "cell_type": "markdown",
   "metadata": {
    "hideCode": false,
    "hidePrompt": false
   },
   "source": [
    "## <font color='blue'>Task 1.1</font>: Develop and Train a Relation Extraction Model with Gold Keyphrases\n",
    "\n",
    "In this task, you develop a relation extraction model and apply it to the ScienceIE dataset.\n",
    "As input to it, at test time, you will have the plain input texts as well as `.ann` files containing gold (i.e. correct) keyphrase annotations. The output should be `.ann` files containing relations between those keyphrases (you should include the keyphrase annotations in the output file as well).\n",
    "\n",
    "A test input/output example is given in folders `data/scienceie/test/`,`data/scienceie/test_pred/`."
   ]
  },
  {
   "cell_type": "markdown",
   "metadata": {},
   "source": [
    "There are no strict requirements for how to design this model. You are expected to use the knowledge you have gathered throughout this course to design and implement this model. \n",
    "\n",
    "You are welcome to re-use existing code you might have written for other assignments as you see fit.\n",
    "\n",
    "You are free to implement your solution in either PyTorch or Tensorflow, but if you are not sure where to start, we recommend looking at the [Keras API](https://keras.io) which is [integrated into Tensorflow 1.14.0](https://www.tensorflow.org/beta/guide/keras/overview?hl=en)."
   ]
  },
  {
   "cell_type": "code",
   "execution_count": 15,
   "metadata": {},
   "outputs": [],
   "source": [
    "# You should improve this cell\n",
    "from Extra_files.modules.Dynamic_pooling import Dynamic_max_pooling\n",
    "from tensorflow.keras.models import Model\n",
    "from tensorflow.keras.layers import Dense, Embedding, Input, concatenate, Conv1D, Lambda, Flatten, Reshape\n",
    "from tensorflow.keras.losses import categorical_crossentropy  # , sparse_categorical_crossentropy\n",
    "\n",
    "def create_model(train_data, dev_data):\n",
    "    \"\"\"\n",
    "    Return an instance of a relation extraction model defined over the dataset.\n",
    "    Args:\n",
    "        train_data: the training data the relation extraction detection model should be defined over.\n",
    "        dev_data: the development data the relation extraction detection model can be tuned on.\n",
    "    Returns:\n",
    "        a relation extraction model\n",
    "    \"\"\"\n",
    "    ## PARAMETERS\n",
    "    \n",
    "    # Embeddings\n",
    "    vocab_size = 4092\n",
    "    entity_vocab_size = 20\n",
    "    pos_vocab_size = 20\n",
    "    \n",
    "    word_emb_dim = 50\n",
    "    entity_emb_dim = 10\n",
    "    pos_emb_dim = 10\n",
    "     \n",
    "    # Conv1D\n",
    "    filters = 20\n",
    "    conv_kernel_size = 1\n",
    "    conv_strides = 1\n",
    "    \n",
    "    # Pooling\n",
    "    dyn_out_len = 10\n",
    "    \n",
    "    ## LAYERS\n",
    "    \n",
    "    # Input\n",
    "    tokens = Input(batch_shape=(1, None))\n",
    "    relpos1 = Input(batch_shape=(1, None, 1))\n",
    "    relpos2 = Input(batch_shape=(1, None, 1))\n",
    "    entity = Input(batch_shape=(1, None))\n",
    "    pos = Input(batch_shape=(1, None))\n",
    "    lemma = Input(batch_shape=(1, None))\n",
    "    \n",
    "    # Embedding\n",
    "    word_emb = Embedding(vocab_size, word_emb_dim)(tokens)\n",
    "    entity_emb = Embedding(entity_vocab_size, entity_emb_dim)(entity)\n",
    "    pos_emb = Embedding(pos_vocab_size, pos_emb_dim)(pos)\n",
    "    lemma_emb = Embedding(vocab_size, word_emb_dim)(lemma)\n",
    "    \n",
    "    # Base-model\n",
    "    x = concatenate([word_emb, relpos1, relpos2, entity_emb, pos_emb, lemma_emb], axis=2)\n",
    "    x = Conv1D(filters=filters, kernel_size=conv_kernel_size, strides=conv_strides, activation='relu')(x)\n",
    "    x = Dynamic_max_pooling(filters, dyn_out_len)(x)\n",
    "    x = Flatten()(x)\n",
    "    x = Dense(4, activation='softmax')(x)  # 4 == n_classes in data (i.e. NOT a parameter)\n",
    "    \n",
    "    ## Create model\n",
    "    model = Model(inputs=[tokens, relpos1, relpos2, entity, pos, lemma], outputs=x)\n",
    "#     model.summary()\n",
    "\n",
    "    model.compile(loss=categorical_crossentropy,  # for onehot, for idx: sparse_categorical_crossentropy\n",
    "                  optimizer='adam',\n",
    "                  metrics=['accuracy'])\n",
    "    return model\n",
    "\n",
    "\n",
    "def train_model(model, train_data, dev_data):\n",
    "    \"\"\"Train a relation extraction model on the given dataset.\n",
    "    Args:\n",
    "        model: The model to train\n",
    "        data_train: The dataset to train on\n",
    "        dev_data: the development data the relation extraction detection model can be tuned on\n",
    "    \"\"\"\n",
    "    \n",
    "    ### Reformat with Skjøtt's functions\n",
    "#     data_m_XY_train = dataX_Y_format(train_data,indices = True)\n",
    "#     data_m_XY_dev = dataX_Y_format(dev_data,indices = True)\n",
    "    \n",
    "    ### Extract X and Y\n",
    "#     train_X = data_m_XY_train['data_X']\n",
    "#     train_Y = data_m_XY_train['data_Y']\n",
    "#     dev_X = data_m_XY_dev['data_X']\n",
    "#     dev_Y = data_m_XY_dev['data_Y']\n",
    "    \n",
    "    #### TENSORFLOW MODEL (BEGIN) ------------------------------------------\n",
    "    \n",
    "    ## PARAMETERS\n",
    "    epochs = 5\n",
    "    \n",
    "    model.fit_generator(gen(train_X, train_Y), steps_per_epoch=len(train_X), epochs=epochs)\n",
    "    #### TENSORFLOW MODEL (END) --------------------------------------------\n",
    "    \n",
    "    return\n",
    "\n",
    "def make_predictions(model, data, return_raw = False):\n",
    "    \"\"\"Makes predictions on a list of instances\n",
    "    Args:\n",
    "        model: The trained model\n",
    "        data: The dataset to evaluate on\n",
    "    Returns:\n",
    "        The model's predictions for the data.\n",
    "        If 'return_raw = True, it returns 'data_dict' (see below), else it returns reformatted data ready for saving.\n",
    "    \"\"\"\n",
    "    \n",
    "    ### Reformat and extract 'data_X'\n",
    "#     data_m_XY = dataX_Y_format(data,indices = True)\n",
    "#     data_X = data_m_XY['data_X']   \n",
    "    local_data_m_XY = deepcopy(data_m_XY_dev)       \n",
    "    #### TENSORFLOW MODEL (BEGIN) ------------------------------------------\n",
    "    \n",
    "#     predictions = data_m_XY['data_Y'] #The perfect model, this works\n",
    "    #predictions = _sebastians_dummy_model(data_m_XY, data)\n",
    "    predictions = []\n",
    "    for x in gen(dev_X, None, True):\n",
    "#     for x in gen(train_X, None, True):\n",
    "        predictions.append(model.predict(x))\n",
    "    predictions = list(np.squeeze(enc.inverse_transform(np.squeeze(np.asarray(predictions)))))\n",
    "\n",
    "    #### TENSORFLOW MODEL (END) --------------------------------------------\n",
    "    \n",
    "    \n",
    "    #local_data_m_XY = _add_rules(local_data_m_XY,data)\n",
    "    ### Save in correct format\n",
    "    local_data_m_XY['data_Y'] = predictions\n",
    "    if return_raw:\n",
    "        return local_data_m_XY\n",
    "    else:\n",
    "        #data = deepcopy(data)   ##### DOES NOT WORK ATM - USING GLOBAL VARS\n",
    "        save_format = reformat_to_save(local_data_m_XY)\n",
    "        for txt in data:\n",
    "            data[txt]['relations'] = save_format.get(txt,[]) #We might have txt's with no data after downscaling\n",
    "\n",
    "        return data\n"
   ]
  },
  {
   "cell_type": "code",
   "execution_count": 16,
   "metadata": {},
   "outputs": [
    {
     "name": "stdout",
     "output_type": "stream",
     "text": [
      "WARNING:tensorflow:From /opt/conda/lib/python3.6/site-packages/tensorflow/python/keras/initializers.py:119: calling RandomUniform.__init__ (from tensorflow.python.ops.init_ops) with dtype is deprecated and will be removed in a future version.\n",
      "Instructions for updating:\n",
      "Call initializer instance with the dtype argument instead of passing it to the constructor\n",
      "WARNING:tensorflow:From /opt/conda/lib/python3.6/site-packages/tensorflow/python/ops/init_ops.py:1251: calling VarianceScaling.__init__ (from tensorflow.python.ops.init_ops) with dtype is deprecated and will be removed in a future version.\n",
      "Instructions for updating:\n",
      "Call initializer instance with the dtype argument instead of passing it to the constructor\n",
      "Epoch 1/5\n",
      "WARNING:tensorflow:From /opt/conda/lib/python3.6/site-packages/tensorflow/python/ops/math_grad.py:277: add_dispatch_support.<locals>.wrapper (from tensorflow.python.ops.array_ops) is deprecated and will be removed in a future version.\n",
      "Instructions for updating:\n",
      "Use tf.where in 2.0, which has the same broadcast rule as np.where\n",
      "17330/17330 [==============================] - 353s 20ms/step - loss: 0.2187 - acc: 0.9309\n",
      "Epoch 2/5\n",
      "17330/17330 [==============================] - 324s 19ms/step - loss: 0.0241 - acc: 0.9936\n",
      "Epoch 3/5\n",
      "  511/17330 [..............................] - ETA: 8:36 - loss: 0.0180 - acc: 0.9902"
     ]
    },
    {
     "ename": "KeyboardInterrupt",
     "evalue": "",
     "output_type": "error",
     "traceback": [
      "\u001b[0;31m---------------------------------------------------------------------------\u001b[0m",
      "\u001b[0;31mKeyboardInterrupt\u001b[0m                         Traceback (most recent call last)",
      "\u001b[0;32m<ipython-input-16-5c6580b69018>\u001b[0m in \u001b[0;36m<module>\u001b[0;34m()\u001b[0m\n\u001b[1;32m      1\u001b[0m \u001b[0;31m# Create model\u001b[0m\u001b[0;34m\u001b[0m\u001b[0;34m\u001b[0m\u001b[0m\n\u001b[1;32m      2\u001b[0m \u001b[0mmodel\u001b[0m \u001b[0;34m=\u001b[0m \u001b[0mcreate_model\u001b[0m\u001b[0;34m(\u001b[0m\u001b[0mtrain_data\u001b[0m\u001b[0;34m,\u001b[0m \u001b[0mdev_data\u001b[0m\u001b[0;34m)\u001b[0m\u001b[0;34m\u001b[0m\u001b[0m\n\u001b[0;32m----> 3\u001b[0;31m \u001b[0mtrain_model\u001b[0m\u001b[0;34m(\u001b[0m\u001b[0mmodel\u001b[0m\u001b[0;34m,\u001b[0m \u001b[0mtrain_data\u001b[0m\u001b[0;34m,\u001b[0m \u001b[0mdev_data\u001b[0m\u001b[0;34m)\u001b[0m\u001b[0;34m\u001b[0m\u001b[0m\n\u001b[0m",
      "\u001b[0;32m<ipython-input-15-7237407cd169>\u001b[0m in \u001b[0;36mtrain_model\u001b[0;34m(model, train_data, dev_data)\u001b[0m\n\u001b[1;32m     89\u001b[0m     \u001b[0mepochs\u001b[0m \u001b[0;34m=\u001b[0m \u001b[0;36m5\u001b[0m\u001b[0;34m\u001b[0m\u001b[0m\n\u001b[1;32m     90\u001b[0m \u001b[0;34m\u001b[0m\u001b[0m\n\u001b[0;32m---> 91\u001b[0;31m     \u001b[0mmodel\u001b[0m\u001b[0;34m.\u001b[0m\u001b[0mfit_generator\u001b[0m\u001b[0;34m(\u001b[0m\u001b[0mgen\u001b[0m\u001b[0;34m(\u001b[0m\u001b[0mtrain_X\u001b[0m\u001b[0;34m,\u001b[0m \u001b[0mtrain_Y\u001b[0m\u001b[0;34m)\u001b[0m\u001b[0;34m,\u001b[0m \u001b[0msteps_per_epoch\u001b[0m\u001b[0;34m=\u001b[0m\u001b[0mlen\u001b[0m\u001b[0;34m(\u001b[0m\u001b[0mtrain_X\u001b[0m\u001b[0;34m)\u001b[0m\u001b[0;34m,\u001b[0m \u001b[0mepochs\u001b[0m\u001b[0;34m=\u001b[0m\u001b[0mepochs\u001b[0m\u001b[0;34m)\u001b[0m\u001b[0;34m\u001b[0m\u001b[0m\n\u001b[0m\u001b[1;32m     92\u001b[0m     \u001b[0;31m#### TENSORFLOW MODEL (END) --------------------------------------------\u001b[0m\u001b[0;34m\u001b[0m\u001b[0;34m\u001b[0m\u001b[0m\n\u001b[1;32m     93\u001b[0m \u001b[0;34m\u001b[0m\u001b[0m\n",
      "\u001b[0;32m/opt/conda/lib/python3.6/site-packages/tensorflow/python/keras/engine/training.py\u001b[0m in \u001b[0;36mfit_generator\u001b[0;34m(self, generator, steps_per_epoch, epochs, verbose, callbacks, validation_data, validation_steps, validation_freq, class_weight, max_queue_size, workers, use_multiprocessing, shuffle, initial_epoch)\u001b[0m\n\u001b[1;32m   1431\u001b[0m         \u001b[0mshuffle\u001b[0m\u001b[0;34m=\u001b[0m\u001b[0mshuffle\u001b[0m\u001b[0;34m,\u001b[0m\u001b[0;34m\u001b[0m\u001b[0m\n\u001b[1;32m   1432\u001b[0m         \u001b[0minitial_epoch\u001b[0m\u001b[0;34m=\u001b[0m\u001b[0minitial_epoch\u001b[0m\u001b[0;34m,\u001b[0m\u001b[0;34m\u001b[0m\u001b[0m\n\u001b[0;32m-> 1433\u001b[0;31m         steps_name='steps_per_epoch')\n\u001b[0m\u001b[1;32m   1434\u001b[0m \u001b[0;34m\u001b[0m\u001b[0m\n\u001b[1;32m   1435\u001b[0m   def evaluate_generator(self,\n",
      "\u001b[0;32m/opt/conda/lib/python3.6/site-packages/tensorflow/python/keras/engine/training_generator.py\u001b[0m in \u001b[0;36mmodel_iteration\u001b[0;34m(model, data, steps_per_epoch, epochs, verbose, callbacks, validation_data, validation_steps, validation_freq, class_weight, max_queue_size, workers, use_multiprocessing, shuffle, initial_epoch, mode, batch_size, steps_name, **kwargs)\u001b[0m\n\u001b[1;32m    262\u001b[0m \u001b[0;34m\u001b[0m\u001b[0m\n\u001b[1;32m    263\u001b[0m       \u001b[0mis_deferred\u001b[0m \u001b[0;34m=\u001b[0m \u001b[0;32mnot\u001b[0m \u001b[0mmodel\u001b[0m\u001b[0;34m.\u001b[0m\u001b[0m_is_compiled\u001b[0m\u001b[0;34m\u001b[0m\u001b[0m\n\u001b[0;32m--> 264\u001b[0;31m       \u001b[0mbatch_outs\u001b[0m \u001b[0;34m=\u001b[0m \u001b[0mbatch_function\u001b[0m\u001b[0;34m(\u001b[0m\u001b[0;34m*\u001b[0m\u001b[0mbatch_data\u001b[0m\u001b[0;34m)\u001b[0m\u001b[0;34m\u001b[0m\u001b[0m\n\u001b[0m\u001b[1;32m    265\u001b[0m       \u001b[0;32mif\u001b[0m \u001b[0;32mnot\u001b[0m \u001b[0misinstance\u001b[0m\u001b[0;34m(\u001b[0m\u001b[0mbatch_outs\u001b[0m\u001b[0;34m,\u001b[0m \u001b[0mlist\u001b[0m\u001b[0;34m)\u001b[0m\u001b[0;34m:\u001b[0m\u001b[0;34m\u001b[0m\u001b[0m\n\u001b[1;32m    266\u001b[0m         \u001b[0mbatch_outs\u001b[0m \u001b[0;34m=\u001b[0m \u001b[0;34m[\u001b[0m\u001b[0mbatch_outs\u001b[0m\u001b[0;34m]\u001b[0m\u001b[0;34m\u001b[0m\u001b[0m\n",
      "\u001b[0;32m/opt/conda/lib/python3.6/site-packages/tensorflow/python/keras/engine/training.py\u001b[0m in \u001b[0;36mtrain_on_batch\u001b[0;34m(self, x, y, sample_weight, class_weight, reset_metrics)\u001b[0m\n\u001b[1;32m   1173\u001b[0m       \u001b[0mself\u001b[0m\u001b[0;34m.\u001b[0m\u001b[0m_update_sample_weight_modes\u001b[0m\u001b[0;34m(\u001b[0m\u001b[0msample_weights\u001b[0m\u001b[0;34m=\u001b[0m\u001b[0msample_weights\u001b[0m\u001b[0;34m)\u001b[0m\u001b[0;34m\u001b[0m\u001b[0m\n\u001b[1;32m   1174\u001b[0m       \u001b[0mself\u001b[0m\u001b[0;34m.\u001b[0m\u001b[0m_make_train_function\u001b[0m\u001b[0;34m(\u001b[0m\u001b[0;34m)\u001b[0m\u001b[0;34m\u001b[0m\u001b[0m\n\u001b[0;32m-> 1175\u001b[0;31m       \u001b[0moutputs\u001b[0m \u001b[0;34m=\u001b[0m \u001b[0mself\u001b[0m\u001b[0;34m.\u001b[0m\u001b[0mtrain_function\u001b[0m\u001b[0;34m(\u001b[0m\u001b[0mins\u001b[0m\u001b[0;34m)\u001b[0m  \u001b[0;31m# pylint: disable=not-callable\u001b[0m\u001b[0;34m\u001b[0m\u001b[0m\n\u001b[0m\u001b[1;32m   1176\u001b[0m \u001b[0;34m\u001b[0m\u001b[0m\n\u001b[1;32m   1177\u001b[0m     \u001b[0;32mif\u001b[0m \u001b[0mreset_metrics\u001b[0m\u001b[0;34m:\u001b[0m\u001b[0;34m\u001b[0m\u001b[0m\n",
      "\u001b[0;32m/opt/conda/lib/python3.6/site-packages/tensorflow/python/keras/backend.py\u001b[0m in \u001b[0;36m__call__\u001b[0;34m(self, inputs)\u001b[0m\n\u001b[1;32m   3290\u001b[0m \u001b[0;34m\u001b[0m\u001b[0m\n\u001b[1;32m   3291\u001b[0m     fetched = self._callable_fn(*array_vals,\n\u001b[0;32m-> 3292\u001b[0;31m                                 run_metadata=self.run_metadata)\n\u001b[0m\u001b[1;32m   3293\u001b[0m     \u001b[0mself\u001b[0m\u001b[0;34m.\u001b[0m\u001b[0m_call_fetch_callbacks\u001b[0m\u001b[0;34m(\u001b[0m\u001b[0mfetched\u001b[0m\u001b[0;34m[\u001b[0m\u001b[0;34m-\u001b[0m\u001b[0mlen\u001b[0m\u001b[0;34m(\u001b[0m\u001b[0mself\u001b[0m\u001b[0;34m.\u001b[0m\u001b[0m_fetches\u001b[0m\u001b[0;34m)\u001b[0m\u001b[0;34m:\u001b[0m\u001b[0;34m]\u001b[0m\u001b[0;34m)\u001b[0m\u001b[0;34m\u001b[0m\u001b[0m\n\u001b[1;32m   3294\u001b[0m     output_structure = nest.pack_sequence_as(\n",
      "\u001b[0;32m/opt/conda/lib/python3.6/site-packages/tensorflow/python/client/session.py\u001b[0m in \u001b[0;36m__call__\u001b[0;34m(self, *args, **kwargs)\u001b[0m\n\u001b[1;32m   1456\u001b[0m         ret = tf_session.TF_SessionRunCallable(self._session._session,\n\u001b[1;32m   1457\u001b[0m                                                \u001b[0mself\u001b[0m\u001b[0;34m.\u001b[0m\u001b[0m_handle\u001b[0m\u001b[0;34m,\u001b[0m \u001b[0margs\u001b[0m\u001b[0;34m,\u001b[0m\u001b[0;34m\u001b[0m\u001b[0m\n\u001b[0;32m-> 1458\u001b[0;31m                                                run_metadata_ptr)\n\u001b[0m\u001b[1;32m   1459\u001b[0m         \u001b[0;32mif\u001b[0m \u001b[0mrun_metadata\u001b[0m\u001b[0;34m:\u001b[0m\u001b[0;34m\u001b[0m\u001b[0m\n\u001b[1;32m   1460\u001b[0m           \u001b[0mproto_data\u001b[0m \u001b[0;34m=\u001b[0m \u001b[0mtf_session\u001b[0m\u001b[0;34m.\u001b[0m\u001b[0mTF_GetBuffer\u001b[0m\u001b[0;34m(\u001b[0m\u001b[0mrun_metadata_ptr\u001b[0m\u001b[0;34m)\u001b[0m\u001b[0;34m\u001b[0m\u001b[0m\n",
      "\u001b[0;31mKeyboardInterrupt\u001b[0m: "
     ]
    }
   ],
   "source": [
    "# Create model\n",
    "model = create_model(train_data, dev_data)\n",
    "train_model(model, train_data, dev_data)\n"
   ]
  },
  {
   "cell_type": "code",
   "execution_count": 17,
   "metadata": {},
   "outputs": [
    {
     "name": "stdout",
     "output_type": "stream",
     "text": [
      "           precision   recall f1-score  support\n",
      "\n",
      "    Hyponym     0.00     0.00     0.00       47\n",
      "    Synonym     0.80     0.56     0.66       43\n",
      "   Hypernym     0.38     0.07     0.12       67\n",
      "\n",
      "avg / total     0.63     0.18     0.29      157\n",
      "\n",
      "\n"
     ]
    },
    {
     "data": {
      "image/png": "[encoded data removed]",
      "text/plain": [
       "<matplotlib.figure.Figure at 0x7faf2daaf710>"
      ]
     },
     "metadata": {},
     "output_type": "display_data"
    }
   ],
   "source": [
    "## THIS CELL TESTS THAT EVERYTHING WORKS AS EXPECTED (WITH F1-SCORE COPIED FROM CALCULATE-MEASURES) #####\n",
    "from Extra_files.modules.helpers import f1_score_ala_calc_measures\n",
    "\n",
    "#Make predictions\n",
    "y_base = make_predictions(model, dev_data, return_raw = True)['data_Y']\n",
    "y_true = dev_Y\n",
    "\n",
    "#Plot\n",
    "f1_score_ala_calc_measures(y_true, y_base)\n",
    "plot_confusion_matrix(y_true,y_base, n_labels=None,normalize=True)\n",
    "plt.show()"
   ]
  },
  {
   "cell_type": "code",
   "execution_count": null,
   "metadata": {},
   "outputs": [],
   "source": [
    "## This runs the correct calculateMeasures (which might not work yet due to illegal relations) #####\n",
    "#Load data\n",
    "dir_dev = join(_snlp_book_dir, \"data\", \"scienceie\", \"dev\")\n",
    "data_dev = load_scienceie(datadir=dir_dev)\n",
    "\n",
    "#Make predictions\n",
    "data_pred = make_predictions(_, data_dev)\n",
    "dir_pred = join(_snlp_book_dir, \"data\", \"scienceie\", \"dev_pred\")\n",
    "\n",
    "#Save and calculate\n",
    "save_to_ann(data_pred, dir_pred)\n",
    "calculateMeasures(dir_dev, dir_pred, \"keys\") # this will only evaluate the correctness of relations\n"
   ]
  },
  {
   "cell_type": "code",
   "execution_count": null,
   "metadata": {},
   "outputs": [],
   "source": [
    "# DO NOT MODIFY THIS CELL! It will evaluate your model on an unseen dataset!\n",
    "shutil.rmtree(join(_snlp_book_dir, \"data\", \"scienceie\", \"test_pred\")) # clean after previous\n",
    "\n",
    "data_train = load_scienceie(datadir=join(_snlp_book_dir, \"data\", \"scienceie\", \"train\"))\n",
    "data_dev = load_scienceie(datadir=join(_snlp_book_dir, \"data\", \"scienceie\", \"dev\"))\n",
    "\n",
    "model = create_model(data_train, data_dev)\n",
    "train_model(model, data_train, data_dev)\n",
    "\n",
    "data_test = load_scienceie(datadir=join(_snlp_book_dir, \"data\", \"scienceie\", \"test\"))\n",
    "data_pred = make_predictions(model, data_test)\n",
    "dir_pred = join(_snlp_book_dir, \"data\", \"scienceie\", \"test_pred\")\n",
    "save_to_ann(data_pred, dir_pred)\n",
    "\n",
    "dir_gold = join(_snlp_book_dir, \"data\", \"scienceie\", \"test_gold\")\n",
    "calculateMeasures(dir_gold, dir_pred, \"keys\") # this will only evaluate the correctness of relations"
   ]
  },
  {
   "cell_type": "markdown",
   "metadata": {},
   "source": [
    "## <font color='red'>Assessment 1.1</font>: Correctness of the implementation (20 pts)\n",
    "\n",
    "We assess if your code implements a correct relation extraction model (10 points):\n",
    "\n",
    "* 0-5 pts: the model does not run correctly or does not constitute a relation extraction model\n",
    "* 5-10 pts: the model correctly implements the requirements\n",
    "\n",
    "Additionally, we will assess how well your model performs on an unseen test set (10 points):\n",
    "\n",
    "* 0-5 pts: performance worse than a simple baseline model\n",
    "* 5-10 pts: performance better than a simple baseline model"
   ]
  },
  {
   "cell_type": "markdown",
   "metadata": {},
   "source": [
    "## <font color='blue'>Task 1.2</font>: Describe your Approach\n",
    "\n",
    "Enter a maximum 500 words description of your model developed in Task 1.1, its architecture, and the way you trained and tuned it. Motivate your choices, describing potential benefits and downsides."
   ]
  },
  {
   "cell_type": "markdown",
   "metadata": {},
   "source": [
    "## <font color='red'>Assessment 1.2</font>: Modelling Choices and Motivation (10 pts)\n",
    "\n",
    "\n",
    "Finally, we assess your modelling design choices and how you motivated them, which you summarised in the above cell (10 points):\n",
    "\n",
    "* 0-5 pts: the model design choices do not show high levels of creativity, e.g. re-using code from the lecture out of the box; and they are not moviated well\n",
    "* 5-10 pts: the model design choices show high levels of creativity, e.g. combining different things learned throughout the course, models inspired by further reading, etc.; and they are motivated well"
   ]
  },
  {
   "cell_type": "markdown",
   "metadata": {
    "hideCode": false,
    "hidePrompt": false
   },
   "source": [
    "## <font color='blue'>Task 2</font>: Relation Extraction with Weak Supervision\n",
    "\n",
    "In this task, the goal is to improve the performance of your model developed in Task 2 by obtaining more automatically labelled training data using a weak supervision approach. You are not required to change the relation extraction model architure, i.e. it is fine to re-use the one from Task 1, but instead, the requirements are to implement one or more weak supervision strategies.\n",
    "\n",
    "Some possible weak supervision methods for relation extraction will be introduced in the lecture Week 43 (https://github.com/copenlu/stat-nlp-book/blob/master/chapters/relation_extraction_slides.ipynb); the following blog post also serves as a good introduction to this topic: https://hazyresearch.github.io/snorkel/blog/ws_blog_post.html\n",
    "\n",
    "For this task, you are not confined to the training data provided to you, but you are welcome to obtain additional unlabelled datasets and automatically label them using weak supervision methods. \n",
    "\n",
    "The general setup will otherwise be the same as for Task 1:\n",
    "As input to it, you will have the plain input texts as well as `.ann` files containing gold (i.e. correct) keyphrase annotations. The output should be `.ann` files containing relations between those keyphrases.\n",
    "\n",
    "**Important notes**:\n",
    "- You must provide code for the functions below. \n",
    "- If running them on the full dataset exceeds the 10 minute limit, you are welcome to additionally provide a line of code that (down)loads the already weakly annotated data.\n",
    "- The maximum file size for weakly annotated data may not exceed 1GB.\n",
    "\n",
    "A test input/output example is given in folders `data/scienceie/test/`,`data/scienceie/test_pred/`."
   ]
  },
  {
   "cell_type": "code",
   "execution_count": null,
   "metadata": {},
   "outputs": [],
   "source": [
    "## Load Hypernyms from UMLS\n",
    "from Extra_files.modules.UMLS import add_UMLS\n",
    "\n",
    "#data_m_XY = add_UMLS(data_m_XY)"
   ]
  },
  {
   "cell_type": "markdown",
   "metadata": {},
   "source": [
    "<table>\n",
    "  <tr>\n",
    "    <th>Rule</th>\n",
    "    <th>Format</th>\n",
    "    <th>Description</th>\n",
    "  </tr>\n",
    "  <tr>\n",
    "    <td>Abbreviations are synonyms</td>\n",
    "    <td>XXXX (YYYY)</td>\n",
    "    <td>If the entity in the parenthesis is an abbreviation (capital letters), <br>and there is an entity right in front of the parenthesis, let these be synonyms.</td>\n",
    "  </tr>\n",
    "  <tr>\n",
    "    <td>Lists should have same relations</td>\n",
    "    <td>XXXX, YYYY, ZZZZ<br>XXXX, YYYY and ZZZZ<br>XXXX, YYYY or ZZZZ</td>\n",
    "    <td>Entities mentioned in a list can't have any relation to each other,<br> and are not Synonyms of anything. <br>If an entity has a Hyponym- or Hypernym-relation to an entity outside the list, <br>let them all have this relation.</td>\n",
    "  </tr>\n",
    "</table>"
   ]
  },
  {
   "cell_type": "code",
   "execution_count": 18,
   "metadata": {},
   "outputs": [],
   "source": [
    "# You should improve this cell\n",
    "\n",
    "def create_weak_model(train_data, dev_data, **args):\n",
    "    \"\"\"\n",
    "    Return an instance of a relation extraction model defined over the dataset.\n",
    "    Args:\n",
    "        train_data: the training data the relation extraction detection model should be defined over.\n",
    "        dev_data: the development data the relation extraction detection model can be tuned on.\n",
    "        **args: any additional arguments needed, e.g. additional automatically labelled training data\n",
    "    Returns:\n",
    "        a relation extraction model\n",
    "    \"\"\"\n",
    "    return model #Comes from previous problem\n",
    "\n",
    "def train_weak_model(model, train_data, dev_data, **args):\n",
    "    \"\"\"Train a relation extraction model on the given dataset.\n",
    "    Args:\n",
    "        model: The model to train\n",
    "        data_train: The dataset to train on\n",
    "        dev_data: the development data the relation extraction detection model can be tuned on\n",
    "        **args: any additional arguments needed, e.g. additional automatically labelled training data\n",
    "    \"\"\"\n",
    "    pass\n",
    "\n",
    "def make_predictions_weak(model, data, return_raw = False):\n",
    "    \"\"\"Makes predictions on a list of instances. Can be the same as function developed in Task 1.\n",
    "    Args:\n",
    "        model: The trained model\n",
    "        data: The dataset to evaluate on\n",
    "    Returns:\n",
    "        The model's predictions for the data.\n",
    "    \"\"\"\n",
    "    \n",
    "    local_data_m_XY = make_predictions(model,data,return_raw = True)\n",
    "    local_data_m_XY = _add_rules(local_data_m_XY,data)\n",
    "    \n",
    "    if return_raw == True:\n",
    "        return local_data_m_XY  \n",
    "    else:\n",
    "        save_format = reformat_to_save(local_data_m_XY)\n",
    "        for txt in data:\n",
    "            data[txt]['relations'] = save_format.get(txt,[]) #We might have txt's with no data after downscaling\n",
    "        return data\n",
    "\n"
   ]
  },
  {
   "cell_type": "code",
   "execution_count": 19,
   "metadata": {},
   "outputs": [
    {
     "name": "stdout",
     "output_type": "stream",
     "text": [
      "Number of forced synonyms: 8\n",
      "Number of removed synonyms: 1\n",
      "Number of removed hyponym-relations within list: 0\n",
      "Number of labels changed to hyponyms: 0\n",
      "Number of labels that would be changed but already in list of hyponyms: 0\n",
      "           precision   recall f1-score  support\n",
      "\n",
      "    Hyponym     0.00     0.00     0.00       47\n",
      "    Synonym     0.76     0.65     0.70       43\n",
      "   Hypernym     0.42     0.07     0.13       67\n",
      "\n",
      "avg / total     0.63     0.21     0.32      157\n",
      "\n",
      "\n"
     ]
    },
    {
     "data": {
      "image/png": "[encoded data removed]",
      "text/plain": [
       "<matplotlib.figure.Figure at 0x7faf2daaf908>"
      ]
     },
     "metadata": {},
     "output_type": "display_data"
    }
   ],
   "source": [
    "## THIS CELL TESTS THAT EVERYTHING WORKS AS EXPECTED (WITH F1-SCORE COPIED FROM CALCULATE-MEASURES) #####\n",
    "from Extra_files.modules.helpers import f1_score_ala_calc_measures\n",
    "\n",
    "#Make predictions\n",
    "y_weak = make_predictions_weak(model, dev_data, return_raw = True)['data_Y']\n",
    "y_true = dev_Y\n",
    "\n",
    "#Plot\n",
    "f1_score_ala_calc_measures(y_true, y_weak)\n",
    "plot_confusion_matrix(y_true, y_weak, n_labels=None,normalize=True)\n",
    "plt.show()"
   ]
  },
  {
   "cell_type": "code",
   "execution_count": null,
   "metadata": {},
   "outputs": [],
   "source": [
    "# Training a model and evaluating it on the development set. \n",
    "# Use this to monitor the performance of your model prior to submitting your assignment.\n",
    "data_train = load_scienceie(datadir=join(_snlp_book_dir, \"data\", \"scienceie\", \"train\"))\n",
    "dir_dev = join(_snlp_book_dir, \"data\", \"scienceie\", \"dev\")\n",
    "data_dev = load_scienceie(datadir=dir_dev)\n",
    "\n",
    "model = create_weak_model(data_train, [data_dev])\n",
    "train_weak_model(model, data_train, data_dev)\n",
    "\n",
    "data_pred = make_predictions_weak(model, data_dev)\n",
    "dir_pred = join(_snlp_book_dir, \"data\", \"scienceie\", \"dev_pred\")\n",
    "save_to_ann(data_pred, dir_pred)\n",
    "\n",
    "calculateMeasures(dir_dev, dir_pred, \"keys\") "
   ]
  },
  {
   "cell_type": "code",
   "execution_count": null,
   "metadata": {},
   "outputs": [],
   "source": [
    "# DO NOT MODIFY THIS CELL! It will evaluate your model on an unseen dataset!\n",
    "shutil.rmtree(join(_snlp_book_dir, \"data\", \"scienceie\", \"test_pred\")) # clean after previous\n",
    "\n",
    "data_train = load_scienceie(datadir=join(_snlp_book_dir, \"data\", \"scienceie\", \"train\"))\n",
    "data_dev = load_scienceie(datadir=join(_snlp_book_dir, \"data\", \"scienceie\", \"dev\"))\n",
    "\n",
    "model = create_weak_model(data_train, data_dev)\n",
    "train_weak_model(model, data_train, data_dev)\n",
    "\n",
    "data_test = load_scienceie(datadir=join(_snlp_book_dir, \"data\", \"scienceie\", \"test\"))\n",
    "data_pred = make_predictions_weak(model, data_test)\n",
    "dir_pred = join(_snlp_book_dir, \"data\", \"scienceie\", \"test_pred\")\n",
    "save_to_ann(data_pred, dir_pred)\n",
    "\n",
    "dir_gold = join(_snlp_book_dir, \"data\", \"scienceie\", \"test_gold\")\n",
    "calculateMeasures(dir_gold, dir_pred, \"keys\") # this will only evaluate the correctness of relations"
   ]
  },
  {
   "cell_type": "code",
   "execution_count": null,
   "metadata": {},
   "outputs": [],
   "source": [
    "dir_pred = join(_snlp_book_dir, \"data\", \"scienceie\", \"test_pred\")\n",
    "dir_gold = join(_snlp_book_dir, \"data\", \"scienceie\", \"test_gold\")\n",
    "\n",
    "dir_gold = join(_snlp_book_dir, \"data\", \"scienceie\", \"test_gold\")\n",
    "calculateMeasures(dir_gold, dir_pred, \"keys\") # this will only evaluate the correctness of relations"
   ]
  },
  {
   "cell_type": "markdown",
   "metadata": {},
   "source": [
    "## <font color='red'>Assessment 2.1</font>: Correctness of the implementation (20 pts)\n",
    "\n",
    "We assess if your code implements correct weak supervision methods (10 points):\n",
    "\n",
    "* 0-5 pts: the model does not run correctly or the methods implemented do not constitute weak supervision strategies\n",
    "* 5-10 pts: the model correctly implements the requirements\n",
    "\n",
    "Additionally, we will assess how well your model performs on an unseen test set (10 points):\n",
    "\n",
    "* 0-5 pts: performance worse than a simple baseline model\n",
    "* 5-10 pts: performance better than a simple baseline model"
   ]
  },
  {
   "cell_type": "markdown",
   "metadata": {},
   "source": [
    "## <font color='blue'>Task 2.2</font>: Describe your Approach\n",
    "\n",
    "Enter a maximum 500 words description of your weak supervision stategies developed in Task 2.1 and the way you trained and tuned them. Motivate your choices, describing potential benefits and downsides."
   ]
  },
  {
   "cell_type": "markdown",
   "metadata": {},
   "source": [
    "## <font color='red'>Assessment 2.2</font>: Modelling Choices and Motivation (10 pts)\n",
    "\n",
    "\n",
    "Finally, we assess your modelling design choices and how you motivated them, which you summarised in the above cell (10 points):\n",
    "\n",
    "* 0-5 pts: the model design choices do not show high levels of creativity, e.g. re-using code from the lecture out of the box; and they are not moviated well\n",
    "* 5-10 pts: the model design choices show high levels of creativity, e.g. combining different things learned throughout the course, models inspired by further reading, etc.; and they are motivated well"
   ]
  },
  {
   "cell_type": "markdown",
   "metadata": {},
   "source": [
    "## <font color='blue'>Task 3</font>: Comparison of relation extraction models\n",
    "\n",
    "Reflect on the models implemented in Tasks 1 and 2. What worked and didn't work well, and how would you explain this? How and when does the performance differ between the models and why might that be? You are expected to perform a small error analysis on the development set in order to answer these questions."
   ]
  },
  {
   "cell_type": "code",
   "execution_count": 29,
   "metadata": {},
   "outputs": [],
   "source": [
    "# DataFrame for later use\n",
    "df_err_an = get_dataframe(dev_data, data_m_XY_dev, y_true, y_base, y_weak)"
   ]
  },
  {
   "cell_type": "code",
   "execution_count": 21,
   "metadata": {},
   "outputs": [
    {
     "data": {
      "image/png": "[encoded data removed]",
      "text/plain": [
       "<matplotlib.figure.Figure at 0x7faf2a28e358>"
      ]
     },
     "metadata": {},
     "output_type": "display_data"
    }
   ],
   "source": [
    "# Confusion matrix\n",
    "import seaborn as sns\n",
    "sns.reset_orig() #seaborn changes matplotlib default settings. \n",
    "\n",
    "fig, (ax1, ax2) = plt.subplots(1,2,figsize=(14,3.8))\n",
    "\n",
    "fig.suptitle('Normalized confusion matrices',y=1.1,fontsize = 15)\n",
    "ax1 = plot_confusion_matrix(y_true, y_weak, n_labels=None,normalize=True,ax = ax1)\n",
    "ax1.set(title = 'Model w. weak supervision')\n",
    "ax2 = plot_confusion_matrix(y_true, y_base, n_labels=None,normalize=True, ax = ax2)\n",
    "ax2.set(title = 'Base model')\n",
    "plt.show()"
   ]
  },
  {
   "cell_type": "code",
   "execution_count": 24,
   "metadata": {},
   "outputs": [
    {
     "data": {
      "image/png": "[encoded data removed]",
      "text/plain": [
       "<matplotlib.figure.Figure at 0x7faf34a0efd0>"
      ]
     },
     "metadata": {},
     "output_type": "display_data"
    }
   ],
   "source": [
    "### Plot seaborn with labels\n",
    "_ = plot_correct_labels(df_err_an)\n",
    "plt.show()"
   ]
  },
  {
   "cell_type": "code",
   "execution_count": 48,
   "metadata": {},
   "outputs": [
    {
     "data": {
      "text/html": [
       "<div>\n",
       "<style scoped>\n",
       "    .dataframe tbody tr th:only-of-type {\n",
       "        vertical-align: middle;\n",
       "    }\n",
       "\n",
       "    .dataframe tbody tr th {\n",
       "        vertical-align: top;\n",
       "    }\n",
       "\n",
       "    .dataframe thead th {\n",
       "        text-align: right;\n",
       "    }\n",
       "</style>\n",
       "<table border=\"1\" class=\"dataframe\">\n",
       "  <thead>\n",
       "    <tr style=\"text-align: right;\">\n",
       "      <th></th>\n",
       "      <th>file</th>\n",
       "      <th>Sentence between entities</th>\n",
       "      <th>Entity 1</th>\n",
       "      <th>Entity 2</th>\n",
       "      <th>True label</th>\n",
       "      <th>Base label</th>\n",
       "      <th>Weak learning label</th>\n",
       "    </tr>\n",
       "  </thead>\n",
       "  <tbody>\n",
       "    <tr>\n",
       "      <th>2165</th>\n",
       "      <td>S0079642514000784</td>\n",
       "      <td>surface modifications, such as doping</td>\n",
       "      <td>surface modifications</td>\n",
       "      <td>doping</td>\n",
       "      <td>Hypernym</td>\n",
       "      <td>NONE</td>\n",
       "      <td>NONE</td>\n",
       "    </tr>\n",
       "    <tr>\n",
       "      <th>2166</th>\n",
       "      <td>S0079642514000784</td>\n",
       "      <td>surface modifications, such as doping, functio...</td>\n",
       "      <td>surface modifications</td>\n",
       "      <td>functionalization</td>\n",
       "      <td>Hypernym</td>\n",
       "      <td>NONE</td>\n",
       "      <td>NONE</td>\n",
       "    </tr>\n",
       "    <tr>\n",
       "      <th>2167</th>\n",
       "      <td>S0079642514000784</td>\n",
       "      <td>surface modifications, such as doping, functio...</td>\n",
       "      <td>surface modifications</td>\n",
       "      <td>improving the pore structure and specific surf...</td>\n",
       "      <td>Hypernym</td>\n",
       "      <td>NONE</td>\n",
       "      <td>NONE</td>\n",
       "    </tr>\n",
       "    <tr>\n",
       "      <th>2185</th>\n",
       "      <td>S0254058415300766</td>\n",
       "      <td>magnetic dopant such as transition metal</td>\n",
       "      <td>magnetic dopant</td>\n",
       "      <td>transition metal</td>\n",
       "      <td>Hypernym</td>\n",
       "      <td>NONE</td>\n",
       "      <td>NONE</td>\n",
       "    </tr>\n",
       "    <tr>\n",
       "      <th>2210</th>\n",
       "      <td>S0254058415300766</td>\n",
       "      <td>host material such as, ZnS</td>\n",
       "      <td>host material</td>\n",
       "      <td>ZnS</td>\n",
       "      <td>Hypernym</td>\n",
       "      <td>NONE</td>\n",
       "      <td>NONE</td>\n",
       "    </tr>\n",
       "    <tr>\n",
       "      <th>2211</th>\n",
       "      <td>S0254058415300766</td>\n",
       "      <td>host material such as, ZnS, CdS</td>\n",
       "      <td>host material</td>\n",
       "      <td>CdS</td>\n",
       "      <td>Hypernym</td>\n",
       "      <td>NONE</td>\n",
       "      <td>NONE</td>\n",
       "    </tr>\n",
       "    <tr>\n",
       "      <th>2212</th>\n",
       "      <td>S0254058415300766</td>\n",
       "      <td>host material such as, ZnS, CdS, GaN</td>\n",
       "      <td>host material</td>\n",
       "      <td>GaN</td>\n",
       "      <td>Hypernym</td>\n",
       "      <td>NONE</td>\n",
       "      <td>NONE</td>\n",
       "    </tr>\n",
       "    <tr>\n",
       "      <th>2215</th>\n",
       "      <td>S0254058415300766</td>\n",
       "      <td>host material such as, ZnS, CdS, GaN, ZnO, ZnS...</td>\n",
       "      <td>host material</td>\n",
       "      <td>ZnTe</td>\n",
       "      <td>Hypernym</td>\n",
       "      <td>NONE</td>\n",
       "      <td>NONE</td>\n",
       "    </tr>\n",
       "    <tr>\n",
       "      <th>2216</th>\n",
       "      <td>S0254058415300766</td>\n",
       "      <td>host material such as, ZnS, CdS, GaN, ZnO, ZnS...</td>\n",
       "      <td>host material</td>\n",
       "      <td>TiO2</td>\n",
       "      <td>Hypernym</td>\n",
       "      <td>NONE</td>\n",
       "      <td>NONE</td>\n",
       "    </tr>\n",
       "    <tr>\n",
       "      <th>2217</th>\n",
       "      <td>S0254058415300766</td>\n",
       "      <td>host material such as, ZnS, CdS, GaN, ZnO, ZnS...</td>\n",
       "      <td>host material</td>\n",
       "      <td>SnO2</td>\n",
       "      <td>Hypernym</td>\n",
       "      <td>NONE</td>\n",
       "      <td>NONE</td>\n",
       "    </tr>\n",
       "    <tr>\n",
       "      <th>2296</th>\n",
       "      <td>S0022311514006941</td>\n",
       "      <td>mineral albite, NaAlSi3O8</td>\n",
       "      <td>mineral albite</td>\n",
       "      <td>NaAlSi3O8</td>\n",
       "      <td>Hypernym</td>\n",
       "      <td>NONE</td>\n",
       "      <td>NONE</td>\n",
       "    </tr>\n",
       "    <tr>\n",
       "      <th>2311</th>\n",
       "      <td>S0029549313003439</td>\n",
       "      <td>nuclear reactor analysis is the prediction of ...</td>\n",
       "      <td>nuclear reactor analysis</td>\n",
       "      <td>prediction of the three-dimensional space-time...</td>\n",
       "      <td>Hypernym</td>\n",
       "      <td>NONE</td>\n",
       "      <td>NONE</td>\n",
       "    </tr>\n",
       "  </tbody>\n",
       "</table>\n",
       "</div>"
      ],
      "text/plain": [
       "                   file                          Sentence between entities  \\\n",
       "2165  S0079642514000784              surface modifications, such as doping   \n",
       "2166  S0079642514000784  surface modifications, such as doping, functio...   \n",
       "2167  S0079642514000784  surface modifications, such as doping, functio...   \n",
       "2185  S0254058415300766           magnetic dopant such as transition metal   \n",
       "2210  S0254058415300766                         host material such as, ZnS   \n",
       "2211  S0254058415300766                    host material such as, ZnS, CdS   \n",
       "2212  S0254058415300766               host material such as, ZnS, CdS, GaN   \n",
       "2215  S0254058415300766  host material such as, ZnS, CdS, GaN, ZnO, ZnS...   \n",
       "2216  S0254058415300766  host material such as, ZnS, CdS, GaN, ZnO, ZnS...   \n",
       "2217  S0254058415300766  host material such as, ZnS, CdS, GaN, ZnO, ZnS...   \n",
       "2296  S0022311514006941                          mineral albite, NaAlSi3O8   \n",
       "2311  S0029549313003439  nuclear reactor analysis is the prediction of ...   \n",
       "\n",
       "                      Entity 1  \\\n",
       "2165     surface modifications   \n",
       "2166     surface modifications   \n",
       "2167     surface modifications   \n",
       "2185           magnetic dopant   \n",
       "2210             host material   \n",
       "2211             host material   \n",
       "2212             host material   \n",
       "2215             host material   \n",
       "2216             host material   \n",
       "2217             host material   \n",
       "2296            mineral albite   \n",
       "2311  nuclear reactor analysis   \n",
       "\n",
       "                                               Entity 2 True label Base label  \\\n",
       "2165                                             doping   Hypernym       NONE   \n",
       "2166                                  functionalization   Hypernym       NONE   \n",
       "2167  improving the pore structure and specific surf...   Hypernym       NONE   \n",
       "2185                                   transition metal   Hypernym       NONE   \n",
       "2210                                                ZnS   Hypernym       NONE   \n",
       "2211                                                CdS   Hypernym       NONE   \n",
       "2212                                                GaN   Hypernym       NONE   \n",
       "2215                                               ZnTe   Hypernym       NONE   \n",
       "2216                                               TiO2   Hypernym       NONE   \n",
       "2217                                               SnO2   Hypernym       NONE   \n",
       "2296                                          NaAlSi3O8   Hypernym       NONE   \n",
       "2311  prediction of the three-dimensional space-time...   Hypernym       NONE   \n",
       "\n",
       "     Weak learning label  \n",
       "2165                NONE  \n",
       "2166                NONE  \n",
       "2167                NONE  \n",
       "2185                NONE  \n",
       "2210                NONE  \n",
       "2211                NONE  \n",
       "2212                NONE  \n",
       "2215                NONE  \n",
       "2216                NONE  \n",
       "2217                NONE  \n",
       "2296                NONE  \n",
       "2311                NONE  "
      ]
     },
     "execution_count": 48,
     "metadata": {},
     "output_type": "execute_result"
    }
   ],
   "source": [
    "## Examples...\n",
    "df_err_an[(df_err_an['True label'] == 'Hypernym') & (df_err_an['Weak learning label'] != 'Hypernym')][50:100]"
   ]
  },
  {
   "cell_type": "code",
   "execution_count": 32,
   "metadata": {},
   "outputs": [
    {
     "data": {
      "text/plain": [
       "'n-alkanes chains containing multiples of three carbon units can be represented directly: n-C6H14'"
      ]
     },
     "execution_count": 32,
     "metadata": {},
     "output_type": "execute_result"
    }
   ],
   "source": [
    "df_err_an.loc[201,'Sentence between entities']"
   ]
  },
  {
   "cell_type": "code",
   "execution_count": 42,
   "metadata": {},
   "outputs": [],
   "source": [
    "txts = np.array([data_m_XY_dev['metadata'][idx][0] for idx in range(len(data_m_XY_dev['data_Y']))])\n",
    "labels = np.array(data_m_XY_dev['data_Y'])\n",
    "\n",
    "mask = (txts == 'S0010938X14002157') & (labels == 'Hypernym')\n",
    "indices = [k for k in range(len(mask)) if mask[k]]"
   ]
  },
  {
   "cell_type": "code",
   "execution_count": 43,
   "metadata": {},
   "outputs": [
    {
     "data": {
      "text/plain": [
       "[440, 441, 463, 485, 498]"
      ]
     },
     "execution_count": 43,
     "metadata": {},
     "output_type": "execute_result"
    }
   ],
   "source": [
    "indices"
   ]
  },
  {
   "cell_type": "code",
   "execution_count": 50,
   "metadata": {},
   "outputs": [
    {
     "data": {
      "text/plain": [
       "[[481, '0', '-6', 6, 11, 481],\n",
       " [596, '1', '-5', 5, 5, 596],\n",
       " [702, '2', '-4', 5, 6, 702],\n",
       " [2448, '3', '-3', 5, 6, 2448],\n",
       " [3910, '4', '-2', 5, 6, 1443],\n",
       " [1716, '5', '-1', 5, 15, 1716],\n",
       " [1277, '6', '0', 6, 5, 3074],\n",
       " [2634, '7', '0', 8, 3, 2634],\n",
       " [2850, '8', '0', 8, 6, 2850],\n",
       " [3370, '9', '0', 8, 3, 3370],\n",
       " [1, '10', '0', 8, 5, 1]]"
      ]
     },
     "execution_count": 50,
     "metadata": {},
     "output_type": "execute_result"
    }
   ],
   "source": [
    "\n",
    "\n",
    "data_m_XY_dev['data_X'][441]"
   ]
  },
  {
   "cell_type": "markdown",
   "metadata": {},
   "source": [
    "## <font color='red'>Assessment 3</font>: Assess your explanation (20 pts)\n",
    "\n",
    "We will mark the explanation along the following dimension: \n",
    "\n",
    "* Substance (20pts: well-designed error analysis, correctly explained reasons for performance differences between models)"
   ]
  }
 ],
 "metadata": {
  "hide_code_all_hidden": false,
  "kernelspec": {
   "display_name": "Python 3",
   "language": "python",
   "name": "python3"
  },
  "language_info": {
   "codemirror_mode": {
    "name": "ipython",
    "version": 3
   },
   "file_extension": ".py",
   "mimetype": "text/x-python",
   "name": "python",
   "nbconvert_exporter": "python",
   "pygments_lexer": "ipython3",
   "version": "3.6.2"
  }
 },
 "nbformat": 4,
 "nbformat_minor": 1
}
