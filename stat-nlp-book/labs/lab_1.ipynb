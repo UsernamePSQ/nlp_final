{
 "cells": [
  {
   "cell_type": "markdown",
   "metadata": {},
   "source": [
    "# stat-nlp-book setup\n",
    "\n",
    "## On your personal computer\n",
    "\n",
    "Go to https://github.com/copenlu/stat-nlp-book and follow the readme to set up the stat-nlp-book.\n",
    "\n",
    "## On Microsoft Azure\n",
    "\n",
    "If you feel adventurous, and want to set up your own Virtual Machine with stat-nlp-book, follow the [Azure tutorial](../tutorials/azure_tutorial.ipynb)"
   ]
  },
  {
   "cell_type": "markdown",
   "metadata": {},
   "source": [
    "-----\n",
    "\n",
    "# Using stat-nlp-book\n",
    "\n",
    "...\n",
    "let's start off [here](../overview.ipynb)"
   ]
  },
  {
   "cell_type": "markdown",
   "metadata": {},
   "source": [
    "-----\n",
    "\n",
    "# Short Jupyter tutorial\n",
    "\n",
    "* Running existing notebooks\n",
    "* Creating new folder & new notebook\n",
    "* Running your code\n",
    "* DON'T FORGET TO SAVE\n",
    "* Writeup (markdown)"
   ]
  },
  {
   "cell_type": "code",
   "execution_count": 1,
   "metadata": {},
   "outputs": [
    {
     "name": "stdout",
     "output_type": "stream",
     "text": [
      "Hello, World!\n"
     ]
    }
   ],
   "source": [
    "print(\"Hello, World!\"); # this is a code block"
   ]
  },
  {
   "cell_type": "markdown",
   "metadata": {},
   "source": [
    "This is a _Markdown block_ where you can write text. "
   ]
  },
  {
   "cell_type": "markdown",
   "metadata": {},
   "source": [
    "You can get help about a method with __(<kbd>Shift</kbd> + <kbd>Tab</kbd>)__\n",
    " \n",
    "__(<kbd>Shift</kbd> + <kbd>Enter</kbd>)__ executes the text/code blocks"
   ]
  },
  {
   "cell_type": "code",
   "execution_count": 2,
   "metadata": {},
   "outputs": [
    {
     "name": "stdout",
     "output_type": "stream",
     "text": [
      "Python 3.7.2\r\n"
     ]
    }
   ],
   "source": [
    "!python --version # you can also write shell commands in code blocks"
   ]
  },
  {
   "cell_type": "code",
   "execution_count": 3,
   "metadata": {},
   "outputs": [
    {
     "name": "stdout",
     "output_type": "stream",
     "text": [
      "CPU times: user 1.06 ms, sys: 1.57 ms, total: 2.64 ms\n",
      "Wall time: 10 s\n"
     ]
    }
   ],
   "source": [
    "import time\n",
    "%time time.sleep(10) # this is some jupyter magic"
   ]
  },
  {
   "cell_type": "markdown",
   "metadata": {},
   "source": [
    "All Jupyter magic commands are described [here](https://ipython.readthedocs.io/en/stable/interactive/magics.html)."
   ]
  },
  {
   "cell_type": "code",
   "execution_count": 4,
   "metadata": {},
   "outputs": [],
   "source": [
    "# Magic used in the notebooks : \n",
    "\n",
    "# automatically re-load imported modules every time before executing the Python code typed\n",
    "%load_ext autoreload\n",
    "%autoreload 2\n",
    "\n",
    "# automatically include matplotlib plots in the frontend of the notebook and save them with the notebook\n",
    "%matplotlib inline\n",
    "\n",
    "# run the cell, capturing stdout, stderr, and IPython’s rich display() calls.\n",
    "%%capture"
   ]
  },
  {
   "cell_type": "markdown",
   "metadata": {},
   "source": [
    "### WARNING\n",
    "\n",
    "Code in Jupyter notebooks can be executed in a non-sequential order. Cells can get deleted.\n",
    "Notebooks are dangerous unless you run each cell exactly once, in order!\n",
    "\n",
    "Before submitting your assigment solution, verify that your notebook executes without errors by choosing from the menu **\"Kernel -> Restart & Run All\"**"
   ]
  },
  {
   "cell_type": "markdown",
   "metadata": {},
   "source": [
    "# Additional Info\n",
    "\n",
    "## Docker commands\n",
    "* Get a list of the currently running containers <br> \n",
    "<code>docker ps -q</code> <br>\n",
    "* Run shell commands in your container by first getting the id of the container with above command and then: <br>\n",
    "<code>docker exec -it _container-id_ _command_</code> <br>\n",
    "e.g. <code>docker exec -it 8c16b8de4771 python --version</code>\n",
    "\n",
    "\n",
    "## Managing your changes\n",
    "\n",
    "There are several ways to keep your changes within the official repo organised. Some of them are:\n",
    "* Create your own [fork](https://help.github.com/en/articles/fork-a-repo)\n",
    "of the repo. The fork can be [synced](https://help.github.com/en/articles/syncing-a-fork?query=f) with the official course repo when new changes are available. Meanwhile, you can also maintain your changes in your forked repo.\n",
    "* Another option is to keep your changes only in a local branch (<code>git checkout -b _your-branch-name_</code>) on your computer. Each time there is a change in the course repo, you can pull the repo and merge the changes in your branch (<code>git merge origin/master</code>)"
   ]
  },
  {
   "cell_type": "markdown",
   "metadata": {},
   "source": [
    "-----\n",
    "\n",
    "# Python tutorials\n",
    "\n",
    "* Go thoutgh this [Notebook](../exercises/python_intro.ipynb) with elementary Python syntax.\n",
    "\n",
    "* [An Informal Introduction to Python](https://docs.python.org/3/tutorial/introduction.html)\n",
    "\n",
    "* [Python for Beginners](https://www.python.org/about/gettingstarted/)\n",
    "\n",
    "* [Learn Python in 10 minutes](https://www.stavros.io/tutorials/python/)\n",
    "\n",
    "* [LOADS of others](https://www.google.co.uk/search?q=python+tutorial)"
   ]
  }
 ],
 "metadata": {
  "kernelspec": {
   "display_name": "Python 3",
   "language": "python",
   "name": "python3"
  },
  "language_info": {
   "codemirror_mode": {
    "name": "ipython",
    "version": 3
   },
   "file_extension": ".py",
   "mimetype": "text/x-python",
   "name": "python",
   "nbconvert_exporter": "python",
   "pygments_lexer": "ipython3",
   "version": "3.7.2"
  }
 },
 "nbformat": 4,
 "nbformat_minor": 1
}
